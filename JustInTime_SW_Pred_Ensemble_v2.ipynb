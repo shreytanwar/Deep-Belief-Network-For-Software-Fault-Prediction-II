{
  "nbformat": 4,
  "nbformat_minor": 0,
  "metadata": {
    "colab": {
      "name": "JustInTime_SW_Pred_Ensemble.ipynb",
      "provenance": [],
      "collapsed_sections": [],
      "include_colab_link": true
    },
    "kernelspec": {
      "name": "python3",
      "display_name": "Python 3"
    }
  },
  "cells": [
    {
      "cell_type": "markdown",
      "metadata": {
        "id": "view-in-github",
        "colab_type": "text"
      },
      "source": [
        "<a href=\"https://colab.research.google.com/github/shreytanwar/Deep-Belief-Network-For-Software-Fault-Prediction-II/blob/main/JustInTime_SW_Pred_Ensemble_v2.ipynb\" target=\"_parent\"><img src=\"https://colab.research.google.com/assets/colab-badge.svg\" alt=\"Open In Colab\"/></a>"
      ]
    },
    {
      "cell_type": "code",
      "metadata": {
        "id": "DfkLXFDxl8sJ",
        "colab": {
          "base_uri": "https://localhost:8080/"
        },
        "outputId": "4019a80c-4662-4cae-9aaf-683e06ec9a1f"
      },
      "source": [
        "from google.colab import drive\n",
        "drive.mount('/content/drive/')"
      ],
      "execution_count": 1,
      "outputs": [
        {
          "output_type": "stream",
          "text": [
            "Mounted at /content/drive/\n"
          ],
          "name": "stdout"
        }
      ]
    },
    {
      "cell_type": "code",
      "metadata": {
        "id": "sK42BBJgmSGh"
      },
      "source": [
        "import tensorflow as tf\n",
        "import sklearn.metrics\n",
        "from sklearn.metrics import log_loss, accuracy_score, confusion_matrix\n",
        "import numpy as np\n",
        "import pandas as pd\n",
        "import matplotlib.pyplot as plt"
      ],
      "execution_count": 2,
      "outputs": []
    },
    {
      "cell_type": "markdown",
      "metadata": {
        "id": "nqnAM0F6pNEW"
      },
      "source": [
        "##Preprocessing"
      ]
    },
    {
      "cell_type": "code",
      "metadata": {
        "id": "lhdWip5AmSQd"
      },
      "source": [
        "bugzilla = pd.read_csv('/content/drive/My Drive/dataset/bugzilla.csv')\n",
        "columba = pd.read_csv('/content/drive/My Drive/dataset/columba.csv')\n",
        "jdt = pd.read_csv('/content/drive/My Drive/dataset/jdt.csv')\n",
        "mozilla = pd.read_csv('/content/drive/My Drive/dataset/mozilla.csv')\n",
        "platform = pd.read_csv('/content/drive/My Drive/dataset/platform.csv')\n",
        "postgres = pd.read_csv('/content/drive/My Drive/dataset/postgres.csv')\n",
        "\n",
        "df = pd.read_csv('/content/drive/My Drive/dataset/FinalDF.csv')\n",
        "\n",
        "# df = pd.concat([bugzilla, columba, jdt, mozilla, platform, postgres]) \n",
        "# df = df.reset_index(drop=True)"
      ],
      "execution_count": 3,
      "outputs": []
    },
    {
      "cell_type": "code",
      "metadata": {
        "id": "bVSQXhUkmSvC"
      },
      "source": [
        "def normalize(x):\n",
        "  x = x.astype(float)\n",
        "  min = np.min(x)\n",
        "  max = np.max(x)\n",
        "  return (x - min)/(max-min)"
      ],
      "execution_count": 4,
      "outputs": []
    },
    {
      "cell_type": "code",
      "metadata": {
        "id": "6Se7DitSs9xa"
      },
      "source": [
        "def view_values(X, y, example):\n",
        "    label = y.loc[example]\n",
        "    image = X.loc[example,:].values.reshape([-1,1])\n",
        "    print(image)"
      ],
      "execution_count": 5,
      "outputs": []
    },
    {
      "cell_type": "code",
      "metadata": {
        "id": "nwQh30ySJCSA",
        "colab": {
          "base_uri": "https://localhost:8080/"
        },
        "outputId": "b83a4ee9-2315-42a4-efb0-2f60e438e709"
      },
      "source": [
        "print(\"Shape of dataframe: \", df.shape)  "
      ],
      "execution_count": 6,
      "outputs": [
        {
          "output_type": "stream",
          "text": [
            "Shape of dataframe:  (62737, 15)\n"
          ],
          "name": "stdout"
        }
      ]
    },
    {
      "cell_type": "code",
      "metadata": {
        "id": "WZUhvytCHesW",
        "outputId": "0dc17261-f2d4-4971-ed61-b823ce428c6e",
        "colab": {
          "base_uri": "https://localhost:8080/",
          "height": 320
        }
      },
      "source": [
        "# Droping unnecessary String columns\n",
        "df = df.drop(['commitdate','transactionid'], axis=1)"
      ],
      "execution_count": 7,
      "outputs": [
        {
          "output_type": "error",
          "ename": "KeyError",
          "evalue": "ignored",
          "traceback": [
            "\u001b[0;31m---------------------------------------------------------------------------\u001b[0m",
            "\u001b[0;31mKeyError\u001b[0m                                  Traceback (most recent call last)",
            "\u001b[0;32m<ipython-input-7-a6c525f66c1c>\u001b[0m in \u001b[0;36m<module>\u001b[0;34m()\u001b[0m\n\u001b[1;32m      1\u001b[0m \u001b[0;31m# Droping unnecessary String columns\u001b[0m\u001b[0;34m\u001b[0m\u001b[0;34m\u001b[0m\u001b[0;34m\u001b[0m\u001b[0m\n\u001b[0;32m----> 2\u001b[0;31m \u001b[0mdf\u001b[0m \u001b[0;34m=\u001b[0m \u001b[0mdf\u001b[0m\u001b[0;34m.\u001b[0m\u001b[0mdrop\u001b[0m\u001b[0;34m(\u001b[0m\u001b[0;34m[\u001b[0m\u001b[0;34m'commitdate'\u001b[0m\u001b[0;34m,\u001b[0m\u001b[0;34m'transactionid'\u001b[0m\u001b[0;34m]\u001b[0m\u001b[0;34m,\u001b[0m \u001b[0maxis\u001b[0m\u001b[0;34m=\u001b[0m\u001b[0;36m1\u001b[0m\u001b[0;34m)\u001b[0m\u001b[0;34m\u001b[0m\u001b[0;34m\u001b[0m\u001b[0m\n\u001b[0m",
            "\u001b[0;32m/usr/local/lib/python3.6/dist-packages/pandas/core/frame.py\u001b[0m in \u001b[0;36mdrop\u001b[0;34m(self, labels, axis, index, columns, level, inplace, errors)\u001b[0m\n\u001b[1;32m   4172\u001b[0m             \u001b[0mlevel\u001b[0m\u001b[0;34m=\u001b[0m\u001b[0mlevel\u001b[0m\u001b[0;34m,\u001b[0m\u001b[0;34m\u001b[0m\u001b[0;34m\u001b[0m\u001b[0m\n\u001b[1;32m   4173\u001b[0m             \u001b[0minplace\u001b[0m\u001b[0;34m=\u001b[0m\u001b[0minplace\u001b[0m\u001b[0;34m,\u001b[0m\u001b[0;34m\u001b[0m\u001b[0;34m\u001b[0m\u001b[0m\n\u001b[0;32m-> 4174\u001b[0;31m             \u001b[0merrors\u001b[0m\u001b[0;34m=\u001b[0m\u001b[0merrors\u001b[0m\u001b[0;34m,\u001b[0m\u001b[0;34m\u001b[0m\u001b[0;34m\u001b[0m\u001b[0m\n\u001b[0m\u001b[1;32m   4175\u001b[0m         )\n\u001b[1;32m   4176\u001b[0m \u001b[0;34m\u001b[0m\u001b[0m\n",
            "\u001b[0;32m/usr/local/lib/python3.6/dist-packages/pandas/core/generic.py\u001b[0m in \u001b[0;36mdrop\u001b[0;34m(self, labels, axis, index, columns, level, inplace, errors)\u001b[0m\n\u001b[1;32m   3885\u001b[0m         \u001b[0;32mfor\u001b[0m \u001b[0maxis\u001b[0m\u001b[0;34m,\u001b[0m \u001b[0mlabels\u001b[0m \u001b[0;32min\u001b[0m \u001b[0maxes\u001b[0m\u001b[0;34m.\u001b[0m\u001b[0mitems\u001b[0m\u001b[0;34m(\u001b[0m\u001b[0;34m)\u001b[0m\u001b[0;34m:\u001b[0m\u001b[0;34m\u001b[0m\u001b[0;34m\u001b[0m\u001b[0m\n\u001b[1;32m   3886\u001b[0m             \u001b[0;32mif\u001b[0m \u001b[0mlabels\u001b[0m \u001b[0;32mis\u001b[0m \u001b[0;32mnot\u001b[0m \u001b[0;32mNone\u001b[0m\u001b[0;34m:\u001b[0m\u001b[0;34m\u001b[0m\u001b[0;34m\u001b[0m\u001b[0m\n\u001b[0;32m-> 3887\u001b[0;31m                 \u001b[0mobj\u001b[0m \u001b[0;34m=\u001b[0m \u001b[0mobj\u001b[0m\u001b[0;34m.\u001b[0m\u001b[0m_drop_axis\u001b[0m\u001b[0;34m(\u001b[0m\u001b[0mlabels\u001b[0m\u001b[0;34m,\u001b[0m \u001b[0maxis\u001b[0m\u001b[0;34m,\u001b[0m \u001b[0mlevel\u001b[0m\u001b[0;34m=\u001b[0m\u001b[0mlevel\u001b[0m\u001b[0;34m,\u001b[0m \u001b[0merrors\u001b[0m\u001b[0;34m=\u001b[0m\u001b[0merrors\u001b[0m\u001b[0;34m)\u001b[0m\u001b[0;34m\u001b[0m\u001b[0;34m\u001b[0m\u001b[0m\n\u001b[0m\u001b[1;32m   3888\u001b[0m \u001b[0;34m\u001b[0m\u001b[0m\n\u001b[1;32m   3889\u001b[0m         \u001b[0;32mif\u001b[0m \u001b[0minplace\u001b[0m\u001b[0;34m:\u001b[0m\u001b[0;34m\u001b[0m\u001b[0;34m\u001b[0m\u001b[0m\n",
            "\u001b[0;32m/usr/local/lib/python3.6/dist-packages/pandas/core/generic.py\u001b[0m in \u001b[0;36m_drop_axis\u001b[0;34m(self, labels, axis, level, errors)\u001b[0m\n\u001b[1;32m   3919\u001b[0m                 \u001b[0mnew_axis\u001b[0m \u001b[0;34m=\u001b[0m \u001b[0maxis\u001b[0m\u001b[0;34m.\u001b[0m\u001b[0mdrop\u001b[0m\u001b[0;34m(\u001b[0m\u001b[0mlabels\u001b[0m\u001b[0;34m,\u001b[0m \u001b[0mlevel\u001b[0m\u001b[0;34m=\u001b[0m\u001b[0mlevel\u001b[0m\u001b[0;34m,\u001b[0m \u001b[0merrors\u001b[0m\u001b[0;34m=\u001b[0m\u001b[0merrors\u001b[0m\u001b[0;34m)\u001b[0m\u001b[0;34m\u001b[0m\u001b[0;34m\u001b[0m\u001b[0m\n\u001b[1;32m   3920\u001b[0m             \u001b[0;32melse\u001b[0m\u001b[0;34m:\u001b[0m\u001b[0;34m\u001b[0m\u001b[0;34m\u001b[0m\u001b[0m\n\u001b[0;32m-> 3921\u001b[0;31m                 \u001b[0mnew_axis\u001b[0m \u001b[0;34m=\u001b[0m \u001b[0maxis\u001b[0m\u001b[0;34m.\u001b[0m\u001b[0mdrop\u001b[0m\u001b[0;34m(\u001b[0m\u001b[0mlabels\u001b[0m\u001b[0;34m,\u001b[0m \u001b[0merrors\u001b[0m\u001b[0;34m=\u001b[0m\u001b[0merrors\u001b[0m\u001b[0;34m)\u001b[0m\u001b[0;34m\u001b[0m\u001b[0;34m\u001b[0m\u001b[0m\n\u001b[0m\u001b[1;32m   3922\u001b[0m             \u001b[0mresult\u001b[0m \u001b[0;34m=\u001b[0m \u001b[0mself\u001b[0m\u001b[0;34m.\u001b[0m\u001b[0mreindex\u001b[0m\u001b[0;34m(\u001b[0m\u001b[0;34m**\u001b[0m\u001b[0;34m{\u001b[0m\u001b[0maxis_name\u001b[0m\u001b[0;34m:\u001b[0m \u001b[0mnew_axis\u001b[0m\u001b[0;34m}\u001b[0m\u001b[0;34m)\u001b[0m\u001b[0;34m\u001b[0m\u001b[0;34m\u001b[0m\u001b[0m\n\u001b[1;32m   3923\u001b[0m \u001b[0;34m\u001b[0m\u001b[0m\n",
            "\u001b[0;32m/usr/local/lib/python3.6/dist-packages/pandas/core/indexes/base.py\u001b[0m in \u001b[0;36mdrop\u001b[0;34m(self, labels, errors)\u001b[0m\n\u001b[1;32m   5282\u001b[0m         \u001b[0;32mif\u001b[0m \u001b[0mmask\u001b[0m\u001b[0;34m.\u001b[0m\u001b[0many\u001b[0m\u001b[0;34m(\u001b[0m\u001b[0;34m)\u001b[0m\u001b[0;34m:\u001b[0m\u001b[0;34m\u001b[0m\u001b[0;34m\u001b[0m\u001b[0m\n\u001b[1;32m   5283\u001b[0m             \u001b[0;32mif\u001b[0m \u001b[0merrors\u001b[0m \u001b[0;34m!=\u001b[0m \u001b[0;34m\"ignore\"\u001b[0m\u001b[0;34m:\u001b[0m\u001b[0;34m\u001b[0m\u001b[0;34m\u001b[0m\u001b[0m\n\u001b[0;32m-> 5284\u001b[0;31m                 \u001b[0;32mraise\u001b[0m \u001b[0mKeyError\u001b[0m\u001b[0;34m(\u001b[0m\u001b[0;34mf\"{labels[mask]} not found in axis\"\u001b[0m\u001b[0;34m)\u001b[0m\u001b[0;34m\u001b[0m\u001b[0;34m\u001b[0m\u001b[0m\n\u001b[0m\u001b[1;32m   5285\u001b[0m             \u001b[0mindexer\u001b[0m \u001b[0;34m=\u001b[0m \u001b[0mindexer\u001b[0m\u001b[0;34m[\u001b[0m\u001b[0;34m~\u001b[0m\u001b[0mmask\u001b[0m\u001b[0;34m]\u001b[0m\u001b[0;34m\u001b[0m\u001b[0;34m\u001b[0m\u001b[0m\n\u001b[1;32m   5286\u001b[0m         \u001b[0;32mreturn\u001b[0m \u001b[0mself\u001b[0m\u001b[0;34m.\u001b[0m\u001b[0mdelete\u001b[0m\u001b[0;34m(\u001b[0m\u001b[0mindexer\u001b[0m\u001b[0;34m)\u001b[0m\u001b[0;34m\u001b[0m\u001b[0;34m\u001b[0m\u001b[0m\n",
            "\u001b[0;31mKeyError\u001b[0m: \"['commitdate' 'transactionid'] not found in axis\""
          ]
        }
      ]
    },
    {
      "cell_type": "code",
      "metadata": {
        "id": "_1p5DpIHnP1j",
        "colab": {
          "base_uri": "https://localhost:8080/",
          "height": 195
        },
        "outputId": "c3efe22e-9744-4aa9-e7c2-3b6d3bc121ee"
      },
      "source": [
        "df.head()"
      ],
      "execution_count": 8,
      "outputs": [
        {
          "output_type": "execute_result",
          "data": {
            "text/html": [
              "<div>\n",
              "<style scoped>\n",
              "    .dataframe tbody tr th:only-of-type {\n",
              "        vertical-align: middle;\n",
              "    }\n",
              "\n",
              "    .dataframe tbody tr th {\n",
              "        vertical-align: top;\n",
              "    }\n",
              "\n",
              "    .dataframe thead th {\n",
              "        text-align: right;\n",
              "    }\n",
              "</style>\n",
              "<table border=\"1\" class=\"dataframe\">\n",
              "  <thead>\n",
              "    <tr style=\"text-align: right;\">\n",
              "      <th></th>\n",
              "      <th>ns</th>\n",
              "      <th>nm</th>\n",
              "      <th>nf</th>\n",
              "      <th>entropy</th>\n",
              "      <th>la</th>\n",
              "      <th>ld</th>\n",
              "      <th>lt</th>\n",
              "      <th>fix</th>\n",
              "      <th>ndev</th>\n",
              "      <th>pd</th>\n",
              "      <th>npt</th>\n",
              "      <th>exp</th>\n",
              "      <th>rexp</th>\n",
              "      <th>sexp</th>\n",
              "      <th>bug</th>\n",
              "    </tr>\n",
              "  </thead>\n",
              "  <tbody>\n",
              "    <tr>\n",
              "      <th>0</th>\n",
              "      <td>1</td>\n",
              "      <td>1</td>\n",
              "      <td>1</td>\n",
              "      <td>0.000000</td>\n",
              "      <td>0.213115</td>\n",
              "      <td>2.622951</td>\n",
              "      <td>61.000000</td>\n",
              "      <td>1</td>\n",
              "      <td>3</td>\n",
              "      <td>74</td>\n",
              "      <td>1.000000</td>\n",
              "      <td>654</td>\n",
              "      <td>452.000000</td>\n",
              "      <td>651</td>\n",
              "      <td>0</td>\n",
              "    </tr>\n",
              "    <tr>\n",
              "      <th>1</th>\n",
              "      <td>1</td>\n",
              "      <td>1</td>\n",
              "      <td>4</td>\n",
              "      <td>0.000000</td>\n",
              "      <td>0.000000</td>\n",
              "      <td>0.000000</td>\n",
              "      <td>315.750000</td>\n",
              "      <td>1</td>\n",
              "      <td>1</td>\n",
              "      <td>0</td>\n",
              "      <td>0.250000</td>\n",
              "      <td>5446</td>\n",
              "      <td>2027.481746</td>\n",
              "      <td>202</td>\n",
              "      <td>1</td>\n",
              "    </tr>\n",
              "    <tr>\n",
              "      <th>2</th>\n",
              "      <td>1</td>\n",
              "      <td>1</td>\n",
              "      <td>3</td>\n",
              "      <td>0.905713</td>\n",
              "      <td>0.079585</td>\n",
              "      <td>0.013841</td>\n",
              "      <td>96.333333</td>\n",
              "      <td>1</td>\n",
              "      <td>3</td>\n",
              "      <td>46</td>\n",
              "      <td>1.000000</td>\n",
              "      <td>1217</td>\n",
              "      <td>1154.500000</td>\n",
              "      <td>136</td>\n",
              "      <td>0</td>\n",
              "    </tr>\n",
              "    <tr>\n",
              "      <th>3</th>\n",
              "      <td>1</td>\n",
              "      <td>1</td>\n",
              "      <td>1</td>\n",
              "      <td>0.000000</td>\n",
              "      <td>0.090909</td>\n",
              "      <td>0.079545</td>\n",
              "      <td>88.000000</td>\n",
              "      <td>0</td>\n",
              "      <td>3</td>\n",
              "      <td>5</td>\n",
              "      <td>1.000000</td>\n",
              "      <td>16736</td>\n",
              "      <td>5511.066667</td>\n",
              "      <td>16736</td>\n",
              "      <td>0</td>\n",
              "    </tr>\n",
              "    <tr>\n",
              "      <th>4</th>\n",
              "      <td>1</td>\n",
              "      <td>3</td>\n",
              "      <td>12</td>\n",
              "      <td>0.731805</td>\n",
              "      <td>1.880000</td>\n",
              "      <td>0.578947</td>\n",
              "      <td>39.583333</td>\n",
              "      <td>0</td>\n",
              "      <td>4</td>\n",
              "      <td>653</td>\n",
              "      <td>0.583333</td>\n",
              "      <td>265</td>\n",
              "      <td>265.000000</td>\n",
              "      <td>69</td>\n",
              "      <td>1</td>\n",
              "    </tr>\n",
              "  </tbody>\n",
              "</table>\n",
              "</div>"
            ],
            "text/plain": [
              "   ns  nm  nf   entropy        la  ...       npt    exp         rexp   sexp  bug\n",
              "0   1   1   1  0.000000  0.213115  ...  1.000000    654   452.000000    651    0\n",
              "1   1   1   4  0.000000  0.000000  ...  0.250000   5446  2027.481746    202    1\n",
              "2   1   1   3  0.905713  0.079585  ...  1.000000   1217  1154.500000    136    0\n",
              "3   1   1   1  0.000000  0.090909  ...  1.000000  16736  5511.066667  16736    0\n",
              "4   1   3  12  0.731805  1.880000  ...  0.583333    265   265.000000     69    1\n",
              "\n",
              "[5 rows x 15 columns]"
            ]
          },
          "metadata": {
            "tags": []
          },
          "execution_count": 8
        }
      ]
    },
    {
      "cell_type": "code",
      "metadata": {
        "id": "WoHvy3D_peSX"
      },
      "source": [
        "# count1 = np.count_nonzero(df.bug, axis=0)\n",
        "# count1"
      ],
      "execution_count": 9,
      "outputs": []
    },
    {
      "cell_type": "code",
      "metadata": {
        "id": "G5L6qFJLeDeN"
      },
      "source": [
        "# #More Balanced DataFrame\n",
        "# deleted = 0\n",
        "# for i in range(df.shape[0]-1, 0, -1 ):\n",
        "#   if deleted == 164680:\n",
        "#     break\n",
        "#   elif df.iloc[i].bug == 0:\n",
        "#     df = df.drop(df.index[i])\n",
        "#     if(count1 > np.count_nonzero(df.bug, axis=0)):\n",
        "#       print('kata')\n",
        "#       break\n",
        "#     deleted = deleted + 1\n",
        "#     if deleted % 1716 == 0:\n",
        "#       print('Completed: ',deleted / 1716, ' %');"
      ],
      "execution_count": 10,
      "outputs": []
    },
    {
      "cell_type": "code",
      "metadata": {
        "id": "waxIbRWYhM9S"
      },
      "source": [
        "df = df.sample(frac = 1) "
      ],
      "execution_count": 11,
      "outputs": []
    },
    {
      "cell_type": "markdown",
      "metadata": {
        "id": "O-6blBzBx_o-"
      },
      "source": [
        "Save the DataFrame"
      ]
    },
    {
      "cell_type": "code",
      "metadata": {
        "id": "aRP_tqUtxffF"
      },
      "source": [
        "# df.to_csv(r'/content/drive/My Drive/dataset/FinalDF.csv', index = False)"
      ],
      "execution_count": 12,
      "outputs": []
    },
    {
      "cell_type": "code",
      "metadata": {
        "id": "2cHDy9eqQJta"
      },
      "source": [
        "#Splitting Attributes and Labels\n",
        "train_X = df.iloc[:,:-1].apply(func=normalize, axis=0)\n",
        "train_Y = df.iloc[:,-1]"
      ],
      "execution_count": 13,
      "outputs": []
    },
    {
      "cell_type": "code",
      "metadata": {
        "id": "8E4REdnSKBjJ",
        "colab": {
          "base_uri": "https://localhost:8080/"
        },
        "outputId": "be4244a2-3c05-4902-9bb1-3663afbb3b35"
      },
      "source": [
        "# df=df.drop(['transactionid'], axis=1)\n",
        "print(df.head())"
      ],
      "execution_count": 14,
      "outputs": [
        {
          "output_type": "stream",
          "text": [
            "       ns  nm  nf   entropy        la  ...       npt    exp         rexp   sexp  bug\n",
            "40102   1  13  18  0.766777  0.093023  ...  0.666667   5061  4231.500000   5029    1\n",
            "25020   1   1   1  0.000000  0.009740  ...  1.000000  12527  4497.613997   2805    1\n",
            "18760   1   1   1  0.000000  0.002513  ...  1.000000   1067  1067.000000   1041    0\n",
            "29596   1   1   1  0.000000  0.002545  ...  1.000000  10949  2545.469986  10563    0\n",
            "61646   1   1   1  0.000000  0.107692  ...  1.000000    441   400.000000    440    0\n",
            "\n",
            "[5 rows x 15 columns]\n"
          ],
          "name": "stdout"
        }
      ]
    },
    {
      "cell_type": "markdown",
      "metadata": {
        "id": "VoV6Hfj1LQ18"
      },
      "source": [
        "#**DBN**"
      ]
    },
    {
      "cell_type": "code",
      "metadata": {
        "id": "pS-1UJMM6WUH"
      },
      "source": [
        "# Define RBM class\n",
        "class RBM(object):\n",
        "    \n",
        "    def __init__(self, input_size, output_size, \n",
        "                 learning_rate, epochs, batchsize):\n",
        "        # Define hyperparameters\n",
        "        self._input_size = input_size\n",
        "        self._output_size = output_size\n",
        "        self.learning_rate = learning_rate\n",
        "        self.epochs = epochs\n",
        "        self.batchsize = batchsize\n",
        "        \n",
        "        # Initialize weights and biases using zero matrices\n",
        "        self.w = np.zeros([input_size, output_size], dtype=np.float32)\n",
        "        self.hb = np.zeros([output_size], dtype=np.float32)\n",
        "        self.vb = np.zeros([input_size], dtype=np.float32)\n",
        "    # forward pass, where h is the hidden layer and v is the visible layer\n",
        "    def prob_h_given_v(self, visible, w, hb):\n",
        "        return tf.nn.sigmoid(tf.matmul(visible, w) + hb)\n",
        "    # backward pass\n",
        "    def prob_v_given_h(self, hidden, w, vb):\n",
        "        return tf.nn.sigmoid(tf.matmul(hidden, tf.transpose(w)) + vb)\n",
        "    # sampling function\n",
        "    def sample_prob(self, probs):\n",
        "        return tf.nn.relu(tf.sign(probs - tf.random_uniform(tf.shape(probs))))\n",
        "\n",
        "    def train(self, X):\n",
        "        _w = tf.placeholder(tf.float32, [self._input_size, self._output_size])\n",
        "        _hb = tf.placeholder(tf.float32, [self._output_size])\n",
        "        _vb = tf.placeholder(tf.float32, [self._input_size])\n",
        "        \n",
        "        prv_w = np.zeros([self._input_size, self._output_size], dtype=np.float32)\n",
        "        prv_hb = np.zeros([self._output_size], dtype=np.float32)\n",
        "        prv_vb = np.zeros([self._input_size], dtype=np.float32)\n",
        "        \n",
        "        cur_w = np.zeros([self._input_size, self._output_size], dtype=np.float32)\n",
        "        cur_hb = np.zeros([self._output_size], dtype=np.float32)\n",
        "        cur_vb = np.zeros([self._input_size], dtype=np.float32)\n",
        "        \n",
        "        v0 = tf.placeholder(tf.float32, [None, self._input_size])\n",
        "        h0 = self.sample_prob(self.prob_h_given_v(v0, _w, _hb))\n",
        "        v1 = self.sample_prob(self.prob_v_given_h(h0, _w, _vb))\n",
        "        h1 = self.prob_h_given_v(v1, _w, _hb)\n",
        "        #To update the weights, we perform constrastive divergence.\n",
        "        positive_grad = tf.matmul(tf.transpose(v0), h0)\n",
        "        negative_grad = tf.matmul(tf.transpose(v1), h1)\n",
        "        \n",
        "        update_w = _w + self.learning_rate * (positive_grad - negative_grad) / tf.to_float(tf.shape(v0)[0])\n",
        "        update_vb = _vb +  self.learning_rate * tf.reduce_mean(v0 - v1, 0)\n",
        "        update_hb = _hb +  self.learning_rate * tf.reduce_mean(h0 - h1, 0)\n",
        "        # We also define the error as the MSE\n",
        "        err = tf.reduce_mean(tf.square(v0 - v1))\n",
        "        \n",
        "        error_list = []\n",
        "\n",
        "        with tf.Session() as sess:\n",
        "            sess.run(tf.global_variables_initializer())\n",
        "            \n",
        "            for epoch in range(self.epochs):\n",
        "                for start, end in zip(range(0, len(X),  self.batchsize),range(self.batchsize,len(X), self.batchsize)):\n",
        "                    batch = X[start:end]\n",
        "                    cur_w = sess.run(update_w, feed_dict={v0: batch, _w: prv_w, _hb: prv_hb, _vb: prv_vb})\n",
        "                    cur_hb = sess.run(update_hb, feed_dict={v0: batch,  _w: prv_w, _hb: prv_hb, _vb: prv_vb})\n",
        "                    cur_vb = sess.run(update_vb, feed_dict={v0: batch, _w: prv_w, _hb: prv_hb, _vb: prv_vb})\n",
        "                    prv_w = cur_w\n",
        "                    prv_hb = cur_hb\n",
        "                    prv_vb = cur_vb\n",
        "                error = sess.run(err, feed_dict={v0: X, _w: cur_w, _vb: cur_vb, _hb: cur_hb})\n",
        "                print ('Epoch: %d' % epoch,'reconstruction error: %f' % error)\n",
        "                error_list.append(error)\n",
        "            self.w = prv_w\n",
        "            self.hb = prv_hb\n",
        "            self.vb = prv_vb\n",
        "            return error_list\n",
        "    #function to generate new features from the generative model that the RBM has learned\n",
        "    def rbm_output(self, X):\n",
        "        \n",
        "        input_X = tf.constant(X)\n",
        "        _w = tf.constant(self.w)\n",
        "        _hb = tf.constant(self.hb)\n",
        "        _vb = tf.constant(self.vb)\n",
        "        out = tf.nn.sigmoid(tf.matmul(input_X, _w) + _hb)\n",
        "        hiddenGen = self.sample_prob(self.prob_h_given_v(input_X, _w, _hb))\n",
        "        visibleGen = self.sample_prob(self.prob_v_given_h(hiddenGen, _w, _vb))\n",
        "        with tf.Session() as sess:\n",
        "            sess.run(tf.global_variables_initializer())\n",
        "            return sess.run(out), sess.run(visibleGen), sess.run(hiddenGen)"
      ],
      "execution_count": 15,
      "outputs": []
    },
    {
      "cell_type": "code",
      "metadata": {
        "id": "V0YjK0QsnQKb",
        "colab": {
          "base_uri": "https://localhost:8080/"
        },
        "outputId": "81fe8a22-d01a-4a70-fdcd-18b9ad483043"
      },
      "source": [
        "inputX = df.iloc[:,:-1].apply(func=normalize, axis=0).values\n",
        "inputY= df.iloc[:,-1].values\n",
        "print(type(inputX))\n",
        "inputX = inputX.astype(np.float32)\n",
        "\n",
        "#List to hold RBMs\n",
        "rbm_list = []\n",
        "\n",
        "#define parameters of RBMs we will train\n",
        "# 14-20-12-12-2\n",
        "\n",
        "# def __init__(self, input_size, output_size,learning_rate, epochs, batchsize):\n",
        "rbm_list.append(RBM(14, 20, 0.1, 200, 100))\n",
        "rbm_list.append(RBM(20, 12, 0.025, 50, 100))\n",
        "rbm_list.append(RBM(12, 12, 0.025, 50, 100))"
      ],
      "execution_count": 16,
      "outputs": [
        {
          "output_type": "stream",
          "text": [
            "<class 'numpy.ndarray'>\n"
          ],
          "name": "stdout"
        }
      ]
    },
    {
      "cell_type": "code",
      "metadata": {
        "id": "niPCAo4fsOCp",
        "colab": {
          "base_uri": "https://localhost:8080/"
        },
        "outputId": "b3fa7f61-597a-4ee3-fa6a-a4ffabd1bee1"
      },
      "source": [
        "inputX.shape"
      ],
      "execution_count": 17,
      "outputs": [
        {
          "output_type": "execute_result",
          "data": {
            "text/plain": [
              "(62737, 14)"
            ]
          },
          "metadata": {
            "tags": []
          },
          "execution_count": 17
        }
      ]
    },
    {
      "cell_type": "code",
      "metadata": {
        "id": "-RFRdpvK4zBD",
        "colab": {
          "base_uri": "https://localhost:8080/"
        },
        "outputId": "529855f3-6e41-475d-9112-0e324e9c4a15"
      },
      "source": [
        "import tensorflow.compat.v1 as tf\n",
        "tf.disable_v2_behavior() "
      ],
      "execution_count": 18,
      "outputs": [
        {
          "output_type": "stream",
          "text": [
            "WARNING:tensorflow:From /usr/local/lib/python3.6/dist-packages/tensorflow/python/compat/v2_compat.py:96: disable_resource_variables (from tensorflow.python.ops.variable_scope) is deprecated and will be removed in a future version.\n",
            "Instructions for updating:\n",
            "non-resource variables are not supported in the long term\n"
          ],
          "name": "stdout"
        }
      ]
    },
    {
      "cell_type": "code",
      "metadata": {
        "id": "tCjl-ZFknQV0",
        "colab": {
          "base_uri": "https://localhost:8080/"
        },
        "outputId": "1a8f685f-f8dd-44b4-addd-2ff4fbe6c6b9"
      },
      "source": [
        "outputList = []\n",
        "error_list = []\n",
        "\n",
        "#For each RBM in out list\n",
        "for i in range(0, len(rbm_list)):\n",
        "    print('RBM', i+1)\n",
        "    #Train new RBM\n",
        "    rbm = rbm_list[i]\n",
        "    err = rbm.train(inputX)\n",
        "    error_list.append(err)\n",
        "\n",
        "    #Return output layer\n",
        "    #sess.run(out), sess.run(visibleGen), sess.run(hiddenGen)\n",
        "    outputX, reconstructedX, hiddenX = rbm.rbm_output(inputX)\n",
        "    outputList.append(outputX)\n",
        "    inputX= hiddenX"
      ],
      "execution_count": 19,
      "outputs": [
        {
          "output_type": "stream",
          "text": [
            "RBM 1\n",
            "WARNING:tensorflow:From <ipython-input-15-2b5d3aa65216>:48: to_float (from tensorflow.python.ops.math_ops) is deprecated and will be removed in a future version.\n",
            "Instructions for updating:\n",
            "Use `tf.cast` instead.\n",
            "Epoch: 0 reconstruction error: 0.105670\n",
            "Epoch: 1 reconstruction error: 0.106234\n",
            "Epoch: 2 reconstruction error: 0.106754\n",
            "Epoch: 3 reconstruction error: 0.107348\n",
            "Epoch: 4 reconstruction error: 0.105176\n",
            "Epoch: 5 reconstruction error: 0.105729\n",
            "Epoch: 6 reconstruction error: 0.104871\n",
            "Epoch: 7 reconstruction error: 0.103896\n",
            "Epoch: 8 reconstruction error: 0.103429\n",
            "Epoch: 9 reconstruction error: 0.100656\n",
            "Epoch: 10 reconstruction error: 0.100244\n",
            "Epoch: 11 reconstruction error: 0.101483\n",
            "Epoch: 12 reconstruction error: 0.100236\n",
            "Epoch: 13 reconstruction error: 0.098903\n",
            "Epoch: 14 reconstruction error: 0.099635\n",
            "Epoch: 15 reconstruction error: 0.097501\n",
            "Epoch: 16 reconstruction error: 0.095406\n",
            "Epoch: 17 reconstruction error: 0.094907\n",
            "Epoch: 18 reconstruction error: 0.096011\n",
            "Epoch: 19 reconstruction error: 0.093111\n",
            "Epoch: 20 reconstruction error: 0.092634\n",
            "Epoch: 21 reconstruction error: 0.095316\n",
            "Epoch: 22 reconstruction error: 0.093990\n",
            "Epoch: 23 reconstruction error: 0.092177\n",
            "Epoch: 24 reconstruction error: 0.090368\n",
            "Epoch: 25 reconstruction error: 0.089390\n",
            "Epoch: 26 reconstruction error: 0.089280\n",
            "Epoch: 27 reconstruction error: 0.089882\n",
            "Epoch: 28 reconstruction error: 0.087964\n",
            "Epoch: 29 reconstruction error: 0.090048\n",
            "Epoch: 30 reconstruction error: 0.089648\n",
            "Epoch: 31 reconstruction error: 0.086557\n",
            "Epoch: 32 reconstruction error: 0.086138\n",
            "Epoch: 33 reconstruction error: 0.086289\n",
            "Epoch: 34 reconstruction error: 0.087025\n",
            "Epoch: 35 reconstruction error: 0.087021\n",
            "Epoch: 36 reconstruction error: 0.086091\n",
            "Epoch: 37 reconstruction error: 0.084276\n",
            "Epoch: 38 reconstruction error: 0.083553\n",
            "Epoch: 39 reconstruction error: 0.083543\n",
            "Epoch: 40 reconstruction error: 0.083999\n",
            "Epoch: 41 reconstruction error: 0.085261\n",
            "Epoch: 42 reconstruction error: 0.084609\n",
            "Epoch: 43 reconstruction error: 0.084729\n",
            "Epoch: 44 reconstruction error: 0.083572\n",
            "Epoch: 45 reconstruction error: 0.083594\n",
            "Epoch: 46 reconstruction error: 0.082120\n",
            "Epoch: 47 reconstruction error: 0.082959\n",
            "Epoch: 48 reconstruction error: 0.081284\n",
            "Epoch: 49 reconstruction error: 0.082457\n",
            "Epoch: 50 reconstruction error: 0.082485\n",
            "Epoch: 51 reconstruction error: 0.083763\n",
            "Epoch: 52 reconstruction error: 0.080268\n",
            "Epoch: 53 reconstruction error: 0.080368\n",
            "Epoch: 54 reconstruction error: 0.081905\n",
            "Epoch: 55 reconstruction error: 0.081507\n",
            "Epoch: 56 reconstruction error: 0.080376\n",
            "Epoch: 57 reconstruction error: 0.080315\n",
            "Epoch: 58 reconstruction error: 0.080993\n",
            "Epoch: 59 reconstruction error: 0.080615\n",
            "Epoch: 60 reconstruction error: 0.079769\n",
            "Epoch: 61 reconstruction error: 0.077392\n",
            "Epoch: 62 reconstruction error: 0.078737\n",
            "Epoch: 63 reconstruction error: 0.078681\n",
            "Epoch: 64 reconstruction error: 0.079337\n",
            "Epoch: 65 reconstruction error: 0.079903\n",
            "Epoch: 66 reconstruction error: 0.079791\n",
            "Epoch: 67 reconstruction error: 0.079557\n",
            "Epoch: 68 reconstruction error: 0.079835\n",
            "Epoch: 69 reconstruction error: 0.079642\n",
            "Epoch: 70 reconstruction error: 0.079137\n",
            "Epoch: 71 reconstruction error: 0.079745\n",
            "Epoch: 72 reconstruction error: 0.079106\n",
            "Epoch: 73 reconstruction error: 0.078565\n",
            "Epoch: 74 reconstruction error: 0.079680\n",
            "Epoch: 75 reconstruction error: 0.079710\n",
            "Epoch: 76 reconstruction error: 0.078486\n",
            "Epoch: 77 reconstruction error: 0.076942\n",
            "Epoch: 78 reconstruction error: 0.077979\n",
            "Epoch: 79 reconstruction error: 0.078827\n",
            "Epoch: 80 reconstruction error: 0.078963\n",
            "Epoch: 81 reconstruction error: 0.078052\n",
            "Epoch: 82 reconstruction error: 0.076156\n",
            "Epoch: 83 reconstruction error: 0.078159\n",
            "Epoch: 84 reconstruction error: 0.078750\n",
            "Epoch: 85 reconstruction error: 0.077487\n",
            "Epoch: 86 reconstruction error: 0.078488\n",
            "Epoch: 87 reconstruction error: 0.079118\n",
            "Epoch: 88 reconstruction error: 0.079084\n",
            "Epoch: 89 reconstruction error: 0.077588\n",
            "Epoch: 90 reconstruction error: 0.079112\n",
            "Epoch: 91 reconstruction error: 0.077942\n",
            "Epoch: 92 reconstruction error: 0.079811\n",
            "Epoch: 93 reconstruction error: 0.079020\n",
            "Epoch: 94 reconstruction error: 0.077518\n",
            "Epoch: 95 reconstruction error: 0.078520\n",
            "Epoch: 96 reconstruction error: 0.077349\n",
            "Epoch: 97 reconstruction error: 0.079140\n",
            "Epoch: 98 reconstruction error: 0.078131\n",
            "Epoch: 99 reconstruction error: 0.078956\n",
            "Epoch: 100 reconstruction error: 0.078734\n",
            "Epoch: 101 reconstruction error: 0.078234\n",
            "Epoch: 102 reconstruction error: 0.077486\n",
            "Epoch: 103 reconstruction error: 0.078658\n",
            "Epoch: 104 reconstruction error: 0.078056\n",
            "Epoch: 105 reconstruction error: 0.077489\n",
            "Epoch: 106 reconstruction error: 0.077376\n",
            "Epoch: 107 reconstruction error: 0.077822\n",
            "Epoch: 108 reconstruction error: 0.077140\n",
            "Epoch: 109 reconstruction error: 0.078007\n",
            "Epoch: 110 reconstruction error: 0.076828\n",
            "Epoch: 111 reconstruction error: 0.078003\n",
            "Epoch: 112 reconstruction error: 0.075907\n",
            "Epoch: 113 reconstruction error: 0.079100\n",
            "Epoch: 114 reconstruction error: 0.075080\n",
            "Epoch: 115 reconstruction error: 0.077386\n",
            "Epoch: 116 reconstruction error: 0.077987\n",
            "Epoch: 117 reconstruction error: 0.074999\n",
            "Epoch: 118 reconstruction error: 0.075321\n",
            "Epoch: 119 reconstruction error: 0.076302\n",
            "Epoch: 120 reconstruction error: 0.077464\n",
            "Epoch: 121 reconstruction error: 0.075050\n",
            "Epoch: 122 reconstruction error: 0.076183\n",
            "Epoch: 123 reconstruction error: 0.076054\n",
            "Epoch: 124 reconstruction error: 0.075593\n",
            "Epoch: 125 reconstruction error: 0.076834\n",
            "Epoch: 126 reconstruction error: 0.076387\n",
            "Epoch: 127 reconstruction error: 0.075027\n",
            "Epoch: 128 reconstruction error: 0.077590\n",
            "Epoch: 129 reconstruction error: 0.076075\n",
            "Epoch: 130 reconstruction error: 0.076291\n",
            "Epoch: 131 reconstruction error: 0.075284\n",
            "Epoch: 132 reconstruction error: 0.076183\n",
            "Epoch: 133 reconstruction error: 0.076481\n",
            "Epoch: 134 reconstruction error: 0.077075\n",
            "Epoch: 135 reconstruction error: 0.075750\n",
            "Epoch: 136 reconstruction error: 0.075541\n",
            "Epoch: 137 reconstruction error: 0.075698\n",
            "Epoch: 138 reconstruction error: 0.074966\n",
            "Epoch: 139 reconstruction error: 0.074288\n",
            "Epoch: 140 reconstruction error: 0.075549\n",
            "Epoch: 141 reconstruction error: 0.075609\n",
            "Epoch: 142 reconstruction error: 0.075918\n",
            "Epoch: 143 reconstruction error: 0.076485\n",
            "Epoch: 144 reconstruction error: 0.076467\n",
            "Epoch: 145 reconstruction error: 0.076596\n",
            "Epoch: 146 reconstruction error: 0.074513\n",
            "Epoch: 147 reconstruction error: 0.078890\n",
            "Epoch: 148 reconstruction error: 0.076486\n",
            "Epoch: 149 reconstruction error: 0.074762\n",
            "Epoch: 150 reconstruction error: 0.074979\n",
            "Epoch: 151 reconstruction error: 0.074939\n",
            "Epoch: 152 reconstruction error: 0.074545\n",
            "Epoch: 153 reconstruction error: 0.075183\n",
            "Epoch: 154 reconstruction error: 0.074660\n",
            "Epoch: 155 reconstruction error: 0.073278\n",
            "Epoch: 156 reconstruction error: 0.074886\n",
            "Epoch: 157 reconstruction error: 0.072040\n",
            "Epoch: 158 reconstruction error: 0.073793\n",
            "Epoch: 159 reconstruction error: 0.073337\n",
            "Epoch: 160 reconstruction error: 0.075139\n",
            "Epoch: 161 reconstruction error: 0.075126\n",
            "Epoch: 162 reconstruction error: 0.074577\n",
            "Epoch: 163 reconstruction error: 0.074303\n",
            "Epoch: 164 reconstruction error: 0.074747\n",
            "Epoch: 165 reconstruction error: 0.073519\n",
            "Epoch: 166 reconstruction error: 0.073638\n",
            "Epoch: 167 reconstruction error: 0.075167\n",
            "Epoch: 168 reconstruction error: 0.072818\n",
            "Epoch: 169 reconstruction error: 0.074332\n",
            "Epoch: 170 reconstruction error: 0.074483\n",
            "Epoch: 171 reconstruction error: 0.074752\n",
            "Epoch: 172 reconstruction error: 0.072971\n",
            "Epoch: 173 reconstruction error: 0.071984\n",
            "Epoch: 174 reconstruction error: 0.073640\n",
            "Epoch: 175 reconstruction error: 0.073330\n",
            "Epoch: 176 reconstruction error: 0.072875\n",
            "Epoch: 177 reconstruction error: 0.073248\n",
            "Epoch: 178 reconstruction error: 0.075256\n",
            "Epoch: 179 reconstruction error: 0.073671\n",
            "Epoch: 180 reconstruction error: 0.074141\n",
            "Epoch: 181 reconstruction error: 0.073894\n",
            "Epoch: 182 reconstruction error: 0.074770\n",
            "Epoch: 183 reconstruction error: 0.073420\n",
            "Epoch: 184 reconstruction error: 0.072321\n",
            "Epoch: 185 reconstruction error: 0.071920\n",
            "Epoch: 186 reconstruction error: 0.072956\n",
            "Epoch: 187 reconstruction error: 0.074355\n",
            "Epoch: 188 reconstruction error: 0.074833\n",
            "Epoch: 189 reconstruction error: 0.075167\n",
            "Epoch: 190 reconstruction error: 0.072250\n",
            "Epoch: 191 reconstruction error: 0.072952\n",
            "Epoch: 192 reconstruction error: 0.072819\n",
            "Epoch: 193 reconstruction error: 0.072546\n",
            "Epoch: 194 reconstruction error: 0.072643\n",
            "Epoch: 195 reconstruction error: 0.074675\n",
            "Epoch: 196 reconstruction error: 0.072819\n",
            "Epoch: 197 reconstruction error: 0.072564\n",
            "Epoch: 198 reconstruction error: 0.072315\n",
            "Epoch: 199 reconstruction error: 0.073367\n",
            "RBM 2\n",
            "Epoch: 0 reconstruction error: 0.283049\n",
            "Epoch: 1 reconstruction error: 0.281904\n",
            "Epoch: 2 reconstruction error: 0.250648\n",
            "Epoch: 3 reconstruction error: 0.225683\n",
            "Epoch: 4 reconstruction error: 0.219306\n",
            "Epoch: 5 reconstruction error: 0.217889\n",
            "Epoch: 6 reconstruction error: 0.216819\n",
            "Epoch: 7 reconstruction error: 0.217023\n",
            "Epoch: 8 reconstruction error: 0.218114\n",
            "Epoch: 9 reconstruction error: 0.217566\n",
            "Epoch: 10 reconstruction error: 0.216812\n",
            "Epoch: 11 reconstruction error: 0.215992\n",
            "Epoch: 12 reconstruction error: 0.216256\n",
            "Epoch: 13 reconstruction error: 0.216322\n",
            "Epoch: 14 reconstruction error: 0.216978\n",
            "Epoch: 15 reconstruction error: 0.217299\n",
            "Epoch: 16 reconstruction error: 0.217070\n",
            "Epoch: 17 reconstruction error: 0.216246\n",
            "Epoch: 18 reconstruction error: 0.216627\n",
            "Epoch: 19 reconstruction error: 0.215939\n",
            "Epoch: 20 reconstruction error: 0.215825\n",
            "Epoch: 21 reconstruction error: 0.217121\n",
            "Epoch: 22 reconstruction error: 0.216081\n",
            "Epoch: 23 reconstruction error: 0.217342\n",
            "Epoch: 24 reconstruction error: 0.217766\n",
            "Epoch: 25 reconstruction error: 0.216501\n",
            "Epoch: 26 reconstruction error: 0.215963\n",
            "Epoch: 27 reconstruction error: 0.216688\n",
            "Epoch: 28 reconstruction error: 0.216889\n",
            "Epoch: 29 reconstruction error: 0.216246\n",
            "Epoch: 30 reconstruction error: 0.217793\n",
            "Epoch: 31 reconstruction error: 0.216169\n",
            "Epoch: 32 reconstruction error: 0.217415\n",
            "Epoch: 33 reconstruction error: 0.215777\n",
            "Epoch: 34 reconstruction error: 0.216569\n",
            "Epoch: 35 reconstruction error: 0.217094\n",
            "Epoch: 36 reconstruction error: 0.217051\n",
            "Epoch: 37 reconstruction error: 0.217107\n",
            "Epoch: 38 reconstruction error: 0.217374\n",
            "Epoch: 39 reconstruction error: 0.217906\n",
            "Epoch: 40 reconstruction error: 0.216790\n",
            "Epoch: 41 reconstruction error: 0.215889\n",
            "Epoch: 42 reconstruction error: 0.216101\n",
            "Epoch: 43 reconstruction error: 0.216507\n",
            "Epoch: 44 reconstruction error: 0.215496\n",
            "Epoch: 45 reconstruction error: 0.216338\n",
            "Epoch: 46 reconstruction error: 0.216482\n",
            "Epoch: 47 reconstruction error: 0.216554\n",
            "Epoch: 48 reconstruction error: 0.216126\n",
            "Epoch: 49 reconstruction error: 0.216298\n",
            "RBM 3\n",
            "Epoch: 0 reconstruction error: 0.249420\n",
            "Epoch: 1 reconstruction error: 0.251045\n",
            "Epoch: 2 reconstruction error: 0.249323\n",
            "Epoch: 3 reconstruction error: 0.243902\n",
            "Epoch: 4 reconstruction error: 0.218543\n",
            "Epoch: 5 reconstruction error: 0.197516\n",
            "Epoch: 6 reconstruction error: 0.187295\n",
            "Epoch: 7 reconstruction error: 0.183345\n",
            "Epoch: 8 reconstruction error: 0.181006\n",
            "Epoch: 9 reconstruction error: 0.179001\n",
            "Epoch: 10 reconstruction error: 0.178902\n",
            "Epoch: 11 reconstruction error: 0.177296\n",
            "Epoch: 12 reconstruction error: 0.176305\n",
            "Epoch: 13 reconstruction error: 0.176185\n",
            "Epoch: 14 reconstruction error: 0.177179\n",
            "Epoch: 15 reconstruction error: 0.176155\n",
            "Epoch: 16 reconstruction error: 0.175831\n",
            "Epoch: 17 reconstruction error: 0.175843\n",
            "Epoch: 18 reconstruction error: 0.174423\n",
            "Epoch: 19 reconstruction error: 0.176058\n",
            "Epoch: 20 reconstruction error: 0.177127\n",
            "Epoch: 21 reconstruction error: 0.176400\n",
            "Epoch: 22 reconstruction error: 0.178147\n",
            "Epoch: 23 reconstruction error: 0.176095\n",
            "Epoch: 24 reconstruction error: 0.174873\n",
            "Epoch: 25 reconstruction error: 0.175747\n",
            "Epoch: 26 reconstruction error: 0.175791\n",
            "Epoch: 27 reconstruction error: 0.175224\n",
            "Epoch: 28 reconstruction error: 0.174258\n",
            "Epoch: 29 reconstruction error: 0.176487\n",
            "Epoch: 30 reconstruction error: 0.175425\n",
            "Epoch: 31 reconstruction error: 0.175671\n",
            "Epoch: 32 reconstruction error: 0.174865\n",
            "Epoch: 33 reconstruction error: 0.174745\n",
            "Epoch: 34 reconstruction error: 0.176294\n",
            "Epoch: 35 reconstruction error: 0.175156\n",
            "Epoch: 36 reconstruction error: 0.175673\n",
            "Epoch: 37 reconstruction error: 0.175898\n",
            "Epoch: 38 reconstruction error: 0.174961\n",
            "Epoch: 39 reconstruction error: 0.174787\n",
            "Epoch: 40 reconstruction error: 0.176713\n",
            "Epoch: 41 reconstruction error: 0.175537\n",
            "Epoch: 42 reconstruction error: 0.175359\n",
            "Epoch: 43 reconstruction error: 0.174806\n",
            "Epoch: 44 reconstruction error: 0.175468\n",
            "Epoch: 45 reconstruction error: 0.175545\n",
            "Epoch: 46 reconstruction error: 0.174844\n",
            "Epoch: 47 reconstruction error: 0.174263\n",
            "Epoch: 48 reconstruction error: 0.175997\n",
            "Epoch: 49 reconstruction error: 0.174761\n"
          ],
          "name": "stdout"
        }
      ]
    },
    {
      "cell_type": "code",
      "metadata": {
        "id": "8_JW0RV4nQYG",
        "colab": {
          "base_uri": "https://localhost:8080/",
          "height": 854
        },
        "outputId": "dbe976aa-c4d8-43a4-f0ca-48dbee01cd5b"
      },
      "source": [
        "i = 1\n",
        "for err in error_list:\n",
        "    print(\"RBM\",i)\n",
        "    pd.Series(err).plot(logy=False)\n",
        "    plt.xlabel(\"Epoch\")\n",
        "    plt.ylabel(\"Reconstruction Error\")\n",
        "    plt.show()\n",
        "    i += 1"
      ],
      "execution_count": 20,
      "outputs": [
        {
          "output_type": "stream",
          "text": [
            "RBM 1\n"
          ],
          "name": "stdout"
        },
        {
          "output_type": "display_data",
          "data": {
            "image/png": "[encoded data removed]",
            "text/plain": [
              "<Figure size 432x288 with 1 Axes>"
            ]
          },
          "metadata": {
            "tags": [],
            "needs_background": "light"
          }
        },
        {
          "output_type": "stream",
          "text": [
            "RBM 2\n"
          ],
          "name": "stdout"
        },
        {
          "output_type": "display_data",
          "data": {
            "image/png": "[encoded data removed]",
            "text/plain": [
              "<Figure size 432x288 with 1 Axes>"
            ]
          },
          "metadata": {
            "tags": [],
            "needs_background": "light"
          }
        },
        {
          "output_type": "stream",
          "text": [
            "RBM 3\n"
          ],
          "name": "stdout"
        },
        {
          "output_type": "display_data",
          "data": {
            "image/png": "[encoded data removed]",
            "text/plain": [
              "<Figure size 432x288 with 1 Axes>"
            ]
          },
          "metadata": {
            "tags": [],
            "needs_background": "light"
          }
        }
      ]
    },
    {
      "cell_type": "code",
      "metadata": {
        "id": "uoCYLrWUpO_J",
        "colab": {
          "base_uri": "https://localhost:8080/"
        },
        "outputId": "b35952bf-471c-43c8-f3a2-91369969fb79"
      },
      "source": [
        "outputX.shape"
      ],
      "execution_count": 21,
      "outputs": [
        {
          "output_type": "execute_result",
          "data": {
            "text/plain": [
              "(62737, 12)"
            ]
          },
          "metadata": {
            "tags": []
          },
          "execution_count": 21
        }
      ]
    },
    {
      "cell_type": "markdown",
      "metadata": {
        "id": "geqQzlYJggJO"
      },
      "source": [
        "##**Classifier**\n"
      ]
    },
    {
      "cell_type": "markdown",
      "metadata": {
        "id": "XnD1eSoctpxd"
      },
      "source": [
        "Used outputX as the Input for the Classifer"
      ]
    },
    {
      "cell_type": "code",
      "metadata": {
        "id": "h5eQ4cIKqrvx"
      },
      "source": [
        "numrows = len(train_Y)\n",
        "split = (int)(0.8 * numrows)"
      ],
      "execution_count": 55,
      "outputs": []
    },
    {
      "cell_type": "code",
      "metadata": {
        "id": "LcUnoCvTgej0",
        "colab": {
          "base_uri": "https://localhost:8080/"
        },
        "outputId": "9cc0d713-7a84-4545-bf65-4144161f19fb"
      },
      "source": [
        "Y_Train = train_Y.iloc[:split].values\n",
        "Y_Train.shape\n",
        "\n",
        "Y_Test = train_Y.iloc[split + 1:].values\n",
        "Y_Test.shape"
      ],
      "execution_count": 23,
      "outputs": [
        {
          "output_type": "execute_result",
          "data": {
            "text/plain": [
              "(12547,)"
            ]
          },
          "metadata": {
            "tags": []
          },
          "execution_count": 23
        }
      ]
    },
    {
      "cell_type": "code",
      "metadata": {
        "id": "wed-jco60HTJ"
      },
      "source": [
        "X_New_Train = outputX\n",
        "X_New_Train = X_New_Train[:split, :]\n",
        "Y_Train = Y_Train.reshape((-1,1))"
      ],
      "execution_count": 24,
      "outputs": []
    },
    {
      "cell_type": "code",
      "metadata": {
        "id": "8gW8d5XAl5O7"
      },
      "source": [
        "X_Test = outputX\n",
        "X_Test = X_Test[split + 1:, :]"
      ],
      "execution_count": 25,
      "outputs": []
    },
    {
      "cell_type": "markdown",
      "metadata": {
        "id": "oZVA25JuR1BC"
      },
      "source": [
        "ANN"
      ]
    },
    {
      "cell_type": "code",
      "metadata": {
        "id": "ej6X_Mw5zoYG"
      },
      "source": [
        "import keras\n",
        "from keras.models import Sequential\n",
        "from keras.layers import Dense"
      ],
      "execution_count": 26,
      "outputs": []
    },
    {
      "cell_type": "code",
      "metadata": {
        "id": "BwzVbQ4k0F74"
      },
      "source": [
        "ann = Sequential()\n",
        "\n",
        "ann.add(Dense (6, activation = 'relu', input_dim = 12))\n",
        "\n",
        "ann.add(Dense (6, activation = 'relu'))\n",
        "\n",
        "ann.add(Dense(1, activation = 'sigmoid'))\n",
        "\n",
        "ann.compile(optimizer = 'Adam', loss = 'binary_crossentropy', metrics = ['accuracy'])\n",
        "\n",
        "ann.fit(X_New_Train, Y_Train, batch_size = 200, epochs = 100)"
      ],
      "execution_count": null,
      "outputs": []
    },
    {
      "cell_type": "markdown",
      "metadata": {
        "id": "EdxS6kACR3ZQ"
      },
      "source": [
        "##Ensemble\n",
        "* LogisticRegression\n",
        "* GaussianNB\n",
        "* RandomForestClassifier"
      ]
    },
    {
      "cell_type": "code",
      "metadata": {
        "id": "RAxUbXWnR4sQ"
      },
      "source": [
        "from sklearn.linear_model import LogisticRegression\n",
        "from sklearn.naive_bayes import GaussianNB\n",
        "from sklearn.ensemble import RandomForestClassifier"
      ],
      "execution_count": 28,
      "outputs": []
    },
    {
      "cell_type": "code",
      "metadata": {
        "id": "BtRstxbQTMWJ"
      },
      "source": [
        "row_Y = Y_Train.reshape(Y_Train.shape[0],)"
      ],
      "execution_count": 35,
      "outputs": []
    },
    {
      "cell_type": "code",
      "metadata": {
        "id": "_d4tsy6VNgQv",
        "colab": {
          "base_uri": "https://localhost:8080/"
        },
        "outputId": "1056d643-0264-41b2-97fe-c0bdb9dccf24"
      },
      "source": [
        "lr = LogisticRegression(random_state=1)\n",
        "lr.fit(X_New_Train, row_Y)\n",
        "\n",
        "forest = RandomForestClassifier(n_estimators=50, random_state=1)\n",
        "forest.fit(X_New_Train, row_Y)\n",
        "\n",
        "gnb = GaussianNB()\n",
        "gnb.fit(X_New_Train, row_Y)"
      ],
      "execution_count": 36,
      "outputs": [
        {
          "output_type": "execute_result",
          "data": {
            "text/plain": [
              "GaussianNB(priors=None, var_smoothing=1e-09)"
            ]
          },
          "metadata": {
            "tags": []
          },
          "execution_count": 36
        }
      ]
    },
    {
      "cell_type": "markdown",
      "metadata": {
        "id": "_MjGgOMwt1_Z"
      },
      "source": [
        "###F1 Score"
      ]
    },
    {
      "cell_type": "code",
      "metadata": {
        "id": "b9lsmDoYj919"
      },
      "source": [
        "def f1score( tn, fp, fn, tp):\n",
        "  precision = tp/(tp + fp)\n",
        "  print('Precision: ',precision)\n",
        "  recall = tp/(tp+fn)\n",
        "  print('Recall: ',recall)\n",
        "  return 2 * (precision * recall) / (precision + recall)"
      ],
      "execution_count": 37,
      "outputs": []
    },
    {
      "cell_type": "code",
      "metadata": {
        "id": "H8AWFBCCa6mm",
        "colab": {
          "base_uri": "https://localhost:8080/"
        },
        "outputId": "6e30a7f9-1bcb-48c0-cbfc-e080e44d98e1"
      },
      "source": [
        "y_preds = lr.predict(outputX)\n",
        "y_preds = (y_preds > 0.5)\n",
        "y_preds_final = np.array(y_preds)\n",
        "tn, fp, fn, tp = confusion_matrix(train_Y, y_preds, labels=[0,1]).ravel()\n",
        "print('F1-score: ',f1score(tn, fp, fn, tp))"
      ],
      "execution_count": 56,
      "outputs": [
        {
          "output_type": "stream",
          "text": [
            "Precision:  0.570131950270765\n",
            "Recall:  0.536496088423168\n",
            "F1-score:  0.5528028398165951\n"
          ],
          "name": "stdout"
        }
      ]
    },
    {
      "cell_type": "markdown",
      "metadata": {
        "id": "Zkr_nQJwng2W"
      },
      "source": [
        "##Seprate Dataframes"
      ]
    },
    {
      "cell_type": "code",
      "metadata": {
        "id": "CHgFT7zPWyVW"
      },
      "source": [
        "bugzilla = pd.read_csv('/content/drive/My Drive/dataset/bugzilla.csv')\n",
        "columba = pd.read_csv('/content/drive/My Drive/dataset/columba.csv')\n",
        "jdt = pd.read_csv('/content/drive/My Drive/dataset/jdt.csv')\n",
        "mozilla = pd.read_csv('/content/drive/My Drive/dataset/mozilla.csv')\n",
        "platform = pd.read_csv('/content/drive/My Drive/dataset/platform.csv')\n",
        "postgres = pd.read_csv('/content/drive/My Drive/dataset/postgres.csv')"
      ],
      "execution_count": 44,
      "outputs": []
    },
    {
      "cell_type": "code",
      "metadata": {
        "id": "1XwlUmRp0RVg"
      },
      "source": [
        "def preds(mod, op):\n",
        "  y_preds = mod.predict(op)\n",
        "  y_preds = (y_preds > 0.5)*1\n",
        "  y_preds_final = np.array(y_preds)\n",
        "  return y_preds_final"
      ],
      "execution_count": 45,
      "outputs": []
    },
    {
      "cell_type": "code",
      "metadata": {
        "id": "PqM79k1kcN0U"
      },
      "source": [
        "def concatenate(list1, list2, list3, list4):\n",
        "  l = np.zeros(len(list1))\n",
        "  for i in range (0, len(list1)-1):\n",
        "    l[i] = (list1[i] + list2[i] + list3[i] + list4[i]) / 4\n",
        "  return l"
      ],
      "execution_count": 46,
      "outputs": []
    },
    {
      "cell_type": "code",
      "metadata": {
        "id": "yqDa5LwaSPUf"
      },
      "source": [
        "def predict(op):\n",
        "  y_predict = concatenate(preds(ann, op), preds(lr, op), preds(forest, op), preds(gnb, op))\n",
        "  y_predict = (y_predict > 0.5)\n",
        "  return y_predict"
      ],
      "execution_count": 47,
      "outputs": []
    },
    {
      "cell_type": "code",
      "metadata": {
        "id": "gJ31LrO4e_9V"
      },
      "source": [
        "def dbn_op(inputX):\n",
        "  for i in range(0, len(rbm_list)):\n",
        "      rbm = rbm_list[i]\n",
        "\n",
        "      outputX, reconstructedX, hiddenX = rbm.rbm_output(inputX)\n",
        "      inputX= hiddenX\n",
        "  \n",
        "  return outputX"
      ],
      "execution_count": 48,
      "outputs": []
    },
    {
      "cell_type": "code",
      "metadata": {
        "id": "R4XRFBpWoPkx"
      },
      "source": [
        "def dataframe_score(df1):\n",
        "  df1 = df1.drop(['commitdate','transactionid'], axis=1)\n",
        "  train_X_op = df1.iloc[:,:-1].apply(func=normalize, axis=0).astype(np.float32)\n",
        "  train_Y_op = df1.iloc[:,-1]\n",
        "\n",
        "  op = dbn_op(train_X_op)\n",
        "\n",
        "  y_pred_op = predict(op)\n",
        "\n",
        "  cm = confusion_matrix(train_Y_op, y_pred_op)\n",
        "  print(cm) \n",
        "\n",
        "  tn, fp, fn, tp = confusion_matrix(train_Y_op, y_pred_op, labels=[0,1]).ravel()\n",
        "  print('F1-score: ',f1score(tn, fp, fn, tp))"
      ],
      "execution_count": 49,
      "outputs": []
    },
    {
      "cell_type": "code",
      "metadata": {
        "id": "e1lfA3vUrK3q",
        "colab": {
          "base_uri": "https://localhost:8080/",
          "height": 1000
        },
        "outputId": "b22dd565-914e-4f6e-c408-b21e53c79c74"
      },
      "source": [
        "print('bugzilla:')\n",
        "dataframe_score(bugzilla)\n",
        "print('--------------------------------------------------------------------')\n",
        "print('columba:')\n",
        "dataframe_score(columba)\n",
        "print('--------------------------------------------------------------------')\n",
        "print('jdt:')\n",
        "dataframe_score(jdt)\n",
        "print('--------------------------------------------------------------------')\n",
        "print('mozilla:')\n",
        "dataframe_score(mozilla)\n",
        "print('--------------------------------------------------------------------')\n",
        "print('platform:')\n",
        "dataframe_score(platform)\n",
        "print('--------------------------------------------------------------------')\n",
        "print('postgres:')\n",
        "dataframe_score(postgres)\n",
        "print('--------------------------------------------------------------------')\n",
        "print('Overall:')\n",
        "cm = confusion_matrix(train_Y, y_preds)\n",
        "print(cm)\n",
        "tn, fp, fn, tp = confusion_matrix(train_Y, y_preds, labels=[0,1]).ravel()\n",
        "print('F1-score: ',f1score(tn, fp, fn, tp))"
      ],
      "execution_count": 57,
      "outputs": [
        {
          "output_type": "stream",
          "text": [
            "bugzilla:\n",
            "[[ 816 2108]\n",
            " [ 316 1380]]\n",
            "Precision:  0.3956422018348624\n",
            "Recall:  0.8136792452830188\n",
            "F1-score:  0.5324074074074074\n",
            "--------------------------------------------------------------------\n",
            "columba:\n",
            "[[2162  932]\n",
            " [ 964  397]]\n",
            "Precision:  0.2987208427389014\n",
            "Recall:  0.2916972814107274\n",
            "F1-score:  0.2951672862453531\n",
            "--------------------------------------------------------------------\n",
            "jdt:\n",
            "[[22427  7870]\n",
            " [ 3096  1993]]\n",
            "Precision:  0.20206833620602252\n",
            "Recall:  0.3916290037335429\n",
            "F1-score:  0.26658640984483684\n",
            "--------------------------------------------------------------------\n",
            "mozilla:\n",
            "[[41192 51934]\n",
            " [ 1701  3448]]\n",
            "Precision:  0.06225849554006717\n",
            "Recall:  0.6696445911827539\n",
            "F1-score:  0.11392509623168294\n",
            "--------------------------------------------------------------------\n",
            "platform:\n",
            "[[36775 18023]\n",
            " [ 4322  5130]]\n",
            "Precision:  0.22156955902042932\n",
            "Recall:  0.5427422767668219\n",
            "F1-score:  0.3146756632418341\n",
            "--------------------------------------------------------------------\n",
            "postgres:\n",
            "[[9263 6049]\n",
            " [3310 1809]]\n",
            "Precision:  0.2302112496818529\n",
            "Recall:  0.3533893338542684\n",
            "F1-score:  0.2788009555367188\n",
            "--------------------------------------------------------------------\n",
            "Overall:\n"
          ],
          "name": "stdout"
        },
        {
          "output_type": "error",
          "ename": "ValueError",
          "evalue": "ignored",
          "traceback": [
            "\u001b[0;31m---------------------------------------------------------------------------\u001b[0m",
            "\u001b[0;31mValueError\u001b[0m                                Traceback (most recent call last)",
            "\u001b[0;32m<ipython-input-57-e86b52058b4b>\u001b[0m in \u001b[0;36m<module>\u001b[0;34m()\u001b[0m\n\u001b[1;32m     18\u001b[0m \u001b[0mprint\u001b[0m\u001b[0;34m(\u001b[0m\u001b[0;34m'--------------------------------------------------------------------'\u001b[0m\u001b[0;34m)\u001b[0m\u001b[0;34m\u001b[0m\u001b[0;34m\u001b[0m\u001b[0m\n\u001b[1;32m     19\u001b[0m \u001b[0mprint\u001b[0m\u001b[0;34m(\u001b[0m\u001b[0;34m'Overall:'\u001b[0m\u001b[0;34m)\u001b[0m\u001b[0;34m\u001b[0m\u001b[0;34m\u001b[0m\u001b[0m\n\u001b[0;32m---> 20\u001b[0;31m \u001b[0mcm\u001b[0m \u001b[0;34m=\u001b[0m \u001b[0mconfusion_matrix\u001b[0m\u001b[0;34m(\u001b[0m\u001b[0mtrain_Y\u001b[0m\u001b[0;34m,\u001b[0m \u001b[0my_pred\u001b[0m\u001b[0;34m)\u001b[0m\u001b[0;34m\u001b[0m\u001b[0;34m\u001b[0m\u001b[0m\n\u001b[0m\u001b[1;32m     21\u001b[0m \u001b[0mprint\u001b[0m\u001b[0;34m(\u001b[0m\u001b[0mcm\u001b[0m\u001b[0;34m)\u001b[0m\u001b[0;34m\u001b[0m\u001b[0;34m\u001b[0m\u001b[0m\n\u001b[1;32m     22\u001b[0m \u001b[0mtn\u001b[0m\u001b[0;34m,\u001b[0m \u001b[0mfp\u001b[0m\u001b[0;34m,\u001b[0m \u001b[0mfn\u001b[0m\u001b[0;34m,\u001b[0m \u001b[0mtp\u001b[0m \u001b[0;34m=\u001b[0m \u001b[0mconfusion_matrix\u001b[0m\u001b[0;34m(\u001b[0m\u001b[0mtrain_Y\u001b[0m\u001b[0;34m,\u001b[0m \u001b[0my_pred\u001b[0m\u001b[0;34m,\u001b[0m \u001b[0mlabels\u001b[0m\u001b[0;34m=\u001b[0m\u001b[0;34m[\u001b[0m\u001b[0;36m0\u001b[0m\u001b[0;34m,\u001b[0m\u001b[0;36m1\u001b[0m\u001b[0;34m]\u001b[0m\u001b[0;34m)\u001b[0m\u001b[0;34m.\u001b[0m\u001b[0mravel\u001b[0m\u001b[0;34m(\u001b[0m\u001b[0;34m)\u001b[0m\u001b[0;34m\u001b[0m\u001b[0;34m\u001b[0m\u001b[0m\n",
            "\u001b[0;32m/usr/local/lib/python3.6/dist-packages/sklearn/metrics/_classification.py\u001b[0m in \u001b[0;36mconfusion_matrix\u001b[0;34m(y_true, y_pred, labels, sample_weight, normalize)\u001b[0m\n\u001b[1;32m    266\u001b[0m \u001b[0;34m\u001b[0m\u001b[0m\n\u001b[1;32m    267\u001b[0m     \"\"\"\n\u001b[0;32m--> 268\u001b[0;31m     \u001b[0my_type\u001b[0m\u001b[0;34m,\u001b[0m \u001b[0my_true\u001b[0m\u001b[0;34m,\u001b[0m \u001b[0my_pred\u001b[0m \u001b[0;34m=\u001b[0m \u001b[0m_check_targets\u001b[0m\u001b[0;34m(\u001b[0m\u001b[0my_true\u001b[0m\u001b[0;34m,\u001b[0m \u001b[0my_pred\u001b[0m\u001b[0;34m)\u001b[0m\u001b[0;34m\u001b[0m\u001b[0;34m\u001b[0m\u001b[0m\n\u001b[0m\u001b[1;32m    269\u001b[0m     \u001b[0;32mif\u001b[0m \u001b[0my_type\u001b[0m \u001b[0;32mnot\u001b[0m \u001b[0;32min\u001b[0m \u001b[0;34m(\u001b[0m\u001b[0;34m\"binary\"\u001b[0m\u001b[0;34m,\u001b[0m \u001b[0;34m\"multiclass\"\u001b[0m\u001b[0;34m)\u001b[0m\u001b[0;34m:\u001b[0m\u001b[0;34m\u001b[0m\u001b[0;34m\u001b[0m\u001b[0m\n\u001b[1;32m    270\u001b[0m         \u001b[0;32mraise\u001b[0m \u001b[0mValueError\u001b[0m\u001b[0;34m(\u001b[0m\u001b[0;34m\"%s is not supported\"\u001b[0m \u001b[0;34m%\u001b[0m \u001b[0my_type\u001b[0m\u001b[0;34m)\u001b[0m\u001b[0;34m\u001b[0m\u001b[0;34m\u001b[0m\u001b[0m\n",
            "\u001b[0;32m/usr/local/lib/python3.6/dist-packages/sklearn/metrics/_classification.py\u001b[0m in \u001b[0;36m_check_targets\u001b[0;34m(y_true, y_pred)\u001b[0m\n\u001b[1;32m     78\u001b[0m     \u001b[0my_pred\u001b[0m \u001b[0;34m:\u001b[0m \u001b[0marray\u001b[0m \u001b[0;32mor\u001b[0m \u001b[0mindicator\u001b[0m \u001b[0mmatrix\u001b[0m\u001b[0;34m\u001b[0m\u001b[0;34m\u001b[0m\u001b[0m\n\u001b[1;32m     79\u001b[0m     \"\"\"\n\u001b[0;32m---> 80\u001b[0;31m     \u001b[0mcheck_consistent_length\u001b[0m\u001b[0;34m(\u001b[0m\u001b[0my_true\u001b[0m\u001b[0;34m,\u001b[0m \u001b[0my_pred\u001b[0m\u001b[0;34m)\u001b[0m\u001b[0;34m\u001b[0m\u001b[0;34m\u001b[0m\u001b[0m\n\u001b[0m\u001b[1;32m     81\u001b[0m     \u001b[0mtype_true\u001b[0m \u001b[0;34m=\u001b[0m \u001b[0mtype_of_target\u001b[0m\u001b[0;34m(\u001b[0m\u001b[0my_true\u001b[0m\u001b[0;34m)\u001b[0m\u001b[0;34m\u001b[0m\u001b[0;34m\u001b[0m\u001b[0m\n\u001b[1;32m     82\u001b[0m     \u001b[0mtype_pred\u001b[0m \u001b[0;34m=\u001b[0m \u001b[0mtype_of_target\u001b[0m\u001b[0;34m(\u001b[0m\u001b[0my_pred\u001b[0m\u001b[0;34m)\u001b[0m\u001b[0;34m\u001b[0m\u001b[0;34m\u001b[0m\u001b[0m\n",
            "\u001b[0;32m/usr/local/lib/python3.6/dist-packages/sklearn/utils/validation.py\u001b[0m in \u001b[0;36mcheck_consistent_length\u001b[0;34m(*arrays)\u001b[0m\n\u001b[1;32m    210\u001b[0m     \u001b[0;32mif\u001b[0m \u001b[0mlen\u001b[0m\u001b[0;34m(\u001b[0m\u001b[0muniques\u001b[0m\u001b[0;34m)\u001b[0m \u001b[0;34m>\u001b[0m \u001b[0;36m1\u001b[0m\u001b[0;34m:\u001b[0m\u001b[0;34m\u001b[0m\u001b[0;34m\u001b[0m\u001b[0m\n\u001b[1;32m    211\u001b[0m         raise ValueError(\"Found input variables with inconsistent numbers of\"\n\u001b[0;32m--> 212\u001b[0;31m                          \" samples: %r\" % [int(l) for l in lengths])\n\u001b[0m\u001b[1;32m    213\u001b[0m \u001b[0;34m\u001b[0m\u001b[0m\n\u001b[1;32m    214\u001b[0m \u001b[0;34m\u001b[0m\u001b[0m\n",
            "\u001b[0;31mValueError\u001b[0m: Found input variables with inconsistent numbers of samples: [62737, 50189]"
          ]
        }
      ]
    },
    {
      "cell_type": "code",
      "metadata": {
        "id": "KDE4pGyARpVR",
        "outputId": "8e2c1510-5887-4fcd-89da-55613ce57e80",
        "colab": {
          "base_uri": "https://localhost:8080/"
        }
      },
      "source": [
        "tn, fp, fn, tp = confusion_matrix(train_Y, y_preds, labels=[0,1]).ravel()\n",
        "print('F1-score: ',f1score(tn, fp, fn, tp))"
      ],
      "execution_count": 58,
      "outputs": [
        {
          "output_type": "stream",
          "text": [
            "Precision:  0.570131950270765\n",
            "Recall:  0.536496088423168\n",
            "F1-score:  0.5528028398165951\n"
          ],
          "name": "stdout"
        }
      ]
    },
    {
      "cell_type": "code",
      "metadata": {
        "id": "_MT81YAdV6HJ"
      },
      "source": [
        ""
      ],
      "execution_count": null,
      "outputs": []
    }
  ]
}