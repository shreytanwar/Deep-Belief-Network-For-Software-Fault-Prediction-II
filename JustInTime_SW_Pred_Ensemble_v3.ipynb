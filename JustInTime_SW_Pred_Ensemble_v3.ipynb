{
  "nbformat": 4,
  "nbformat_minor": 0,
  "metadata": {
    "colab": {
      "name": "JustInTime_SW_Pred_Ensemble.ipynb",
      "provenance": [],
      "collapsed_sections": [],
      "include_colab_link": true
    },
    "kernelspec": {
      "name": "python3",
      "display_name": "Python 3"
    }
  },
  "cells": [
    {
      "cell_type": "markdown",
      "metadata": {
        "id": "view-in-github",
        "colab_type": "text"
      },
      "source": [
        "<a href=\"https://colab.research.google.com/github/shreytanwar/Deep-Belief-Network-For-Software-Fault-Prediction-II/blob/main/JustInTime_SW_Pred_Ensemble_v3.ipynb\" target=\"_parent\"><img src=\"https://colab.research.google.com/assets/colab-badge.svg\" alt=\"Open In Colab\"/></a>"
      ]
    },
    {
      "cell_type": "code",
      "metadata": {
        "id": "DfkLXFDxl8sJ",
        "colab": {
          "base_uri": "https://localhost:8080/"
        },
        "outputId": "8c4ece74-d621-4247-ed00-4edb0d3072cc"
      },
      "source": [
        "from google.colab import drive\n",
        "drive.mount('/content/drive/')"
      ],
      "execution_count": 1,
      "outputs": [
        {
          "output_type": "stream",
          "text": [
            "Mounted at /content/drive/\n"
          ],
          "name": "stdout"
        }
      ]
    },
    {
      "cell_type": "code",
      "metadata": {
        "id": "sK42BBJgmSGh"
      },
      "source": [
        "import tensorflow as tf\n",
        "import sklearn.metrics\n",
        "from sklearn.metrics import log_loss, accuracy_score, confusion_matrix\n",
        "import numpy as np\n",
        "import pandas as pd\n",
        "import matplotlib.pyplot as plt"
      ],
      "execution_count": 2,
      "outputs": []
    },
    {
      "cell_type": "markdown",
      "metadata": {
        "id": "nqnAM0F6pNEW"
      },
      "source": [
        "##Preprocessing"
      ]
    },
    {
      "cell_type": "code",
      "metadata": {
        "id": "lhdWip5AmSQd"
      },
      "source": [
        "bugzilla = pd.read_csv('/content/drive/My Drive/dataset/bugzilla.csv')\n",
        "columba = pd.read_csv('/content/drive/My Drive/dataset/columba.csv')\n",
        "jdt = pd.read_csv('/content/drive/My Drive/dataset/jdt.csv')\n",
        "mozilla = pd.read_csv('/content/drive/My Drive/dataset/mozilla.csv')\n",
        "platform = pd.read_csv('/content/drive/My Drive/dataset/platform.csv')\n",
        "postgres = pd.read_csv('/content/drive/My Drive/dataset/postgres.csv')\n",
        "\n",
        "df = pd.read_csv('/content/drive/My Drive/dataset/FinalDF.csv')\n",
        "\n",
        "# df = pd.concat([bugzilla, columba, jdt, mozilla, platform, postgres]) \n",
        "# df = df.reset_index(drop=True)"
      ],
      "execution_count": 3,
      "outputs": []
    },
    {
      "cell_type": "code",
      "metadata": {
        "id": "bVSQXhUkmSvC"
      },
      "source": [
        "def normalize(x):\n",
        "  x = x.astype(float)\n",
        "  min = np.min(x)\n",
        "  max = np.max(x)\n",
        "  return (x - min)/(max-min)"
      ],
      "execution_count": 4,
      "outputs": []
    },
    {
      "cell_type": "code",
      "metadata": {
        "id": "6Se7DitSs9xa"
      },
      "source": [
        "def view_values(X, y, example):\n",
        "    label = y.loc[example]\n",
        "    image = X.loc[example,:].values.reshape([-1,1])\n",
        "    print(image)"
      ],
      "execution_count": 5,
      "outputs": []
    },
    {
      "cell_type": "code",
      "metadata": {
        "id": "nwQh30ySJCSA",
        "colab": {
          "base_uri": "https://localhost:8080/"
        },
        "outputId": "6f032400-9664-4fd7-923c-f71133902e13"
      },
      "source": [
        "print(\"Shape of dataframe: \", df.shape)  "
      ],
      "execution_count": 6,
      "outputs": [
        {
          "output_type": "stream",
          "text": [
            "Shape of dataframe:  (62737, 15)\n"
          ],
          "name": "stdout"
        }
      ]
    },
    {
      "cell_type": "code",
      "metadata": {
        "id": "WZUhvytCHesW"
      },
      "source": [
        "# Droping unnecessary String columns\n",
        "# df = df.drop(['commitdate','transactionid'], axis=1)"
      ],
      "execution_count": null,
      "outputs": []
    },
    {
      "cell_type": "code",
      "metadata": {
        "id": "_1p5DpIHnP1j",
        "colab": {
          "base_uri": "https://localhost:8080/",
          "height": 195
        },
        "outputId": "4394bbdf-c654-4557-f909-21368c646985"
      },
      "source": [
        "df.head()"
      ],
      "execution_count": 8,
      "outputs": [
        {
          "output_type": "execute_result",
          "data": {
            "text/html": [
              "<div>\n",
              "<style scoped>\n",
              "    .dataframe tbody tr th:only-of-type {\n",
              "        vertical-align: middle;\n",
              "    }\n",
              "\n",
              "    .dataframe tbody tr th {\n",
              "        vertical-align: top;\n",
              "    }\n",
              "\n",
              "    .dataframe thead th {\n",
              "        text-align: right;\n",
              "    }\n",
              "</style>\n",
              "<table border=\"1\" class=\"dataframe\">\n",
              "  <thead>\n",
              "    <tr style=\"text-align: right;\">\n",
              "      <th></th>\n",
              "      <th>ns</th>\n",
              "      <th>nm</th>\n",
              "      <th>nf</th>\n",
              "      <th>entropy</th>\n",
              "      <th>la</th>\n",
              "      <th>ld</th>\n",
              "      <th>lt</th>\n",
              "      <th>fix</th>\n",
              "      <th>ndev</th>\n",
              "      <th>pd</th>\n",
              "      <th>npt</th>\n",
              "      <th>exp</th>\n",
              "      <th>rexp</th>\n",
              "      <th>sexp</th>\n",
              "      <th>bug</th>\n",
              "    </tr>\n",
              "  </thead>\n",
              "  <tbody>\n",
              "    <tr>\n",
              "      <th>0</th>\n",
              "      <td>1</td>\n",
              "      <td>1</td>\n",
              "      <td>1</td>\n",
              "      <td>0.000000</td>\n",
              "      <td>0.213115</td>\n",
              "      <td>2.622951</td>\n",
              "      <td>61.000000</td>\n",
              "      <td>1</td>\n",
              "      <td>3</td>\n",
              "      <td>74</td>\n",
              "      <td>1.000000</td>\n",
              "      <td>654</td>\n",
              "      <td>452.000000</td>\n",
              "      <td>651</td>\n",
              "      <td>0</td>\n",
              "    </tr>\n",
              "    <tr>\n",
              "      <th>1</th>\n",
              "      <td>1</td>\n",
              "      <td>1</td>\n",
              "      <td>4</td>\n",
              "      <td>0.000000</td>\n",
              "      <td>0.000000</td>\n",
              "      <td>0.000000</td>\n",
              "      <td>315.750000</td>\n",
              "      <td>1</td>\n",
              "      <td>1</td>\n",
              "      <td>0</td>\n",
              "      <td>0.250000</td>\n",
              "      <td>5446</td>\n",
              "      <td>2027.481746</td>\n",
              "      <td>202</td>\n",
              "      <td>1</td>\n",
              "    </tr>\n",
              "    <tr>\n",
              "      <th>2</th>\n",
              "      <td>1</td>\n",
              "      <td>1</td>\n",
              "      <td>3</td>\n",
              "      <td>0.905713</td>\n",
              "      <td>0.079585</td>\n",
              "      <td>0.013841</td>\n",
              "      <td>96.333333</td>\n",
              "      <td>1</td>\n",
              "      <td>3</td>\n",
              "      <td>46</td>\n",
              "      <td>1.000000</td>\n",
              "      <td>1217</td>\n",
              "      <td>1154.500000</td>\n",
              "      <td>136</td>\n",
              "      <td>0</td>\n",
              "    </tr>\n",
              "    <tr>\n",
              "      <th>3</th>\n",
              "      <td>1</td>\n",
              "      <td>1</td>\n",
              "      <td>1</td>\n",
              "      <td>0.000000</td>\n",
              "      <td>0.090909</td>\n",
              "      <td>0.079545</td>\n",
              "      <td>88.000000</td>\n",
              "      <td>0</td>\n",
              "      <td>3</td>\n",
              "      <td>5</td>\n",
              "      <td>1.000000</td>\n",
              "      <td>16736</td>\n",
              "      <td>5511.066667</td>\n",
              "      <td>16736</td>\n",
              "      <td>0</td>\n",
              "    </tr>\n",
              "    <tr>\n",
              "      <th>4</th>\n",
              "      <td>1</td>\n",
              "      <td>3</td>\n",
              "      <td>12</td>\n",
              "      <td>0.731805</td>\n",
              "      <td>1.880000</td>\n",
              "      <td>0.578947</td>\n",
              "      <td>39.583333</td>\n",
              "      <td>0</td>\n",
              "      <td>4</td>\n",
              "      <td>653</td>\n",
              "      <td>0.583333</td>\n",
              "      <td>265</td>\n",
              "      <td>265.000000</td>\n",
              "      <td>69</td>\n",
              "      <td>1</td>\n",
              "    </tr>\n",
              "  </tbody>\n",
              "</table>\n",
              "</div>"
            ],
            "text/plain": [
              "   ns  nm  nf   entropy        la  ...       npt    exp         rexp   sexp  bug\n",
              "0   1   1   1  0.000000  0.213115  ...  1.000000    654   452.000000    651    0\n",
              "1   1   1   4  0.000000  0.000000  ...  0.250000   5446  2027.481746    202    1\n",
              "2   1   1   3  0.905713  0.079585  ...  1.000000   1217  1154.500000    136    0\n",
              "3   1   1   1  0.000000  0.090909  ...  1.000000  16736  5511.066667  16736    0\n",
              "4   1   3  12  0.731805  1.880000  ...  0.583333    265   265.000000     69    1\n",
              "\n",
              "[5 rows x 15 columns]"
            ]
          },
          "metadata": {
            "tags": []
          },
          "execution_count": 8
        }
      ]
    },
    {
      "cell_type": "code",
      "metadata": {
        "id": "WoHvy3D_peSX"
      },
      "source": [
        "# count1 = np.count_nonzero(df.bug, axis=0)\n",
        "# count1"
      ],
      "execution_count": 9,
      "outputs": []
    },
    {
      "cell_type": "code",
      "metadata": {
        "id": "G5L6qFJLeDeN"
      },
      "source": [
        "# #More Balanced DataFrame\n",
        "# deleted = 0\n",
        "# for i in range(df.shape[0]-1, 0, -1 ):\n",
        "#   if deleted == 164680:\n",
        "#     break\n",
        "#   elif df.iloc[i].bug == 0:\n",
        "#     df = df.drop(df.index[i])\n",
        "#     if(count1 > np.count_nonzero(df.bug, axis=0)):\n",
        "#       print('kata')\n",
        "#       break\n",
        "#     deleted = deleted + 1\n",
        "#     if deleted % 1716 == 0:\n",
        "#       print('Completed: ',deleted / 1716, ' %');"
      ],
      "execution_count": 10,
      "outputs": []
    },
    {
      "cell_type": "code",
      "metadata": {
        "id": "waxIbRWYhM9S"
      },
      "source": [
        "df = df.sample(frac = 1) "
      ],
      "execution_count": 11,
      "outputs": []
    },
    {
      "cell_type": "markdown",
      "metadata": {
        "id": "O-6blBzBx_o-"
      },
      "source": [
        "Save the DataFrame"
      ]
    },
    {
      "cell_type": "code",
      "metadata": {
        "id": "aRP_tqUtxffF"
      },
      "source": [
        "# df.to_csv(r'/content/drive/My Drive/dataset/FinalDF.csv', index = False)"
      ],
      "execution_count": 12,
      "outputs": []
    },
    {
      "cell_type": "code",
      "metadata": {
        "id": "2cHDy9eqQJta"
      },
      "source": [
        "#Splitting Attributes and Labels\n",
        "train_X = df.iloc[:,:-1].apply(func=normalize, axis=0)\n",
        "train_Y = df.iloc[:,-1]"
      ],
      "execution_count": 13,
      "outputs": []
    },
    {
      "cell_type": "code",
      "metadata": {
        "id": "8E4REdnSKBjJ",
        "colab": {
          "base_uri": "https://localhost:8080/"
        },
        "outputId": "c1c9b6be-4c18-48dc-8d8e-655816488007"
      },
      "source": [
        "# df=df.drop(['transactionid'], axis=1)\n",
        "print(df.head())"
      ],
      "execution_count": 14,
      "outputs": [
        {
          "output_type": "stream",
          "text": [
            "       ns  nm  nf   entropy        la  ...       npt   exp         rexp  sexp  bug\n",
            "21563   1   1   1  0.000000  0.003922  ...  1.000000  6717  2829.400000  6656    0\n",
            "60112   1   1   7  0.959207  0.083960  ...  0.428571   583   576.500000   575    0\n",
            "41853   1   1   1  0.000000  0.035477  ...  1.000000  1190  1145.500000  1054    0\n",
            "31585   1   1   1  0.000000  0.000000  ...  1.000000   424   424.000000   424    0\n",
            "38535   2   6  25  0.530072  0.176360  ...  0.640000   766   161.707936   670    1\n",
            "\n",
            "[5 rows x 15 columns]\n"
          ],
          "name": "stdout"
        }
      ]
    },
    {
      "cell_type": "markdown",
      "metadata": {
        "id": "VoV6Hfj1LQ18"
      },
      "source": [
        "#**DBN**"
      ]
    },
    {
      "cell_type": "code",
      "metadata": {
        "id": "pS-1UJMM6WUH"
      },
      "source": [
        "# Define RBM class\n",
        "class RBM(object):\n",
        "    \n",
        "    def __init__(self, input_size, output_size, \n",
        "                 learning_rate, epochs, batchsize):\n",
        "        # Define hyperparameters\n",
        "        self._input_size = input_size\n",
        "        self._output_size = output_size\n",
        "        self.learning_rate = learning_rate\n",
        "        self.epochs = epochs\n",
        "        self.batchsize = batchsize\n",
        "        \n",
        "        # Initialize weights and biases using zero matrices\n",
        "        self.w = np.zeros([input_size, output_size], dtype=np.float32)\n",
        "        self.hb = np.zeros([output_size], dtype=np.float32)\n",
        "        self.vb = np.zeros([input_size], dtype=np.float32)\n",
        "    # forward pass, where h is the hidden layer and v is the visible layer\n",
        "    def prob_h_given_v(self, visible, w, hb):\n",
        "        return tf.nn.sigmoid(tf.matmul(visible, w) + hb)\n",
        "    # backward pass\n",
        "    def prob_v_given_h(self, hidden, w, vb):\n",
        "        return tf.nn.sigmoid(tf.matmul(hidden, tf.transpose(w)) + vb)\n",
        "    # sampling function\n",
        "    def sample_prob(self, probs):\n",
        "        return tf.nn.relu(tf.sign(probs - tf.random_uniform(tf.shape(probs))))\n",
        "\n",
        "    def train(self, X):\n",
        "        _w = tf.placeholder(tf.float32, [self._input_size, self._output_size])\n",
        "        _hb = tf.placeholder(tf.float32, [self._output_size])\n",
        "        _vb = tf.placeholder(tf.float32, [self._input_size])\n",
        "        \n",
        "        prv_w = np.zeros([self._input_size, self._output_size], dtype=np.float32)\n",
        "        prv_hb = np.zeros([self._output_size], dtype=np.float32)\n",
        "        prv_vb = np.zeros([self._input_size], dtype=np.float32)\n",
        "        \n",
        "        cur_w = np.zeros([self._input_size, self._output_size], dtype=np.float32)\n",
        "        cur_hb = np.zeros([self._output_size], dtype=np.float32)\n",
        "        cur_vb = np.zeros([self._input_size], dtype=np.float32)\n",
        "        \n",
        "        v0 = tf.placeholder(tf.float32, [None, self._input_size])\n",
        "        h0 = self.sample_prob(self.prob_h_given_v(v0, _w, _hb))\n",
        "        v1 = self.sample_prob(self.prob_v_given_h(h0, _w, _vb))\n",
        "        h1 = self.prob_h_given_v(v1, _w, _hb)\n",
        "        #To update the weights, we perform constrastive divergence.\n",
        "        positive_grad = tf.matmul(tf.transpose(v0), h0)\n",
        "        negative_grad = tf.matmul(tf.transpose(v1), h1)\n",
        "        \n",
        "        update_w = _w + self.learning_rate * (positive_grad - negative_grad) / tf.to_float(tf.shape(v0)[0])\n",
        "        update_vb = _vb +  self.learning_rate * tf.reduce_mean(v0 - v1, 0)\n",
        "        update_hb = _hb +  self.learning_rate * tf.reduce_mean(h0 - h1, 0)\n",
        "        # We also define the error as the MSE\n",
        "        err = tf.reduce_mean(tf.square(v0 - v1))\n",
        "        \n",
        "        error_list = []\n",
        "\n",
        "        with tf.Session() as sess:\n",
        "            sess.run(tf.global_variables_initializer())\n",
        "            \n",
        "            for epoch in range(self.epochs):\n",
        "                for start, end in zip(range(0, len(X),  self.batchsize),range(self.batchsize,len(X), self.batchsize)):\n",
        "                    batch = X[start:end]\n",
        "                    cur_w = sess.run(update_w, feed_dict={v0: batch, _w: prv_w, _hb: prv_hb, _vb: prv_vb})\n",
        "                    cur_hb = sess.run(update_hb, feed_dict={v0: batch,  _w: prv_w, _hb: prv_hb, _vb: prv_vb})\n",
        "                    cur_vb = sess.run(update_vb, feed_dict={v0: batch, _w: prv_w, _hb: prv_hb, _vb: prv_vb})\n",
        "                    prv_w = cur_w\n",
        "                    prv_hb = cur_hb\n",
        "                    prv_vb = cur_vb\n",
        "                error = sess.run(err, feed_dict={v0: X, _w: cur_w, _vb: cur_vb, _hb: cur_hb})\n",
        "                print ('Epoch: %d' % epoch,'reconstruction error: %f' % error)\n",
        "                error_list.append(error)\n",
        "            self.w = prv_w\n",
        "            self.hb = prv_hb\n",
        "            self.vb = prv_vb\n",
        "            return error_list\n",
        "    #function to generate new features from the generative model that the RBM has learned\n",
        "    def rbm_output(self, X):\n",
        "        \n",
        "        input_X = tf.constant(X)\n",
        "        _w = tf.constant(self.w)\n",
        "        _hb = tf.constant(self.hb)\n",
        "        _vb = tf.constant(self.vb)\n",
        "        out = tf.nn.sigmoid(tf.matmul(input_X, _w) + _hb)\n",
        "        hiddenGen = self.sample_prob(self.prob_h_given_v(input_X, _w, _hb))\n",
        "        visibleGen = self.sample_prob(self.prob_v_given_h(hiddenGen, _w, _vb))\n",
        "        with tf.Session() as sess:\n",
        "            sess.run(tf.global_variables_initializer())\n",
        "            return sess.run(out), sess.run(visibleGen), sess.run(hiddenGen)"
      ],
      "execution_count": 15,
      "outputs": []
    },
    {
      "cell_type": "code",
      "metadata": {
        "id": "V0YjK0QsnQKb",
        "colab": {
          "base_uri": "https://localhost:8080/"
        },
        "outputId": "3743c5fd-1da8-48e6-b458-232cf8e49109"
      },
      "source": [
        "inputX = df.iloc[:,:-1].apply(func=normalize, axis=0).values\n",
        "inputY= df.iloc[:,-1].values\n",
        "print(type(inputX))\n",
        "inputX = inputX.astype(np.float32)\n",
        "\n",
        "#List to hold RBMs\n",
        "rbm_list = []\n",
        "\n",
        "#define parameters of RBMs we will train\n",
        "# 14-20-12-12-2\n",
        "\n",
        "# def __init__(self, input_size, output_size,learning_rate, epochs, batchsize):\n",
        "rbm_list.append(RBM(14, 20, 0.1, 200, 100))\n",
        "rbm_list.append(RBM(20, 12, 0.025, 50, 100))\n",
        "rbm_list.append(RBM(12, 12, 0.025, 50, 100))"
      ],
      "execution_count": 16,
      "outputs": [
        {
          "output_type": "stream",
          "text": [
            "<class 'numpy.ndarray'>\n"
          ],
          "name": "stdout"
        }
      ]
    },
    {
      "cell_type": "code",
      "metadata": {
        "id": "niPCAo4fsOCp",
        "colab": {
          "base_uri": "https://localhost:8080/"
        },
        "outputId": "53a575ad-dffe-436d-98f0-d78420c355ba"
      },
      "source": [
        "inputX.shape"
      ],
      "execution_count": 17,
      "outputs": [
        {
          "output_type": "execute_result",
          "data": {
            "text/plain": [
              "(62737, 14)"
            ]
          },
          "metadata": {
            "tags": []
          },
          "execution_count": 17
        }
      ]
    },
    {
      "cell_type": "code",
      "metadata": {
        "id": "-RFRdpvK4zBD",
        "colab": {
          "base_uri": "https://localhost:8080/"
        },
        "outputId": "fc010f64-c939-4e7a-9308-34b749a84108"
      },
      "source": [
        "import tensorflow.compat.v1 as tf\n",
        "tf.disable_v2_behavior() "
      ],
      "execution_count": 18,
      "outputs": [
        {
          "output_type": "stream",
          "text": [
            "WARNING:tensorflow:From /usr/local/lib/python3.6/dist-packages/tensorflow/python/compat/v2_compat.py:96: disable_resource_variables (from tensorflow.python.ops.variable_scope) is deprecated and will be removed in a future version.\n",
            "Instructions for updating:\n",
            "non-resource variables are not supported in the long term\n"
          ],
          "name": "stdout"
        }
      ]
    },
    {
      "cell_type": "code",
      "metadata": {
        "id": "tCjl-ZFknQV0",
        "colab": {
          "base_uri": "https://localhost:8080/"
        },
        "outputId": "7e2d8d47-cd50-4cbe-a0f0-122c8bd0b25b"
      },
      "source": [
        "outputList = []\n",
        "error_list = []\n",
        "\n",
        "#For each RBM in out list\n",
        "for i in range(0, len(rbm_list)):\n",
        "    print('RBM', i+1)\n",
        "    #Train new RBM\n",
        "    rbm = rbm_list[i]\n",
        "    err = rbm.train(inputX)\n",
        "    error_list.append(err)\n",
        "\n",
        "    #Return output layer\n",
        "    #sess.run(out), sess.run(visibleGen), sess.run(hiddenGen)\n",
        "    outputX, reconstructedX, hiddenX = rbm.rbm_output(inputX)\n",
        "    outputList.append(outputX)\n",
        "    inputX= hiddenX"
      ],
      "execution_count": 19,
      "outputs": [
        {
          "output_type": "stream",
          "text": [
            "RBM 1\n",
            "WARNING:tensorflow:From <ipython-input-15-2b5d3aa65216>:48: to_float (from tensorflow.python.ops.math_ops) is deprecated and will be removed in a future version.\n",
            "Instructions for updating:\n",
            "Use `tf.cast` instead.\n",
            "Epoch: 0 reconstruction error: 0.106898\n",
            "Epoch: 1 reconstruction error: 0.106505\n",
            "Epoch: 2 reconstruction error: 0.106682\n",
            "Epoch: 3 reconstruction error: 0.106073\n",
            "Epoch: 4 reconstruction error: 0.106308\n",
            "Epoch: 5 reconstruction error: 0.104552\n",
            "Epoch: 6 reconstruction error: 0.105093\n",
            "Epoch: 7 reconstruction error: 0.104257\n",
            "Epoch: 8 reconstruction error: 0.102524\n",
            "Epoch: 9 reconstruction error: 0.101402\n",
            "Epoch: 10 reconstruction error: 0.101324\n",
            "Epoch: 11 reconstruction error: 0.099829\n",
            "Epoch: 12 reconstruction error: 0.102357\n",
            "Epoch: 13 reconstruction error: 0.099131\n",
            "Epoch: 14 reconstruction error: 0.100232\n",
            "Epoch: 15 reconstruction error: 0.097580\n",
            "Epoch: 16 reconstruction error: 0.096170\n",
            "Epoch: 17 reconstruction error: 0.095116\n",
            "Epoch: 18 reconstruction error: 0.095431\n",
            "Epoch: 19 reconstruction error: 0.093363\n",
            "Epoch: 20 reconstruction error: 0.092164\n",
            "Epoch: 21 reconstruction error: 0.091872\n",
            "Epoch: 22 reconstruction error: 0.091250\n",
            "Epoch: 23 reconstruction error: 0.088060\n",
            "Epoch: 24 reconstruction error: 0.087801\n",
            "Epoch: 25 reconstruction error: 0.090732\n",
            "Epoch: 26 reconstruction error: 0.086846\n",
            "Epoch: 27 reconstruction error: 0.089049\n",
            "Epoch: 28 reconstruction error: 0.090095\n",
            "Epoch: 29 reconstruction error: 0.086774\n",
            "Epoch: 30 reconstruction error: 0.086324\n",
            "Epoch: 31 reconstruction error: 0.084931\n",
            "Epoch: 32 reconstruction error: 0.084642\n",
            "Epoch: 33 reconstruction error: 0.083776\n",
            "Epoch: 34 reconstruction error: 0.083885\n",
            "Epoch: 35 reconstruction error: 0.084347\n",
            "Epoch: 36 reconstruction error: 0.083658\n",
            "Epoch: 37 reconstruction error: 0.082189\n",
            "Epoch: 38 reconstruction error: 0.084082\n",
            "Epoch: 39 reconstruction error: 0.085950\n",
            "Epoch: 40 reconstruction error: 0.082535\n",
            "Epoch: 41 reconstruction error: 0.083345\n",
            "Epoch: 42 reconstruction error: 0.083474\n",
            "Epoch: 43 reconstruction error: 0.082475\n",
            "Epoch: 44 reconstruction error: 0.082320\n",
            "Epoch: 45 reconstruction error: 0.083609\n",
            "Epoch: 46 reconstruction error: 0.082437\n",
            "Epoch: 47 reconstruction error: 0.082704\n",
            "Epoch: 48 reconstruction error: 0.080109\n",
            "Epoch: 49 reconstruction error: 0.081102\n",
            "Epoch: 50 reconstruction error: 0.081874\n",
            "Epoch: 51 reconstruction error: 0.081326\n",
            "Epoch: 52 reconstruction error: 0.081938\n",
            "Epoch: 53 reconstruction error: 0.080444\n",
            "Epoch: 54 reconstruction error: 0.081907\n",
            "Epoch: 55 reconstruction error: 0.081911\n",
            "Epoch: 56 reconstruction error: 0.081063\n",
            "Epoch: 57 reconstruction error: 0.080799\n",
            "Epoch: 58 reconstruction error: 0.080095\n",
            "Epoch: 59 reconstruction error: 0.079634\n",
            "Epoch: 60 reconstruction error: 0.079628\n",
            "Epoch: 61 reconstruction error: 0.082421\n",
            "Epoch: 62 reconstruction error: 0.080867\n",
            "Epoch: 63 reconstruction error: 0.080330\n",
            "Epoch: 64 reconstruction error: 0.079733\n",
            "Epoch: 65 reconstruction error: 0.078273\n",
            "Epoch: 66 reconstruction error: 0.078680\n",
            "Epoch: 67 reconstruction error: 0.078183\n",
            "Epoch: 68 reconstruction error: 0.077555\n",
            "Epoch: 69 reconstruction error: 0.080574\n",
            "Epoch: 70 reconstruction error: 0.077409\n",
            "Epoch: 71 reconstruction error: 0.078562\n",
            "Epoch: 72 reconstruction error: 0.076734\n",
            "Epoch: 73 reconstruction error: 0.077112\n",
            "Epoch: 74 reconstruction error: 0.077593\n",
            "Epoch: 75 reconstruction error: 0.076928\n",
            "Epoch: 76 reconstruction error: 0.079133\n",
            "Epoch: 77 reconstruction error: 0.077867\n",
            "Epoch: 78 reconstruction error: 0.080008\n",
            "Epoch: 79 reconstruction error: 0.078152\n",
            "Epoch: 80 reconstruction error: 0.079217\n",
            "Epoch: 81 reconstruction error: 0.079815\n",
            "Epoch: 82 reconstruction error: 0.078329\n",
            "Epoch: 83 reconstruction error: 0.078481\n",
            "Epoch: 84 reconstruction error: 0.080403\n",
            "Epoch: 85 reconstruction error: 0.079583\n",
            "Epoch: 86 reconstruction error: 0.079212\n",
            "Epoch: 87 reconstruction error: 0.078792\n",
            "Epoch: 88 reconstruction error: 0.078591\n",
            "Epoch: 89 reconstruction error: 0.077011\n",
            "Epoch: 90 reconstruction error: 0.076660\n",
            "Epoch: 91 reconstruction error: 0.077557\n",
            "Epoch: 92 reconstruction error: 0.076858\n",
            "Epoch: 93 reconstruction error: 0.077283\n",
            "Epoch: 94 reconstruction error: 0.075893\n",
            "Epoch: 95 reconstruction error: 0.074276\n",
            "Epoch: 96 reconstruction error: 0.075517\n",
            "Epoch: 97 reconstruction error: 0.077459\n",
            "Epoch: 98 reconstruction error: 0.075692\n",
            "Epoch: 99 reconstruction error: 0.075982\n",
            "Epoch: 100 reconstruction error: 0.076437\n",
            "Epoch: 101 reconstruction error: 0.076259\n",
            "Epoch: 102 reconstruction error: 0.077137\n",
            "Epoch: 103 reconstruction error: 0.076354\n",
            "Epoch: 104 reconstruction error: 0.075749\n",
            "Epoch: 105 reconstruction error: 0.075845\n",
            "Epoch: 106 reconstruction error: 0.075603\n",
            "Epoch: 107 reconstruction error: 0.075427\n",
            "Epoch: 108 reconstruction error: 0.076863\n",
            "Epoch: 109 reconstruction error: 0.076371\n",
            "Epoch: 110 reconstruction error: 0.077046\n",
            "Epoch: 111 reconstruction error: 0.074640\n",
            "Epoch: 112 reconstruction error: 0.074079\n",
            "Epoch: 113 reconstruction error: 0.077121\n",
            "Epoch: 114 reconstruction error: 0.074410\n",
            "Epoch: 115 reconstruction error: 0.074675\n",
            "Epoch: 116 reconstruction error: 0.076011\n",
            "Epoch: 117 reconstruction error: 0.076693\n",
            "Epoch: 118 reconstruction error: 0.076262\n",
            "Epoch: 119 reconstruction error: 0.075196\n",
            "Epoch: 120 reconstruction error: 0.076649\n",
            "Epoch: 121 reconstruction error: 0.075739\n",
            "Epoch: 122 reconstruction error: 0.073609\n",
            "Epoch: 123 reconstruction error: 0.077438\n",
            "Epoch: 124 reconstruction error: 0.077694\n",
            "Epoch: 125 reconstruction error: 0.074318\n",
            "Epoch: 126 reconstruction error: 0.073994\n",
            "Epoch: 127 reconstruction error: 0.074708\n",
            "Epoch: 128 reconstruction error: 0.074792\n",
            "Epoch: 129 reconstruction error: 0.074880\n",
            "Epoch: 130 reconstruction error: 0.075366\n",
            "Epoch: 131 reconstruction error: 0.075440\n",
            "Epoch: 132 reconstruction error: 0.075005\n",
            "Epoch: 133 reconstruction error: 0.073643\n",
            "Epoch: 134 reconstruction error: 0.076081\n",
            "Epoch: 135 reconstruction error: 0.074341\n",
            "Epoch: 136 reconstruction error: 0.075746\n",
            "Epoch: 137 reconstruction error: 0.076353\n",
            "Epoch: 138 reconstruction error: 0.073444\n",
            "Epoch: 139 reconstruction error: 0.076322\n",
            "Epoch: 140 reconstruction error: 0.075690\n",
            "Epoch: 141 reconstruction error: 0.073708\n",
            "Epoch: 142 reconstruction error: 0.075715\n",
            "Epoch: 143 reconstruction error: 0.075416\n",
            "Epoch: 144 reconstruction error: 0.074002\n",
            "Epoch: 145 reconstruction error: 0.075499\n",
            "Epoch: 146 reconstruction error: 0.074571\n",
            "Epoch: 147 reconstruction error: 0.074737\n",
            "Epoch: 148 reconstruction error: 0.074037\n",
            "Epoch: 149 reconstruction error: 0.073114\n",
            "Epoch: 150 reconstruction error: 0.074208\n",
            "Epoch: 151 reconstruction error: 0.073908\n",
            "Epoch: 152 reconstruction error: 0.074408\n",
            "Epoch: 153 reconstruction error: 0.075435\n",
            "Epoch: 154 reconstruction error: 0.075735\n",
            "Epoch: 155 reconstruction error: 0.075630\n",
            "Epoch: 156 reconstruction error: 0.075412\n",
            "Epoch: 157 reconstruction error: 0.075534\n",
            "Epoch: 158 reconstruction error: 0.073242\n",
            "Epoch: 159 reconstruction error: 0.073801\n",
            "Epoch: 160 reconstruction error: 0.073516\n",
            "Epoch: 161 reconstruction error: 0.073390\n",
            "Epoch: 162 reconstruction error: 0.072253\n",
            "Epoch: 163 reconstruction error: 0.073802\n",
            "Epoch: 164 reconstruction error: 0.074166\n",
            "Epoch: 165 reconstruction error: 0.073248\n",
            "Epoch: 166 reconstruction error: 0.074052\n",
            "Epoch: 167 reconstruction error: 0.074989\n",
            "Epoch: 168 reconstruction error: 0.075144\n",
            "Epoch: 169 reconstruction error: 0.074482\n",
            "Epoch: 170 reconstruction error: 0.073427\n",
            "Epoch: 171 reconstruction error: 0.075359\n",
            "Epoch: 172 reconstruction error: 0.073884\n",
            "Epoch: 173 reconstruction error: 0.073946\n",
            "Epoch: 174 reconstruction error: 0.073777\n",
            "Epoch: 175 reconstruction error: 0.075111\n",
            "Epoch: 176 reconstruction error: 0.073439\n",
            "Epoch: 177 reconstruction error: 0.075443\n",
            "Epoch: 178 reconstruction error: 0.075980\n",
            "Epoch: 179 reconstruction error: 0.073849\n",
            "Epoch: 180 reconstruction error: 0.072966\n",
            "Epoch: 181 reconstruction error: 0.073204\n",
            "Epoch: 182 reconstruction error: 0.073167\n",
            "Epoch: 183 reconstruction error: 0.074412\n",
            "Epoch: 184 reconstruction error: 0.072295\n",
            "Epoch: 185 reconstruction error: 0.075933\n",
            "Epoch: 186 reconstruction error: 0.074891\n",
            "Epoch: 187 reconstruction error: 0.070982\n",
            "Epoch: 188 reconstruction error: 0.073801\n",
            "Epoch: 189 reconstruction error: 0.073490\n",
            "Epoch: 190 reconstruction error: 0.074141\n",
            "Epoch: 191 reconstruction error: 0.075543\n",
            "Epoch: 192 reconstruction error: 0.072973\n",
            "Epoch: 193 reconstruction error: 0.073317\n",
            "Epoch: 194 reconstruction error: 0.070979\n",
            "Epoch: 195 reconstruction error: 0.073076\n",
            "Epoch: 196 reconstruction error: 0.073248\n",
            "Epoch: 197 reconstruction error: 0.074144\n",
            "Epoch: 198 reconstruction error: 0.073426\n",
            "Epoch: 199 reconstruction error: 0.073523\n",
            "RBM 2\n",
            "Epoch: 0 reconstruction error: 0.303399\n",
            "Epoch: 1 reconstruction error: 0.301952\n",
            "Epoch: 2 reconstruction error: 0.290655\n",
            "Epoch: 3 reconstruction error: 0.264236\n",
            "Epoch: 4 reconstruction error: 0.247235\n",
            "Epoch: 5 reconstruction error: 0.243337\n",
            "Epoch: 6 reconstruction error: 0.241956\n",
            "Epoch: 7 reconstruction error: 0.240043\n",
            "Epoch: 8 reconstruction error: 0.239508\n",
            "Epoch: 9 reconstruction error: 0.240000\n",
            "Epoch: 10 reconstruction error: 0.239447\n",
            "Epoch: 11 reconstruction error: 0.240164\n",
            "Epoch: 12 reconstruction error: 0.240348\n",
            "Epoch: 13 reconstruction error: 0.240150\n",
            "Epoch: 14 reconstruction error: 0.239919\n",
            "Epoch: 15 reconstruction error: 0.240153\n",
            "Epoch: 16 reconstruction error: 0.240360\n",
            "Epoch: 17 reconstruction error: 0.239803\n",
            "Epoch: 18 reconstruction error: 0.240082\n",
            "Epoch: 19 reconstruction error: 0.239725\n",
            "Epoch: 20 reconstruction error: 0.239488\n",
            "Epoch: 21 reconstruction error: 0.240854\n",
            "Epoch: 22 reconstruction error: 0.239892\n",
            "Epoch: 23 reconstruction error: 0.239313\n",
            "Epoch: 24 reconstruction error: 0.240053\n",
            "Epoch: 25 reconstruction error: 0.239966\n",
            "Epoch: 26 reconstruction error: 0.239825\n",
            "Epoch: 27 reconstruction error: 0.239126\n",
            "Epoch: 28 reconstruction error: 0.239372\n",
            "Epoch: 29 reconstruction error: 0.238492\n",
            "Epoch: 30 reconstruction error: 0.239805\n",
            "Epoch: 31 reconstruction error: 0.240270\n",
            "Epoch: 32 reconstruction error: 0.240177\n",
            "Epoch: 33 reconstruction error: 0.239592\n",
            "Epoch: 34 reconstruction error: 0.240227\n",
            "Epoch: 35 reconstruction error: 0.240102\n",
            "Epoch: 36 reconstruction error: 0.239195\n",
            "Epoch: 37 reconstruction error: 0.239266\n",
            "Epoch: 38 reconstruction error: 0.240353\n",
            "Epoch: 39 reconstruction error: 0.239273\n",
            "Epoch: 40 reconstruction error: 0.239603\n",
            "Epoch: 41 reconstruction error: 0.239220\n",
            "Epoch: 42 reconstruction error: 0.240475\n",
            "Epoch: 43 reconstruction error: 0.240414\n",
            "Epoch: 44 reconstruction error: 0.240227\n",
            "Epoch: 45 reconstruction error: 0.241004\n",
            "Epoch: 46 reconstruction error: 0.240655\n",
            "Epoch: 47 reconstruction error: 0.239994\n",
            "Epoch: 48 reconstruction error: 0.239426\n",
            "Epoch: 49 reconstruction error: 0.239901\n",
            "RBM 3\n",
            "Epoch: 0 reconstruction error: 0.239391\n",
            "Epoch: 1 reconstruction error: 0.238432\n",
            "Epoch: 2 reconstruction error: 0.236672\n",
            "Epoch: 3 reconstruction error: 0.237818\n",
            "Epoch: 4 reconstruction error: 0.225476\n",
            "Epoch: 5 reconstruction error: 0.198579\n",
            "Epoch: 6 reconstruction error: 0.182034\n",
            "Epoch: 7 reconstruction error: 0.174788\n",
            "Epoch: 8 reconstruction error: 0.170804\n",
            "Epoch: 9 reconstruction error: 0.168841\n",
            "Epoch: 10 reconstruction error: 0.168247\n",
            "Epoch: 11 reconstruction error: 0.168456\n",
            "Epoch: 12 reconstruction error: 0.167333\n",
            "Epoch: 13 reconstruction error: 0.166389\n",
            "Epoch: 14 reconstruction error: 0.167280\n",
            "Epoch: 15 reconstruction error: 0.165888\n",
            "Epoch: 16 reconstruction error: 0.165466\n",
            "Epoch: 17 reconstruction error: 0.165285\n",
            "Epoch: 18 reconstruction error: 0.166700\n",
            "Epoch: 19 reconstruction error: 0.166029\n",
            "Epoch: 20 reconstruction error: 0.167100\n",
            "Epoch: 21 reconstruction error: 0.166369\n",
            "Epoch: 22 reconstruction error: 0.167049\n",
            "Epoch: 23 reconstruction error: 0.165819\n",
            "Epoch: 24 reconstruction error: 0.165710\n",
            "Epoch: 25 reconstruction error: 0.165941\n",
            "Epoch: 26 reconstruction error: 0.166809\n",
            "Epoch: 27 reconstruction error: 0.165020\n",
            "Epoch: 28 reconstruction error: 0.166232\n",
            "Epoch: 29 reconstruction error: 0.166095\n",
            "Epoch: 30 reconstruction error: 0.165341\n",
            "Epoch: 31 reconstruction error: 0.165871\n",
            "Epoch: 32 reconstruction error: 0.165968\n",
            "Epoch: 33 reconstruction error: 0.165562\n",
            "Epoch: 34 reconstruction error: 0.165136\n",
            "Epoch: 35 reconstruction error: 0.165384\n",
            "Epoch: 36 reconstruction error: 0.165551\n",
            "Epoch: 37 reconstruction error: 0.166574\n",
            "Epoch: 38 reconstruction error: 0.165516\n",
            "Epoch: 39 reconstruction error: 0.165206\n",
            "Epoch: 40 reconstruction error: 0.166064\n",
            "Epoch: 41 reconstruction error: 0.167292\n",
            "Epoch: 42 reconstruction error: 0.166833\n",
            "Epoch: 43 reconstruction error: 0.166458\n",
            "Epoch: 44 reconstruction error: 0.167215\n",
            "Epoch: 45 reconstruction error: 0.164990\n",
            "Epoch: 46 reconstruction error: 0.165508\n",
            "Epoch: 47 reconstruction error: 0.164899\n",
            "Epoch: 48 reconstruction error: 0.165790\n",
            "Epoch: 49 reconstruction error: 0.165430\n"
          ],
          "name": "stdout"
        }
      ]
    },
    {
      "cell_type": "code",
      "metadata": {
        "id": "8_JW0RV4nQYG",
        "colab": {
          "base_uri": "https://localhost:8080/",
          "height": 854
        },
        "outputId": "288212ae-01dc-44ba-f595-ead175011080"
      },
      "source": [
        "i = 1\n",
        "for err in error_list:\n",
        "    print(\"RBM\",i)\n",
        "    pd.Series(err).plot(logy=False)\n",
        "    plt.xlabel(\"Epoch\")\n",
        "    plt.ylabel(\"Reconstruction Error\")\n",
        "    plt.show()\n",
        "    i += 1"
      ],
      "execution_count": 20,
      "outputs": [
        {
          "output_type": "stream",
          "text": [
            "RBM 1\n"
          ],
          "name": "stdout"
        },
        {
          "output_type": "display_data",
          "data": {
            "image/png": "[encoded data removed]",
            "text/plain": [
              "<Figure size 432x288 with 1 Axes>"
            ]
          },
          "metadata": {
            "tags": [],
            "needs_background": "light"
          }
        },
        {
          "output_type": "stream",
          "text": [
            "RBM 2\n"
          ],
          "name": "stdout"
        },
        {
          "output_type": "display_data",
          "data": {
            "image/png": "[encoded data removed]",
            "text/plain": [
              "<Figure size 432x288 with 1 Axes>"
            ]
          },
          "metadata": {
            "tags": [],
            "needs_background": "light"
          }
        },
        {
          "output_type": "stream",
          "text": [
            "RBM 3\n"
          ],
          "name": "stdout"
        },
        {
          "output_type": "display_data",
          "data": {
            "image/png": "[encoded data removed]",
            "text/plain": [
              "<Figure size 432x288 with 1 Axes>"
            ]
          },
          "metadata": {
            "tags": [],
            "needs_background": "light"
          }
        }
      ]
    },
    {
      "cell_type": "code",
      "metadata": {
        "id": "uoCYLrWUpO_J",
        "colab": {
          "base_uri": "https://localhost:8080/"
        },
        "outputId": "c122f540-227c-42a7-fb1f-b51612316a24"
      },
      "source": [
        "outputX.shape"
      ],
      "execution_count": 21,
      "outputs": [
        {
          "output_type": "execute_result",
          "data": {
            "text/plain": [
              "(62737, 12)"
            ]
          },
          "metadata": {
            "tags": []
          },
          "execution_count": 21
        }
      ]
    },
    {
      "cell_type": "markdown",
      "metadata": {
        "id": "geqQzlYJggJO"
      },
      "source": [
        "##**Classifier**\n"
      ]
    },
    {
      "cell_type": "markdown",
      "metadata": {
        "id": "XnD1eSoctpxd"
      },
      "source": [
        "Used outputX as the Input for the Classifer"
      ]
    },
    {
      "cell_type": "code",
      "metadata": {
        "id": "h5eQ4cIKqrvx"
      },
      "source": [
        "numrows = len(train_Y)\n",
        "split = (int)(0.8 * numrows)"
      ],
      "execution_count": 22,
      "outputs": []
    },
    {
      "cell_type": "code",
      "metadata": {
        "id": "LcUnoCvTgej0",
        "colab": {
          "base_uri": "https://localhost:8080/"
        },
        "outputId": "d2664371-ab10-4cc5-8179-fbad75ba874c"
      },
      "source": [
        "Y_Train = train_Y.iloc[:split].values\n",
        "Y_Train.shape\n",
        "\n",
        "Y_Test = train_Y.iloc[split + 1:].values\n",
        "Y_Test.shape"
      ],
      "execution_count": 23,
      "outputs": [
        {
          "output_type": "execute_result",
          "data": {
            "text/plain": [
              "(12547,)"
            ]
          },
          "metadata": {
            "tags": []
          },
          "execution_count": 23
        }
      ]
    },
    {
      "cell_type": "code",
      "metadata": {
        "id": "wed-jco60HTJ"
      },
      "source": [
        "X_New_Train = outputX\n",
        "X_New_Train = X_New_Train[:split, :]\n",
        "Y_Train = Y_Train.reshape((-1,1))"
      ],
      "execution_count": 24,
      "outputs": []
    },
    {
      "cell_type": "code",
      "metadata": {
        "id": "8gW8d5XAl5O7"
      },
      "source": [
        "X_Test = outputX\n",
        "X_Test = X_Test[split + 1:, :]"
      ],
      "execution_count": 25,
      "outputs": []
    },
    {
      "cell_type": "markdown",
      "metadata": {
        "id": "oZVA25JuR1BC"
      },
      "source": [
        "ANN"
      ]
    },
    {
      "cell_type": "code",
      "metadata": {
        "id": "ej6X_Mw5zoYG"
      },
      "source": [
        "import keras\n",
        "from keras.models import Sequential\n",
        "from keras.layers import Dense"
      ],
      "execution_count": 26,
      "outputs": []
    },
    {
      "cell_type": "code",
      "metadata": {
        "id": "BwzVbQ4k0F74"
      },
      "source": [
        "ann = Sequential()\n",
        "\n",
        "ann.add(Dense (6, activation = 'relu', input_dim = 12))\n",
        "\n",
        "ann.add(Dense (6, activation = 'relu'))\n",
        "\n",
        "ann.add(Dense(1, activation = 'sigmoid'))\n",
        "\n",
        "ann.compile(optimizer = 'Adam', loss = 'binary_crossentropy', metrics = ['accuracy'])\n",
        "\n",
        "ann.fit(X_New_Train, Y_Train, batch_size = 200, epochs = 100)"
      ],
      "execution_count": null,
      "outputs": []
    },
    {
      "cell_type": "markdown",
      "metadata": {
        "id": "EdxS6kACR3ZQ"
      },
      "source": [
        "##Ensemble\n",
        "* LogisticRegression\n",
        "* GaussianNB\n",
        "* RandomForestClassifier"
      ]
    },
    {
      "cell_type": "code",
      "metadata": {
        "id": "RAxUbXWnR4sQ"
      },
      "source": [
        "from sklearn.linear_model import LogisticRegression\n",
        "from sklearn.naive_bayes import GaussianNB\n",
        "from sklearn.ensemble import RandomForestClassifier"
      ],
      "execution_count": 28,
      "outputs": []
    },
    {
      "cell_type": "code",
      "metadata": {
        "id": "BtRstxbQTMWJ"
      },
      "source": [
        "row_Y = Y_Train.reshape(Y_Train.shape[0],)"
      ],
      "execution_count": 29,
      "outputs": []
    },
    {
      "cell_type": "code",
      "metadata": {
        "id": "_d4tsy6VNgQv",
        "colab": {
          "base_uri": "https://localhost:8080/"
        },
        "outputId": "586ad7cf-78f4-4442-8a2d-905d8d854446"
      },
      "source": [
        "lr = LogisticRegression(random_state=1)\n",
        "lr.fit(X_New_Train, row_Y)\n",
        "\n",
        "forest = RandomForestClassifier(n_estimators=50, random_state=1)\n",
        "forest.fit(X_New_Train, row_Y)\n",
        "\n",
        "gnb = GaussianNB()\n",
        "gnb.fit(X_New_Train, row_Y)"
      ],
      "execution_count": 30,
      "outputs": [
        {
          "output_type": "execute_result",
          "data": {
            "text/plain": [
              "GaussianNB(priors=None, var_smoothing=1e-09)"
            ]
          },
          "metadata": {
            "tags": []
          },
          "execution_count": 30
        }
      ]
    },
    {
      "cell_type": "markdown",
      "metadata": {
        "id": "_MjGgOMwt1_Z"
      },
      "source": [
        "###F1 Score"
      ]
    },
    {
      "cell_type": "code",
      "metadata": {
        "id": "b9lsmDoYj919"
      },
      "source": [
        "def f1score( tn, fp, fn, tp):\n",
        "  precision = tp/(tp + fp)\n",
        "  print('Precision: ',precision)\n",
        "  recall = tp/(tp+fn)\n",
        "  print('Recall: ',recall)\n",
        "  return 2 * (precision * recall) / (precision + recall)"
      ],
      "execution_count": 31,
      "outputs": []
    },
    {
      "cell_type": "code",
      "metadata": {
        "id": "H8AWFBCCa6mm",
        "colab": {
          "base_uri": "https://localhost:8080/"
        },
        "outputId": "308fdaf0-c24e-4bad-e5a1-1be87c3f54aa"
      },
      "source": [
        "y_preds = lr.predict(outputX)\n",
        "y_preds = (y_preds > 0.5)\n",
        "y_preds_final = np.array(y_preds)\n",
        "tn, fp, fn, tp = confusion_matrix(train_Y, y_preds, labels=[0,1]).ravel()\n",
        "print('F1-score: ',f1score(tn, fp, fn, tp))"
      ],
      "execution_count": 32,
      "outputs": [
        {
          "output_type": "stream",
          "text": [
            "Precision:  0.5728889564490386\n",
            "Recall:  0.5409818416708534\n",
            "F1-score:  0.5564784053156147\n"
          ],
          "name": "stdout"
        }
      ]
    },
    {
      "cell_type": "markdown",
      "metadata": {
        "id": "Zkr_nQJwng2W"
      },
      "source": [
        "##Seprate Dataframes"
      ]
    },
    {
      "cell_type": "code",
      "metadata": {
        "id": "CHgFT7zPWyVW"
      },
      "source": [
        "bugzilla = pd.read_csv('/content/drive/My Drive/dataset/bugzilla.csv')\n",
        "columba = pd.read_csv('/content/drive/My Drive/dataset/columba.csv')\n",
        "jdt = pd.read_csv('/content/drive/My Drive/dataset/jdt.csv')\n",
        "mozilla = pd.read_csv('/content/drive/My Drive/dataset/mozilla.csv')\n",
        "platform = pd.read_csv('/content/drive/My Drive/dataset/platform.csv')\n",
        "postgres = pd.read_csv('/content/drive/My Drive/dataset/postgres.csv')"
      ],
      "execution_count": 33,
      "outputs": []
    },
    {
      "cell_type": "code",
      "metadata": {
        "id": "1XwlUmRp0RVg"
      },
      "source": [
        "def preds(mod, op):\n",
        "  y_preds = mod.predict(op)\n",
        "  y_preds = (y_preds > 0.5)*1\n",
        "  y_preds_final = np.array(y_preds)\n",
        "  return y_preds_final"
      ],
      "execution_count": 34,
      "outputs": []
    },
    {
      "cell_type": "code",
      "metadata": {
        "id": "PqM79k1kcN0U"
      },
      "source": [
        "def concatenate(list1, list2, list3, list4):\n",
        "  l = np.zeros(len(list1))\n",
        "  for i in range (0, len(list1)-1):\n",
        "    l[i] = (list1[i] + list2[i] + list3[i] + list4[i]) / 4\n",
        "  return l"
      ],
      "execution_count": 35,
      "outputs": []
    },
    {
      "cell_type": "code",
      "metadata": {
        "id": "yqDa5LwaSPUf"
      },
      "source": [
        "def predict(op):\n",
        "  y_predict = concatenate(preds(ann, op), preds(lr, op), preds(forest, op), preds(gnb, op))\n",
        "  y_predict = (y_predict > 0.5)\n",
        "  return y_predict"
      ],
      "execution_count": 36,
      "outputs": []
    },
    {
      "cell_type": "code",
      "metadata": {
        "id": "gJ31LrO4e_9V"
      },
      "source": [
        "def dbn_op(inputX):\n",
        "  for i in range(0, len(rbm_list)):\n",
        "      rbm = rbm_list[i]\n",
        "\n",
        "      outputX, reconstructedX, hiddenX = rbm.rbm_output(inputX)\n",
        "      inputX= hiddenX\n",
        "  \n",
        "  return outputX"
      ],
      "execution_count": 37,
      "outputs": []
    },
    {
      "cell_type": "code",
      "metadata": {
        "id": "R4XRFBpWoPkx"
      },
      "source": [
        "def dataframe_score(df1):\n",
        "  df1 = df1.drop(['commitdate','transactionid'], axis=1)\n",
        "  train_X_op = df1.iloc[:,:-1].apply(func=normalize, axis=0).astype(np.float32)\n",
        "  train_Y_op = df1.iloc[:,-1]\n",
        "\n",
        "  op = dbn_op(train_X_op)\n",
        "\n",
        "  y_pred_op = predict(op)\n",
        "\n",
        "  cm = confusion_matrix(train_Y_op, y_pred_op)\n",
        "  print(cm) \n",
        "\n",
        "  tn, fp, fn, tp = confusion_matrix(train_Y_op, y_pred_op, labels=[0,1]).ravel()\n",
        "  print('F1-score: ',f1score(tn, fp, fn, tp))"
      ],
      "execution_count": 38,
      "outputs": []
    },
    {
      "cell_type": "code",
      "metadata": {
        "id": "e1lfA3vUrK3q",
        "colab": {
          "base_uri": "https://localhost:8080/"
        },
        "outputId": "580d874b-69d6-4eae-9197-f9777c99cda3"
      },
      "source": [
        "print('bugzilla:')\n",
        "dataframe_score(bugzilla)\n",
        "print('--------------------------------------------------------------------')\n",
        "print('columba:')\n",
        "dataframe_score(columba)\n",
        "print('--------------------------------------------------------------------')\n",
        "print('jdt:')\n",
        "dataframe_score(jdt)\n",
        "print('--------------------------------------------------------------------')\n",
        "print('mozilla:')\n",
        "dataframe_score(mozilla)\n",
        "print('--------------------------------------------------------------------')\n",
        "print('platform:')\n",
        "dataframe_score(platform)\n",
        "print('--------------------------------------------------------------------')\n",
        "print('postgres:')\n",
        "dataframe_score(postgres)\n",
        "print('--------------------------------------------------------------------')\n",
        "print('Overall:')\n",
        "cm = confusion_matrix(train_Y, y_preds)\n",
        "print(cm)\n",
        "tn, fp, fn, tp = confusion_matrix(train_Y, y_preds, labels=[0,1]).ravel()\n",
        "print('F1-score: ',f1score(tn, fp, fn, tp))"
      ],
      "execution_count": 39,
      "outputs": [
        {
          "output_type": "stream",
          "text": [
            "bugzilla:\n",
            "WARNING:tensorflow:From /usr/local/lib/python3.6/dist-packages/tensorflow/python/keras/engine/training_v1.py:2070: Model.state_updates (from tensorflow.python.keras.engine.training) is deprecated and will be removed in a future version.\n",
            "Instructions for updating:\n",
            "This property should not be used in TensorFlow 2.0, as updates are applied automatically.\n",
            "[[ 624 2300]\n",
            " [ 165 1531]]\n",
            "Precision:  0.39963456016705823\n",
            "Recall:  0.9027122641509434\n",
            "F1-score:  0.5540075990591641\n",
            "--------------------------------------------------------------------\n",
            "columba:\n",
            "[[2078 1016]\n",
            " [ 918  443]]\n",
            "Precision:  0.3036326250856751\n",
            "Recall:  0.32549595885378396\n",
            "F1-score:  0.3141843971631205\n",
            "--------------------------------------------------------------------\n",
            "jdt:\n",
            "[[21591  8706]\n",
            " [ 2901  2188]]\n",
            "Precision:  0.20084450156049202\n",
            "Recall:  0.4299469443898605\n",
            "F1-score:  0.2737909028342614\n",
            "--------------------------------------------------------------------\n",
            "mozilla:\n",
            "[[36157 56969]\n",
            " [ 1361  3788]]\n",
            "Precision:  0.06234672548019158\n",
            "Recall:  0.7356768304525151\n",
            "F1-score:  0.11495159773010043\n",
            "--------------------------------------------------------------------\n",
            "platform:\n",
            "[[35075 19723]\n",
            " [ 3770  5682]]\n",
            "Precision:  0.22365676048022043\n",
            "Recall:  0.6011426153195091\n",
            "F1-score:  0.32601772958085895\n",
            "--------------------------------------------------------------------\n",
            "postgres:\n",
            "[[8591 6721]\n",
            " [3134 1985]]\n",
            "Precision:  0.22800367562600504\n",
            "Recall:  0.38777104903301424\n",
            "F1-score:  0.28716094032549727\n",
            "--------------------------------------------------------------------\n",
            "Overall:\n",
            "[[23632 11239]\n",
            " [12791 15075]]\n",
            "Precision:  0.5728889564490386\n",
            "Recall:  0.5409818416708534\n",
            "F1-score:  0.5564784053156147\n"
          ],
          "name": "stdout"
        }
      ]
    },
    {
      "cell_type": "code",
      "metadata": {
        "id": "_MT81YAdV6HJ"
      },
      "source": [
        ""
      ],
      "execution_count": 40,
      "outputs": []
    }
  ]
}