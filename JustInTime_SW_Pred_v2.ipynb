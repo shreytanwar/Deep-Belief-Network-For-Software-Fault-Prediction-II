{
  "nbformat": 4,
  "nbformat_minor": 0,
  "metadata": {
    "colab": {
      "name": "JustInTime_SW_Pred_v2.ipynb",
      "provenance": [],
      "collapsed_sections": [],
      "authorship_tag": "ABX9TyPMfdcnqcq3SBadAYorPMrO",
      "include_colab_link": true
    },
    "kernelspec": {
      "name": "python3",
      "display_name": "Python 3"
    }
  },
  "cells": [
    {
      "cell_type": "markdown",
      "metadata": {
        "id": "view-in-github",
        "colab_type": "text"
      },
      "source": [
        "<a href=\"https://colab.research.google.com/github/shreytanwar/Deep-Belief-Network-For-Software-Fault-Prediction-II/blob/main/JustInTime_SW_Pred_v2.ipynb\" target=\"_parent\"><img src=\"https://colab.research.google.com/assets/colab-badge.svg\" alt=\"Open In Colab\"/></a>"
      ]
    },
    {
      "cell_type": "code",
      "metadata": {
        "id": "DfkLXFDxl8sJ",
        "outputId": "eba6243a-1435-45ef-c080-e14d89ab80a3",
        "colab": {
          "base_uri": "https://localhost:8080/",
          "height": 34
        }
      },
      "source": [
        "from google.colab import drive\n",
        "drive.mount('/content/drive/')"
      ],
      "execution_count": 1,
      "outputs": [
        {
          "output_type": "stream",
          "text": [
            "Mounted at /content/drive/\n"
          ],
          "name": "stdout"
        }
      ]
    },
    {
      "cell_type": "code",
      "metadata": {
        "id": "sK42BBJgmSGh"
      },
      "source": [
        "import tensorflow as tf\n",
        "import sklearn.metrics\n",
        "from sklearn.metrics import log_loss, accuracy_score\n",
        "import numpy as np\n",
        "import pandas as pd\n",
        "import matplotlib.pyplot as plt"
      ],
      "execution_count": 109,
      "outputs": []
    },
    {
      "cell_type": "markdown",
      "metadata": {
        "id": "nqnAM0F6pNEW"
      },
      "source": [
        "##Preprocessing"
      ]
    },
    {
      "cell_type": "code",
      "metadata": {
        "id": "lhdWip5AmSQd"
      },
      "source": [
        "bugzilla = pd.read_csv('/content/drive/My Drive/dataset/bugzilla.csv')\n",
        "columba = pd.read_csv('/content/drive/My Drive/dataset/columba.csv')\n",
        "jdt = pd.read_csv('/content/drive/My Drive/dataset/jdt.csv')\n",
        "mozilla = pd.read_csv('/content/drive/My Drive/dataset/mozilla.csv')\n",
        "platform = pd.read_csv('/content/drive/My Drive/dataset/platform.csv')\n",
        "postgres = pd.read_csv('/content/drive/My Drive/dataset/postgres.csv')\n",
        "\n",
        "df = pd.read_csv('/content/drive/My Drive/dataset/FinalDF.csv')\n",
        "\n",
        "# df = pd.concat([bugzilla, columba, jdt, mozilla, platform, postgres]) \n",
        "# df = df.reset_index(drop=True)"
      ],
      "execution_count": 110,
      "outputs": []
    },
    {
      "cell_type": "code",
      "metadata": {
        "id": "bVSQXhUkmSvC"
      },
      "source": [
        "def normalize(x):\n",
        "  x = x.astype(float)\n",
        "  min = np.min(x)\n",
        "  max = np.max(x)\n",
        "  return (x - min)/(max-min)"
      ],
      "execution_count": 111,
      "outputs": []
    },
    {
      "cell_type": "code",
      "metadata": {
        "id": "6Se7DitSs9xa"
      },
      "source": [
        "def view_values(X, y, example):\n",
        "    label = y.loc[example]\n",
        "    image = X.loc[example,:].values.reshape([-1,1])\n",
        "    print(image)"
      ],
      "execution_count": 112,
      "outputs": []
    },
    {
      "cell_type": "code",
      "metadata": {
        "id": "nwQh30ySJCSA",
        "outputId": "900251d9-e4d0-4dce-ada9-bc31d27182ed",
        "colab": {
          "base_uri": "https://localhost:8080/",
          "height": 34
        }
      },
      "source": [
        "# print(\"Shape of dataframe: \", df.shape)  "
      ],
      "execution_count": 113,
      "outputs": [
        {
          "output_type": "stream",
          "text": [
            "Shape of dataframe:  (227417, 17)\n"
          ],
          "name": "stdout"
        }
      ]
    },
    {
      "cell_type": "code",
      "metadata": {
        "id": "WZUhvytCHesW"
      },
      "source": [
        "# Droping unnecessary String columns\n",
        "# df = df.drop(['commitdate','transactionid'], axis=1)"
      ],
      "execution_count": 114,
      "outputs": []
    },
    {
      "cell_type": "code",
      "metadata": {
        "id": "_1p5DpIHnP1j",
        "outputId": "44072a72-60a3-4b2b-a9e7-7d630777eb60",
        "colab": {
          "base_uri": "https://localhost:8080/",
          "height": 215
        }
      },
      "source": [
        "df.head()"
      ],
      "execution_count": 115,
      "outputs": [
        {
          "output_type": "execute_result",
          "data": {
            "text/html": [
              "<div>\n",
              "<style scoped>\n",
              "    .dataframe tbody tr th:only-of-type {\n",
              "        vertical-align: middle;\n",
              "    }\n",
              "\n",
              "    .dataframe tbody tr th {\n",
              "        vertical-align: top;\n",
              "    }\n",
              "\n",
              "    .dataframe thead th {\n",
              "        text-align: right;\n",
              "    }\n",
              "</style>\n",
              "<table border=\"1\" class=\"dataframe\">\n",
              "  <thead>\n",
              "    <tr style=\"text-align: right;\">\n",
              "      <th></th>\n",
              "      <th>ns</th>\n",
              "      <th>nm</th>\n",
              "      <th>nf</th>\n",
              "      <th>entropy</th>\n",
              "      <th>la</th>\n",
              "      <th>ld</th>\n",
              "      <th>lt</th>\n",
              "      <th>fix</th>\n",
              "      <th>ndev</th>\n",
              "      <th>pd</th>\n",
              "      <th>npt</th>\n",
              "      <th>exp</th>\n",
              "      <th>rexp</th>\n",
              "      <th>sexp</th>\n",
              "      <th>bug</th>\n",
              "    </tr>\n",
              "  </thead>\n",
              "  <tbody>\n",
              "    <tr>\n",
              "      <th>0</th>\n",
              "      <td>1</td>\n",
              "      <td>1</td>\n",
              "      <td>3</td>\n",
              "      <td>0.579380</td>\n",
              "      <td>0.093620</td>\n",
              "      <td>0.000000</td>\n",
              "      <td>480.666667</td>\n",
              "      <td>1</td>\n",
              "      <td>14</td>\n",
              "      <td>596</td>\n",
              "      <td>0.666667</td>\n",
              "      <td>143</td>\n",
              "      <td>133.50</td>\n",
              "      <td>129</td>\n",
              "      <td>1</td>\n",
              "    </tr>\n",
              "    <tr>\n",
              "      <th>1</th>\n",
              "      <td>1</td>\n",
              "      <td>1</td>\n",
              "      <td>1</td>\n",
              "      <td>0.000000</td>\n",
              "      <td>0.000000</td>\n",
              "      <td>0.000000</td>\n",
              "      <td>398.000000</td>\n",
              "      <td>1</td>\n",
              "      <td>1</td>\n",
              "      <td>0</td>\n",
              "      <td>1.000000</td>\n",
              "      <td>140</td>\n",
              "      <td>140.00</td>\n",
              "      <td>137</td>\n",
              "      <td>1</td>\n",
              "    </tr>\n",
              "    <tr>\n",
              "      <th>2</th>\n",
              "      <td>3</td>\n",
              "      <td>3</td>\n",
              "      <td>52</td>\n",
              "      <td>0.739279</td>\n",
              "      <td>0.183477</td>\n",
              "      <td>0.208913</td>\n",
              "      <td>283.519231</td>\n",
              "      <td>0</td>\n",
              "      <td>23</td>\n",
              "      <td>15836</td>\n",
              "      <td>0.750000</td>\n",
              "      <td>984</td>\n",
              "      <td>818.65</td>\n",
              "      <td>978</td>\n",
              "      <td>0</td>\n",
              "    </tr>\n",
              "    <tr>\n",
              "      <th>3</th>\n",
              "      <td>1</td>\n",
              "      <td>1</td>\n",
              "      <td>8</td>\n",
              "      <td>0.685328</td>\n",
              "      <td>0.016039</td>\n",
              "      <td>0.012880</td>\n",
              "      <td>514.375000</td>\n",
              "      <td>1</td>\n",
              "      <td>21</td>\n",
              "      <td>1281</td>\n",
              "      <td>1.000000</td>\n",
              "      <td>579</td>\n",
              "      <td>479.25</td>\n",
              "      <td>550</td>\n",
              "      <td>0</td>\n",
              "    </tr>\n",
              "    <tr>\n",
              "      <th>4</th>\n",
              "      <td>2</td>\n",
              "      <td>2</td>\n",
              "      <td>38</td>\n",
              "      <td>0.769776</td>\n",
              "      <td>0.091829</td>\n",
              "      <td>0.072746</td>\n",
              "      <td>366.815789</td>\n",
              "      <td>1</td>\n",
              "      <td>21</td>\n",
              "      <td>6565</td>\n",
              "      <td>0.763158</td>\n",
              "      <td>413</td>\n",
              "      <td>313.25</td>\n",
              "      <td>405</td>\n",
              "      <td>0</td>\n",
              "    </tr>\n",
              "  </tbody>\n",
              "</table>\n",
              "</div>"
            ],
            "text/plain": [
              "   ns  nm  nf   entropy        la  ...       npt  exp    rexp  sexp  bug\n",
              "0   1   1   3  0.579380  0.093620  ...  0.666667  143  133.50   129    1\n",
              "1   1   1   1  0.000000  0.000000  ...  1.000000  140  140.00   137    1\n",
              "2   3   3  52  0.739279  0.183477  ...  0.750000  984  818.65   978    0\n",
              "3   1   1   8  0.685328  0.016039  ...  1.000000  579  479.25   550    0\n",
              "4   2   2  38  0.769776  0.091829  ...  0.763158  413  313.25   405    0\n",
              "\n",
              "[5 rows x 15 columns]"
            ]
          },
          "metadata": {
            "tags": []
          },
          "execution_count": 115
        }
      ]
    },
    {
      "cell_type": "code",
      "metadata": {
        "id": "WoHvy3D_peSX",
        "outputId": "fb48ef0b-d71c-42c0-8dda-d774a51fd282",
        "colab": {
          "base_uri": "https://localhost:8080/",
          "height": 34
        }
      },
      "source": [
        "count1 = np.count_nonzero(df.bug, axis=0)\n",
        "count1"
      ],
      "execution_count": 116,
      "outputs": [
        {
          "output_type": "execute_result",
          "data": {
            "text/plain": [
              "27866"
            ]
          },
          "metadata": {
            "tags": []
          },
          "execution_count": 116
        }
      ]
    },
    {
      "cell_type": "code",
      "metadata": {
        "id": "G5L6qFJLeDeN"
      },
      "source": [
        "# #More Balanced DataFrame\n",
        "# deleted = 0\n",
        "# for i in range(df.shape[0]-1, 0, -1 ):\n",
        "#   if deleted == 171680:\n",
        "#     break\n",
        "#   elif df.iloc[i].bug == 0:\n",
        "#     df = df.drop(df.index[i])\n",
        "#     if(count1 > np.count_nonzero(df.bug, axis=0)):\n",
        "#       print('kata')\n",
        "#       break\n",
        "#     deleted = deleted + 1\n",
        "#     if deleted % 1716 == 0:\n",
        "#       print('Completed: ',deleted / 1716, ' %');"
      ],
      "execution_count": null,
      "outputs": []
    },
    {
      "cell_type": "code",
      "metadata": {
        "id": "gPdTOzQ4sH8Z",
        "outputId": "5fdb5a66-2637-45fe-cae1-cc47b6b012b0",
        "colab": {
          "base_uri": "https://localhost:8080/",
          "height": 34
        }
      },
      "source": [
        "np.count_nonzero(df.bug, axis=0) "
      ],
      "execution_count": 275,
      "outputs": [
        {
          "output_type": "execute_result",
          "data": {
            "text/plain": [
              "27866"
            ]
          },
          "metadata": {
            "tags": []
          },
          "execution_count": 275
        }
      ]
    },
    {
      "cell_type": "code",
      "metadata": {
        "id": "D3XyFkZAqGAO",
        "outputId": "ab9321e3-9fc9-4b08-fbbb-b1ca88c32b9a",
        "colab": {
          "base_uri": "https://localhost:8080/",
          "height": 34
        }
      },
      "source": [
        "print(\"Shape of dataframe: \", df.shape)  "
      ],
      "execution_count": 277,
      "outputs": [
        {
          "output_type": "stream",
          "text": [
            "Shape of dataframe:  (55737, 15)\n"
          ],
          "name": "stdout"
        }
      ]
    },
    {
      "cell_type": "code",
      "metadata": {
        "id": "waxIbRWYhM9S"
      },
      "source": [
        "# df = df.sample(frac = 1) "
      ],
      "execution_count": 310,
      "outputs": []
    },
    {
      "cell_type": "markdown",
      "metadata": {
        "id": "O-6blBzBx_o-"
      },
      "source": [
        "Save the DataFrame"
      ]
    },
    {
      "cell_type": "code",
      "metadata": {
        "id": "aRP_tqUtxffF"
      },
      "source": [
        "# df.to_csv(r'/content/drive/My Drive/dataset/FinalDF.csv', index = False)"
      ],
      "execution_count": 311,
      "outputs": []
    },
    {
      "cell_type": "code",
      "metadata": {
        "id": "2cHDy9eqQJta"
      },
      "source": [
        "#Splitting Attributes and Labels\n",
        "train_X = df.iloc[:,:-1].apply(func=normalize, axis=0)\n",
        "train_Y = df.iloc[:,-1]"
      ],
      "execution_count": 312,
      "outputs": []
    },
    {
      "cell_type": "code",
      "metadata": {
        "id": "8E4REdnSKBjJ",
        "outputId": "c1ee6cf6-0739-48b5-dd5c-d9bbad62943a",
        "colab": {
          "base_uri": "https://localhost:8080/",
          "height": 151
        }
      },
      "source": [
        "# df=df.drop(['transactionid'], axis=1)\n",
        "print(df.head())"
      ],
      "execution_count": 313,
      "outputs": [
        {
          "output_type": "stream",
          "text": [
            "        ns  nm  nf  entropy        la  ...       npt   exp         rexp  sexp  bug\n",
            "25260    1   1   1   0.0000  3.000000  ...  1.000000  6324  1606.125397  2748    0\n",
            "206317   2   4  38   0.8052  0.029668  ...  0.526316  3724  1893.645238  2187    1\n",
            "23443    1   1   1   0.0000  0.000000  ...  1.000000   342   339.500000    25    0\n",
            "15137    1   1   1   0.0000  0.042017  ...  1.000000   367   367.000000   367    1\n",
            "747      1   1   1   0.0000  0.001845  ...  1.000000    66    66.000000    66    1\n",
            "\n",
            "[5 rows x 15 columns]\n"
          ],
          "name": "stdout"
        }
      ]
    },
    {
      "cell_type": "code",
      "metadata": {
        "id": "pS-1UJMM6WUH"
      },
      "source": [
        "# Define RBM class\n",
        "class RBM(object):\n",
        "    \n",
        "    def __init__(self, input_size, output_size, \n",
        "                 learning_rate, epochs, batchsize):\n",
        "        # Define hyperparameters\n",
        "        self._input_size = input_size\n",
        "        self._output_size = output_size\n",
        "        self.learning_rate = learning_rate\n",
        "        self.epochs = epochs\n",
        "        self.batchsize = batchsize\n",
        "        \n",
        "        # Initialize weights and biases using zero matrices\n",
        "        self.w = np.zeros([input_size, output_size], dtype=np.float32)\n",
        "        self.hb = np.zeros([output_size], dtype=np.float32)\n",
        "        self.vb = np.zeros([input_size], dtype=np.float32)\n",
        "    # forward pass, where h is the hidden layer and v is the visible layer\n",
        "    def prob_h_given_v(self, visible, w, hb):\n",
        "        return tf.nn.sigmoid(tf.matmul(visible, w) + hb)\n",
        "    # backward pass\n",
        "    def prob_v_given_h(self, hidden, w, vb):\n",
        "        return tf.nn.sigmoid(tf.matmul(hidden, tf.transpose(w)) + vb)\n",
        "    # sampling function\n",
        "    def sample_prob(self, probs):\n",
        "        return tf.nn.relu(tf.sign(probs - tf.random_uniform(tf.shape(probs))))\n",
        "\n",
        "    def train(self, X):\n",
        "        _w = tf.placeholder(tf.float32, [self._input_size, self._output_size])\n",
        "        _hb = tf.placeholder(tf.float32, [self._output_size])\n",
        "        _vb = tf.placeholder(tf.float32, [self._input_size])\n",
        "        \n",
        "        prv_w = np.zeros([self._input_size, self._output_size], dtype=np.float32)\n",
        "        prv_hb = np.zeros([self._output_size], dtype=np.float32)\n",
        "        prv_vb = np.zeros([self._input_size], dtype=np.float32)\n",
        "        \n",
        "        cur_w = np.zeros([self._input_size, self._output_size], dtype=np.float32)\n",
        "        cur_hb = np.zeros([self._output_size], dtype=np.float32)\n",
        "        cur_vb = np.zeros([self._input_size], dtype=np.float32)\n",
        "        \n",
        "        v0 = tf.placeholder(tf.float32, [None, self._input_size])\n",
        "        h0 = self.sample_prob(self.prob_h_given_v(v0, _w, _hb))\n",
        "        v1 = self.sample_prob(self.prob_v_given_h(h0, _w, _vb))\n",
        "        h1 = self.prob_h_given_v(v1, _w, _hb)\n",
        "        #To update the weights, we perform constrastive divergence.\n",
        "        positive_grad = tf.matmul(tf.transpose(v0), h0)\n",
        "        negative_grad = tf.matmul(tf.transpose(v1), h1)\n",
        "        \n",
        "        update_w = _w + self.learning_rate * (positive_grad - negative_grad) / tf.to_float(tf.shape(v0)[0])\n",
        "        update_vb = _vb +  self.learning_rate * tf.reduce_mean(v0 - v1, 0)\n",
        "        update_hb = _hb +  self.learning_rate * tf.reduce_mean(h0 - h1, 0)\n",
        "        # We also define the error as the MSE\n",
        "        err = tf.reduce_mean(tf.square(v0 - v1))\n",
        "        \n",
        "        error_list = []\n",
        "\n",
        "        with tf.Session() as sess:\n",
        "            sess.run(tf.global_variables_initializer())\n",
        "            \n",
        "            for epoch in range(self.epochs):\n",
        "                for start, end in zip(range(0, len(X),  self.batchsize),range(self.batchsize,len(X), self.batchsize)):\n",
        "                    batch = X[start:end]\n",
        "                    cur_w = sess.run(update_w, feed_dict={v0: batch, _w: prv_w, _hb: prv_hb, _vb: prv_vb})\n",
        "                    cur_hb = sess.run(update_hb, feed_dict={v0: batch,  _w: prv_w, _hb: prv_hb, _vb: prv_vb})\n",
        "                    cur_vb = sess.run(update_vb, feed_dict={v0: batch, _w: prv_w, _hb: prv_hb, _vb: prv_vb})\n",
        "                    prv_w = cur_w\n",
        "                    prv_hb = cur_hb\n",
        "                    prv_vb = cur_vb\n",
        "                error = sess.run(err, feed_dict={v0: X, _w: cur_w, _vb: cur_vb, _hb: cur_hb})\n",
        "                print ('Epoch: %d' % epoch,'reconstruction error: %f' % error)\n",
        "                error_list.append(error)\n",
        "            self.w = prv_w\n",
        "            self.hb = prv_hb\n",
        "            self.vb = prv_vb\n",
        "            return error_list\n",
        "    #function to generate new features from the generative model that the RBM has learned\n",
        "    def rbm_output(self, X):\n",
        "        \n",
        "        input_X = tf.constant(X)\n",
        "        _w = tf.constant(self.w)\n",
        "        _hb = tf.constant(self.hb)\n",
        "        _vb = tf.constant(self.vb)\n",
        "        out = tf.nn.sigmoid(tf.matmul(input_X, _w) + _hb)\n",
        "        hiddenGen = self.sample_prob(self.prob_h_given_v(input_X, _w, _hb))\n",
        "        visibleGen = self.sample_prob(self.prob_v_given_h(hiddenGen, _w, _vb))\n",
        "        with tf.Session() as sess:\n",
        "            sess.run(tf.global_variables_initializer())\n",
        "            return sess.run(out), sess.run(visibleGen), sess.run(hiddenGen)"
      ],
      "execution_count": 314,
      "outputs": []
    },
    {
      "cell_type": "code",
      "metadata": {
        "id": "V0YjK0QsnQKb",
        "outputId": "b0117495-c88f-49b5-bb5a-0586bbf2d1cf",
        "colab": {
          "base_uri": "https://localhost:8080/",
          "height": 34
        }
      },
      "source": [
        "inputX = df.iloc[:,:-1].apply(func=normalize, axis=0).values\n",
        "inputY= df.iloc[:,-1].values\n",
        "print(type(inputX))\n",
        "inputX = inputX.astype(np.float32)\n",
        "\n",
        "#List to hold RBMs\n",
        "rbm_list = []\n",
        "\n",
        "#define parameters of RBMs we will train\n",
        "# 14-20-12-12-2\n",
        "\n",
        "# def __init__(self, input_size, output_size,learning_rate, epochs, batchsize):\n",
        "rbm_list.append(RBM(14, 20, 0.7500, 150, 70))\n",
        "rbm_list.append(RBM(20, 12, 0.7500, 150, 70))\n",
        "rbm_list.append(RBM(12, 12, 0.7500, 150, 70))"
      ],
      "execution_count": 398,
      "outputs": [
        {
          "output_type": "stream",
          "text": [
            "<class 'numpy.ndarray'>\n"
          ],
          "name": "stdout"
        }
      ]
    },
    {
      "cell_type": "code",
      "metadata": {
        "id": "niPCAo4fsOCp",
        "outputId": "8d44e8c8-d17e-4912-eee6-18524c616164",
        "colab": {
          "base_uri": "https://localhost:8080/",
          "height": 34
        }
      },
      "source": [
        "inputX.shape"
      ],
      "execution_count": 399,
      "outputs": [
        {
          "output_type": "execute_result",
          "data": {
            "text/plain": [
              "(55737, 14)"
            ]
          },
          "metadata": {
            "tags": []
          },
          "execution_count": 399
        }
      ]
    },
    {
      "cell_type": "code",
      "metadata": {
        "id": "-RFRdpvK4zBD"
      },
      "source": [
        "import tensorflow.compat.v1 as tf\n",
        "tf.disable_v2_behavior() "
      ],
      "execution_count": 400,
      "outputs": []
    },
    {
      "cell_type": "code",
      "metadata": {
        "id": "tCjl-ZFknQV0",
        "outputId": "da0c85ce-c9d6-487e-e241-d4f7905354f7",
        "colab": {
          "base_uri": "https://localhost:8080/",
          "height": 1000
        }
      },
      "source": [
        "outputList = []\n",
        "error_list = []\n",
        "\n",
        "#For each RBM in out list\n",
        "for i in range(0, len(rbm_list)):\n",
        "    print('RBM', i+1)\n",
        "    #Train new RBM\n",
        "    rbm = rbm_list[i]\n",
        "    err = rbm.train(inputX)\n",
        "    error_list.append(err)\n",
        "\n",
        "    #Return output layer\n",
        "    #sess.run(out), sess.run(visibleGen), sess.run(hiddenGen)\n",
        "    outputX, reconstructedX, hiddenX = rbm.rbm_output(inputX)\n",
        "    outputList.append(outputX)\n",
        "    inputX= hiddenX"
      ],
      "execution_count": 401,
      "outputs": [
        {
          "output_type": "stream",
          "text": [
            "RBM 1\n",
            "Epoch: 0 reconstruction error: 0.095266\n",
            "Epoch: 1 reconstruction error: 0.085867\n",
            "Epoch: 2 reconstruction error: 0.081685\n",
            "Epoch: 3 reconstruction error: 0.080772\n",
            "Epoch: 4 reconstruction error: 0.083711\n",
            "Epoch: 5 reconstruction error: 0.080936\n",
            "Epoch: 6 reconstruction error: 0.084226\n",
            "Epoch: 7 reconstruction error: 0.077687\n",
            "Epoch: 8 reconstruction error: 0.082061\n",
            "Epoch: 9 reconstruction error: 0.084659\n",
            "Epoch: 10 reconstruction error: 0.079265\n",
            "Epoch: 11 reconstruction error: 0.075306\n",
            "Epoch: 12 reconstruction error: 0.075060\n",
            "Epoch: 13 reconstruction error: 0.075186\n",
            "Epoch: 14 reconstruction error: 0.076995\n",
            "Epoch: 15 reconstruction error: 0.074771\n",
            "Epoch: 16 reconstruction error: 0.076250\n",
            "Epoch: 17 reconstruction error: 0.072575\n",
            "Epoch: 18 reconstruction error: 0.077125\n",
            "Epoch: 19 reconstruction error: 0.074859\n",
            "Epoch: 20 reconstruction error: 0.073717\n",
            "Epoch: 21 reconstruction error: 0.072818\n",
            "Epoch: 22 reconstruction error: 0.079105\n",
            "Epoch: 23 reconstruction error: 0.073906\n",
            "Epoch: 24 reconstruction error: 0.073784\n",
            "Epoch: 25 reconstruction error: 0.076701\n",
            "Epoch: 26 reconstruction error: 0.074287\n",
            "Epoch: 27 reconstruction error: 0.076139\n",
            "Epoch: 28 reconstruction error: 0.075727\n",
            "Epoch: 29 reconstruction error: 0.074161\n",
            "Epoch: 30 reconstruction error: 0.073368\n",
            "Epoch: 31 reconstruction error: 0.073012\n",
            "Epoch: 32 reconstruction error: 0.075816\n",
            "Epoch: 33 reconstruction error: 0.076279\n",
            "Epoch: 34 reconstruction error: 0.079016\n",
            "Epoch: 35 reconstruction error: 0.076103\n",
            "Epoch: 36 reconstruction error: 0.073341\n",
            "Epoch: 37 reconstruction error: 0.075392\n",
            "Epoch: 38 reconstruction error: 0.073697\n",
            "Epoch: 39 reconstruction error: 0.074218\n",
            "Epoch: 40 reconstruction error: 0.076513\n",
            "Epoch: 41 reconstruction error: 0.074901\n",
            "Epoch: 42 reconstruction error: 0.071506\n",
            "Epoch: 43 reconstruction error: 0.075087\n",
            "Epoch: 44 reconstruction error: 0.073495\n",
            "Epoch: 45 reconstruction error: 0.072381\n",
            "Epoch: 46 reconstruction error: 0.077581\n",
            "Epoch: 47 reconstruction error: 0.076974\n",
            "Epoch: 48 reconstruction error: 0.072872\n",
            "Epoch: 49 reconstruction error: 0.075291\n",
            "Epoch: 50 reconstruction error: 0.073056\n",
            "Epoch: 51 reconstruction error: 0.073711\n",
            "Epoch: 52 reconstruction error: 0.073699\n",
            "Epoch: 53 reconstruction error: 0.072147\n",
            "Epoch: 54 reconstruction error: 0.071588\n",
            "Epoch: 55 reconstruction error: 0.074882\n",
            "Epoch: 56 reconstruction error: 0.071799\n",
            "Epoch: 57 reconstruction error: 0.076821\n",
            "Epoch: 58 reconstruction error: 0.073223\n",
            "Epoch: 59 reconstruction error: 0.072200\n",
            "Epoch: 60 reconstruction error: 0.074851\n",
            "Epoch: 61 reconstruction error: 0.075845\n",
            "Epoch: 62 reconstruction error: 0.077334\n",
            "Epoch: 63 reconstruction error: 0.077208\n",
            "Epoch: 64 reconstruction error: 0.073109\n",
            "Epoch: 65 reconstruction error: 0.074751\n",
            "Epoch: 66 reconstruction error: 0.071675\n",
            "Epoch: 67 reconstruction error: 0.075961\n",
            "Epoch: 68 reconstruction error: 0.072846\n",
            "Epoch: 69 reconstruction error: 0.073637\n",
            "Epoch: 70 reconstruction error: 0.071709\n",
            "Epoch: 71 reconstruction error: 0.076222\n",
            "Epoch: 72 reconstruction error: 0.072256\n",
            "Epoch: 73 reconstruction error: 0.072855\n",
            "Epoch: 74 reconstruction error: 0.073954\n",
            "Epoch: 75 reconstruction error: 0.076835\n",
            "Epoch: 76 reconstruction error: 0.076862\n",
            "Epoch: 77 reconstruction error: 0.073392\n",
            "Epoch: 78 reconstruction error: 0.074101\n",
            "Epoch: 79 reconstruction error: 0.078673\n",
            "Epoch: 80 reconstruction error: 0.074892\n",
            "Epoch: 81 reconstruction error: 0.074331\n",
            "Epoch: 82 reconstruction error: 0.073528\n",
            "Epoch: 83 reconstruction error: 0.074975\n",
            "Epoch: 84 reconstruction error: 0.071287\n",
            "Epoch: 85 reconstruction error: 0.071726\n",
            "Epoch: 86 reconstruction error: 0.078326\n",
            "Epoch: 87 reconstruction error: 0.079025\n",
            "Epoch: 88 reconstruction error: 0.074975\n",
            "Epoch: 89 reconstruction error: 0.075770\n",
            "Epoch: 90 reconstruction error: 0.071912\n",
            "Epoch: 91 reconstruction error: 0.070517\n",
            "Epoch: 92 reconstruction error: 0.076769\n",
            "Epoch: 93 reconstruction error: 0.075465\n",
            "Epoch: 94 reconstruction error: 0.073798\n",
            "Epoch: 95 reconstruction error: 0.074774\n",
            "Epoch: 96 reconstruction error: 0.075744\n",
            "Epoch: 97 reconstruction error: 0.073805\n",
            "Epoch: 98 reconstruction error: 0.073782\n",
            "Epoch: 99 reconstruction error: 0.075900\n",
            "Epoch: 100 reconstruction error: 0.075184\n",
            "Epoch: 101 reconstruction error: 0.071555\n",
            "Epoch: 102 reconstruction error: 0.073267\n",
            "Epoch: 103 reconstruction error: 0.073069\n",
            "Epoch: 104 reconstruction error: 0.077819\n",
            "Epoch: 105 reconstruction error: 0.072295\n",
            "Epoch: 106 reconstruction error: 0.072111\n",
            "Epoch: 107 reconstruction error: 0.076490\n",
            "Epoch: 108 reconstruction error: 0.072374\n",
            "Epoch: 109 reconstruction error: 0.074066\n",
            "Epoch: 110 reconstruction error: 0.071857\n",
            "Epoch: 111 reconstruction error: 0.076503\n",
            "Epoch: 112 reconstruction error: 0.073452\n",
            "Epoch: 113 reconstruction error: 0.072590\n",
            "Epoch: 114 reconstruction error: 0.074582\n",
            "Epoch: 115 reconstruction error: 0.075586\n",
            "Epoch: 116 reconstruction error: 0.071165\n",
            "Epoch: 117 reconstruction error: 0.075115\n",
            "Epoch: 118 reconstruction error: 0.074365\n",
            "Epoch: 119 reconstruction error: 0.074311\n",
            "Epoch: 120 reconstruction error: 0.075278\n",
            "Epoch: 121 reconstruction error: 0.073467\n",
            "Epoch: 122 reconstruction error: 0.070570\n",
            "Epoch: 123 reconstruction error: 0.073589\n",
            "Epoch: 124 reconstruction error: 0.076350\n",
            "Epoch: 125 reconstruction error: 0.077127\n",
            "Epoch: 126 reconstruction error: 0.074863\n",
            "Epoch: 127 reconstruction error: 0.074334\n",
            "Epoch: 128 reconstruction error: 0.074493\n",
            "Epoch: 129 reconstruction error: 0.073067\n",
            "Epoch: 130 reconstruction error: 0.074726\n",
            "Epoch: 131 reconstruction error: 0.072621\n",
            "Epoch: 132 reconstruction error: 0.073728\n",
            "Epoch: 133 reconstruction error: 0.075286\n",
            "Epoch: 134 reconstruction error: 0.073139\n",
            "Epoch: 135 reconstruction error: 0.073715\n",
            "Epoch: 136 reconstruction error: 0.071259\n",
            "Epoch: 137 reconstruction error: 0.072403\n",
            "Epoch: 138 reconstruction error: 0.072508\n",
            "Epoch: 139 reconstruction error: 0.071960\n",
            "Epoch: 140 reconstruction error: 0.074478\n",
            "Epoch: 141 reconstruction error: 0.075050\n",
            "Epoch: 142 reconstruction error: 0.075274\n",
            "Epoch: 143 reconstruction error: 0.070866\n",
            "Epoch: 144 reconstruction error: 0.071940\n",
            "Epoch: 145 reconstruction error: 0.073863\n",
            "Epoch: 146 reconstruction error: 0.073749\n",
            "Epoch: 147 reconstruction error: 0.075382\n",
            "Epoch: 148 reconstruction error: 0.075517\n",
            "Epoch: 149 reconstruction error: 0.073836\n",
            "RBM 2\n",
            "Epoch: 0 reconstruction error: 0.001599\n",
            "Epoch: 1 reconstruction error: 0.001458\n",
            "Epoch: 2 reconstruction error: 0.001405\n",
            "Epoch: 3 reconstruction error: 0.001613\n",
            "Epoch: 4 reconstruction error: 0.001514\n",
            "Epoch: 5 reconstruction error: 0.001616\n",
            "Epoch: 6 reconstruction error: 0.001400\n",
            "Epoch: 7 reconstruction error: 0.001555\n",
            "Epoch: 8 reconstruction error: 0.001523\n",
            "Epoch: 9 reconstruction error: 0.001353\n",
            "Epoch: 10 reconstruction error: 0.001463\n",
            "Epoch: 11 reconstruction error: 0.001543\n",
            "Epoch: 12 reconstruction error: 0.001492\n",
            "Epoch: 13 reconstruction error: 0.001547\n",
            "Epoch: 14 reconstruction error: 0.001534\n",
            "Epoch: 15 reconstruction error: 0.001439\n",
            "Epoch: 16 reconstruction error: 0.001564\n",
            "Epoch: 17 reconstruction error: 0.001512\n",
            "Epoch: 18 reconstruction error: 0.001505\n",
            "Epoch: 19 reconstruction error: 0.001486\n",
            "Epoch: 20 reconstruction error: 0.001549\n",
            "Epoch: 21 reconstruction error: 0.001538\n",
            "Epoch: 22 reconstruction error: 0.001510\n",
            "Epoch: 23 reconstruction error: 0.001529\n",
            "Epoch: 24 reconstruction error: 0.001448\n",
            "Epoch: 25 reconstruction error: 0.001529\n",
            "Epoch: 26 reconstruction error: 0.001506\n",
            "Epoch: 27 reconstruction error: 0.001591\n",
            "Epoch: 28 reconstruction error: 0.001528\n",
            "Epoch: 29 reconstruction error: 0.001490\n",
            "Epoch: 30 reconstruction error: 0.001543\n",
            "Epoch: 31 reconstruction error: 0.001425\n",
            "Epoch: 32 reconstruction error: 0.001437\n",
            "Epoch: 33 reconstruction error: 0.001532\n",
            "Epoch: 34 reconstruction error: 0.001363\n",
            "Epoch: 35 reconstruction error: 0.001494\n",
            "Epoch: 36 reconstruction error: 0.001618\n",
            "Epoch: 37 reconstruction error: 0.001689\n",
            "Epoch: 38 reconstruction error: 0.001556\n",
            "Epoch: 39 reconstruction error: 0.001459\n",
            "Epoch: 40 reconstruction error: 0.001460\n",
            "Epoch: 41 reconstruction error: 0.001443\n",
            "Epoch: 42 reconstruction error: 0.001527\n",
            "Epoch: 43 reconstruction error: 0.001518\n",
            "Epoch: 44 reconstruction error: 0.001510\n",
            "Epoch: 45 reconstruction error: 0.001494\n",
            "Epoch: 46 reconstruction error: 0.001567\n",
            "Epoch: 47 reconstruction error: 0.001489\n",
            "Epoch: 48 reconstruction error: 0.001508\n",
            "Epoch: 49 reconstruction error: 0.001506\n",
            "Epoch: 50 reconstruction error: 0.001462\n",
            "Epoch: 51 reconstruction error: 0.001505\n",
            "Epoch: 52 reconstruction error: 0.001419\n",
            "Epoch: 53 reconstruction error: 0.001415\n",
            "Epoch: 54 reconstruction error: 0.001413\n",
            "Epoch: 55 reconstruction error: 0.001480\n",
            "Epoch: 56 reconstruction error: 0.001492\n",
            "Epoch: 57 reconstruction error: 0.001425\n",
            "Epoch: 58 reconstruction error: 0.001410\n",
            "Epoch: 59 reconstruction error: 0.001446\n",
            "Epoch: 60 reconstruction error: 0.001561\n",
            "Epoch: 61 reconstruction error: 0.001524\n",
            "Epoch: 62 reconstruction error: 0.001525\n",
            "Epoch: 63 reconstruction error: 0.001418\n",
            "Epoch: 64 reconstruction error: 0.001461\n",
            "Epoch: 65 reconstruction error: 0.001410\n",
            "Epoch: 66 reconstruction error: 0.001542\n",
            "Epoch: 67 reconstruction error: 0.001475\n",
            "Epoch: 68 reconstruction error: 0.001433\n",
            "Epoch: 69 reconstruction error: 0.001446\n",
            "Epoch: 70 reconstruction error: 0.001408\n",
            "Epoch: 71 reconstruction error: 0.001567\n",
            "Epoch: 72 reconstruction error: 0.001418\n",
            "Epoch: 73 reconstruction error: 0.001539\n",
            "Epoch: 74 reconstruction error: 0.001559\n",
            "Epoch: 75 reconstruction error: 0.001445\n",
            "Epoch: 76 reconstruction error: 0.001493\n",
            "Epoch: 77 reconstruction error: 0.001506\n",
            "Epoch: 78 reconstruction error: 0.001488\n",
            "Epoch: 79 reconstruction error: 0.001426\n",
            "Epoch: 80 reconstruction error: 0.001498\n",
            "Epoch: 81 reconstruction error: 0.001416\n",
            "Epoch: 82 reconstruction error: 0.001555\n",
            "Epoch: 83 reconstruction error: 0.001476\n",
            "Epoch: 84 reconstruction error: 0.001453\n",
            "Epoch: 85 reconstruction error: 0.001470\n",
            "Epoch: 86 reconstruction error: 0.001415\n",
            "Epoch: 87 reconstruction error: 0.001418\n",
            "Epoch: 88 reconstruction error: 0.001466\n",
            "Epoch: 89 reconstruction error: 0.001461\n",
            "Epoch: 90 reconstruction error: 0.001416\n",
            "Epoch: 91 reconstruction error: 0.001493\n",
            "Epoch: 92 reconstruction error: 0.001460\n",
            "Epoch: 93 reconstruction error: 0.001476\n",
            "Epoch: 94 reconstruction error: 0.001477\n",
            "Epoch: 95 reconstruction error: 0.001378\n",
            "Epoch: 96 reconstruction error: 0.001438\n",
            "Epoch: 97 reconstruction error: 0.001625\n",
            "Epoch: 98 reconstruction error: 0.001713\n",
            "Epoch: 99 reconstruction error: 0.001418\n",
            "Epoch: 100 reconstruction error: 0.001457\n",
            "Epoch: 101 reconstruction error: 0.001537\n",
            "Epoch: 102 reconstruction error: 0.001542\n",
            "Epoch: 103 reconstruction error: 0.001478\n",
            "Epoch: 104 reconstruction error: 0.001473\n",
            "Epoch: 105 reconstruction error: 0.001428\n",
            "Epoch: 106 reconstruction error: 0.001477\n",
            "Epoch: 107 reconstruction error: 0.001458\n",
            "Epoch: 108 reconstruction error: 0.001456\n",
            "Epoch: 109 reconstruction error: 0.001517\n",
            "Epoch: 110 reconstruction error: 0.001405\n",
            "Epoch: 111 reconstruction error: 0.001408\n",
            "Epoch: 112 reconstruction error: 0.001471\n",
            "Epoch: 113 reconstruction error: 0.001417\n",
            "Epoch: 114 reconstruction error: 0.001476\n",
            "Epoch: 115 reconstruction error: 0.001417\n",
            "Epoch: 116 reconstruction error: 0.001511\n",
            "Epoch: 117 reconstruction error: 0.001489\n",
            "Epoch: 118 reconstruction error: 0.001512\n",
            "Epoch: 119 reconstruction error: 0.001472\n",
            "Epoch: 120 reconstruction error: 0.001441\n",
            "Epoch: 121 reconstruction error: 0.001451\n",
            "Epoch: 122 reconstruction error: 0.001515\n",
            "Epoch: 123 reconstruction error: 0.001484\n",
            "Epoch: 124 reconstruction error: 0.001477\n",
            "Epoch: 125 reconstruction error: 0.001445\n",
            "Epoch: 126 reconstruction error: 0.001513\n",
            "Epoch: 127 reconstruction error: 0.001469\n",
            "Epoch: 128 reconstruction error: 0.001508\n",
            "Epoch: 129 reconstruction error: 0.001459\n",
            "Epoch: 130 reconstruction error: 0.001513\n",
            "Epoch: 131 reconstruction error: 0.001564\n",
            "Epoch: 132 reconstruction error: 0.001361\n",
            "Epoch: 133 reconstruction error: 0.001530\n",
            "Epoch: 134 reconstruction error: 0.001438\n",
            "Epoch: 135 reconstruction error: 0.001422\n",
            "Epoch: 136 reconstruction error: 0.001430\n",
            "Epoch: 137 reconstruction error: 0.001416\n",
            "Epoch: 138 reconstruction error: 0.001496\n",
            "Epoch: 139 reconstruction error: 0.001413\n",
            "Epoch: 140 reconstruction error: 0.001495\n",
            "Epoch: 141 reconstruction error: 0.001511\n",
            "Epoch: 142 reconstruction error: 0.001402\n",
            "Epoch: 143 reconstruction error: 0.001461\n",
            "Epoch: 144 reconstruction error: 0.001460\n",
            "Epoch: 145 reconstruction error: 0.001445\n",
            "Epoch: 146 reconstruction error: 0.001534\n",
            "Epoch: 147 reconstruction error: 0.001328\n",
            "Epoch: 148 reconstruction error: 0.001535\n",
            "Epoch: 149 reconstruction error: 0.001391\n",
            "RBM 3\n",
            "Epoch: 0 reconstruction error: 0.003485\n",
            "Epoch: 1 reconstruction error: 0.002857\n",
            "Epoch: 2 reconstruction error: 0.002732\n",
            "Epoch: 3 reconstruction error: 0.002799\n",
            "Epoch: 4 reconstruction error: 0.002865\n",
            "Epoch: 5 reconstruction error: 0.003065\n",
            "Epoch: 6 reconstruction error: 0.002797\n",
            "Epoch: 7 reconstruction error: 0.003152\n",
            "Epoch: 8 reconstruction error: 0.003216\n",
            "Epoch: 9 reconstruction error: 0.003071\n",
            "Epoch: 10 reconstruction error: 0.003025\n",
            "Epoch: 11 reconstruction error: 0.002975\n",
            "Epoch: 12 reconstruction error: 0.002806\n",
            "Epoch: 13 reconstruction error: 0.002817\n",
            "Epoch: 14 reconstruction error: 0.002868\n",
            "Epoch: 15 reconstruction error: 0.002884\n",
            "Epoch: 16 reconstruction error: 0.002681\n",
            "Epoch: 17 reconstruction error: 0.002727\n",
            "Epoch: 18 reconstruction error: 0.002974\n",
            "Epoch: 19 reconstruction error: 0.002883\n",
            "Epoch: 20 reconstruction error: 0.002932\n",
            "Epoch: 21 reconstruction error: 0.002926\n",
            "Epoch: 22 reconstruction error: 0.002989\n",
            "Epoch: 23 reconstruction error: 0.002802\n",
            "Epoch: 24 reconstruction error: 0.002661\n",
            "Epoch: 25 reconstruction error: 0.002678\n",
            "Epoch: 26 reconstruction error: 0.002826\n",
            "Epoch: 27 reconstruction error: 0.002847\n",
            "Epoch: 28 reconstruction error: 0.003014\n",
            "Epoch: 29 reconstruction error: 0.002905\n",
            "Epoch: 30 reconstruction error: 0.002793\n",
            "Epoch: 31 reconstruction error: 0.002908\n",
            "Epoch: 32 reconstruction error: 0.003226\n",
            "Epoch: 33 reconstruction error: 0.002714\n",
            "Epoch: 34 reconstruction error: 0.002658\n",
            "Epoch: 35 reconstruction error: 0.003068\n",
            "Epoch: 36 reconstruction error: 0.002971\n",
            "Epoch: 37 reconstruction error: 0.002756\n",
            "Epoch: 38 reconstruction error: 0.002824\n",
            "Epoch: 39 reconstruction error: 0.002829\n",
            "Epoch: 40 reconstruction error: 0.002833\n",
            "Epoch: 41 reconstruction error: 0.002694\n",
            "Epoch: 42 reconstruction error: 0.002732\n",
            "Epoch: 43 reconstruction error: 0.002899\n",
            "Epoch: 44 reconstruction error: 0.002775\n",
            "Epoch: 45 reconstruction error: 0.002839\n",
            "Epoch: 46 reconstruction error: 0.002744\n",
            "Epoch: 47 reconstruction error: 0.002700\n",
            "Epoch: 48 reconstruction error: 0.002714\n",
            "Epoch: 49 reconstruction error: 0.002802\n",
            "Epoch: 50 reconstruction error: 0.002841\n",
            "Epoch: 51 reconstruction error: 0.002799\n",
            "Epoch: 52 reconstruction error: 0.002658\n",
            "Epoch: 53 reconstruction error: 0.002590\n",
            "Epoch: 54 reconstruction error: 0.002610\n",
            "Epoch: 55 reconstruction error: 0.002944\n",
            "Epoch: 56 reconstruction error: 0.002756\n",
            "Epoch: 57 reconstruction error: 0.002688\n",
            "Epoch: 58 reconstruction error: 0.002785\n",
            "Epoch: 59 reconstruction error: 0.002697\n",
            "Epoch: 60 reconstruction error: 0.002672\n",
            "Epoch: 61 reconstruction error: 0.002742\n",
            "Epoch: 62 reconstruction error: 0.002862\n",
            "Epoch: 63 reconstruction error: 0.002764\n",
            "Epoch: 64 reconstruction error: 0.002778\n",
            "Epoch: 65 reconstruction error: 0.002779\n",
            "Epoch: 66 reconstruction error: 0.002715\n",
            "Epoch: 67 reconstruction error: 0.002664\n",
            "Epoch: 68 reconstruction error: 0.002658\n",
            "Epoch: 69 reconstruction error: 0.002775\n",
            "Epoch: 70 reconstruction error: 0.002808\n",
            "Epoch: 71 reconstruction error: 0.002703\n",
            "Epoch: 72 reconstruction error: 0.002642\n",
            "Epoch: 73 reconstruction error: 0.002631\n",
            "Epoch: 74 reconstruction error: 0.002594\n",
            "Epoch: 75 reconstruction error: 0.002596\n",
            "Epoch: 76 reconstruction error: 0.002483\n",
            "Epoch: 77 reconstruction error: 0.002724\n",
            "Epoch: 78 reconstruction error: 0.002643\n",
            "Epoch: 79 reconstruction error: 0.002685\n",
            "Epoch: 80 reconstruction error: 0.002682\n",
            "Epoch: 81 reconstruction error: 0.002760\n",
            "Epoch: 82 reconstruction error: 0.002631\n",
            "Epoch: 83 reconstruction error: 0.002673\n",
            "Epoch: 84 reconstruction error: 0.002688\n",
            "Epoch: 85 reconstruction error: 0.002669\n",
            "Epoch: 86 reconstruction error: 0.002642\n",
            "Epoch: 87 reconstruction error: 0.002600\n",
            "Epoch: 88 reconstruction error: 0.002613\n",
            "Epoch: 89 reconstruction error: 0.002790\n",
            "Epoch: 90 reconstruction error: 0.002610\n",
            "Epoch: 91 reconstruction error: 0.002739\n",
            "Epoch: 92 reconstruction error: 0.002690\n",
            "Epoch: 93 reconstruction error: 0.002675\n",
            "Epoch: 94 reconstruction error: 0.002770\n",
            "Epoch: 95 reconstruction error: 0.002558\n",
            "Epoch: 96 reconstruction error: 0.002560\n",
            "Epoch: 97 reconstruction error: 0.002596\n",
            "Epoch: 98 reconstruction error: 0.002829\n",
            "Epoch: 99 reconstruction error: 0.002688\n",
            "Epoch: 100 reconstruction error: 0.002582\n",
            "Epoch: 101 reconstruction error: 0.002551\n",
            "Epoch: 102 reconstruction error: 0.002609\n",
            "Epoch: 103 reconstruction error: 0.002657\n",
            "Epoch: 104 reconstruction error: 0.002409\n",
            "Epoch: 105 reconstruction error: 0.002661\n",
            "Epoch: 106 reconstruction error: 0.002543\n",
            "Epoch: 107 reconstruction error: 0.002633\n",
            "Epoch: 108 reconstruction error: 0.002497\n",
            "Epoch: 109 reconstruction error: 0.002673\n",
            "Epoch: 110 reconstruction error: 0.002498\n",
            "Epoch: 111 reconstruction error: 0.002817\n",
            "Epoch: 112 reconstruction error: 0.002609\n",
            "Epoch: 113 reconstruction error: 0.002552\n",
            "Epoch: 114 reconstruction error: 0.002712\n",
            "Epoch: 115 reconstruction error: 0.002794\n",
            "Epoch: 116 reconstruction error: 0.002661\n",
            "Epoch: 117 reconstruction error: 0.002509\n",
            "Epoch: 118 reconstruction error: 0.002630\n",
            "Epoch: 119 reconstruction error: 0.002652\n",
            "Epoch: 120 reconstruction error: 0.002684\n",
            "Epoch: 121 reconstruction error: 0.002485\n",
            "Epoch: 122 reconstruction error: 0.002573\n",
            "Epoch: 123 reconstruction error: 0.002593\n",
            "Epoch: 124 reconstruction error: 0.002661\n",
            "Epoch: 125 reconstruction error: 0.002473\n",
            "Epoch: 126 reconstruction error: 0.002483\n",
            "Epoch: 127 reconstruction error: 0.002374\n",
            "Epoch: 128 reconstruction error: 0.002317\n",
            "Epoch: 129 reconstruction error: 0.002448\n",
            "Epoch: 130 reconstruction error: 0.002622\n",
            "Epoch: 131 reconstruction error: 0.002579\n",
            "Epoch: 132 reconstruction error: 0.002625\n",
            "Epoch: 133 reconstruction error: 0.002398\n",
            "Epoch: 134 reconstruction error: 0.002456\n",
            "Epoch: 135 reconstruction error: 0.002667\n",
            "Epoch: 136 reconstruction error: 0.002639\n",
            "Epoch: 137 reconstruction error: 0.002896\n",
            "Epoch: 138 reconstruction error: 0.002697\n",
            "Epoch: 139 reconstruction error: 0.002700\n",
            "Epoch: 140 reconstruction error: 0.002696\n",
            "Epoch: 141 reconstruction error: 0.002572\n",
            "Epoch: 142 reconstruction error: 0.002757\n",
            "Epoch: 143 reconstruction error: 0.002636\n",
            "Epoch: 144 reconstruction error: 0.002506\n",
            "Epoch: 145 reconstruction error: 0.002658\n",
            "Epoch: 146 reconstruction error: 0.002702\n",
            "Epoch: 147 reconstruction error: 0.002640\n",
            "Epoch: 148 reconstruction error: 0.002602\n",
            "Epoch: 149 reconstruction error: 0.002486\n"
          ],
          "name": "stdout"
        }
      ]
    },
    {
      "cell_type": "code",
      "metadata": {
        "id": "8_JW0RV4nQYG",
        "outputId": "3719550f-da93-44c0-f285-a8a7e51a8e5d",
        "colab": {
          "base_uri": "https://localhost:8080/",
          "height": 854
        }
      },
      "source": [
        "i = 1\n",
        "for err in error_list:\n",
        "    print(\"RBM\",i)\n",
        "    pd.Series(err).plot(logy=False)\n",
        "    plt.xlabel(\"Epoch\")\n",
        "    plt.ylabel(\"Reconstruction Error\")\n",
        "    plt.show()\n",
        "    i += 1"
      ],
      "execution_count": 402,
      "outputs": [
        {
          "output_type": "stream",
          "text": [
            "RBM 1\n"
          ],
          "name": "stdout"
        },
        {
          "output_type": "display_data",
          "data": {
            "image/png": "[encoded data removed]",
            "text/plain": [
              "<Figure size 432x288 with 1 Axes>"
            ]
          },
          "metadata": {
            "tags": [],
            "needs_background": "light"
          }
        },
        {
          "output_type": "stream",
          "text": [
            "RBM 2\n"
          ],
          "name": "stdout"
        },
        {
          "output_type": "display_data",
          "data": {
            "image/png": "[encoded data removed]",
            "text/plain": [
              "<Figure size 432x288 with 1 Axes>"
            ]
          },
          "metadata": {
            "tags": [],
            "needs_background": "light"
          }
        },
        {
          "output_type": "stream",
          "text": [
            "RBM 3\n"
          ],
          "name": "stdout"
        },
        {
          "output_type": "display_data",
          "data": {
            "image/png": "[encoded data removed]",
            "text/plain": [
              "<Figure size 432x288 with 1 Axes>"
            ]
          },
          "metadata": {
            "tags": [],
            "needs_background": "light"
          }
        }
      ]
    },
    {
      "cell_type": "code",
      "metadata": {
        "id": "uoCYLrWUpO_J",
        "outputId": "71486e95-b0fc-47ab-9ef8-1917999451b1",
        "colab": {
          "base_uri": "https://localhost:8080/",
          "height": 34
        }
      },
      "source": [
        "outputX.shape"
      ],
      "execution_count": 403,
      "outputs": [
        {
          "output_type": "execute_result",
          "data": {
            "text/plain": [
              "(55737, 12)"
            ]
          },
          "metadata": {
            "tags": []
          },
          "execution_count": 403
        }
      ]
    },
    {
      "cell_type": "markdown",
      "metadata": {
        "id": "geqQzlYJggJO"
      },
      "source": [
        "##**Classifier**(ANN)\n"
      ]
    },
    {
      "cell_type": "markdown",
      "metadata": {
        "id": "XnD1eSoctpxd"
      },
      "source": [
        "Used outputX as the Input for the Classifer"
      ]
    },
    {
      "cell_type": "markdown",
      "metadata": {
        "id": "vwz4lT3G0CpZ"
      },
      "source": [
        "Artificial Neural Network Classifier"
      ]
    },
    {
      "cell_type": "code",
      "metadata": {
        "id": "ej6X_Mw5zoYG"
      },
      "source": [
        "import keras\n",
        "from keras.models import Sequential\n",
        "from keras.layers import Dense"
      ],
      "execution_count": 404,
      "outputs": []
    },
    {
      "cell_type": "code",
      "metadata": {
        "id": "h5eQ4cIKqrvx",
        "outputId": "36cdcf9d-c802-4a2e-ae07-6c9bad831de2",
        "colab": {
          "base_uri": "https://localhost:8080/",
          "height": 34
        }
      },
      "source": [
        "numrows = len(train_Y)\n",
        "split = (int)(0.8 * numrows)\n",
        "split"
      ],
      "execution_count": 405,
      "outputs": [
        {
          "output_type": "execute_result",
          "data": {
            "text/plain": [
              "44589"
            ]
          },
          "metadata": {
            "tags": []
          },
          "execution_count": 405
        }
      ]
    },
    {
      "cell_type": "code",
      "metadata": {
        "id": "LcUnoCvTgej0",
        "outputId": "cdddf97d-0601-4e8f-c23e-74f6689676d7",
        "colab": {
          "base_uri": "https://localhost:8080/",
          "height": 34
        }
      },
      "source": [
        "Y_Train = train_Y.iloc[:split].values\n",
        "Y_Train.shape\n",
        "\n",
        "Y_Test = train_Y.iloc[split + 1:].values\n",
        "Y_Test.shape"
      ],
      "execution_count": 406,
      "outputs": [
        {
          "output_type": "execute_result",
          "data": {
            "text/plain": [
              "(11147,)"
            ]
          },
          "metadata": {
            "tags": []
          },
          "execution_count": 406
        }
      ]
    },
    {
      "cell_type": "code",
      "metadata": {
        "id": "wed-jco60HTJ"
      },
      "source": [
        "X_New_Train = outputX\n",
        "X_New_Train = X_New_Train[:split, :]\n",
        "Y_Train = Y_Train.reshape((-1,1))"
      ],
      "execution_count": 407,
      "outputs": []
    },
    {
      "cell_type": "code",
      "metadata": {
        "id": "Mym9H7wTfo2F",
        "outputId": "f6175ed4-1cbb-4a59-ed5a-d2b3682569b6",
        "colab": {
          "base_uri": "https://localhost:8080/",
          "height": 34
        }
      },
      "source": [
        "np.count_nonzero(Y_Train)"
      ],
      "execution_count": 408,
      "outputs": [
        {
          "output_type": "execute_result",
          "data": {
            "text/plain": [
              "22358"
            ]
          },
          "metadata": {
            "tags": []
          },
          "execution_count": 408
        }
      ]
    },
    {
      "cell_type": "code",
      "metadata": {
        "id": "8gW8d5XAl5O7"
      },
      "source": [
        "X_Test = outputX\n",
        "X_Test = X_Test[split + 1:, :]"
      ],
      "execution_count": 409,
      "outputs": []
    },
    {
      "cell_type": "code",
      "metadata": {
        "id": "BwzVbQ4k0F74",
        "outputId": "0e16ea17-1193-4468-83f2-bcf5f7dc9d15",
        "colab": {
          "base_uri": "https://localhost:8080/",
          "height": 1000
        }
      },
      "source": [
        "classifier = Sequential()\n",
        "\n",
        "# CHECK outputX_DBN for input dim\n",
        "classifier.add(Dense (6, activation = 'relu', input_dim = 12))\n",
        "\n",
        "#hidden\n",
        "classifier.add(Dense (6, activation = 'relu'))\n",
        "\n",
        "#output\n",
        "classifier.add(Dense(1, activation = 'sigmoid'))\n",
        "# optimizer = keras.optimizers.Adam(lr=0.002)\n",
        "# classifier.compile(optimizer = optimizer, loss = 'binary_crossentropy', metrics = ['accuracy'])\n",
        "\n",
        "classifier.compile(optimizer = 'Adam', loss = 'binary_crossentropy', metrics = ['accuracy'])\n",
        "\n",
        "classifier.fit(X_New_Train, Y_Train, batch_size = 100, epochs = 200)"
      ],
      "execution_count": 410,
      "outputs": [
        {
          "output_type": "stream",
          "text": [
            "Train on 44589 samples\n",
            "Epoch 1/200\n",
            "44589/44589 [==============================] - 1s 12us/sample - loss: 0.6790 - acc: 0.5883\n",
            "Epoch 2/200\n",
            "44589/44589 [==============================] - 1s 12us/sample - loss: 0.6681 - acc: 0.6117\n",
            "Epoch 3/200\n",
            "44589/44589 [==============================] - 1s 12us/sample - loss: 0.6680 - acc: 0.6115\n",
            "Epoch 4/200\n",
            "44589/44589 [==============================] - 1s 12us/sample - loss: 0.6679 - acc: 0.6115\n",
            "Epoch 5/200\n",
            "44589/44589 [==============================] - 1s 12us/sample - loss: 0.6680 - acc: 0.6117\n",
            "Epoch 6/200\n",
            "44589/44589 [==============================] - 1s 12us/sample - loss: 0.6679 - acc: 0.6118\n",
            "Epoch 7/200\n",
            "44589/44589 [==============================] - 1s 12us/sample - loss: 0.6679 - acc: 0.6119\n",
            "Epoch 8/200\n",
            "44589/44589 [==============================] - 1s 12us/sample - loss: 0.6678 - acc: 0.6118\n",
            "Epoch 9/200\n",
            "44589/44589 [==============================] - 1s 12us/sample - loss: 0.6679 - acc: 0.6119\n",
            "Epoch 10/200\n",
            "44589/44589 [==============================] - 1s 12us/sample - loss: 0.6679 - acc: 0.6119\n",
            "Epoch 11/200\n",
            "44589/44589 [==============================] - 1s 12us/sample - loss: 0.6679 - acc: 0.6119\n",
            "Epoch 12/200\n",
            "44589/44589 [==============================] - 1s 12us/sample - loss: 0.6679 - acc: 0.6119\n",
            "Epoch 13/200\n",
            "44589/44589 [==============================] - 1s 12us/sample - loss: 0.6679 - acc: 0.6119\n",
            "Epoch 14/200\n",
            "44589/44589 [==============================] - 1s 12us/sample - loss: 0.6679 - acc: 0.6119\n",
            "Epoch 15/200\n",
            "44589/44589 [==============================] - 1s 12us/sample - loss: 0.6679 - acc: 0.6119\n",
            "Epoch 16/200\n",
            "44589/44589 [==============================] - 1s 12us/sample - loss: 0.6678 - acc: 0.6119\n",
            "Epoch 17/200\n",
            "44589/44589 [==============================] - 1s 13us/sample - loss: 0.6680 - acc: 0.6119\n",
            "Epoch 18/200\n",
            "44589/44589 [==============================] - 1s 11us/sample - loss: 0.6678 - acc: 0.6119\n",
            "Epoch 19/200\n",
            "44589/44589 [==============================] - 1s 12us/sample - loss: 0.6679 - acc: 0.6119\n",
            "Epoch 20/200\n",
            "44589/44589 [==============================] - 1s 12us/sample - loss: 0.6678 - acc: 0.6119\n",
            "Epoch 21/200\n",
            "44589/44589 [==============================] - 1s 12us/sample - loss: 0.6680 - acc: 0.6119\n",
            "Epoch 22/200\n",
            "44589/44589 [==============================] - 1s 12us/sample - loss: 0.6678 - acc: 0.6119\n",
            "Epoch 23/200\n",
            "44589/44589 [==============================] - 1s 12us/sample - loss: 0.6679 - acc: 0.6119\n",
            "Epoch 24/200\n",
            "44589/44589 [==============================] - 1s 12us/sample - loss: 0.6679 - acc: 0.6119\n",
            "Epoch 25/200\n",
            "44589/44589 [==============================] - 1s 12us/sample - loss: 0.6679 - acc: 0.6119\n",
            "Epoch 26/200\n",
            "44589/44589 [==============================] - 1s 11us/sample - loss: 0.6679 - acc: 0.6119\n",
            "Epoch 27/200\n",
            "44589/44589 [==============================] - 1s 12us/sample - loss: 0.6678 - acc: 0.6119\n",
            "Epoch 28/200\n",
            "44589/44589 [==============================] - 1s 12us/sample - loss: 0.6679 - acc: 0.6119\n",
            "Epoch 29/200\n",
            "44589/44589 [==============================] - 1s 12us/sample - loss: 0.6679 - acc: 0.6119\n",
            "Epoch 30/200\n",
            "44589/44589 [==============================] - 1s 12us/sample - loss: 0.6679 - acc: 0.6119\n",
            "Epoch 31/200\n",
            "44589/44589 [==============================] - 1s 12us/sample - loss: 0.6678 - acc: 0.6119\n",
            "Epoch 32/200\n",
            "44589/44589 [==============================] - 1s 12us/sample - loss: 0.6679 - acc: 0.6119\n",
            "Epoch 33/200\n",
            "44589/44589 [==============================] - 1s 12us/sample - loss: 0.6678 - acc: 0.6119\n",
            "Epoch 34/200\n",
            "44589/44589 [==============================] - 1s 13us/sample - loss: 0.6679 - acc: 0.6119\n",
            "Epoch 35/200\n",
            "44589/44589 [==============================] - 1s 11us/sample - loss: 0.6679 - acc: 0.6119\n",
            "Epoch 36/200\n",
            "44589/44589 [==============================] - 1s 12us/sample - loss: 0.6678 - acc: 0.6119\n",
            "Epoch 37/200\n",
            "44589/44589 [==============================] - 1s 12us/sample - loss: 0.6679 - acc: 0.6119\n",
            "Epoch 38/200\n",
            "44589/44589 [==============================] - 1s 12us/sample - loss: 0.6679 - acc: 0.6119\n",
            "Epoch 39/200\n",
            "44589/44589 [==============================] - 1s 12us/sample - loss: 0.6679 - acc: 0.6119\n",
            "Epoch 40/200\n",
            "44589/44589 [==============================] - 1s 13us/sample - loss: 0.6679 - acc: 0.6119\n",
            "Epoch 41/200\n",
            "44589/44589 [==============================] - 1s 13us/sample - loss: 0.6679 - acc: 0.6119\n",
            "Epoch 42/200\n",
            "44589/44589 [==============================] - 1s 13us/sample - loss: 0.6678 - acc: 0.6119\n",
            "Epoch 43/200\n",
            "44589/44589 [==============================] - 1s 12us/sample - loss: 0.6679 - acc: 0.6119\n",
            "Epoch 44/200\n",
            "44589/44589 [==============================] - 1s 12us/sample - loss: 0.6679 - acc: 0.6119\n",
            "Epoch 45/200\n",
            "44589/44589 [==============================] - 1s 13us/sample - loss: 0.6679 - acc: 0.6119\n",
            "Epoch 46/200\n",
            "44589/44589 [==============================] - 1s 13us/sample - loss: 0.6679 - acc: 0.6119\n",
            "Epoch 47/200\n",
            "44589/44589 [==============================] - 1s 15us/sample - loss: 0.6679 - acc: 0.6119\n",
            "Epoch 48/200\n",
            "44589/44589 [==============================] - 1s 15us/sample - loss: 0.6678 - acc: 0.6119\n",
            "Epoch 49/200\n",
            "44589/44589 [==============================] - 1s 13us/sample - loss: 0.6679 - acc: 0.6119\n",
            "Epoch 50/200\n",
            "44589/44589 [==============================] - 1s 14us/sample - loss: 0.6679 - acc: 0.6119\n",
            "Epoch 51/200\n",
            "44589/44589 [==============================] - 1s 13us/sample - loss: 0.6679 - acc: 0.6119\n",
            "Epoch 52/200\n",
            "44589/44589 [==============================] - 1s 15us/sample - loss: 0.6678 - acc: 0.6119\n",
            "Epoch 53/200\n",
            "44589/44589 [==============================] - 1s 15us/sample - loss: 0.6679 - acc: 0.6119\n",
            "Epoch 54/200\n",
            "44589/44589 [==============================] - 1s 15us/sample - loss: 0.6679 - acc: 0.6119\n",
            "Epoch 55/200\n",
            "44589/44589 [==============================] - 1s 14us/sample - loss: 0.6679 - acc: 0.6119\n",
            "Epoch 56/200\n",
            "44589/44589 [==============================] - 1s 15us/sample - loss: 0.6679 - acc: 0.6119\n",
            "Epoch 57/200\n",
            "44589/44589 [==============================] - 1s 14us/sample - loss: 0.6678 - acc: 0.6119\n",
            "Epoch 58/200\n",
            "44589/44589 [==============================] - 1s 14us/sample - loss: 0.6678 - acc: 0.6119\n",
            "Epoch 59/200\n",
            "44589/44589 [==============================] - 1s 15us/sample - loss: 0.6679 - acc: 0.6119\n",
            "Epoch 60/200\n",
            "44589/44589 [==============================] - 1s 14us/sample - loss: 0.6678 - acc: 0.6119\n",
            "Epoch 61/200\n",
            "44589/44589 [==============================] - 1s 14us/sample - loss: 0.6678 - acc: 0.6119\n",
            "Epoch 62/200\n",
            "44589/44589 [==============================] - 1s 13us/sample - loss: 0.6679 - acc: 0.6119\n",
            "Epoch 63/200\n",
            "44589/44589 [==============================] - 1s 14us/sample - loss: 0.6679 - acc: 0.6119\n",
            "Epoch 64/200\n",
            "44589/44589 [==============================] - 1s 14us/sample - loss: 0.6679 - acc: 0.6119\n",
            "Epoch 65/200\n",
            "44589/44589 [==============================] - 1s 13us/sample - loss: 0.6679 - acc: 0.6119\n",
            "Epoch 66/200\n",
            "44589/44589 [==============================] - 1s 13us/sample - loss: 0.6678 - acc: 0.6119\n",
            "Epoch 67/200\n",
            "44589/44589 [==============================] - 1s 14us/sample - loss: 0.6679 - acc: 0.6119\n",
            "Epoch 68/200\n",
            "44589/44589 [==============================] - 1s 13us/sample - loss: 0.6678 - acc: 0.6119\n",
            "Epoch 69/200\n",
            "44589/44589 [==============================] - 1s 14us/sample - loss: 0.6678 - acc: 0.6119\n",
            "Epoch 70/200\n",
            "44589/44589 [==============================] - 1s 15us/sample - loss: 0.6678 - acc: 0.6119\n",
            "Epoch 71/200\n",
            "44589/44589 [==============================] - 1s 13us/sample - loss: 0.6679 - acc: 0.6119\n",
            "Epoch 72/200\n",
            "44589/44589 [==============================] - 1s 14us/sample - loss: 0.6678 - acc: 0.6119\n",
            "Epoch 73/200\n",
            "44589/44589 [==============================] - 1s 15us/sample - loss: 0.6678 - acc: 0.6119\n",
            "Epoch 74/200\n",
            "44589/44589 [==============================] - 1s 13us/sample - loss: 0.6679 - acc: 0.6119\n",
            "Epoch 75/200\n",
            "44589/44589 [==============================] - 1s 14us/sample - loss: 0.6679 - acc: 0.6119\n",
            "Epoch 76/200\n",
            "44589/44589 [==============================] - 1s 14us/sample - loss: 0.6678 - acc: 0.6119\n",
            "Epoch 77/200\n",
            "44589/44589 [==============================] - 1s 14us/sample - loss: 0.6679 - acc: 0.6119\n",
            "Epoch 78/200\n",
            "44589/44589 [==============================] - 1s 14us/sample - loss: 0.6677 - acc: 0.6119\n",
            "Epoch 79/200\n",
            "44589/44589 [==============================] - 1s 15us/sample - loss: 0.6679 - acc: 0.6119\n",
            "Epoch 80/200\n",
            "44589/44589 [==============================] - 1s 13us/sample - loss: 0.6679 - acc: 0.6119\n",
            "Epoch 81/200\n",
            "44589/44589 [==============================] - 1s 12us/sample - loss: 0.6679 - acc: 0.6119\n",
            "Epoch 82/200\n",
            "44589/44589 [==============================] - 1s 12us/sample - loss: 0.6678 - acc: 0.6119\n",
            "Epoch 83/200\n",
            "44589/44589 [==============================] - 1s 13us/sample - loss: 0.6679 - acc: 0.6119\n",
            "Epoch 84/200\n",
            "44589/44589 [==============================] - 1s 13us/sample - loss: 0.6679 - acc: 0.6119\n",
            "Epoch 85/200\n",
            "44589/44589 [==============================] - 1s 12us/sample - loss: 0.6679 - acc: 0.6119\n",
            "Epoch 86/200\n",
            "44589/44589 [==============================] - 1s 12us/sample - loss: 0.6678 - acc: 0.6119\n",
            "Epoch 87/200\n",
            "44589/44589 [==============================] - 1s 12us/sample - loss: 0.6679 - acc: 0.6119\n",
            "Epoch 88/200\n",
            "44589/44589 [==============================] - 1s 12us/sample - loss: 0.6679 - acc: 0.6119\n",
            "Epoch 89/200\n",
            "44589/44589 [==============================] - 1s 12us/sample - loss: 0.6679 - acc: 0.6119\n",
            "Epoch 90/200\n",
            "44589/44589 [==============================] - 1s 12us/sample - loss: 0.6678 - acc: 0.6119\n",
            "Epoch 91/200\n",
            "44589/44589 [==============================] - 1s 12us/sample - loss: 0.6678 - acc: 0.6119\n",
            "Epoch 92/200\n",
            "44589/44589 [==============================] - 1s 12us/sample - loss: 0.6679 - acc: 0.6119\n",
            "Epoch 93/200\n",
            "44589/44589 [==============================] - 1s 12us/sample - loss: 0.6679 - acc: 0.6119\n",
            "Epoch 94/200\n",
            "44589/44589 [==============================] - 1s 12us/sample - loss: 0.6679 - acc: 0.6119\n",
            "Epoch 95/200\n",
            "44589/44589 [==============================] - 1s 12us/sample - loss: 0.6679 - acc: 0.6119\n",
            "Epoch 96/200\n",
            "44589/44589 [==============================] - 1s 13us/sample - loss: 0.6679 - acc: 0.6119\n",
            "Epoch 97/200\n",
            "44589/44589 [==============================] - 1s 12us/sample - loss: 0.6679 - acc: 0.6119\n",
            "Epoch 98/200\n",
            "44589/44589 [==============================] - 1s 13us/sample - loss: 0.6679 - acc: 0.6119\n",
            "Epoch 99/200\n",
            "44589/44589 [==============================] - 1s 12us/sample - loss: 0.6678 - acc: 0.6119\n",
            "Epoch 100/200\n",
            "44589/44589 [==============================] - 1s 12us/sample - loss: 0.6678 - acc: 0.6119\n",
            "Epoch 101/200\n",
            "44589/44589 [==============================] - 1s 12us/sample - loss: 0.6679 - acc: 0.6119\n",
            "Epoch 102/200\n",
            "44589/44589 [==============================] - 1s 12us/sample - loss: 0.6679 - acc: 0.6119\n",
            "Epoch 103/200\n",
            "44589/44589 [==============================] - 1s 12us/sample - loss: 0.6679 - acc: 0.6119\n",
            "Epoch 104/200\n",
            "44589/44589 [==============================] - 1s 13us/sample - loss: 0.6678 - acc: 0.6119\n",
            "Epoch 105/200\n",
            "44589/44589 [==============================] - 1s 13us/sample - loss: 0.6678 - acc: 0.6119\n",
            "Epoch 106/200\n",
            "44589/44589 [==============================] - 1s 12us/sample - loss: 0.6679 - acc: 0.6119\n",
            "Epoch 107/200\n",
            "44589/44589 [==============================] - 1s 12us/sample - loss: 0.6679 - acc: 0.6119\n",
            "Epoch 108/200\n",
            "44589/44589 [==============================] - 1s 12us/sample - loss: 0.6678 - acc: 0.6119\n",
            "Epoch 109/200\n",
            "44589/44589 [==============================] - 1s 12us/sample - loss: 0.6678 - acc: 0.6119\n",
            "Epoch 110/200\n",
            "44589/44589 [==============================] - 1s 12us/sample - loss: 0.6678 - acc: 0.6119\n",
            "Epoch 111/200\n",
            "44589/44589 [==============================] - 1s 12us/sample - loss: 0.6679 - acc: 0.6119\n",
            "Epoch 112/200\n",
            "44589/44589 [==============================] - 1s 12us/sample - loss: 0.6679 - acc: 0.6119\n",
            "Epoch 113/200\n",
            "44589/44589 [==============================] - 1s 12us/sample - loss: 0.6678 - acc: 0.6119\n",
            "Epoch 114/200\n",
            "44589/44589 [==============================] - 1s 13us/sample - loss: 0.6679 - acc: 0.6119\n",
            "Epoch 115/200\n",
            "44589/44589 [==============================] - 1s 12us/sample - loss: 0.6679 - acc: 0.6119\n",
            "Epoch 116/200\n",
            "44589/44589 [==============================] - 1s 12us/sample - loss: 0.6678 - acc: 0.6119\n",
            "Epoch 117/200\n",
            "44589/44589 [==============================] - 1s 12us/sample - loss: 0.6679 - acc: 0.6119\n",
            "Epoch 118/200\n",
            "44589/44589 [==============================] - 1s 12us/sample - loss: 0.6678 - acc: 0.6119\n",
            "Epoch 119/200\n",
            "44589/44589 [==============================] - 1s 12us/sample - loss: 0.6679 - acc: 0.6119\n",
            "Epoch 120/200\n",
            "44589/44589 [==============================] - 1s 12us/sample - loss: 0.6679 - acc: 0.6119\n",
            "Epoch 121/200\n",
            "44589/44589 [==============================] - 1s 13us/sample - loss: 0.6679 - acc: 0.6119\n",
            "Epoch 122/200\n",
            "44589/44589 [==============================] - 1s 13us/sample - loss: 0.6679 - acc: 0.6119\n",
            "Epoch 123/200\n",
            "44589/44589 [==============================] - 1s 12us/sample - loss: 0.6678 - acc: 0.6119\n",
            "Epoch 124/200\n",
            "44589/44589 [==============================] - 1s 12us/sample - loss: 0.6679 - acc: 0.6119\n",
            "Epoch 125/200\n",
            "44589/44589 [==============================] - 1s 12us/sample - loss: 0.6678 - acc: 0.6119\n",
            "Epoch 126/200\n",
            "44589/44589 [==============================] - 1s 12us/sample - loss: 0.6679 - acc: 0.6119\n",
            "Epoch 127/200\n",
            "44589/44589 [==============================] - 1s 12us/sample - loss: 0.6679 - acc: 0.6119\n",
            "Epoch 128/200\n",
            "44589/44589 [==============================] - 1s 12us/sample - loss: 0.6678 - acc: 0.6119\n",
            "Epoch 129/200\n",
            "44589/44589 [==============================] - 1s 12us/sample - loss: 0.6678 - acc: 0.6119\n",
            "Epoch 130/200\n",
            "44589/44589 [==============================] - 1s 12us/sample - loss: 0.6679 - acc: 0.6119\n",
            "Epoch 131/200\n",
            "44589/44589 [==============================] - 1s 12us/sample - loss: 0.6679 - acc: 0.6119\n",
            "Epoch 132/200\n",
            "44589/44589 [==============================] - 1s 13us/sample - loss: 0.6678 - acc: 0.6119\n",
            "Epoch 133/200\n",
            "44589/44589 [==============================] - 1s 13us/sample - loss: 0.6678 - acc: 0.6119\n",
            "Epoch 134/200\n",
            "44589/44589 [==============================] - 1s 12us/sample - loss: 0.6679 - acc: 0.6119\n",
            "Epoch 135/200\n",
            "44589/44589 [==============================] - 1s 12us/sample - loss: 0.6679 - acc: 0.6119\n",
            "Epoch 136/200\n",
            "44589/44589 [==============================] - 1s 12us/sample - loss: 0.6678 - acc: 0.6119\n",
            "Epoch 137/200\n",
            "44589/44589 [==============================] - 1s 12us/sample - loss: 0.6677 - acc: 0.6119\n",
            "Epoch 138/200\n",
            "44589/44589 [==============================] - 1s 13us/sample - loss: 0.6679 - acc: 0.6119\n",
            "Epoch 139/200\n",
            "44589/44589 [==============================] - 1s 13us/sample - loss: 0.6678 - acc: 0.6119\n",
            "Epoch 140/200\n",
            "44589/44589 [==============================] - 1s 12us/sample - loss: 0.6678 - acc: 0.6119\n",
            "Epoch 141/200\n",
            "44589/44589 [==============================] - 1s 12us/sample - loss: 0.6678 - acc: 0.6119\n",
            "Epoch 142/200\n",
            "44589/44589 [==============================] - 1s 12us/sample - loss: 0.6679 - acc: 0.6119\n",
            "Epoch 143/200\n",
            "44589/44589 [==============================] - 1s 12us/sample - loss: 0.6679 - acc: 0.6119\n",
            "Epoch 144/200\n",
            "44589/44589 [==============================] - 1s 13us/sample - loss: 0.6679 - acc: 0.6119\n",
            "Epoch 145/200\n",
            "44589/44589 [==============================] - 1s 12us/sample - loss: 0.6679 - acc: 0.6119\n",
            "Epoch 146/200\n",
            "44589/44589 [==============================] - 1s 12us/sample - loss: 0.6678 - acc: 0.6119\n",
            "Epoch 147/200\n",
            "44589/44589 [==============================] - 1s 12us/sample - loss: 0.6679 - acc: 0.6119\n",
            "Epoch 148/200\n",
            "44589/44589 [==============================] - 1s 12us/sample - loss: 0.6678 - acc: 0.6119\n",
            "Epoch 149/200\n",
            "44589/44589 [==============================] - 1s 12us/sample - loss: 0.6678 - acc: 0.6119\n",
            "Epoch 150/200\n",
            "44589/44589 [==============================] - 1s 12us/sample - loss: 0.6679 - acc: 0.6119\n",
            "Epoch 151/200\n",
            "44589/44589 [==============================] - 1s 13us/sample - loss: 0.6679 - acc: 0.6119\n",
            "Epoch 152/200\n",
            "44589/44589 [==============================] - 1s 13us/sample - loss: 0.6679 - acc: 0.6119\n",
            "Epoch 153/200\n",
            "44589/44589 [==============================] - 1s 12us/sample - loss: 0.6679 - acc: 0.6119\n",
            "Epoch 154/200\n",
            "44589/44589 [==============================] - 1s 12us/sample - loss: 0.6678 - acc: 0.6119\n",
            "Epoch 155/200\n",
            "44589/44589 [==============================] - 1s 12us/sample - loss: 0.6678 - acc: 0.6119\n",
            "Epoch 156/200\n",
            "44589/44589 [==============================] - 1s 12us/sample - loss: 0.6678 - acc: 0.6119\n",
            "Epoch 157/200\n",
            "44589/44589 [==============================] - 1s 12us/sample - loss: 0.6679 - acc: 0.6119\n",
            "Epoch 158/200\n",
            "44589/44589 [==============================] - 1s 13us/sample - loss: 0.6678 - acc: 0.6119\n",
            "Epoch 159/200\n",
            "44589/44589 [==============================] - 1s 13us/sample - loss: 0.6678 - acc: 0.6119\n",
            "Epoch 160/200\n",
            "44589/44589 [==============================] - 1s 13us/sample - loss: 0.6678 - acc: 0.6119\n",
            "Epoch 161/200\n",
            "44589/44589 [==============================] - 1s 12us/sample - loss: 0.6679 - acc: 0.6119\n",
            "Epoch 162/200\n",
            "44589/44589 [==============================] - 1s 13us/sample - loss: 0.6678 - acc: 0.6119\n",
            "Epoch 163/200\n",
            "44589/44589 [==============================] - 1s 13us/sample - loss: 0.6679 - acc: 0.6119\n",
            "Epoch 164/200\n",
            "44589/44589 [==============================] - 1s 12us/sample - loss: 0.6679 - acc: 0.6119\n",
            "Epoch 165/200\n",
            "44589/44589 [==============================] - 1s 12us/sample - loss: 0.6678 - acc: 0.6119\n",
            "Epoch 166/200\n",
            "44589/44589 [==============================] - 1s 13us/sample - loss: 0.6678 - acc: 0.6119\n",
            "Epoch 167/200\n",
            "44589/44589 [==============================] - 1s 13us/sample - loss: 0.6679 - acc: 0.6119\n",
            "Epoch 168/200\n",
            "44589/44589 [==============================] - 1s 12us/sample - loss: 0.6679 - acc: 0.6119\n",
            "Epoch 169/200\n",
            "44589/44589 [==============================] - 1s 12us/sample - loss: 0.6678 - acc: 0.6119\n",
            "Epoch 170/200\n",
            "44589/44589 [==============================] - 1s 12us/sample - loss: 0.6678 - acc: 0.6119\n",
            "Epoch 171/200\n",
            "44589/44589 [==============================] - 1s 12us/sample - loss: 0.6679 - acc: 0.6119\n",
            "Epoch 172/200\n",
            "44589/44589 [==============================] - 1s 12us/sample - loss: 0.6679 - acc: 0.6119\n",
            "Epoch 173/200\n",
            "44589/44589 [==============================] - 1s 13us/sample - loss: 0.6679 - acc: 0.6119\n",
            "Epoch 174/200\n",
            "44589/44589 [==============================] - 1s 12us/sample - loss: 0.6678 - acc: 0.6119\n",
            "Epoch 175/200\n",
            "44589/44589 [==============================] - 1s 12us/sample - loss: 0.6679 - acc: 0.6119\n",
            "Epoch 176/200\n",
            "44589/44589 [==============================] - 1s 12us/sample - loss: 0.6678 - acc: 0.6119\n",
            "Epoch 177/200\n",
            "44589/44589 [==============================] - 1s 12us/sample - loss: 0.6678 - acc: 0.6119\n",
            "Epoch 178/200\n",
            "44589/44589 [==============================] - 1s 13us/sample - loss: 0.6679 - acc: 0.6119\n",
            "Epoch 179/200\n",
            "44589/44589 [==============================] - 1s 12us/sample - loss: 0.6679 - acc: 0.6119\n",
            "Epoch 180/200\n",
            "44589/44589 [==============================] - 1s 12us/sample - loss: 0.6679 - acc: 0.6119\n",
            "Epoch 181/200\n",
            "44589/44589 [==============================] - 1s 12us/sample - loss: 0.6678 - acc: 0.6119\n",
            "Epoch 182/200\n",
            "44589/44589 [==============================] - 1s 12us/sample - loss: 0.6679 - acc: 0.6119\n",
            "Epoch 183/200\n",
            "44589/44589 [==============================] - 1s 13us/sample - loss: 0.6678 - acc: 0.6119\n",
            "Epoch 184/200\n",
            "44589/44589 [==============================] - 1s 12us/sample - loss: 0.6678 - acc: 0.6119\n",
            "Epoch 185/200\n",
            "44589/44589 [==============================] - 1s 12us/sample - loss: 0.6679 - acc: 0.6119\n",
            "Epoch 186/200\n",
            "44589/44589 [==============================] - 1s 12us/sample - loss: 0.6678 - acc: 0.6119\n",
            "Epoch 187/200\n",
            "44589/44589 [==============================] - 1s 12us/sample - loss: 0.6678 - acc: 0.6119\n",
            "Epoch 188/200\n",
            "44589/44589 [==============================] - 1s 13us/sample - loss: 0.6678 - acc: 0.6119\n",
            "Epoch 189/200\n",
            "44589/44589 [==============================] - 1s 14us/sample - loss: 0.6678 - acc: 0.6119\n",
            "Epoch 190/200\n",
            "44589/44589 [==============================] - 1s 12us/sample - loss: 0.6678 - acc: 0.6119\n",
            "Epoch 191/200\n",
            "44589/44589 [==============================] - 1s 13us/sample - loss: 0.6679 - acc: 0.6119\n",
            "Epoch 192/200\n",
            "44589/44589 [==============================] - 1s 12us/sample - loss: 0.6678 - acc: 0.6119\n",
            "Epoch 193/200\n",
            "44589/44589 [==============================] - 1s 15us/sample - loss: 0.6678 - acc: 0.6119\n",
            "Epoch 194/200\n",
            "44589/44589 [==============================] - 1s 15us/sample - loss: 0.6678 - acc: 0.6119\n",
            "Epoch 195/200\n",
            "44589/44589 [==============================] - 1s 15us/sample - loss: 0.6678 - acc: 0.6119\n",
            "Epoch 196/200\n",
            "44589/44589 [==============================] - 1s 16us/sample - loss: 0.6678 - acc: 0.6119\n",
            "Epoch 197/200\n",
            "44589/44589 [==============================] - 1s 15us/sample - loss: 0.6678 - acc: 0.6119\n",
            "Epoch 198/200\n",
            "44589/44589 [==============================] - 1s 15us/sample - loss: 0.6678 - acc: 0.6119\n",
            "Epoch 199/200\n",
            "44589/44589 [==============================] - 1s 14us/sample - loss: 0.6678 - acc: 0.6119\n",
            "Epoch 200/200\n",
            "44589/44589 [==============================] - 1s 15us/sample - loss: 0.6679 - acc: 0.6119\n"
          ],
          "name": "stdout"
        },
        {
          "output_type": "execute_result",
          "data": {
            "text/plain": [
              "<tensorflow.python.keras.callbacks.History at 0x7f9478bed048>"
            ]
          },
          "metadata": {
            "tags": []
          },
          "execution_count": 410
        }
      ]
    },
    {
      "cell_type": "code",
      "metadata": {
        "id": "1XwlUmRp0RVg"
      },
      "source": [
        "y_pred = classifier.predict(outputX)\n",
        "y_pred = (y_pred > 0.5)"
      ],
      "execution_count": 411,
      "outputs": []
    },
    {
      "cell_type": "markdown",
      "metadata": {
        "id": "8nqPfpPCiwSs"
      },
      "source": [
        "##Confusion Matrix"
      ]
    },
    {
      "cell_type": "code",
      "metadata": {
        "id": "pyAL7NYHrCBk",
        "outputId": "f67d2b96-5214-47d0-b57f-a534aa2070c0",
        "colab": {
          "base_uri": "https://localhost:8080/",
          "height": 50
        }
      },
      "source": [
        "from sklearn.metrics import confusion_matrix\n",
        "cm = confusion_matrix(train_Y, y_pred)\n",
        "print(cm) "
      ],
      "execution_count": 416,
      "outputs": [
        {
          "output_type": "stream",
          "text": [
            "[[17976  9895]\n",
            " [11760 16106]]\n"
          ],
          "name": "stdout"
        }
      ]
    },
    {
      "cell_type": "markdown",
      "metadata": {
        "id": "_MjGgOMwt1_Z"
      },
      "source": [
        "###F1 Score"
      ]
    },
    {
      "cell_type": "code",
      "metadata": {
        "id": "b9lsmDoYj919"
      },
      "source": [
        "def f1score( tn, fp, fn, tp):\n",
        "  precision = tp/(tp + fp)\n",
        "  print('Precision: ',precision)\n",
        "  recall = tp/(tp+fn)\n",
        "  print('Recall: ',recall)\n",
        "  return 2 * (precision * recall) / (precision + recall)"
      ],
      "execution_count": 418,
      "outputs": []
    },
    {
      "cell_type": "code",
      "metadata": {
        "id": "H8AWFBCCa6mm",
        "outputId": "3d923588-3732-40c4-c16d-82c1ffc24ef1",
        "colab": {
          "base_uri": "https://localhost:8080/",
          "height": 67
        }
      },
      "source": [
        "tn, fp, fn, tp = confusion_matrix(train_Y, y_pred, labels=[0,1]).ravel()\n",
        "print('F1-score: ',f1score(tn, fp, fn, tp))"
      ],
      "execution_count": 419,
      "outputs": [
        {
          "output_type": "stream",
          "text": [
            "Precision:  0.6194377139340794\n",
            "Recall:  0.5779803344577622\n",
            "F1-score:  0.5979913490634341\n"
          ],
          "name": "stdout"
        }
      ]
    },
    {
      "cell_type": "markdown",
      "metadata": {
        "id": "Zkr_nQJwng2W"
      },
      "source": [
        "##Seprate Dataframes"
      ]
    },
    {
      "cell_type": "code",
      "metadata": {
        "id": "cte84igFqn8i"
      },
      "source": [
        "bugzilla = pd.read_csv('/content/drive/My Drive/dataset/bugzilla.csv')\n",
        "columba = pd.read_csv('/content/drive/My Drive/dataset/columba.csv')\n",
        "jdt = pd.read_csv('/content/drive/My Drive/dataset/jdt.csv')\n",
        "mozilla = pd.read_csv('/content/drive/My Drive/dataset/mozilla.csv')\n",
        "platform = pd.read_csv('/content/drive/My Drive/dataset/platform.csv')\n",
        "postgres = pd.read_csv('/content/drive/My Drive/dataset/postgres.csv')"
      ],
      "execution_count": 466,
      "outputs": []
    },
    {
      "cell_type": "code",
      "metadata": {
        "id": "gJ31LrO4e_9V"
      },
      "source": [
        "def dbn_op(inputX):\n",
        "  #For each RBM in out list\n",
        "  for i in range(0, len(rbm_list)):\n",
        "      rbm = rbm_list[i]\n",
        "\n",
        "      #Return output layer\n",
        "      #sess.run(out), sess.run(visibleGen), sess.run(hiddenGen)\n",
        "      outputX, reconstructedX, hiddenX = rbm.rbm_output(inputX)\n",
        "      inputX= hiddenX\n",
        "  \n",
        "  return outputX"
      ],
      "execution_count": 469,
      "outputs": []
    },
    {
      "cell_type": "code",
      "metadata": {
        "id": "R4XRFBpWoPkx"
      },
      "source": [
        "def dataframe_score(df1):\n",
        "  df1 = df1.drop(['commitdate','transactionid'], axis=1)\n",
        "  train_X_op = df1.iloc[:,:-1].apply(func=normalize, axis=0).astype(np.float32)\n",
        "  train_Y_op = df1.iloc[:,-1]\n",
        "\n",
        "  op = dbn_op(train_X_op)\n",
        "\n",
        "  y_pred_op = classifier.predict(op)\n",
        "  y_pred_op = (y_pred_op > 0.5)\n",
        "\n",
        "  cm = confusion_matrix(train_Y_op, y_pred_op)\n",
        "  print(cm) \n",
        "\n",
        "  tn, fp, fn, tp = confusion_matrix(train_Y_op, y_pred_op, labels=[0,1]).ravel()\n",
        "  print('F1-score: ',f1score(tn, fp, fn, tp))"
      ],
      "execution_count": 470,
      "outputs": []
    },
    {
      "cell_type": "code",
      "metadata": {
        "id": "e1lfA3vUrK3q",
        "outputId": "8ee06c9d-e213-4afc-a486-352eef20a285",
        "colab": {
          "base_uri": "https://localhost:8080/",
          "height": 823
        }
      },
      "source": [
        "print('bugzilla:')\n",
        "dataframe_score(bugzilla)\n",
        "print('--------------------------------------------------------------------')\n",
        "print('columba:')\n",
        "dataframe_score(columba)\n",
        "print('--------------------------------------------------------------------')\n",
        "print('jdt:')\n",
        "dataframe_score(jdt)\n",
        "print('--------------------------------------------------------------------')\n",
        "print('mozilla:')\n",
        "dataframe_score(mozilla)\n",
        "print('--------------------------------------------------------------------')\n",
        "print('platform:')\n",
        "dataframe_score(platform)\n",
        "print('--------------------------------------------------------------------')\n",
        "print('postgres:')\n",
        "dataframe_score(postgres)\n",
        "print('--------------------------------------------------------------------')\n",
        "print('Overall:')\n",
        "cm = confusion_matrix(train_Y, y_pred)\n",
        "print(cm)\n",
        "tn, fp, fn, tp = confusion_matrix(train_Y, y_pred, labels=[0,1]).ravel()\n",
        "print('F1-score: ',f1score(tn, fp, fn, tp))"
      ],
      "execution_count": 472,
      "outputs": [
        {
          "output_type": "stream",
          "text": [
            "bugzilla:\n",
            "[[ 538 2386]\n",
            " [ 110 1586]]\n",
            "Precision:  0.3992950654582075\n",
            "Recall:  0.9351415094339622\n",
            "F1-score:  0.5596330275229359\n",
            "--------------------------------------------------------------------\n",
            "columba:\n",
            "[[2066 1028]\n",
            " [ 921  440]]\n",
            "Precision:  0.2997275204359673\n",
            "Recall:  0.3232916972814107\n",
            "F1-score:  0.31106398020501946\n",
            "--------------------------------------------------------------------\n",
            "jdt:\n",
            "[[21669  8628]\n",
            " [ 2868  2221]]\n",
            "Precision:  0.204719328970412\n",
            "Recall:  0.43643151896246807\n",
            "F1-score:  0.27870498180449244\n",
            "--------------------------------------------------------------------\n",
            "mozilla:\n",
            "[[34137 58989]\n",
            " [ 1203  3946]]\n",
            "Precision:  0.06269961070946214\n",
            "Recall:  0.7663624004661099\n",
            "F1-score:  0.11591563362904647\n",
            "--------------------------------------------------------------------\n",
            "platform:\n",
            "[[34916 19882]\n",
            " [ 3585  5867]]\n",
            "Precision:  0.22785350887413103\n",
            "Recall:  0.6207151925518409\n",
            "F1-score:  0.3333428027612852\n",
            "--------------------------------------------------------------------\n",
            "postgres:\n",
            "[[8405 6907]\n",
            " [3068 2051]]\n",
            "Precision:  0.22895735655280197\n",
            "Recall:  0.40066419222504396\n",
            "F1-score:  0.29139731476877173\n",
            "--------------------------------------------------------------------\n",
            "Overall:\n",
            "[[17976  9895]\n",
            " [11760 16106]]\n",
            "Precision:  0.6194377139340794\n",
            "Recall:  0.5779803344577622\n",
            "F1-score:  0.5979913490634341\n"
          ],
          "name": "stdout"
        }
      ]
    },
    {
      "cell_type": "code",
      "metadata": {
        "id": "eomfuWZMsJ-c"
      },
      "source": [
        ""
      ],
      "execution_count": 471,
      "outputs": []
    }
  ]
}