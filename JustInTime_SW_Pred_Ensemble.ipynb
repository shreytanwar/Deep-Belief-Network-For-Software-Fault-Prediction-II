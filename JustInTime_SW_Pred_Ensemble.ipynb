{
  "nbformat": 4,
  "nbformat_minor": 0,
  "metadata": {
    "colab": {
      "name": "JustInTime_SW_Pred_Ensemble.ipynb",
      "provenance": [],
      "collapsed_sections": [],
      "authorship_tag": "ABX9TyNod6xW8JwWOzWkxlIGChD4",
      "include_colab_link": true
    },
    "kernelspec": {
      "name": "python3",
      "display_name": "Python 3"
    }
  },
  "cells": [
    {
      "cell_type": "markdown",
      "metadata": {
        "id": "view-in-github",
        "colab_type": "text"
      },
      "source": [
        "<a href=\"https://colab.research.google.com/github/shreytanwar/Deep-Belief-Network-For-Software-Fault-Prediction-II/blob/main/JustInTime_SW_Pred_Ensemble.ipynb\" target=\"_parent\"><img src=\"https://colab.research.google.com/assets/colab-badge.svg\" alt=\"Open In Colab\"/></a>"
      ]
    },
    {
      "cell_type": "code",
      "metadata": {
        "id": "DfkLXFDxl8sJ",
        "outputId": "cb2a45bc-9216-474d-c7d9-3fe3e72f35aa",
        "colab": {
          "base_uri": "https://localhost:8080/",
          "height": 54
        }
      },
      "source": [
        "from google.colab import drive\n",
        "drive.mount('/content/drive/')"
      ],
      "execution_count": 1,
      "outputs": [
        {
          "output_type": "stream",
          "text": [
            "Drive already mounted at /content/drive/; to attempt to forcibly remount, call drive.mount(\"/content/drive/\", force_remount=True).\n"
          ],
          "name": "stdout"
        }
      ]
    },
    {
      "cell_type": "code",
      "metadata": {
        "id": "sK42BBJgmSGh"
      },
      "source": [
        "import tensorflow as tf\n",
        "import sklearn.metrics\n",
        "from sklearn.metrics import log_loss, accuracy_score, confusion_matrix\n",
        "import numpy as np\n",
        "import pandas as pd\n",
        "import matplotlib.pyplot as plt"
      ],
      "execution_count": 2,
      "outputs": []
    },
    {
      "cell_type": "markdown",
      "metadata": {
        "id": "nqnAM0F6pNEW"
      },
      "source": [
        "##Preprocessing"
      ]
    },
    {
      "cell_type": "code",
      "metadata": {
        "id": "lhdWip5AmSQd"
      },
      "source": [
        "bugzilla = pd.read_csv('/content/drive/My Drive/dataset/bugzilla.csv')\n",
        "columba = pd.read_csv('/content/drive/My Drive/dataset/columba.csv')\n",
        "jdt = pd.read_csv('/content/drive/My Drive/dataset/jdt.csv')\n",
        "mozilla = pd.read_csv('/content/drive/My Drive/dataset/mozilla.csv')\n",
        "platform = pd.read_csv('/content/drive/My Drive/dataset/platform.csv')\n",
        "postgres = pd.read_csv('/content/drive/My Drive/dataset/postgres.csv')\n",
        "\n",
        "df = pd.read_csv('/content/drive/My Drive/dataset/FinalDF.csv')\n",
        "\n",
        "# df = pd.concat([bugzilla, columba, jdt, mozilla, platform, postgres]) \n",
        "# df = df.reset_index(drop=True)"
      ],
      "execution_count": 3,
      "outputs": []
    },
    {
      "cell_type": "code",
      "metadata": {
        "id": "bVSQXhUkmSvC"
      },
      "source": [
        "def normalize(x):\n",
        "  x = x.astype(float)\n",
        "  min = np.min(x)\n",
        "  max = np.max(x)\n",
        "  return (x - min)/(max-min)"
      ],
      "execution_count": 4,
      "outputs": []
    },
    {
      "cell_type": "code",
      "metadata": {
        "id": "6Se7DitSs9xa"
      },
      "source": [
        "def view_values(X, y, example):\n",
        "    label = y.loc[example]\n",
        "    image = X.loc[example,:].values.reshape([-1,1])\n",
        "    print(image)"
      ],
      "execution_count": 5,
      "outputs": []
    },
    {
      "cell_type": "code",
      "metadata": {
        "id": "nwQh30ySJCSA",
        "outputId": "3998988c-e0c9-4d85-e0ae-5ac6d6dad783",
        "colab": {
          "base_uri": "https://localhost:8080/",
          "height": 34
        }
      },
      "source": [
        "print(\"Shape of dataframe: \", df.shape)  "
      ],
      "execution_count": 6,
      "outputs": [
        {
          "output_type": "stream",
          "text": [
            "Shape of dataframe:  (227417, 17)\n"
          ],
          "name": "stdout"
        }
      ]
    },
    {
      "cell_type": "code",
      "metadata": {
        "id": "WZUhvytCHesW"
      },
      "source": [
        "# Droping unnecessary String columns\n",
        "df = df.drop(['commitdate','transactionid'], axis=1)"
      ],
      "execution_count": 7,
      "outputs": []
    },
    {
      "cell_type": "code",
      "metadata": {
        "id": "_1p5DpIHnP1j",
        "outputId": "8116215d-128e-4a85-e379-3053b00d7387",
        "colab": {
          "base_uri": "https://localhost:8080/",
          "height": 215
        }
      },
      "source": [
        "df.head()"
      ],
      "execution_count": 8,
      "outputs": [
        {
          "output_type": "execute_result",
          "data": {
            "text/html": [
              "<div>\n",
              "<style scoped>\n",
              "    .dataframe tbody tr th:only-of-type {\n",
              "        vertical-align: middle;\n",
              "    }\n",
              "\n",
              "    .dataframe tbody tr th {\n",
              "        vertical-align: top;\n",
              "    }\n",
              "\n",
              "    .dataframe thead th {\n",
              "        text-align: right;\n",
              "    }\n",
              "</style>\n",
              "<table border=\"1\" class=\"dataframe\">\n",
              "  <thead>\n",
              "    <tr style=\"text-align: right;\">\n",
              "      <th></th>\n",
              "      <th>ns</th>\n",
              "      <th>nm</th>\n",
              "      <th>nf</th>\n",
              "      <th>entropy</th>\n",
              "      <th>la</th>\n",
              "      <th>ld</th>\n",
              "      <th>lt</th>\n",
              "      <th>fix</th>\n",
              "      <th>ndev</th>\n",
              "      <th>pd</th>\n",
              "      <th>npt</th>\n",
              "      <th>exp</th>\n",
              "      <th>rexp</th>\n",
              "      <th>sexp</th>\n",
              "      <th>bug</th>\n",
              "    </tr>\n",
              "  </thead>\n",
              "  <tbody>\n",
              "    <tr>\n",
              "      <th>0</th>\n",
              "      <td>1</td>\n",
              "      <td>1</td>\n",
              "      <td>3</td>\n",
              "      <td>0.579380</td>\n",
              "      <td>0.093620</td>\n",
              "      <td>0.000000</td>\n",
              "      <td>480.666667</td>\n",
              "      <td>1</td>\n",
              "      <td>14</td>\n",
              "      <td>596</td>\n",
              "      <td>0.666667</td>\n",
              "      <td>143</td>\n",
              "      <td>133.50</td>\n",
              "      <td>129</td>\n",
              "      <td>1</td>\n",
              "    </tr>\n",
              "    <tr>\n",
              "      <th>1</th>\n",
              "      <td>1</td>\n",
              "      <td>1</td>\n",
              "      <td>1</td>\n",
              "      <td>0.000000</td>\n",
              "      <td>0.000000</td>\n",
              "      <td>0.000000</td>\n",
              "      <td>398.000000</td>\n",
              "      <td>1</td>\n",
              "      <td>1</td>\n",
              "      <td>0</td>\n",
              "      <td>1.000000</td>\n",
              "      <td>140</td>\n",
              "      <td>140.00</td>\n",
              "      <td>137</td>\n",
              "      <td>1</td>\n",
              "    </tr>\n",
              "    <tr>\n",
              "      <th>2</th>\n",
              "      <td>3</td>\n",
              "      <td>3</td>\n",
              "      <td>52</td>\n",
              "      <td>0.739279</td>\n",
              "      <td>0.183477</td>\n",
              "      <td>0.208913</td>\n",
              "      <td>283.519231</td>\n",
              "      <td>0</td>\n",
              "      <td>23</td>\n",
              "      <td>15836</td>\n",
              "      <td>0.750000</td>\n",
              "      <td>984</td>\n",
              "      <td>818.65</td>\n",
              "      <td>978</td>\n",
              "      <td>0</td>\n",
              "    </tr>\n",
              "    <tr>\n",
              "      <th>3</th>\n",
              "      <td>1</td>\n",
              "      <td>1</td>\n",
              "      <td>8</td>\n",
              "      <td>0.685328</td>\n",
              "      <td>0.016039</td>\n",
              "      <td>0.012880</td>\n",
              "      <td>514.375000</td>\n",
              "      <td>1</td>\n",
              "      <td>21</td>\n",
              "      <td>1281</td>\n",
              "      <td>1.000000</td>\n",
              "      <td>579</td>\n",
              "      <td>479.25</td>\n",
              "      <td>550</td>\n",
              "      <td>0</td>\n",
              "    </tr>\n",
              "    <tr>\n",
              "      <th>4</th>\n",
              "      <td>2</td>\n",
              "      <td>2</td>\n",
              "      <td>38</td>\n",
              "      <td>0.769776</td>\n",
              "      <td>0.091829</td>\n",
              "      <td>0.072746</td>\n",
              "      <td>366.815789</td>\n",
              "      <td>1</td>\n",
              "      <td>21</td>\n",
              "      <td>6565</td>\n",
              "      <td>0.763158</td>\n",
              "      <td>413</td>\n",
              "      <td>313.25</td>\n",
              "      <td>405</td>\n",
              "      <td>0</td>\n",
              "    </tr>\n",
              "  </tbody>\n",
              "</table>\n",
              "</div>"
            ],
            "text/plain": [
              "   ns  nm  nf   entropy        la  ...       npt  exp    rexp  sexp  bug\n",
              "0   1   1   3  0.579380  0.093620  ...  0.666667  143  133.50   129    1\n",
              "1   1   1   1  0.000000  0.000000  ...  1.000000  140  140.00   137    1\n",
              "2   3   3  52  0.739279  0.183477  ...  0.750000  984  818.65   978    0\n",
              "3   1   1   8  0.685328  0.016039  ...  1.000000  579  479.25   550    0\n",
              "4   2   2  38  0.769776  0.091829  ...  0.763158  413  313.25   405    0\n",
              "\n",
              "[5 rows x 15 columns]"
            ]
          },
          "metadata": {
            "tags": []
          },
          "execution_count": 8
        }
      ]
    },
    {
      "cell_type": "code",
      "metadata": {
        "id": "WoHvy3D_peSX",
        "outputId": "f4042f95-d04f-4c83-d42a-881425d9bc8d",
        "colab": {
          "base_uri": "https://localhost:8080/",
          "height": 34
        }
      },
      "source": [
        "# count1 = np.count_nonzero(df.bug, axis=0)\n",
        "# count1"
      ],
      "execution_count": 9,
      "outputs": [
        {
          "output_type": "execute_result",
          "data": {
            "text/plain": [
              "27866"
            ]
          },
          "metadata": {
            "tags": []
          },
          "execution_count": 9
        }
      ]
    },
    {
      "cell_type": "code",
      "metadata": {
        "id": "G5L6qFJLeDeN"
      },
      "source": [
        "# #More Balanced DataFrame\n",
        "# deleted = 0\n",
        "# for i in range(df.shape[0]-1, 0, -1 ):\n",
        "#   if deleted == 164680:\n",
        "#     break\n",
        "#   elif df.iloc[i].bug == 0:\n",
        "#     df = df.drop(df.index[i])\n",
        "#     if(count1 > np.count_nonzero(df.bug, axis=0)):\n",
        "#       print('kata')\n",
        "#       break\n",
        "#     deleted = deleted + 1\n",
        "#     if deleted % 1716 == 0:\n",
        "#       print('Completed: ',deleted / 1716, ' %');"
      ],
      "execution_count": null,
      "outputs": []
    },
    {
      "cell_type": "code",
      "metadata": {
        "id": "waxIbRWYhM9S"
      },
      "source": [
        "df = df.sample(frac = 1) "
      ],
      "execution_count": 11,
      "outputs": []
    },
    {
      "cell_type": "markdown",
      "metadata": {
        "id": "O-6blBzBx_o-"
      },
      "source": [
        "Save the DataFrame"
      ]
    },
    {
      "cell_type": "code",
      "metadata": {
        "id": "aRP_tqUtxffF"
      },
      "source": [
        "# df.to_csv(r'/content/drive/My Drive/dataset/FinalDF.csv', index = False)"
      ],
      "execution_count": 12,
      "outputs": []
    },
    {
      "cell_type": "code",
      "metadata": {
        "id": "2cHDy9eqQJta"
      },
      "source": [
        "#Splitting Attributes and Labels\n",
        "train_X = df.iloc[:,:-1].apply(func=normalize, axis=0)\n",
        "train_Y = df.iloc[:,-1]"
      ],
      "execution_count": 13,
      "outputs": []
    },
    {
      "cell_type": "code",
      "metadata": {
        "id": "8E4REdnSKBjJ",
        "outputId": "3469bf2c-b8df-4257-8257-9d0c2917931d",
        "colab": {
          "base_uri": "https://localhost:8080/",
          "height": 151
        }
      },
      "source": [
        "# df=df.drop(['transactionid'], axis=1)\n",
        "print(df.head())"
      ],
      "execution_count": 14,
      "outputs": [
        {
          "output_type": "stream",
          "text": [
            "        ns  nm  nf   entropy  ...    exp         rexp   sexp  bug\n",
            "38070    1   1   1  0.000000  ...    654   452.000000    651    0\n",
            "67355    1   1   4  0.000000  ...   5446  2027.481746    202    1\n",
            "23254    1   1   3  0.905713  ...   1217  1154.500000    136    0\n",
            "11990    1   1   1  0.000000  ...  16736  5511.066667  16736    0\n",
            "150761   1   3  12  0.731805  ...    265   265.000000     69    1\n",
            "\n",
            "[5 rows x 15 columns]\n"
          ],
          "name": "stdout"
        }
      ]
    },
    {
      "cell_type": "markdown",
      "metadata": {
        "id": "VoV6Hfj1LQ18"
      },
      "source": [
        "#**DBN**"
      ]
    },
    {
      "cell_type": "code",
      "metadata": {
        "id": "pS-1UJMM6WUH"
      },
      "source": [
        "# Define RBM class\n",
        "class RBM(object):\n",
        "    \n",
        "    def __init__(self, input_size, output_size, \n",
        "                 learning_rate, epochs, batchsize):\n",
        "        # Define hyperparameters\n",
        "        self._input_size = input_size\n",
        "        self._output_size = output_size\n",
        "        self.learning_rate = learning_rate\n",
        "        self.epochs = epochs\n",
        "        self.batchsize = batchsize\n",
        "        \n",
        "        # Initialize weights and biases using zero matrices\n",
        "        self.w = np.zeros([input_size, output_size], dtype=np.float32)\n",
        "        self.hb = np.zeros([output_size], dtype=np.float32)\n",
        "        self.vb = np.zeros([input_size], dtype=np.float32)\n",
        "    # forward pass, where h is the hidden layer and v is the visible layer\n",
        "    def prob_h_given_v(self, visible, w, hb):\n",
        "        return tf.nn.sigmoid(tf.matmul(visible, w) + hb)\n",
        "    # backward pass\n",
        "    def prob_v_given_h(self, hidden, w, vb):\n",
        "        return tf.nn.sigmoid(tf.matmul(hidden, tf.transpose(w)) + vb)\n",
        "    # sampling function\n",
        "    def sample_prob(self, probs):\n",
        "        return tf.nn.relu(tf.sign(probs - tf.random_uniform(tf.shape(probs))))\n",
        "\n",
        "    def train(self, X):\n",
        "        _w = tf.placeholder(tf.float32, [self._input_size, self._output_size])\n",
        "        _hb = tf.placeholder(tf.float32, [self._output_size])\n",
        "        _vb = tf.placeholder(tf.float32, [self._input_size])\n",
        "        \n",
        "        prv_w = np.zeros([self._input_size, self._output_size], dtype=np.float32)\n",
        "        prv_hb = np.zeros([self._output_size], dtype=np.float32)\n",
        "        prv_vb = np.zeros([self._input_size], dtype=np.float32)\n",
        "        \n",
        "        cur_w = np.zeros([self._input_size, self._output_size], dtype=np.float32)\n",
        "        cur_hb = np.zeros([self._output_size], dtype=np.float32)\n",
        "        cur_vb = np.zeros([self._input_size], dtype=np.float32)\n",
        "        \n",
        "        v0 = tf.placeholder(tf.float32, [None, self._input_size])\n",
        "        h0 = self.sample_prob(self.prob_h_given_v(v0, _w, _hb))\n",
        "        v1 = self.sample_prob(self.prob_v_given_h(h0, _w, _vb))\n",
        "        h1 = self.prob_h_given_v(v1, _w, _hb)\n",
        "        #To update the weights, we perform constrastive divergence.\n",
        "        positive_grad = tf.matmul(tf.transpose(v0), h0)\n",
        "        negative_grad = tf.matmul(tf.transpose(v1), h1)\n",
        "        \n",
        "        update_w = _w + self.learning_rate * (positive_grad - negative_grad) / tf.to_float(tf.shape(v0)[0])\n",
        "        update_vb = _vb +  self.learning_rate * tf.reduce_mean(v0 - v1, 0)\n",
        "        update_hb = _hb +  self.learning_rate * tf.reduce_mean(h0 - h1, 0)\n",
        "        # We also define the error as the MSE\n",
        "        err = tf.reduce_mean(tf.square(v0 - v1))\n",
        "        \n",
        "        error_list = []\n",
        "\n",
        "        with tf.Session() as sess:\n",
        "            sess.run(tf.global_variables_initializer())\n",
        "            \n",
        "            for epoch in range(self.epochs):\n",
        "                for start, end in zip(range(0, len(X),  self.batchsize),range(self.batchsize,len(X), self.batchsize)):\n",
        "                    batch = X[start:end]\n",
        "                    cur_w = sess.run(update_w, feed_dict={v0: batch, _w: prv_w, _hb: prv_hb, _vb: prv_vb})\n",
        "                    cur_hb = sess.run(update_hb, feed_dict={v0: batch,  _w: prv_w, _hb: prv_hb, _vb: prv_vb})\n",
        "                    cur_vb = sess.run(update_vb, feed_dict={v0: batch, _w: prv_w, _hb: prv_hb, _vb: prv_vb})\n",
        "                    prv_w = cur_w\n",
        "                    prv_hb = cur_hb\n",
        "                    prv_vb = cur_vb\n",
        "                error = sess.run(err, feed_dict={v0: X, _w: cur_w, _vb: cur_vb, _hb: cur_hb})\n",
        "                print ('Epoch: %d' % epoch,'reconstruction error: %f' % error)\n",
        "                error_list.append(error)\n",
        "            self.w = prv_w\n",
        "            self.hb = prv_hb\n",
        "            self.vb = prv_vb\n",
        "            return error_list\n",
        "    #function to generate new features from the generative model that the RBM has learned\n",
        "    def rbm_output(self, X):\n",
        "        \n",
        "        input_X = tf.constant(X)\n",
        "        _w = tf.constant(self.w)\n",
        "        _hb = tf.constant(self.hb)\n",
        "        _vb = tf.constant(self.vb)\n",
        "        out = tf.nn.sigmoid(tf.matmul(input_X, _w) + _hb)\n",
        "        hiddenGen = self.sample_prob(self.prob_h_given_v(input_X, _w, _hb))\n",
        "        visibleGen = self.sample_prob(self.prob_v_given_h(hiddenGen, _w, _vb))\n",
        "        with tf.Session() as sess:\n",
        "            sess.run(tf.global_variables_initializer())\n",
        "            return sess.run(out), sess.run(visibleGen), sess.run(hiddenGen)"
      ],
      "execution_count": 15,
      "outputs": []
    },
    {
      "cell_type": "code",
      "metadata": {
        "id": "V0YjK0QsnQKb",
        "outputId": "62a2db9a-5508-4bcc-9213-6ffb7fc8ea24",
        "colab": {
          "base_uri": "https://localhost:8080/",
          "height": 34
        }
      },
      "source": [
        "inputX = df.iloc[:,:-1].apply(func=normalize, axis=0).values\n",
        "inputY= df.iloc[:,-1].values\n",
        "print(type(inputX))\n",
        "inputX = inputX.astype(np.float32)\n",
        "\n",
        "#List to hold RBMs\n",
        "rbm_list = []\n",
        "\n",
        "#define parameters of RBMs we will train\n",
        "# 14-20-12-12-2\n",
        "\n",
        "# def __init__(self, input_size, output_size,learning_rate, epochs, batchsize):\n",
        "rbm_list.append(RBM(14, 20, 0.1, 200, 100))\n",
        "rbm_list.append(RBM(20, 12, 0.05, 200, 100))\n",
        "rbm_list.append(RBM(12, 12, 0.05, 200, 100))"
      ],
      "execution_count": 16,
      "outputs": [
        {
          "output_type": "stream",
          "text": [
            "<class 'numpy.ndarray'>\n"
          ],
          "name": "stdout"
        }
      ]
    },
    {
      "cell_type": "code",
      "metadata": {
        "id": "niPCAo4fsOCp",
        "outputId": "6a551d54-7fda-4069-e67c-08c5b493cabb",
        "colab": {
          "base_uri": "https://localhost:8080/",
          "height": 34
        }
      },
      "source": [
        "inputX.shape"
      ],
      "execution_count": 17,
      "outputs": [
        {
          "output_type": "execute_result",
          "data": {
            "text/plain": [
              "(62737, 14)"
            ]
          },
          "metadata": {
            "tags": []
          },
          "execution_count": 17
        }
      ]
    },
    {
      "cell_type": "code",
      "metadata": {
        "id": "-RFRdpvK4zBD",
        "outputId": "3f00c3db-7ca9-4bd2-e384-6c9050518f4e",
        "colab": {
          "base_uri": "https://localhost:8080/",
          "height": 87
        }
      },
      "source": [
        "import tensorflow.compat.v1 as tf\n",
        "tf.disable_v2_behavior() "
      ],
      "execution_count": 18,
      "outputs": [
        {
          "output_type": "stream",
          "text": [
            "WARNING:tensorflow:From /usr/local/lib/python3.6/dist-packages/tensorflow/python/compat/v2_compat.py:96: disable_resource_variables (from tensorflow.python.ops.variable_scope) is deprecated and will be removed in a future version.\n",
            "Instructions for updating:\n",
            "non-resource variables are not supported in the long term\n"
          ],
          "name": "stdout"
        }
      ]
    },
    {
      "cell_type": "code",
      "metadata": {
        "id": "tCjl-ZFknQV0",
        "outputId": "ec7777b6-d8ce-4b52-bc9a-5e17c839c466",
        "colab": {
          "base_uri": "https://localhost:8080/",
          "height": 1000
        }
      },
      "source": [
        "outputList = []\n",
        "error_list = []\n",
        "\n",
        "#For each RBM in out list\n",
        "for i in range(0, len(rbm_list)):\n",
        "    print('RBM', i+1)\n",
        "    #Train new RBM\n",
        "    rbm = rbm_list[i]\n",
        "    err = rbm.train(inputX)\n",
        "    error_list.append(err)\n",
        "\n",
        "    #Return output layer\n",
        "    #sess.run(out), sess.run(visibleGen), sess.run(hiddenGen)\n",
        "    outputX, reconstructedX, hiddenX = rbm.rbm_output(inputX)\n",
        "    outputList.append(outputX)\n",
        "    inputX= hiddenX"
      ],
      "execution_count": 19,
      "outputs": [
        {
          "output_type": "stream",
          "text": [
            "RBM 1\n",
            "WARNING:tensorflow:From <ipython-input-15-2b5d3aa65216>:48: to_float (from tensorflow.python.ops.math_ops) is deprecated and will be removed in a future version.\n",
            "Instructions for updating:\n",
            "Use `tf.cast` instead.\n",
            "Epoch: 0 reconstruction error: 0.108193\n",
            "Epoch: 1 reconstruction error: 0.108206\n",
            "Epoch: 2 reconstruction error: 0.108082\n",
            "Epoch: 3 reconstruction error: 0.107087\n",
            "Epoch: 4 reconstruction error: 0.106952\n",
            "Epoch: 5 reconstruction error: 0.104547\n",
            "Epoch: 6 reconstruction error: 0.107322\n",
            "Epoch: 7 reconstruction error: 0.105083\n",
            "Epoch: 8 reconstruction error: 0.104693\n",
            "Epoch: 9 reconstruction error: 0.103137\n",
            "Epoch: 10 reconstruction error: 0.104247\n",
            "Epoch: 11 reconstruction error: 0.104039\n",
            "Epoch: 12 reconstruction error: 0.101265\n",
            "Epoch: 13 reconstruction error: 0.100896\n",
            "Epoch: 14 reconstruction error: 0.100693\n",
            "Epoch: 15 reconstruction error: 0.100710\n",
            "Epoch: 16 reconstruction error: 0.099153\n",
            "Epoch: 17 reconstruction error: 0.097737\n",
            "Epoch: 18 reconstruction error: 0.097618\n",
            "Epoch: 19 reconstruction error: 0.097948\n",
            "Epoch: 20 reconstruction error: 0.099247\n",
            "Epoch: 21 reconstruction error: 0.096828\n",
            "Epoch: 22 reconstruction error: 0.095065\n",
            "Epoch: 23 reconstruction error: 0.096763\n",
            "Epoch: 24 reconstruction error: 0.093550\n",
            "Epoch: 25 reconstruction error: 0.093209\n",
            "Epoch: 26 reconstruction error: 0.092980\n",
            "Epoch: 27 reconstruction error: 0.093240\n",
            "Epoch: 28 reconstruction error: 0.092332\n",
            "Epoch: 29 reconstruction error: 0.092790\n",
            "Epoch: 30 reconstruction error: 0.092488\n",
            "Epoch: 31 reconstruction error: 0.089808\n",
            "Epoch: 32 reconstruction error: 0.091364\n",
            "Epoch: 33 reconstruction error: 0.091283\n",
            "Epoch: 34 reconstruction error: 0.089203\n",
            "Epoch: 35 reconstruction error: 0.090158\n",
            "Epoch: 36 reconstruction error: 0.089579\n",
            "Epoch: 37 reconstruction error: 0.088570\n",
            "Epoch: 38 reconstruction error: 0.085737\n",
            "Epoch: 39 reconstruction error: 0.087487\n",
            "Epoch: 40 reconstruction error: 0.085350\n",
            "Epoch: 41 reconstruction error: 0.087142\n",
            "Epoch: 42 reconstruction error: 0.084969\n",
            "Epoch: 43 reconstruction error: 0.087173\n",
            "Epoch: 44 reconstruction error: 0.085153\n",
            "Epoch: 45 reconstruction error: 0.086187\n",
            "Epoch: 46 reconstruction error: 0.084290\n",
            "Epoch: 47 reconstruction error: 0.084773\n",
            "Epoch: 48 reconstruction error: 0.082260\n",
            "Epoch: 49 reconstruction error: 0.084000\n",
            "Epoch: 50 reconstruction error: 0.084811\n",
            "Epoch: 51 reconstruction error: 0.084113\n",
            "Epoch: 52 reconstruction error: 0.082489\n",
            "Epoch: 53 reconstruction error: 0.083952\n",
            "Epoch: 54 reconstruction error: 0.084410\n",
            "Epoch: 55 reconstruction error: 0.083993\n",
            "Epoch: 56 reconstruction error: 0.081838\n",
            "Epoch: 57 reconstruction error: 0.082362\n",
            "Epoch: 58 reconstruction error: 0.081422\n",
            "Epoch: 59 reconstruction error: 0.080543\n",
            "Epoch: 60 reconstruction error: 0.079732\n",
            "Epoch: 61 reconstruction error: 0.079927\n",
            "Epoch: 62 reconstruction error: 0.080786\n",
            "Epoch: 63 reconstruction error: 0.079085\n",
            "Epoch: 64 reconstruction error: 0.079579\n",
            "Epoch: 65 reconstruction error: 0.082244\n",
            "Epoch: 66 reconstruction error: 0.081326\n",
            "Epoch: 67 reconstruction error: 0.082869\n",
            "Epoch: 68 reconstruction error: 0.082839\n",
            "Epoch: 69 reconstruction error: 0.082496\n",
            "Epoch: 70 reconstruction error: 0.081461\n",
            "Epoch: 71 reconstruction error: 0.078633\n",
            "Epoch: 72 reconstruction error: 0.080106\n",
            "Epoch: 73 reconstruction error: 0.080775\n",
            "Epoch: 74 reconstruction error: 0.078566\n",
            "Epoch: 75 reconstruction error: 0.081035\n",
            "Epoch: 76 reconstruction error: 0.080064\n",
            "Epoch: 77 reconstruction error: 0.079840\n",
            "Epoch: 78 reconstruction error: 0.079863\n",
            "Epoch: 79 reconstruction error: 0.080628\n",
            "Epoch: 80 reconstruction error: 0.081286\n",
            "Epoch: 81 reconstruction error: 0.079286\n",
            "Epoch: 82 reconstruction error: 0.080085\n",
            "Epoch: 83 reconstruction error: 0.079624\n",
            "Epoch: 84 reconstruction error: 0.080499\n",
            "Epoch: 85 reconstruction error: 0.078916\n",
            "Epoch: 86 reconstruction error: 0.078594\n",
            "Epoch: 87 reconstruction error: 0.080104\n",
            "Epoch: 88 reconstruction error: 0.078815\n",
            "Epoch: 89 reconstruction error: 0.078346\n",
            "Epoch: 90 reconstruction error: 0.076895\n",
            "Epoch: 91 reconstruction error: 0.078045\n",
            "Epoch: 92 reconstruction error: 0.077866\n",
            "Epoch: 93 reconstruction error: 0.078995\n",
            "Epoch: 94 reconstruction error: 0.079117\n",
            "Epoch: 95 reconstruction error: 0.077927\n",
            "Epoch: 96 reconstruction error: 0.079641\n",
            "Epoch: 97 reconstruction error: 0.077779\n",
            "Epoch: 98 reconstruction error: 0.078729\n",
            "Epoch: 99 reconstruction error: 0.079780\n",
            "Epoch: 100 reconstruction error: 0.079292\n",
            "Epoch: 101 reconstruction error: 0.080366\n",
            "Epoch: 102 reconstruction error: 0.076056\n",
            "Epoch: 103 reconstruction error: 0.078640\n",
            "Epoch: 104 reconstruction error: 0.080483\n",
            "Epoch: 105 reconstruction error: 0.078170\n",
            "Epoch: 106 reconstruction error: 0.077968\n",
            "Epoch: 107 reconstruction error: 0.078677\n",
            "Epoch: 108 reconstruction error: 0.078191\n",
            "Epoch: 109 reconstruction error: 0.078074\n",
            "Epoch: 110 reconstruction error: 0.079430\n",
            "Epoch: 111 reconstruction error: 0.077778\n",
            "Epoch: 112 reconstruction error: 0.077631\n",
            "Epoch: 113 reconstruction error: 0.077296\n",
            "Epoch: 114 reconstruction error: 0.077196\n",
            "Epoch: 115 reconstruction error: 0.076945\n",
            "Epoch: 116 reconstruction error: 0.076491\n",
            "Epoch: 117 reconstruction error: 0.077453\n",
            "Epoch: 118 reconstruction error: 0.077011\n",
            "Epoch: 119 reconstruction error: 0.077392\n",
            "Epoch: 120 reconstruction error: 0.077385\n",
            "Epoch: 121 reconstruction error: 0.077599\n",
            "Epoch: 122 reconstruction error: 0.077593\n",
            "Epoch: 123 reconstruction error: 0.077601\n",
            "Epoch: 124 reconstruction error: 0.077401\n",
            "Epoch: 125 reconstruction error: 0.077429\n",
            "Epoch: 126 reconstruction error: 0.077538\n",
            "Epoch: 127 reconstruction error: 0.076467\n",
            "Epoch: 128 reconstruction error: 0.076336\n",
            "Epoch: 129 reconstruction error: 0.076446\n",
            "Epoch: 130 reconstruction error: 0.076711\n",
            "Epoch: 131 reconstruction error: 0.077466\n",
            "Epoch: 132 reconstruction error: 0.076890\n",
            "Epoch: 133 reconstruction error: 0.077013\n",
            "Epoch: 134 reconstruction error: 0.076363\n",
            "Epoch: 135 reconstruction error: 0.076806\n",
            "Epoch: 136 reconstruction error: 0.077817\n",
            "Epoch: 137 reconstruction error: 0.076674\n",
            "Epoch: 138 reconstruction error: 0.075625\n",
            "Epoch: 139 reconstruction error: 0.076252\n",
            "Epoch: 140 reconstruction error: 0.077758\n",
            "Epoch: 141 reconstruction error: 0.075090\n",
            "Epoch: 142 reconstruction error: 0.075145\n",
            "Epoch: 143 reconstruction error: 0.077882\n",
            "Epoch: 144 reconstruction error: 0.076284\n",
            "Epoch: 145 reconstruction error: 0.075925\n",
            "Epoch: 146 reconstruction error: 0.073570\n",
            "Epoch: 147 reconstruction error: 0.075687\n",
            "Epoch: 148 reconstruction error: 0.076382\n",
            "Epoch: 149 reconstruction error: 0.074631\n",
            "Epoch: 150 reconstruction error: 0.076790\n",
            "Epoch: 151 reconstruction error: 0.075660\n",
            "Epoch: 152 reconstruction error: 0.075320\n",
            "Epoch: 153 reconstruction error: 0.074605\n",
            "Epoch: 154 reconstruction error: 0.075928\n",
            "Epoch: 155 reconstruction error: 0.076616\n",
            "Epoch: 156 reconstruction error: 0.076139\n",
            "Epoch: 157 reconstruction error: 0.075198\n",
            "Epoch: 158 reconstruction error: 0.076026\n",
            "Epoch: 159 reconstruction error: 0.076044\n",
            "Epoch: 160 reconstruction error: 0.076641\n",
            "Epoch: 161 reconstruction error: 0.077822\n",
            "Epoch: 162 reconstruction error: 0.074876\n",
            "Epoch: 163 reconstruction error: 0.075504\n",
            "Epoch: 164 reconstruction error: 0.076456\n",
            "Epoch: 165 reconstruction error: 0.075564\n",
            "Epoch: 166 reconstruction error: 0.077313\n",
            "Epoch: 167 reconstruction error: 0.075742\n",
            "Epoch: 168 reconstruction error: 0.076827\n",
            "Epoch: 169 reconstruction error: 0.077391\n",
            "Epoch: 170 reconstruction error: 0.074773\n",
            "Epoch: 171 reconstruction error: 0.076372\n",
            "Epoch: 172 reconstruction error: 0.073830\n",
            "Epoch: 173 reconstruction error: 0.076357\n",
            "Epoch: 174 reconstruction error: 0.075884\n",
            "Epoch: 175 reconstruction error: 0.075384\n",
            "Epoch: 176 reconstruction error: 0.075421\n",
            "Epoch: 177 reconstruction error: 0.075745\n",
            "Epoch: 178 reconstruction error: 0.074487\n",
            "Epoch: 179 reconstruction error: 0.076224\n",
            "Epoch: 180 reconstruction error: 0.074289\n",
            "Epoch: 181 reconstruction error: 0.076044\n",
            "Epoch: 182 reconstruction error: 0.074991\n",
            "Epoch: 183 reconstruction error: 0.075538\n",
            "Epoch: 184 reconstruction error: 0.076510\n",
            "Epoch: 185 reconstruction error: 0.075581\n",
            "Epoch: 186 reconstruction error: 0.075985\n",
            "Epoch: 187 reconstruction error: 0.074739\n",
            "Epoch: 188 reconstruction error: 0.074359\n",
            "Epoch: 189 reconstruction error: 0.075290\n",
            "Epoch: 190 reconstruction error: 0.077127\n",
            "Epoch: 191 reconstruction error: 0.075675\n",
            "Epoch: 192 reconstruction error: 0.074862\n",
            "Epoch: 193 reconstruction error: 0.075623\n",
            "Epoch: 194 reconstruction error: 0.074019\n",
            "Epoch: 195 reconstruction error: 0.076968\n",
            "Epoch: 196 reconstruction error: 0.075679\n",
            "Epoch: 197 reconstruction error: 0.076234\n",
            "Epoch: 198 reconstruction error: 0.074063\n",
            "Epoch: 199 reconstruction error: 0.075824\n",
            "RBM 2\n",
            "Epoch: 0 reconstruction error: 0.309077\n",
            "Epoch: 1 reconstruction error: 0.304972\n",
            "Epoch: 2 reconstruction error: 0.272654\n",
            "Epoch: 3 reconstruction error: 0.265999\n",
            "Epoch: 4 reconstruction error: 0.262301\n",
            "Epoch: 5 reconstruction error: 0.261148\n",
            "Epoch: 6 reconstruction error: 0.261952\n",
            "Epoch: 7 reconstruction error: 0.262414\n",
            "Epoch: 8 reconstruction error: 0.260955\n",
            "Epoch: 9 reconstruction error: 0.261625\n",
            "Epoch: 10 reconstruction error: 0.261857\n",
            "Epoch: 11 reconstruction error: 0.260977\n",
            "Epoch: 12 reconstruction error: 0.261868\n",
            "Epoch: 13 reconstruction error: 0.261265\n",
            "Epoch: 14 reconstruction error: 0.262394\n",
            "Epoch: 15 reconstruction error: 0.260723\n",
            "Epoch: 16 reconstruction error: 0.261337\n",
            "Epoch: 17 reconstruction error: 0.262549\n",
            "Epoch: 18 reconstruction error: 0.260287\n",
            "Epoch: 19 reconstruction error: 0.262756\n",
            "Epoch: 20 reconstruction error: 0.262094\n",
            "Epoch: 21 reconstruction error: 0.261368\n",
            "Epoch: 22 reconstruction error: 0.261601\n",
            "Epoch: 23 reconstruction error: 0.260656\n",
            "Epoch: 24 reconstruction error: 0.262008\n",
            "Epoch: 25 reconstruction error: 0.260053\n",
            "Epoch: 26 reconstruction error: 0.262447\n",
            "Epoch: 27 reconstruction error: 0.261852\n",
            "Epoch: 28 reconstruction error: 0.262120\n",
            "Epoch: 29 reconstruction error: 0.261928\n",
            "Epoch: 30 reconstruction error: 0.260878\n",
            "Epoch: 31 reconstruction error: 0.262085\n",
            "Epoch: 32 reconstruction error: 0.262130\n",
            "Epoch: 33 reconstruction error: 0.261534\n",
            "Epoch: 34 reconstruction error: 0.261975\n",
            "Epoch: 35 reconstruction error: 0.262358\n",
            "Epoch: 36 reconstruction error: 0.261047\n",
            "Epoch: 37 reconstruction error: 0.261238\n",
            "Epoch: 38 reconstruction error: 0.261806\n",
            "Epoch: 39 reconstruction error: 0.261497\n",
            "Epoch: 40 reconstruction error: 0.260103\n",
            "Epoch: 41 reconstruction error: 0.260515\n",
            "Epoch: 42 reconstruction error: 0.261155\n",
            "Epoch: 43 reconstruction error: 0.261700\n",
            "Epoch: 44 reconstruction error: 0.261133\n",
            "Epoch: 45 reconstruction error: 0.260591\n",
            "Epoch: 46 reconstruction error: 0.261369\n",
            "Epoch: 47 reconstruction error: 0.261324\n",
            "Epoch: 48 reconstruction error: 0.261668\n",
            "Epoch: 49 reconstruction error: 0.260954\n",
            "Epoch: 50 reconstruction error: 0.260941\n",
            "Epoch: 51 reconstruction error: 0.260432\n",
            "Epoch: 52 reconstruction error: 0.261264\n",
            "Epoch: 53 reconstruction error: 0.261372\n",
            "Epoch: 54 reconstruction error: 0.262776\n",
            "Epoch: 55 reconstruction error: 0.261104\n",
            "Epoch: 56 reconstruction error: 0.260586\n",
            "Epoch: 57 reconstruction error: 0.260978\n",
            "Epoch: 58 reconstruction error: 0.260227\n",
            "Epoch: 59 reconstruction error: 0.261165\n",
            "Epoch: 60 reconstruction error: 0.261755\n",
            "Epoch: 61 reconstruction error: 0.261169\n",
            "Epoch: 62 reconstruction error: 0.260028\n",
            "Epoch: 63 reconstruction error: 0.261569\n",
            "Epoch: 64 reconstruction error: 0.261394\n",
            "Epoch: 65 reconstruction error: 0.261156\n",
            "Epoch: 66 reconstruction error: 0.261461\n",
            "Epoch: 67 reconstruction error: 0.261927\n",
            "Epoch: 68 reconstruction error: 0.261317\n",
            "Epoch: 69 reconstruction error: 0.261723\n",
            "Epoch: 70 reconstruction error: 0.261064\n",
            "Epoch: 71 reconstruction error: 0.262117\n",
            "Epoch: 72 reconstruction error: 0.261144\n",
            "Epoch: 73 reconstruction error: 0.260728\n",
            "Epoch: 74 reconstruction error: 0.262003\n",
            "Epoch: 75 reconstruction error: 0.261861\n",
            "Epoch: 76 reconstruction error: 0.261881\n",
            "Epoch: 77 reconstruction error: 0.259969\n",
            "Epoch: 78 reconstruction error: 0.261256\n",
            "Epoch: 79 reconstruction error: 0.260582\n",
            "Epoch: 80 reconstruction error: 0.260672\n",
            "Epoch: 81 reconstruction error: 0.260732\n",
            "Epoch: 82 reconstruction error: 0.261673\n",
            "Epoch: 83 reconstruction error: 0.261310\n",
            "Epoch: 84 reconstruction error: 0.260597\n",
            "Epoch: 85 reconstruction error: 0.261205\n",
            "Epoch: 86 reconstruction error: 0.261614\n",
            "Epoch: 87 reconstruction error: 0.259743\n",
            "Epoch: 88 reconstruction error: 0.260424\n",
            "Epoch: 89 reconstruction error: 0.260309\n",
            "Epoch: 90 reconstruction error: 0.260986\n",
            "Epoch: 91 reconstruction error: 0.260319\n",
            "Epoch: 92 reconstruction error: 0.261522\n",
            "Epoch: 93 reconstruction error: 0.260113\n",
            "Epoch: 94 reconstruction error: 0.260719\n",
            "Epoch: 95 reconstruction error: 0.261777\n",
            "Epoch: 96 reconstruction error: 0.260555\n",
            "Epoch: 97 reconstruction error: 0.262074\n",
            "Epoch: 98 reconstruction error: 0.262023\n",
            "Epoch: 99 reconstruction error: 0.260887\n",
            "Epoch: 100 reconstruction error: 0.260943\n",
            "Epoch: 101 reconstruction error: 0.260580\n",
            "Epoch: 102 reconstruction error: 0.261599\n",
            "Epoch: 103 reconstruction error: 0.261488\n",
            "Epoch: 104 reconstruction error: 0.261538\n",
            "Epoch: 105 reconstruction error: 0.260807\n",
            "Epoch: 106 reconstruction error: 0.260665\n",
            "Epoch: 107 reconstruction error: 0.260277\n",
            "Epoch: 108 reconstruction error: 0.260762\n",
            "Epoch: 109 reconstruction error: 0.259869\n",
            "Epoch: 110 reconstruction error: 0.261385\n",
            "Epoch: 111 reconstruction error: 0.260389\n",
            "Epoch: 112 reconstruction error: 0.260958\n",
            "Epoch: 113 reconstruction error: 0.260977\n",
            "Epoch: 114 reconstruction error: 0.260801\n",
            "Epoch: 115 reconstruction error: 0.260942\n",
            "Epoch: 116 reconstruction error: 0.261971\n",
            "Epoch: 117 reconstruction error: 0.261031\n",
            "Epoch: 118 reconstruction error: 0.262190\n",
            "Epoch: 119 reconstruction error: 0.260998\n",
            "Epoch: 120 reconstruction error: 0.261391\n",
            "Epoch: 121 reconstruction error: 0.261484\n",
            "Epoch: 122 reconstruction error: 0.261725\n",
            "Epoch: 123 reconstruction error: 0.260982\n",
            "Epoch: 124 reconstruction error: 0.260745\n",
            "Epoch: 125 reconstruction error: 0.260755\n",
            "Epoch: 126 reconstruction error: 0.260688\n",
            "Epoch: 127 reconstruction error: 0.259301\n",
            "Epoch: 128 reconstruction error: 0.260719\n",
            "Epoch: 129 reconstruction error: 0.259716\n",
            "Epoch: 130 reconstruction error: 0.261292\n",
            "Epoch: 131 reconstruction error: 0.261166\n",
            "Epoch: 132 reconstruction error: 0.261352\n",
            "Epoch: 133 reconstruction error: 0.260832\n",
            "Epoch: 134 reconstruction error: 0.259597\n",
            "Epoch: 135 reconstruction error: 0.261365\n",
            "Epoch: 136 reconstruction error: 0.260379\n",
            "Epoch: 137 reconstruction error: 0.260324\n",
            "Epoch: 138 reconstruction error: 0.260526\n",
            "Epoch: 139 reconstruction error: 0.260771\n",
            "Epoch: 140 reconstruction error: 0.261102\n",
            "Epoch: 141 reconstruction error: 0.260549\n",
            "Epoch: 142 reconstruction error: 0.260318\n",
            "Epoch: 143 reconstruction error: 0.260350\n",
            "Epoch: 144 reconstruction error: 0.260134\n",
            "Epoch: 145 reconstruction error: 0.261193\n",
            "Epoch: 146 reconstruction error: 0.261208\n",
            "Epoch: 147 reconstruction error: 0.259848\n",
            "Epoch: 148 reconstruction error: 0.259353\n",
            "Epoch: 149 reconstruction error: 0.259442\n",
            "Epoch: 150 reconstruction error: 0.260349\n",
            "Epoch: 151 reconstruction error: 0.260919\n",
            "Epoch: 152 reconstruction error: 0.260159\n",
            "Epoch: 153 reconstruction error: 0.260221\n",
            "Epoch: 154 reconstruction error: 0.260968\n",
            "Epoch: 155 reconstruction error: 0.261286\n",
            "Epoch: 156 reconstruction error: 0.261875\n",
            "Epoch: 157 reconstruction error: 0.260336\n",
            "Epoch: 158 reconstruction error: 0.259781\n",
            "Epoch: 159 reconstruction error: 0.260002\n",
            "Epoch: 160 reconstruction error: 0.260495\n",
            "Epoch: 161 reconstruction error: 0.260314\n",
            "Epoch: 162 reconstruction error: 0.261174\n",
            "Epoch: 163 reconstruction error: 0.261233\n",
            "Epoch: 164 reconstruction error: 0.260403\n",
            "Epoch: 165 reconstruction error: 0.260863\n",
            "Epoch: 166 reconstruction error: 0.260227\n",
            "Epoch: 167 reconstruction error: 0.260320\n",
            "Epoch: 168 reconstruction error: 0.259224\n",
            "Epoch: 169 reconstruction error: 0.260728\n",
            "Epoch: 170 reconstruction error: 0.261160\n",
            "Epoch: 171 reconstruction error: 0.259737\n",
            "Epoch: 172 reconstruction error: 0.260367\n",
            "Epoch: 173 reconstruction error: 0.259867\n",
            "Epoch: 174 reconstruction error: 0.261243\n",
            "Epoch: 175 reconstruction error: 0.260660\n",
            "Epoch: 176 reconstruction error: 0.260518\n",
            "Epoch: 177 reconstruction error: 0.260258\n",
            "Epoch: 178 reconstruction error: 0.261144\n",
            "Epoch: 179 reconstruction error: 0.259830\n",
            "Epoch: 180 reconstruction error: 0.260039\n",
            "Epoch: 181 reconstruction error: 0.259437\n",
            "Epoch: 182 reconstruction error: 0.259250\n",
            "Epoch: 183 reconstruction error: 0.261025\n",
            "Epoch: 184 reconstruction error: 0.259744\n",
            "Epoch: 185 reconstruction error: 0.260050\n",
            "Epoch: 186 reconstruction error: 0.259703\n",
            "Epoch: 187 reconstruction error: 0.260813\n",
            "Epoch: 188 reconstruction error: 0.261644\n",
            "Epoch: 189 reconstruction error: 0.261379\n",
            "Epoch: 190 reconstruction error: 0.260051\n",
            "Epoch: 191 reconstruction error: 0.260629\n",
            "Epoch: 192 reconstruction error: 0.260650\n",
            "Epoch: 193 reconstruction error: 0.260403\n",
            "Epoch: 194 reconstruction error: 0.260585\n",
            "Epoch: 195 reconstruction error: 0.259955\n",
            "Epoch: 196 reconstruction error: 0.260597\n",
            "Epoch: 197 reconstruction error: 0.261182\n",
            "Epoch: 198 reconstruction error: 0.259926\n",
            "Epoch: 199 reconstruction error: 0.261454\n",
            "RBM 3\n",
            "Epoch: 0 reconstruction error: 0.194870\n",
            "Epoch: 1 reconstruction error: 0.193583\n",
            "Epoch: 2 reconstruction error: 0.180615\n",
            "Epoch: 3 reconstruction error: 0.158494\n",
            "Epoch: 4 reconstruction error: 0.146095\n",
            "Epoch: 5 reconstruction error: 0.141724\n",
            "Epoch: 6 reconstruction error: 0.140603\n",
            "Epoch: 7 reconstruction error: 0.139114\n",
            "Epoch: 8 reconstruction error: 0.139171\n",
            "Epoch: 9 reconstruction error: 0.137801\n",
            "Epoch: 10 reconstruction error: 0.138285\n",
            "Epoch: 11 reconstruction error: 0.137703\n",
            "Epoch: 12 reconstruction error: 0.137143\n",
            "Epoch: 13 reconstruction error: 0.136577\n",
            "Epoch: 14 reconstruction error: 0.138193\n",
            "Epoch: 15 reconstruction error: 0.138009\n",
            "Epoch: 16 reconstruction error: 0.137415\n",
            "Epoch: 17 reconstruction error: 0.137651\n",
            "Epoch: 18 reconstruction error: 0.137922\n",
            "Epoch: 19 reconstruction error: 0.136846\n",
            "Epoch: 20 reconstruction error: 0.136975\n",
            "Epoch: 21 reconstruction error: 0.138087\n",
            "Epoch: 22 reconstruction error: 0.138629\n",
            "Epoch: 23 reconstruction error: 0.137508\n",
            "Epoch: 24 reconstruction error: 0.138584\n",
            "Epoch: 25 reconstruction error: 0.137171\n",
            "Epoch: 26 reconstruction error: 0.137281\n",
            "Epoch: 27 reconstruction error: 0.137487\n",
            "Epoch: 28 reconstruction error: 0.136971\n",
            "Epoch: 29 reconstruction error: 0.136719\n",
            "Epoch: 30 reconstruction error: 0.136563\n",
            "Epoch: 31 reconstruction error: 0.136168\n",
            "Epoch: 32 reconstruction error: 0.136383\n",
            "Epoch: 33 reconstruction error: 0.138559\n",
            "Epoch: 34 reconstruction error: 0.137337\n",
            "Epoch: 35 reconstruction error: 0.136756\n",
            "Epoch: 36 reconstruction error: 0.137457\n",
            "Epoch: 37 reconstruction error: 0.137962\n",
            "Epoch: 38 reconstruction error: 0.137663\n",
            "Epoch: 39 reconstruction error: 0.137646\n",
            "Epoch: 40 reconstruction error: 0.136196\n",
            "Epoch: 41 reconstruction error: 0.137829\n",
            "Epoch: 42 reconstruction error: 0.136914\n",
            "Epoch: 43 reconstruction error: 0.137792\n",
            "Epoch: 44 reconstruction error: 0.137309\n",
            "Epoch: 45 reconstruction error: 0.137117\n",
            "Epoch: 46 reconstruction error: 0.138310\n",
            "Epoch: 47 reconstruction error: 0.138948\n",
            "Epoch: 48 reconstruction error: 0.136736\n",
            "Epoch: 49 reconstruction error: 0.137736\n",
            "Epoch: 50 reconstruction error: 0.137918\n",
            "Epoch: 51 reconstruction error: 0.136868\n",
            "Epoch: 52 reconstruction error: 0.136880\n",
            "Epoch: 53 reconstruction error: 0.136990\n",
            "Epoch: 54 reconstruction error: 0.136905\n",
            "Epoch: 55 reconstruction error: 0.137679\n",
            "Epoch: 56 reconstruction error: 0.136954\n",
            "Epoch: 57 reconstruction error: 0.136156\n",
            "Epoch: 58 reconstruction error: 0.137982\n",
            "Epoch: 59 reconstruction error: 0.138316\n",
            "Epoch: 60 reconstruction error: 0.137577\n",
            "Epoch: 61 reconstruction error: 0.137746\n",
            "Epoch: 62 reconstruction error: 0.137261\n",
            "Epoch: 63 reconstruction error: 0.137018\n",
            "Epoch: 64 reconstruction error: 0.136421\n",
            "Epoch: 65 reconstruction error: 0.136581\n",
            "Epoch: 66 reconstruction error: 0.136638\n",
            "Epoch: 67 reconstruction error: 0.136953\n",
            "Epoch: 68 reconstruction error: 0.137557\n",
            "Epoch: 69 reconstruction error: 0.137493\n",
            "Epoch: 70 reconstruction error: 0.136918\n",
            "Epoch: 71 reconstruction error: 0.137217\n",
            "Epoch: 72 reconstruction error: 0.137164\n",
            "Epoch: 73 reconstruction error: 0.136318\n",
            "Epoch: 74 reconstruction error: 0.137594\n",
            "Epoch: 75 reconstruction error: 0.136105\n",
            "Epoch: 76 reconstruction error: 0.137803\n",
            "Epoch: 77 reconstruction error: 0.137006\n",
            "Epoch: 78 reconstruction error: 0.138408\n",
            "Epoch: 79 reconstruction error: 0.137246\n",
            "Epoch: 80 reconstruction error: 0.137727\n",
            "Epoch: 81 reconstruction error: 0.136943\n",
            "Epoch: 82 reconstruction error: 0.137534\n",
            "Epoch: 83 reconstruction error: 0.135757\n",
            "Epoch: 84 reconstruction error: 0.136534\n",
            "Epoch: 85 reconstruction error: 0.137261\n",
            "Epoch: 86 reconstruction error: 0.136808\n",
            "Epoch: 87 reconstruction error: 0.137240\n",
            "Epoch: 88 reconstruction error: 0.138063\n",
            "Epoch: 89 reconstruction error: 0.137566\n",
            "Epoch: 90 reconstruction error: 0.137694\n",
            "Epoch: 91 reconstruction error: 0.137642\n",
            "Epoch: 92 reconstruction error: 0.138253\n",
            "Epoch: 93 reconstruction error: 0.137987\n",
            "Epoch: 94 reconstruction error: 0.137177\n",
            "Epoch: 95 reconstruction error: 0.136896\n",
            "Epoch: 96 reconstruction error: 0.136691\n",
            "Epoch: 97 reconstruction error: 0.137297\n",
            "Epoch: 98 reconstruction error: 0.136637\n",
            "Epoch: 99 reconstruction error: 0.136095\n",
            "Epoch: 100 reconstruction error: 0.135546\n",
            "Epoch: 101 reconstruction error: 0.136618\n",
            "Epoch: 102 reconstruction error: 0.135765\n",
            "Epoch: 103 reconstruction error: 0.136388\n",
            "Epoch: 104 reconstruction error: 0.136840\n",
            "Epoch: 105 reconstruction error: 0.136032\n",
            "Epoch: 106 reconstruction error: 0.136222\n",
            "Epoch: 107 reconstruction error: 0.135675\n",
            "Epoch: 108 reconstruction error: 0.136718\n",
            "Epoch: 109 reconstruction error: 0.137059\n",
            "Epoch: 110 reconstruction error: 0.137214\n",
            "Epoch: 111 reconstruction error: 0.136177\n",
            "Epoch: 112 reconstruction error: 0.136259\n",
            "Epoch: 113 reconstruction error: 0.136715\n",
            "Epoch: 114 reconstruction error: 0.136687\n",
            "Epoch: 115 reconstruction error: 0.137178\n",
            "Epoch: 116 reconstruction error: 0.134664\n",
            "Epoch: 117 reconstruction error: 0.137086\n",
            "Epoch: 118 reconstruction error: 0.136265\n",
            "Epoch: 119 reconstruction error: 0.137137\n",
            "Epoch: 120 reconstruction error: 0.136982\n",
            "Epoch: 121 reconstruction error: 0.137561\n",
            "Epoch: 122 reconstruction error: 0.137003\n",
            "Epoch: 123 reconstruction error: 0.137507\n",
            "Epoch: 124 reconstruction error: 0.136734\n",
            "Epoch: 125 reconstruction error: 0.137573\n",
            "Epoch: 126 reconstruction error: 0.137481\n",
            "Epoch: 127 reconstruction error: 0.137427\n",
            "Epoch: 128 reconstruction error: 0.136878\n",
            "Epoch: 129 reconstruction error: 0.137898\n",
            "Epoch: 130 reconstruction error: 0.137577\n",
            "Epoch: 131 reconstruction error: 0.136522\n",
            "Epoch: 132 reconstruction error: 0.136501\n",
            "Epoch: 133 reconstruction error: 0.136969\n",
            "Epoch: 134 reconstruction error: 0.136101\n",
            "Epoch: 135 reconstruction error: 0.136629\n",
            "Epoch: 136 reconstruction error: 0.137704\n",
            "Epoch: 137 reconstruction error: 0.137044\n",
            "Epoch: 138 reconstruction error: 0.136771\n",
            "Epoch: 139 reconstruction error: 0.137641\n",
            "Epoch: 140 reconstruction error: 0.137658\n",
            "Epoch: 141 reconstruction error: 0.135545\n",
            "Epoch: 142 reconstruction error: 0.135879\n",
            "Epoch: 143 reconstruction error: 0.136925\n",
            "Epoch: 144 reconstruction error: 0.137986\n",
            "Epoch: 145 reconstruction error: 0.138155\n",
            "Epoch: 146 reconstruction error: 0.136927\n",
            "Epoch: 147 reconstruction error: 0.136579\n",
            "Epoch: 148 reconstruction error: 0.136792\n",
            "Epoch: 149 reconstruction error: 0.137149\n",
            "Epoch: 150 reconstruction error: 0.137014\n",
            "Epoch: 151 reconstruction error: 0.136501\n",
            "Epoch: 152 reconstruction error: 0.136898\n",
            "Epoch: 153 reconstruction error: 0.137372\n",
            "Epoch: 154 reconstruction error: 0.137067\n",
            "Epoch: 155 reconstruction error: 0.136332\n",
            "Epoch: 156 reconstruction error: 0.135968\n",
            "Epoch: 157 reconstruction error: 0.135696\n",
            "Epoch: 158 reconstruction error: 0.137024\n",
            "Epoch: 159 reconstruction error: 0.138100\n",
            "Epoch: 160 reconstruction error: 0.136342\n",
            "Epoch: 161 reconstruction error: 0.135397\n",
            "Epoch: 162 reconstruction error: 0.137143\n",
            "Epoch: 163 reconstruction error: 0.137050\n",
            "Epoch: 164 reconstruction error: 0.137956\n",
            "Epoch: 165 reconstruction error: 0.136465\n",
            "Epoch: 166 reconstruction error: 0.137719\n",
            "Epoch: 167 reconstruction error: 0.136625\n",
            "Epoch: 168 reconstruction error: 0.136372\n",
            "Epoch: 169 reconstruction error: 0.138475\n",
            "Epoch: 170 reconstruction error: 0.137273\n",
            "Epoch: 171 reconstruction error: 0.137780\n",
            "Epoch: 172 reconstruction error: 0.136200\n",
            "Epoch: 173 reconstruction error: 0.136950\n",
            "Epoch: 174 reconstruction error: 0.137780\n",
            "Epoch: 175 reconstruction error: 0.137484\n",
            "Epoch: 176 reconstruction error: 0.136468\n",
            "Epoch: 177 reconstruction error: 0.136067\n",
            "Epoch: 178 reconstruction error: 0.136459\n",
            "Epoch: 179 reconstruction error: 0.135263\n",
            "Epoch: 180 reconstruction error: 0.136482\n",
            "Epoch: 181 reconstruction error: 0.135001\n",
            "Epoch: 182 reconstruction error: 0.136585\n",
            "Epoch: 183 reconstruction error: 0.135187\n",
            "Epoch: 184 reconstruction error: 0.135842\n",
            "Epoch: 185 reconstruction error: 0.136270\n",
            "Epoch: 186 reconstruction error: 0.136469\n",
            "Epoch: 187 reconstruction error: 0.136421\n",
            "Epoch: 188 reconstruction error: 0.136846\n",
            "Epoch: 189 reconstruction error: 0.136322\n",
            "Epoch: 190 reconstruction error: 0.137532\n",
            "Epoch: 191 reconstruction error: 0.136710\n",
            "Epoch: 192 reconstruction error: 0.136202\n",
            "Epoch: 193 reconstruction error: 0.135947\n",
            "Epoch: 194 reconstruction error: 0.137082\n",
            "Epoch: 195 reconstruction error: 0.136578\n",
            "Epoch: 196 reconstruction error: 0.136138\n",
            "Epoch: 197 reconstruction error: 0.136168\n",
            "Epoch: 198 reconstruction error: 0.136273\n",
            "Epoch: 199 reconstruction error: 0.137411\n"
          ],
          "name": "stdout"
        }
      ]
    },
    {
      "cell_type": "code",
      "metadata": {
        "id": "8_JW0RV4nQYG",
        "outputId": "c93826f3-1000-420a-eb1d-2538a7d3cde2",
        "colab": {
          "base_uri": "https://localhost:8080/",
          "height": 854
        }
      },
      "source": [
        "i = 1\n",
        "for err in error_list:\n",
        "    print(\"RBM\",i)\n",
        "    pd.Series(err).plot(logy=False)\n",
        "    plt.xlabel(\"Epoch\")\n",
        "    plt.ylabel(\"Reconstruction Error\")\n",
        "    plt.show()\n",
        "    i += 1"
      ],
      "execution_count": 20,
      "outputs": [
        {
          "output_type": "stream",
          "text": [
            "RBM 1\n"
          ],
          "name": "stdout"
        },
        {
          "output_type": "display_data",
          "data": {
            "image/png": "[encoded data removed]",
            "text/plain": [
              "<Figure size 432x288 with 1 Axes>"
            ]
          },
          "metadata": {
            "tags": [],
            "needs_background": "light"
          }
        },
        {
          "output_type": "stream",
          "text": [
            "RBM 2\n"
          ],
          "name": "stdout"
        },
        {
          "output_type": "display_data",
          "data": {
            "image/png": "[encoded data removed]",
            "text/plain": [
              "<Figure size 432x288 with 1 Axes>"
            ]
          },
          "metadata": {
            "tags": [],
            "needs_background": "light"
          }
        },
        {
          "output_type": "stream",
          "text": [
            "RBM 3\n"
          ],
          "name": "stdout"
        },
        {
          "output_type": "display_data",
          "data": {
            "image/png": "[encoded data removed]",
            "text/plain": [
              "<Figure size 432x288 with 1 Axes>"
            ]
          },
          "metadata": {
            "tags": [],
            "needs_background": "light"
          }
        }
      ]
    },
    {
      "cell_type": "code",
      "metadata": {
        "id": "uoCYLrWUpO_J",
        "outputId": "319a3df9-0a8a-4420-99d5-72cefbef7dfc",
        "colab": {
          "base_uri": "https://localhost:8080/",
          "height": 34
        }
      },
      "source": [
        "outputX.shape"
      ],
      "execution_count": 21,
      "outputs": [
        {
          "output_type": "execute_result",
          "data": {
            "text/plain": [
              "(62737, 12)"
            ]
          },
          "metadata": {
            "tags": []
          },
          "execution_count": 21
        }
      ]
    },
    {
      "cell_type": "markdown",
      "metadata": {
        "id": "geqQzlYJggJO"
      },
      "source": [
        "##**Classifier**\n"
      ]
    },
    {
      "cell_type": "markdown",
      "metadata": {
        "id": "XnD1eSoctpxd"
      },
      "source": [
        "Used outputX as the Input for the Classifer"
      ]
    },
    {
      "cell_type": "code",
      "metadata": {
        "id": "h5eQ4cIKqrvx",
        "outputId": "9231523e-7c93-40ed-d1ef-8a28c202d13e",
        "colab": {
          "base_uri": "https://localhost:8080/",
          "height": 34
        }
      },
      "source": [
        "numrows = len(train_Y)\n",
        "split = (int)(0.8 * numrows)"
      ],
      "execution_count": 23,
      "outputs": [
        {
          "output_type": "execute_result",
          "data": {
            "text/plain": [
              "50189"
            ]
          },
          "metadata": {
            "tags": []
          },
          "execution_count": 23
        }
      ]
    },
    {
      "cell_type": "code",
      "metadata": {
        "id": "LcUnoCvTgej0",
        "outputId": "293dada8-94f8-4a50-b67d-bd3982d74ef6",
        "colab": {
          "base_uri": "https://localhost:8080/",
          "height": 34
        }
      },
      "source": [
        "Y_Train = train_Y.iloc[:split].values\n",
        "Y_Train.shape\n",
        "\n",
        "Y_Test = train_Y.iloc[split + 1:].values\n",
        "Y_Test.shape"
      ],
      "execution_count": 24,
      "outputs": [
        {
          "output_type": "execute_result",
          "data": {
            "text/plain": [
              "(12547,)"
            ]
          },
          "metadata": {
            "tags": []
          },
          "execution_count": 24
        }
      ]
    },
    {
      "cell_type": "code",
      "metadata": {
        "id": "wed-jco60HTJ"
      },
      "source": [
        "X_New_Train = outputX\n",
        "X_New_Train = X_New_Train[:split, :]\n",
        "Y_Train = Y_Train.reshape((-1,1))"
      ],
      "execution_count": 25,
      "outputs": []
    },
    {
      "cell_type": "code",
      "metadata": {
        "id": "8gW8d5XAl5O7"
      },
      "source": [
        "X_Test = outputX\n",
        "X_Test = X_Test[split + 1:, :]"
      ],
      "execution_count": 27,
      "outputs": []
    },
    {
      "cell_type": "markdown",
      "metadata": {
        "id": "oZVA25JuR1BC"
      },
      "source": [
        "ANN"
      ]
    },
    {
      "cell_type": "code",
      "metadata": {
        "id": "ej6X_Mw5zoYG"
      },
      "source": [
        "import keras\n",
        "from keras.models import Sequential\n",
        "from keras.layers import Dense"
      ],
      "execution_count": 22,
      "outputs": []
    },
    {
      "cell_type": "code",
      "metadata": {
        "id": "BwzVbQ4k0F74",
        "outputId": "d1dc8853-cfec-46ae-f59f-4a2d393dff65",
        "colab": {
          "base_uri": "https://localhost:8080/",
          "height": 1000
        }
      },
      "source": [
        "ann = Sequential()\n",
        "\n",
        "ann.add(Dense (6, activation = 'relu', input_dim = 12))\n",
        "\n",
        "ann.add(Dense (6, activation = 'relu'))\n",
        "\n",
        "ann.add(Dense(1, activation = 'sigmoid'))\n",
        "\n",
        "ann.compile(optimizer = 'Adam', loss = 'binary_crossentropy', metrics = ['accuracy'])\n",
        "\n",
        "ann.fit(X_New_Train, Y_Train, batch_size = 200, epochs = 100)"
      ],
      "execution_count": 59,
      "outputs": [
        {
          "output_type": "stream",
          "text": [
            "Train on 50189 samples\n",
            "Epoch 1/100\n",
            "50189/50189 [==============================] - 0s 5us/sample - loss: 0.6713 - acc: 0.5898\n",
            "Epoch 2/100\n",
            "50189/50189 [==============================] - 0s 5us/sample - loss: 0.6634 - acc: 0.6103\n",
            "Epoch 3/100\n",
            "50189/50189 [==============================] - 0s 5us/sample - loss: 0.6634 - acc: 0.6109\n",
            "Epoch 4/100\n",
            "50189/50189 [==============================] - 0s 6us/sample - loss: 0.6634 - acc: 0.6108\n",
            "Epoch 5/100\n",
            "50189/50189 [==============================] - 0s 5us/sample - loss: 0.6635 - acc: 0.6109\n",
            "Epoch 6/100\n",
            "50189/50189 [==============================] - 0s 5us/sample - loss: 0.6633 - acc: 0.6105\n",
            "Epoch 7/100\n",
            "50189/50189 [==============================] - 0s 5us/sample - loss: 0.6633 - acc: 0.6106\n",
            "Epoch 8/100\n",
            "50189/50189 [==============================] - 0s 5us/sample - loss: 0.6634 - acc: 0.6115\n",
            "Epoch 9/100\n",
            "50189/50189 [==============================] - 0s 5us/sample - loss: 0.6633 - acc: 0.6119\n",
            "Epoch 10/100\n",
            "50189/50189 [==============================] - 0s 6us/sample - loss: 0.6633 - acc: 0.6109\n",
            "Epoch 11/100\n",
            "50189/50189 [==============================] - 0s 6us/sample - loss: 0.6633 - acc: 0.6105\n",
            "Epoch 12/100\n",
            "50189/50189 [==============================] - 0s 5us/sample - loss: 0.6634 - acc: 0.6111\n",
            "Epoch 13/100\n",
            "50189/50189 [==============================] - 0s 6us/sample - loss: 0.6633 - acc: 0.6114\n",
            "Epoch 14/100\n",
            "50189/50189 [==============================] - 0s 6us/sample - loss: 0.6633 - acc: 0.6111\n",
            "Epoch 15/100\n",
            "50189/50189 [==============================] - 0s 5us/sample - loss: 0.6634 - acc: 0.6108\n",
            "Epoch 16/100\n",
            "50189/50189 [==============================] - 0s 5us/sample - loss: 0.6633 - acc: 0.6103\n",
            "Epoch 17/100\n",
            "50189/50189 [==============================] - 0s 6us/sample - loss: 0.6633 - acc: 0.6120\n",
            "Epoch 18/100\n",
            "50189/50189 [==============================] - 0s 5us/sample - loss: 0.6633 - acc: 0.6115\n",
            "Epoch 19/100\n",
            "50189/50189 [==============================] - 0s 5us/sample - loss: 0.6633 - acc: 0.6111\n",
            "Epoch 20/100\n",
            "50189/50189 [==============================] - 0s 6us/sample - loss: 0.6634 - acc: 0.6103\n",
            "Epoch 21/100\n",
            "50189/50189 [==============================] - 0s 6us/sample - loss: 0.6633 - acc: 0.6116\n",
            "Epoch 22/100\n",
            "50189/50189 [==============================] - 0s 5us/sample - loss: 0.6634 - acc: 0.6107\n",
            "Epoch 23/100\n",
            "50189/50189 [==============================] - 0s 5us/sample - loss: 0.6633 - acc: 0.6117\n",
            "Epoch 24/100\n",
            "50189/50189 [==============================] - 0s 5us/sample - loss: 0.6634 - acc: 0.6109\n",
            "Epoch 25/100\n",
            "50189/50189 [==============================] - 0s 6us/sample - loss: 0.6632 - acc: 0.6111\n",
            "Epoch 26/100\n",
            "50189/50189 [==============================] - 0s 6us/sample - loss: 0.6633 - acc: 0.6113\n",
            "Epoch 27/100\n",
            "50189/50189 [==============================] - 0s 5us/sample - loss: 0.6633 - acc: 0.6110\n",
            "Epoch 28/100\n",
            "50189/50189 [==============================] - 0s 6us/sample - loss: 0.6633 - acc: 0.6110\n",
            "Epoch 29/100\n",
            "50189/50189 [==============================] - 0s 6us/sample - loss: 0.6632 - acc: 0.6120\n",
            "Epoch 30/100\n",
            "50189/50189 [==============================] - 0s 5us/sample - loss: 0.6633 - acc: 0.6114\n",
            "Epoch 31/100\n",
            "50189/50189 [==============================] - 0s 5us/sample - loss: 0.6633 - acc: 0.6117\n",
            "Epoch 32/100\n",
            "50189/50189 [==============================] - 0s 5us/sample - loss: 0.6633 - acc: 0.6113\n",
            "Epoch 33/100\n",
            "50189/50189 [==============================] - 0s 5us/sample - loss: 0.6633 - acc: 0.6119\n",
            "Epoch 34/100\n",
            "50189/50189 [==============================] - 0s 5us/sample - loss: 0.6632 - acc: 0.6110\n",
            "Epoch 35/100\n",
            "50189/50189 [==============================] - 0s 6us/sample - loss: 0.6633 - acc: 0.6113\n",
            "Epoch 36/100\n",
            "50189/50189 [==============================] - 0s 6us/sample - loss: 0.6633 - acc: 0.6114\n",
            "Epoch 37/100\n",
            "50189/50189 [==============================] - 0s 5us/sample - loss: 0.6632 - acc: 0.6113\n",
            "Epoch 38/100\n",
            "50189/50189 [==============================] - 0s 5us/sample - loss: 0.6633 - acc: 0.6113\n",
            "Epoch 39/100\n",
            "50189/50189 [==============================] - 0s 6us/sample - loss: 0.6632 - acc: 0.6116\n",
            "Epoch 40/100\n",
            "50189/50189 [==============================] - 0s 5us/sample - loss: 0.6632 - acc: 0.6117\n",
            "Epoch 41/100\n",
            "50189/50189 [==============================] - 0s 6us/sample - loss: 0.6632 - acc: 0.6111\n",
            "Epoch 42/100\n",
            "50189/50189 [==============================] - 0s 5us/sample - loss: 0.6633 - acc: 0.6117\n",
            "Epoch 43/100\n",
            "50189/50189 [==============================] - 0s 6us/sample - loss: 0.6633 - acc: 0.6116\n",
            "Epoch 44/100\n",
            "50189/50189 [==============================] - 0s 6us/sample - loss: 0.6632 - acc: 0.6118\n",
            "Epoch 45/100\n",
            "50189/50189 [==============================] - 0s 5us/sample - loss: 0.6632 - acc: 0.6116\n",
            "Epoch 46/100\n",
            "50189/50189 [==============================] - 0s 5us/sample - loss: 0.6633 - acc: 0.6116\n",
            "Epoch 47/100\n",
            "50189/50189 [==============================] - 0s 5us/sample - loss: 0.6632 - acc: 0.6116\n",
            "Epoch 48/100\n",
            "50189/50189 [==============================] - 0s 6us/sample - loss: 0.6632 - acc: 0.6112\n",
            "Epoch 49/100\n",
            "50189/50189 [==============================] - 0s 5us/sample - loss: 0.6633 - acc: 0.6112\n",
            "Epoch 50/100\n",
            "50189/50189 [==============================] - 0s 5us/sample - loss: 0.6632 - acc: 0.6116\n",
            "Epoch 51/100\n",
            "50189/50189 [==============================] - 0s 5us/sample - loss: 0.6632 - acc: 0.6112\n",
            "Epoch 52/100\n",
            "50189/50189 [==============================] - 0s 5us/sample - loss: 0.6632 - acc: 0.6120\n",
            "Epoch 53/100\n",
            "50189/50189 [==============================] - 0s 6us/sample - loss: 0.6633 - acc: 0.6117\n",
            "Epoch 54/100\n",
            "50189/50189 [==============================] - 0s 6us/sample - loss: 0.6632 - acc: 0.6119\n",
            "Epoch 55/100\n",
            "50189/50189 [==============================] - 0s 5us/sample - loss: 0.6632 - acc: 0.6118\n",
            "Epoch 56/100\n",
            "50189/50189 [==============================] - 0s 6us/sample - loss: 0.6634 - acc: 0.6110\n",
            "Epoch 57/100\n",
            "50189/50189 [==============================] - 0s 6us/sample - loss: 0.6633 - acc: 0.6117\n",
            "Epoch 58/100\n",
            "50189/50189 [==============================] - 0s 5us/sample - loss: 0.6632 - acc: 0.6115\n",
            "Epoch 59/100\n",
            "50189/50189 [==============================] - 0s 6us/sample - loss: 0.6632 - acc: 0.6118\n",
            "Epoch 60/100\n",
            "50189/50189 [==============================] - 0s 5us/sample - loss: 0.6632 - acc: 0.6118\n",
            "Epoch 61/100\n",
            "50189/50189 [==============================] - 0s 6us/sample - loss: 0.6632 - acc: 0.6111\n",
            "Epoch 62/100\n",
            "50189/50189 [==============================] - 0s 5us/sample - loss: 0.6632 - acc: 0.6116\n",
            "Epoch 63/100\n",
            "50189/50189 [==============================] - 0s 6us/sample - loss: 0.6632 - acc: 0.6121\n",
            "Epoch 64/100\n",
            "50189/50189 [==============================] - 0s 6us/sample - loss: 0.6633 - acc: 0.6115\n",
            "Epoch 65/100\n",
            "50189/50189 [==============================] - 0s 6us/sample - loss: 0.6631 - acc: 0.6120\n",
            "Epoch 66/100\n",
            "50189/50189 [==============================] - 0s 5us/sample - loss: 0.6633 - acc: 0.6115\n",
            "Epoch 67/100\n",
            "50189/50189 [==============================] - 0s 5us/sample - loss: 0.6632 - acc: 0.6120\n",
            "Epoch 68/100\n",
            "50189/50189 [==============================] - 0s 6us/sample - loss: 0.6633 - acc: 0.6114\n",
            "Epoch 69/100\n",
            "50189/50189 [==============================] - 0s 6us/sample - loss: 0.6632 - acc: 0.6115\n",
            "Epoch 70/100\n",
            "50189/50189 [==============================] - 0s 5us/sample - loss: 0.6631 - acc: 0.6118\n",
            "Epoch 71/100\n",
            "50189/50189 [==============================] - 0s 6us/sample - loss: 0.6632 - acc: 0.6115\n",
            "Epoch 72/100\n",
            "50189/50189 [==============================] - 0s 6us/sample - loss: 0.6631 - acc: 0.6112\n",
            "Epoch 73/100\n",
            "50189/50189 [==============================] - 0s 5us/sample - loss: 0.6631 - acc: 0.6120\n",
            "Epoch 74/100\n",
            "50189/50189 [==============================] - 0s 5us/sample - loss: 0.6632 - acc: 0.6117\n",
            "Epoch 75/100\n",
            "50189/50189 [==============================] - 0s 6us/sample - loss: 0.6632 - acc: 0.6115\n",
            "Epoch 76/100\n",
            "50189/50189 [==============================] - 0s 6us/sample - loss: 0.6632 - acc: 0.6119\n",
            "Epoch 77/100\n",
            "50189/50189 [==============================] - 0s 6us/sample - loss: 0.6631 - acc: 0.6119\n",
            "Epoch 78/100\n",
            "50189/50189 [==============================] - 0s 6us/sample - loss: 0.6632 - acc: 0.6120\n",
            "Epoch 79/100\n",
            "50189/50189 [==============================] - 0s 6us/sample - loss: 0.6632 - acc: 0.6118\n",
            "Epoch 80/100\n",
            "50189/50189 [==============================] - 0s 5us/sample - loss: 0.6632 - acc: 0.6119\n",
            "Epoch 81/100\n",
            "50189/50189 [==============================] - 0s 5us/sample - loss: 0.6633 - acc: 0.6123\n",
            "Epoch 82/100\n",
            "50189/50189 [==============================] - 0s 6us/sample - loss: 0.6632 - acc: 0.6114\n",
            "Epoch 83/100\n",
            "50189/50189 [==============================] - 0s 5us/sample - loss: 0.6632 - acc: 0.6116\n",
            "Epoch 84/100\n",
            "50189/50189 [==============================] - 0s 6us/sample - loss: 0.6631 - acc: 0.6113\n",
            "Epoch 85/100\n",
            "50189/50189 [==============================] - 0s 6us/sample - loss: 0.6632 - acc: 0.6115\n",
            "Epoch 86/100\n",
            "50189/50189 [==============================] - 0s 5us/sample - loss: 0.6632 - acc: 0.6121\n",
            "Epoch 87/100\n",
            "50189/50189 [==============================] - 0s 5us/sample - loss: 0.6632 - acc: 0.6117\n",
            "Epoch 88/100\n",
            "50189/50189 [==============================] - 0s 6us/sample - loss: 0.6632 - acc: 0.6120\n",
            "Epoch 89/100\n",
            "50189/50189 [==============================] - 0s 5us/sample - loss: 0.6632 - acc: 0.6113\n",
            "Epoch 90/100\n",
            "50189/50189 [==============================] - 0s 5us/sample - loss: 0.6632 - acc: 0.6119\n",
            "Epoch 91/100\n",
            "50189/50189 [==============================] - 0s 6us/sample - loss: 0.6632 - acc: 0.6118\n",
            "Epoch 92/100\n",
            "50189/50189 [==============================] - 0s 6us/sample - loss: 0.6633 - acc: 0.6114\n",
            "Epoch 93/100\n",
            "50189/50189 [==============================] - 0s 5us/sample - loss: 0.6632 - acc: 0.6119\n",
            "Epoch 94/100\n",
            "50189/50189 [==============================] - 0s 6us/sample - loss: 0.6632 - acc: 0.6113\n",
            "Epoch 95/100\n",
            "50189/50189 [==============================] - 0s 6us/sample - loss: 0.6633 - acc: 0.6119\n",
            "Epoch 96/100\n",
            "50189/50189 [==============================] - 0s 6us/sample - loss: 0.6632 - acc: 0.6113\n",
            "Epoch 97/100\n",
            "50189/50189 [==============================] - 0s 5us/sample - loss: 0.6632 - acc: 0.6118\n",
            "Epoch 98/100\n",
            "50189/50189 [==============================] - 0s 5us/sample - loss: 0.6632 - acc: 0.6118\n",
            "Epoch 99/100\n",
            "50189/50189 [==============================] - 0s 6us/sample - loss: 0.6632 - acc: 0.6114\n",
            "Epoch 100/100\n",
            "50189/50189 [==============================] - 0s 6us/sample - loss: 0.6632 - acc: 0.6114\n"
          ],
          "name": "stdout"
        },
        {
          "output_type": "execute_result",
          "data": {
            "text/plain": [
              "<tensorflow.python.keras.callbacks.History at 0x7f1d996909b0>"
            ]
          },
          "metadata": {
            "tags": []
          },
          "execution_count": 59
        }
      ]
    },
    {
      "cell_type": "markdown",
      "metadata": {
        "id": "EdxS6kACR3ZQ"
      },
      "source": [
        "##Ensemble\n",
        "* LogisticRegression\n",
        "* GaussianNB\n",
        "* RandomForestClassifier"
      ]
    },
    {
      "cell_type": "code",
      "metadata": {
        "id": "RAxUbXWnR4sQ"
      },
      "source": [
        "from sklearn.linear_model import LogisticRegression\n",
        "from sklearn.naive_bayes import GaussianNB\n",
        "from sklearn.ensemble import RandomForestClassifier"
      ],
      "execution_count": 60,
      "outputs": []
    },
    {
      "cell_type": "code",
      "metadata": {
        "id": "_d4tsy6VNgQv",
        "outputId": "7bf860a3-1e9f-4e4f-98c9-28a55ee86268",
        "colab": {
          "base_uri": "https://localhost:8080/",
          "height": 34
        }
      },
      "source": [
        "lr = LogisticRegression(random_state=1)\n",
        "lr.fit(X_New_Train, row_Y)\n",
        "\n",
        "forest = RandomForestClassifier(n_estimators=50, random_state=1)\n",
        "forest.fit(X_New_Train, row_Y)\n",
        "\n",
        "gnb = GaussianNB()\n",
        "gnb.fit(X_New_Train, row_Y)"
      ],
      "execution_count": 61,
      "outputs": [
        {
          "output_type": "execute_result",
          "data": {
            "text/plain": [
              "GaussianNB(priors=None, var_smoothing=1e-09)"
            ]
          },
          "metadata": {
            "tags": []
          },
          "execution_count": 61
        }
      ]
    },
    {
      "cell_type": "code",
      "metadata": {
        "id": "1XwlUmRp0RVg"
      },
      "source": [
        "def preds(mod, op):\n",
        "  y_preds = mod.predict(op)\n",
        "  y_preds = (y_pred > 0.5)*1\n",
        "  return y_preds"
      ],
      "execution_count": 72,
      "outputs": []
    },
    {
      "cell_type": "code",
      "metadata": {
        "id": "yqDa5LwaSPUf"
      },
      "source": [
        "def predict(op):\n",
        "  y_pred = (preds(ann) + preds(lr) + preds(forest) + preds(gnb)) / (4)\n",
        "  y_pred = (y_pred > 0.5)"
      ],
      "execution_count": 73,
      "outputs": []
    },
    {
      "cell_type": "markdown",
      "metadata": {
        "id": "8nqPfpPCiwSs"
      },
      "source": [
        "##Confusion Matrix"
      ]
    },
    {
      "cell_type": "code",
      "metadata": {
        "id": "pyAL7NYHrCBk",
        "outputId": "dab1fd93-2cff-47b3-b8f6-21c2f5b9517e",
        "colab": {
          "base_uri": "https://localhost:8080/",
          "height": 50
        }
      },
      "source": [
        "\n",
        "cm = confusion_matrix(train_Y, y_pred)\n",
        "print(cm) "
      ],
      "execution_count": 74,
      "outputs": [
        {
          "output_type": "stream",
          "text": [
            "[[22398 12473]\n",
            " [11926 15940]]\n"
          ],
          "name": "stdout"
        }
      ]
    },
    {
      "cell_type": "markdown",
      "metadata": {
        "id": "_MjGgOMwt1_Z"
      },
      "source": [
        "###F1 Score"
      ]
    },
    {
      "cell_type": "code",
      "metadata": {
        "id": "b9lsmDoYj919"
      },
      "source": [
        "def f1score( tn, fp, fn, tp):\n",
        "  precision = tp/(tp + fp)\n",
        "  print('Precision: ',precision)\n",
        "  recall = tp/(tp+fn)\n",
        "  print('Recall: ',recall)\n",
        "  return 2 * (precision * recall) / (precision + recall)"
      ],
      "execution_count": 75,
      "outputs": []
    },
    {
      "cell_type": "code",
      "metadata": {
        "id": "H8AWFBCCa6mm",
        "outputId": "d79a32c8-1577-4c2d-e7c2-b5d0f0b09df8",
        "colab": {
          "base_uri": "https://localhost:8080/",
          "height": 67
        }
      },
      "source": [
        "tn, fp, fn, tp = confusion_matrix(train_Y, y_pred, labels=[0,1]).ravel()\n",
        "print('F1-score: ',f1score(tn, fp, fn, tp))"
      ],
      "execution_count": 76,
      "outputs": [
        {
          "output_type": "stream",
          "text": [
            "Precision:  0.561010804913244\n",
            "Recall:  0.572023254144836\n",
            "F1-score:  0.5664635121448497\n"
          ],
          "name": "stdout"
        }
      ]
    },
    {
      "cell_type": "markdown",
      "metadata": {
        "id": "Zkr_nQJwng2W"
      },
      "source": [
        "##Seprate Dataframes"
      ]
    },
    {
      "cell_type": "code",
      "metadata": {
        "id": "gJ31LrO4e_9V"
      },
      "source": [
        "def dbn_op(inputX):\n",
        "  for i in range(0, len(rbm_list)):\n",
        "      rbm = rbm_list[i]\n",
        "\n",
        "      outputX, reconstructedX, hiddenX = rbm.rbm_output(inputX)\n",
        "      inputX= hiddenX\n",
        "  \n",
        "  return outputX"
      ],
      "execution_count": 78,
      "outputs": []
    },
    {
      "cell_type": "code",
      "metadata": {
        "id": "R4XRFBpWoPkx"
      },
      "source": [
        "def dataframe_score(df1):\n",
        "  df1 = df1.drop(['commitdate','transactionid'], axis=1)\n",
        "  train_X_op = df1.iloc[:,:-1].apply(func=normalize, axis=0).astype(np.float32)\n",
        "  train_Y_op = df1.iloc[:,-1]\n",
        "\n",
        "  op = dbn_op(train_X_op)\n",
        "\n",
        "  y_pred_op = classifier.predict(op)\n",
        "  y_pred_op = (y_pred_op > 0.5)\n",
        "\n",
        "  cm = confusion_matrix(train_Y_op, y_pred_op)\n",
        "  print(cm) \n",
        "\n",
        "  tn, fp, fn, tp = confusion_matrix(train_Y_op, y_pred_op, labels=[0,1]).ravel()\n",
        "  print('F1-score: ',f1score(tn, fp, fn, tp))"
      ],
      "execution_count": 79,
      "outputs": []
    },
    {
      "cell_type": "code",
      "metadata": {
        "id": "e1lfA3vUrK3q",
        "outputId": "430715ce-6b5b-493e-89d8-1c4e9870787d",
        "colab": {
          "base_uri": "https://localhost:8080/",
          "height": 823
        }
      },
      "source": [
        "print('bugzilla:')\n",
        "dataframe_score(bugzilla)\n",
        "print('--------------------------------------------------------------------')\n",
        "print('columba:')\n",
        "dataframe_score(columba)\n",
        "print('--------------------------------------------------------------------')\n",
        "print('jdt:')\n",
        "dataframe_score(jdt)\n",
        "print('--------------------------------------------------------------------')\n",
        "print('mozilla:')\n",
        "dataframe_score(mozilla)\n",
        "print('--------------------------------------------------------------------')\n",
        "print('platform:')\n",
        "dataframe_score(platform)\n",
        "print('--------------------------------------------------------------------')\n",
        "print('postgres:')\n",
        "dataframe_score(postgres)\n",
        "print('--------------------------------------------------------------------')\n",
        "print('Overall:')\n",
        "cm = confusion_matrix(train_Y, y_pred)\n",
        "print(cm)\n",
        "tn, fp, fn, tp = confusion_matrix(train_Y, y_pred, labels=[0,1]).ravel()\n",
        "print('F1-score: ',f1score(tn, fp, fn, tp))"
      ],
      "execution_count": 80,
      "outputs": [
        {
          "output_type": "stream",
          "text": [
            "bugzilla:\n",
            "[[ 611 2313]\n",
            " [ 168 1528]]\n",
            "Precision:  0.3978130695131476\n",
            "Recall:  0.9009433962264151\n",
            "F1-score:  0.5519234242369514\n",
            "--------------------------------------------------------------------\n",
            "columba:\n",
            "[[2028 1066]\n",
            " [ 915  446]]\n",
            "Precision:  0.294973544973545\n",
            "Recall:  0.32770022042615726\n",
            "F1-score:  0.3104768534632788\n",
            "--------------------------------------------------------------------\n",
            "jdt:\n",
            "[[20907  9390]\n",
            " [ 2806  2283]]\n",
            "Precision:  0.19557954253405294\n",
            "Recall:  0.4486146590685793\n",
            "F1-score:  0.2724018613530605\n",
            "--------------------------------------------------------------------\n",
            "mozilla:\n",
            "[[35211 57915]\n",
            " [ 1310  3839]]\n",
            "Precision:  0.06216601353758461\n",
            "Recall:  0.7455816663429792\n",
            "F1-score:  0.11476316458155837\n",
            "--------------------------------------------------------------------\n",
            "platform:\n",
            "[[34046 20752]\n",
            " [ 3698  5754]]\n",
            "Precision:  0.21708292462084056\n",
            "Recall:  0.6087600507829031\n",
            "F1-score:  0.3200400467211747\n",
            "--------------------------------------------------------------------\n",
            "postgres:\n",
            "[[8312 7000]\n",
            " [3017 2102]]\n",
            "Precision:  0.23093825532849924\n",
            "Recall:  0.4106270756007033\n",
            "F1-score:  0.29561915477111317\n",
            "--------------------------------------------------------------------\n",
            "Overall:\n",
            "[[22398 12473]\n",
            " [11926 15940]]\n",
            "Precision:  0.561010804913244\n",
            "Recall:  0.572023254144836\n",
            "F1-score:  0.5664635121448497\n"
          ],
          "name": "stdout"
        }
      ]
    }
  ]
}