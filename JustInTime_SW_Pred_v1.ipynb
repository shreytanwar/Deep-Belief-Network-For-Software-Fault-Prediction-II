{
  "nbformat": 4,
  "nbformat_minor": 0,
  "metadata": {
    "colab": {
      "name": "JustInTime_SW_Pred 63.ipynb",
      "provenance": [],
      "collapsed_sections": [],
      "authorship_tag": "ABX9TyMZ4G6BopKNcXuCujDRec1W",
      "include_colab_link": true
    },
    "kernelspec": {
      "name": "python3",
      "display_name": "Python 3"
    }
  },
  "cells": [
    {
      "cell_type": "markdown",
      "metadata": {
        "id": "view-in-github",
        "colab_type": "text"
      },
      "source": [
        "<a href=\"https://colab.research.google.com/github/shreytanwar/Deep-Belief-Network-For-Software-Fault-Prediction-II/blob/main/JustInTime_SW_Pred_v1.ipynb\" target=\"_parent\"><img src=\"https://colab.research.google.com/assets/colab-badge.svg\" alt=\"Open In Colab\"/></a>"
      ]
    },
    {
      "cell_type": "code",
      "metadata": {
        "id": "DfkLXFDxl8sJ",
        "outputId": "24a46b0d-6601-42a1-ef12-f72bc1de4e15",
        "colab": {
          "base_uri": "https://localhost:8080/",
          "height": 54
        }
      },
      "source": [
        "from google.colab import drive\n",
        "drive.mount('/content/drive/')"
      ],
      "execution_count": null,
      "outputs": [
        {
          "output_type": "stream",
          "text": [
            "Drive already mounted at /content/drive/; to attempt to forcibly remount, call drive.mount(\"/content/drive/\", force_remount=True).\n"
          ],
          "name": "stdout"
        }
      ]
    },
    {
      "cell_type": "code",
      "metadata": {
        "id": "sK42BBJgmSGh"
      },
      "source": [
        "import tensorflow as tf\n",
        "import sklearn.metrics\n",
        "from sklearn.metrics import log_loss, accuracy_score\n",
        "import numpy as np\n",
        "import pandas as pd\n",
        "import matplotlib.pyplot as plt"
      ],
      "execution_count": null,
      "outputs": []
    },
    {
      "cell_type": "code",
      "metadata": {
        "id": "lhdWip5AmSQd"
      },
      "source": [
        "df= pd.read_csv('/content/drive/My Drive/dataset/bugzilla.csv')"
      ],
      "execution_count": null,
      "outputs": []
    },
    {
      "cell_type": "code",
      "metadata": {
        "id": "bVSQXhUkmSvC"
      },
      "source": [
        "def normalize(x):\n",
        "  x = x.astype(float)\n",
        "  min = np.min(x)\n",
        "  max = np.max(x)\n",
        "  return (x - min)/(max-min)"
      ],
      "execution_count": null,
      "outputs": []
    },
    {
      "cell_type": "code",
      "metadata": {
        "id": "6Se7DitSs9xa"
      },
      "source": [
        "def view_values(X, y, example):\n",
        "    label = y.loc[example]\n",
        "    image = X.loc[example,:].values.reshape([-1,1])\n",
        "    print(image)"
      ],
      "execution_count": null,
      "outputs": []
    },
    {
      "cell_type": "code",
      "metadata": {
        "id": "nwQh30ySJCSA",
        "outputId": "b541bd3e-99d8-4db3-83d7-15b5515d6797",
        "colab": {
          "base_uri": "https://localhost:8080/",
          "height": 34
        }
      },
      "source": [
        "print(\"Shape of dataframe: \", df.shape)   #train"
      ],
      "execution_count": null,
      "outputs": [
        {
          "output_type": "stream",
          "text": [
            "Shape of dataframe:  (4620, 17)\n"
          ],
          "name": "stdout"
        }
      ]
    },
    {
      "cell_type": "code",
      "metadata": {
        "id": "_1p5DpIHnP1j",
        "outputId": "f8c9e406-080a-4ffa-d91e-dd7f5afc17bf",
        "colab": {
          "base_uri": "https://localhost:8080/",
          "height": 299
        }
      },
      "source": [
        "df.head()"
      ],
      "execution_count": null,
      "outputs": [
        {
          "output_type": "execute_result",
          "data": {
            "text/html": [
              "<div>\n",
              "<style scoped>\n",
              "    .dataframe tbody tr th:only-of-type {\n",
              "        vertical-align: middle;\n",
              "    }\n",
              "\n",
              "    .dataframe tbody tr th {\n",
              "        vertical-align: top;\n",
              "    }\n",
              "\n",
              "    .dataframe thead th {\n",
              "        text-align: right;\n",
              "    }\n",
              "</style>\n",
              "<table border=\"1\" class=\"dataframe\">\n",
              "  <thead>\n",
              "    <tr style=\"text-align: right;\">\n",
              "      <th></th>\n",
              "      <th>transactionid</th>\n",
              "      <th>commitdate</th>\n",
              "      <th>ns</th>\n",
              "      <th>nm</th>\n",
              "      <th>nf</th>\n",
              "      <th>entropy</th>\n",
              "      <th>la</th>\n",
              "      <th>ld</th>\n",
              "      <th>lt</th>\n",
              "      <th>fix</th>\n",
              "      <th>ndev</th>\n",
              "      <th>pd</th>\n",
              "      <th>npt</th>\n",
              "      <th>exp</th>\n",
              "      <th>rexp</th>\n",
              "      <th>sexp</th>\n",
              "      <th>bug</th>\n",
              "    </tr>\n",
              "  </thead>\n",
              "  <tbody>\n",
              "    <tr>\n",
              "      <th>0</th>\n",
              "      <td>3</td>\n",
              "      <td>2001/12/12 17:41</td>\n",
              "      <td>1</td>\n",
              "      <td>1</td>\n",
              "      <td>3</td>\n",
              "      <td>0.579380</td>\n",
              "      <td>0.093620</td>\n",
              "      <td>0.000000</td>\n",
              "      <td>480.666667</td>\n",
              "      <td>1</td>\n",
              "      <td>14</td>\n",
              "      <td>596</td>\n",
              "      <td>0.666667</td>\n",
              "      <td>143</td>\n",
              "      <td>133.50</td>\n",
              "      <td>129</td>\n",
              "      <td>1</td>\n",
              "    </tr>\n",
              "    <tr>\n",
              "      <th>1</th>\n",
              "      <td>7</td>\n",
              "      <td>1999/10/12 12:57</td>\n",
              "      <td>1</td>\n",
              "      <td>1</td>\n",
              "      <td>1</td>\n",
              "      <td>0.000000</td>\n",
              "      <td>0.000000</td>\n",
              "      <td>0.000000</td>\n",
              "      <td>398.000000</td>\n",
              "      <td>1</td>\n",
              "      <td>1</td>\n",
              "      <td>0</td>\n",
              "      <td>1.000000</td>\n",
              "      <td>140</td>\n",
              "      <td>140.00</td>\n",
              "      <td>137</td>\n",
              "      <td>1</td>\n",
              "    </tr>\n",
              "    <tr>\n",
              "      <th>2</th>\n",
              "      <td>8</td>\n",
              "      <td>2002/5/15 16:55</td>\n",
              "      <td>3</td>\n",
              "      <td>3</td>\n",
              "      <td>52</td>\n",
              "      <td>0.739279</td>\n",
              "      <td>0.183477</td>\n",
              "      <td>0.208913</td>\n",
              "      <td>283.519231</td>\n",
              "      <td>0</td>\n",
              "      <td>23</td>\n",
              "      <td>15836</td>\n",
              "      <td>0.750000</td>\n",
              "      <td>984</td>\n",
              "      <td>818.65</td>\n",
              "      <td>978</td>\n",
              "      <td>0</td>\n",
              "    </tr>\n",
              "    <tr>\n",
              "      <th>3</th>\n",
              "      <td>9</td>\n",
              "      <td>2002/1/21 15:37</td>\n",
              "      <td>1</td>\n",
              "      <td>1</td>\n",
              "      <td>8</td>\n",
              "      <td>0.685328</td>\n",
              "      <td>0.016039</td>\n",
              "      <td>0.012880</td>\n",
              "      <td>514.375000</td>\n",
              "      <td>1</td>\n",
              "      <td>21</td>\n",
              "      <td>1281</td>\n",
              "      <td>1.000000</td>\n",
              "      <td>579</td>\n",
              "      <td>479.25</td>\n",
              "      <td>550</td>\n",
              "      <td>0</td>\n",
              "    </tr>\n",
              "    <tr>\n",
              "      <th>4</th>\n",
              "      <td>10</td>\n",
              "      <td>2001/12/19 16:44</td>\n",
              "      <td>2</td>\n",
              "      <td>2</td>\n",
              "      <td>38</td>\n",
              "      <td>0.769776</td>\n",
              "      <td>0.091829</td>\n",
              "      <td>0.072746</td>\n",
              "      <td>366.815789</td>\n",
              "      <td>1</td>\n",
              "      <td>21</td>\n",
              "      <td>6565</td>\n",
              "      <td>0.763158</td>\n",
              "      <td>413</td>\n",
              "      <td>313.25</td>\n",
              "      <td>405</td>\n",
              "      <td>0</td>\n",
              "    </tr>\n",
              "  </tbody>\n",
              "</table>\n",
              "</div>"
            ],
            "text/plain": [
              "   transactionid        commitdate  ns  nm  ...  exp    rexp  sexp  bug\n",
              "0              3  2001/12/12 17:41   1   1  ...  143  133.50   129    1\n",
              "1              7  1999/10/12 12:57   1   1  ...  140  140.00   137    1\n",
              "2              8   2002/5/15 16:55   3   3  ...  984  818.65   978    0\n",
              "3              9   2002/1/21 15:37   1   1  ...  579  479.25   550    0\n",
              "4             10  2001/12/19 16:44   2   2  ...  413  313.25   405    0\n",
              "\n",
              "[5 rows x 17 columns]"
            ]
          },
          "metadata": {
            "tags": []
          },
          "execution_count": 7
        }
      ]
    },
    {
      "cell_type": "markdown",
      "metadata": {
        "id": "f57wE2r_oTW8"
      },
      "source": [
        "### RBM\n"
      ]
    },
    {
      "cell_type": "code",
      "metadata": {
        "id": "pS-1UJMM6WUH"
      },
      "source": [
        "# Define RBM class\n",
        "class RBM(object):\n",
        "    \n",
        "    def __init__(self, input_size, output_size, \n",
        "                 learning_rate, epochs, batchsize):\n",
        "        # Define hyperparameters\n",
        "        self._input_size = input_size\n",
        "        self._output_size = output_size\n",
        "        self.learning_rate = learning_rate\n",
        "        self.epochs = epochs\n",
        "        self.batchsize = batchsize\n",
        "        \n",
        "        # Initialize weights and biases using zero matrices\n",
        "        self.w = np.zeros([input_size, output_size], dtype=np.float32)\n",
        "        self.hb = np.zeros([output_size], dtype=np.float32)\n",
        "        self.vb = np.zeros([input_size], dtype=np.float32)\n",
        "    # forward pass, where h is the hidden layer and v is the visible layer\n",
        "    def prob_h_given_v(self, visible, w, hb):\n",
        "        return tf.nn.sigmoid(tf.matmul(visible, w) + hb)\n",
        "    # backward pass\n",
        "    def prob_v_given_h(self, hidden, w, vb):\n",
        "        return tf.nn.sigmoid(tf.matmul(hidden, tf.transpose(w)) + vb)\n",
        "    # sampling function\n",
        "    def sample_prob(self, probs):\n",
        "        return tf.nn.relu(tf.sign(probs - tf.random_uniform(tf.shape(probs))))\n",
        "\n",
        "    def train(self, X):\n",
        "        _w = tf.placeholder(tf.float32, [self._input_size, self._output_size])\n",
        "        _hb = tf.placeholder(tf.float32, [self._output_size])\n",
        "        _vb = tf.placeholder(tf.float32, [self._input_size])\n",
        "        \n",
        "        prv_w = np.zeros([self._input_size, self._output_size], dtype=np.float32)\n",
        "        prv_hb = np.zeros([self._output_size], dtype=np.float32)\n",
        "        prv_vb = np.zeros([self._input_size], dtype=np.float32)\n",
        "        \n",
        "        cur_w = np.zeros([self._input_size, self._output_size], dtype=np.float32)\n",
        "        cur_hb = np.zeros([self._output_size], dtype=np.float32)\n",
        "        cur_vb = np.zeros([self._input_size], dtype=np.float32)\n",
        "        \n",
        "        v0 = tf.placeholder(tf.float32, [None, self._input_size])\n",
        "        h0 = self.sample_prob(self.prob_h_given_v(v0, _w, _hb))\n",
        "        v1 = self.sample_prob(self.prob_v_given_h(h0, _w, _vb))\n",
        "        h1 = self.prob_h_given_v(v1, _w, _hb)\n",
        "        #To update the weights, we perform constrastive divergence.\n",
        "        positive_grad = tf.matmul(tf.transpose(v0), h0)\n",
        "        negative_grad = tf.matmul(tf.transpose(v1), h1)\n",
        "        \n",
        "        update_w = _w + self.learning_rate * (positive_grad - negative_grad) / tf.to_float(tf.shape(v0)[0])\n",
        "        update_vb = _vb +  self.learning_rate * tf.reduce_mean(v0 - v1, 0)\n",
        "        update_hb = _hb +  self.learning_rate * tf.reduce_mean(h0 - h1, 0)\n",
        "        # We also define the error as the MSE\n",
        "        err = tf.reduce_mean(tf.square(v0 - v1))\n",
        "        \n",
        "        error_list = []\n",
        "\n",
        "        with tf.Session() as sess:\n",
        "            sess.run(tf.global_variables_initializer())\n",
        "            \n",
        "            for epoch in range(self.epochs):\n",
        "                for start, end in zip(range(0, len(X),  self.batchsize),range(self.batchsize,len(X), self.batchsize)):\n",
        "                    batch = X[start:end]\n",
        "                    cur_w = sess.run(update_w, feed_dict={v0: batch, _w: prv_w, _hb: prv_hb, _vb: prv_vb})\n",
        "                    cur_hb = sess.run(update_hb, feed_dict={v0: batch,  _w: prv_w, _hb: prv_hb, _vb: prv_vb})\n",
        "                    cur_vb = sess.run(update_vb, feed_dict={v0: batch, _w: prv_w, _hb: prv_hb, _vb: prv_vb})\n",
        "                    prv_w = cur_w\n",
        "                    prv_hb = cur_hb\n",
        "                    prv_vb = cur_vb\n",
        "                error = sess.run(err, feed_dict={v0: X, _w: cur_w, _vb: cur_vb, _hb: cur_hb})\n",
        "                print ('Epoch: %d' % epoch,'reconstruction error: %f' % error)\n",
        "                error_list.append(error)\n",
        "            self.w = prv_w\n",
        "            self.hb = prv_hb\n",
        "            self.vb = prv_vb\n",
        "            return error_list\n",
        "    #function to generate new features from the generative model that the RBM has learned\n",
        "    def rbm_output(self, X):\n",
        "        \n",
        "        input_X = tf.constant(X)\n",
        "        _w = tf.constant(self.w)\n",
        "        _hb = tf.constant(self.hb)\n",
        "        _vb = tf.constant(self.vb)\n",
        "        out = tf.nn.sigmoid(tf.matmul(input_X, _w) + _hb)\n",
        "        hiddenGen = self.sample_prob(self.prob_h_given_v(input_X, _w, _hb))\n",
        "        visibleGen = self.sample_prob(self.prob_v_given_h(hiddenGen, _w, _vb))\n",
        "        with tf.Session() as sess:\n",
        "            sess.run(tf.global_variables_initializer())\n",
        "            return sess.run(out), sess.run(visibleGen), sess.run(hiddenGen)"
      ],
      "execution_count": null,
      "outputs": []
    },
    {
      "cell_type": "markdown",
      "metadata": {
        "id": "dqbKPY0vzPu-"
      },
      "source": [
        "## Training"
      ]
    },
    {
      "cell_type": "code",
      "metadata": {
        "id": "G5L6qFJLeDeN"
      },
      "source": [
        "#More Balanced DataFrame\n",
        "deleted = 0\n",
        "for i in range(0, df.shape[0]-1):\n",
        "  if deleted == 1230:\n",
        "    break\n",
        "  elif df.iloc[i].bug == 0:\n",
        "    df = df.drop(df.index[i])\n",
        "    deleted = deleted + 1"
      ],
      "execution_count": null,
      "outputs": []
    },
    {
      "cell_type": "code",
      "metadata": {
        "id": "WZUhvytCHesW"
      },
      "source": [
        "#Droping unnecessary String columns\n",
        "df = df.drop(['commitdate','transactionid'], axis=1)"
      ],
      "execution_count": null,
      "outputs": []
    },
    {
      "cell_type": "code",
      "metadata": {
        "id": "2cHDy9eqQJta"
      },
      "source": [
        "#Split df\n",
        "train_X = df.iloc[:,:-1].apply(func=normalize, axis=0)\n",
        "train_Y = df.iloc[:,-1]"
      ],
      "execution_count": null,
      "outputs": []
    },
    {
      "cell_type": "code",
      "metadata": {
        "id": "8E4REdnSKBjJ",
        "outputId": "daf714b3-1af2-4b6a-8e4c-c52c4964dc41",
        "colab": {
          "base_uri": "https://localhost:8080/",
          "height": 151
        }
      },
      "source": [
        "# df=df.drop(['transactionid'], axis=1)\n",
        "print(df.head())"
      ],
      "execution_count": null,
      "outputs": [
        {
          "output_type": "stream",
          "text": [
            "   ns  nm  nf   entropy        la  ...       npt  exp    rexp  sexp  bug\n",
            "0   1   1   3  0.579380  0.093620  ...  0.666667  143  133.50   129    1\n",
            "1   1   1   1  0.000000  0.000000  ...  1.000000  140  140.00   137    1\n",
            "3   1   1   8  0.685328  0.016039  ...  1.000000  579  479.25   550    0\n",
            "5   1   1  16  0.760777  0.018308  ...  0.750000  595  495.25   566    0\n",
            "7   2   2  33  0.816160  0.095682  ...  0.727273  482  382.25   474    0\n",
            "\n",
            "[5 rows x 15 columns]\n"
          ],
          "name": "stdout"
        }
      ]
    },
    {
      "cell_type": "code",
      "metadata": {
        "id": "V0YjK0QsnQKb",
        "outputId": "ad030538-b713-401e-c8d9-377a0afd32a2",
        "colab": {
          "base_uri": "https://localhost:8080/",
          "height": 34
        }
      },
      "source": [
        "inputX = df.iloc[:,:-1].apply(func=normalize, axis=0).values\n",
        "inputY= df.iloc[:,-1].values\n",
        "print(type(inputX))\n",
        "inputX = inputX.astype(np.float32)\n",
        "\n",
        "#List to hold RBMs\n",
        "rbm_list = []\n",
        "\n",
        "#define parameters of RBMs we will train\n",
        "# 14-20-12-12-2\n",
        "\n",
        "# def __init__(self, input_size, output_size,learning_rate, epochs, batchsize):\n",
        "rbm_list.append(RBM(14, 20, 1.000, 150, 100))\n",
        "rbm_list.append(RBM(20, 12, 1.000, 150, 100))\n",
        "rbm_list.append(RBM(12, 12, 1.000, 150, 100))"
      ],
      "execution_count": null,
      "outputs": [
        {
          "output_type": "stream",
          "text": [
            "<class 'numpy.ndarray'>\n"
          ],
          "name": "stdout"
        }
      ]
    },
    {
      "cell_type": "code",
      "metadata": {
        "id": "niPCAo4fsOCp",
        "outputId": "460989d9-896a-447f-b49d-7e5b99266d1d",
        "colab": {
          "base_uri": "https://localhost:8080/",
          "height": 34
        }
      },
      "source": [
        "inputX.shape"
      ],
      "execution_count": null,
      "outputs": [
        {
          "output_type": "execute_result",
          "data": {
            "text/plain": [
              "(3390, 14)"
            ]
          },
          "metadata": {
            "tags": []
          },
          "execution_count": 15
        }
      ]
    },
    {
      "cell_type": "code",
      "metadata": {
        "id": "-RFRdpvK4zBD",
        "outputId": "d7342aac-6b85-4245-9592-3976ff731672",
        "colab": {
          "base_uri": "https://localhost:8080/",
          "height": 87
        }
      },
      "source": [
        "import tensorflow.compat.v1 as tf\n",
        "tf.disable_v2_behavior() "
      ],
      "execution_count": null,
      "outputs": [
        {
          "output_type": "stream",
          "text": [
            "WARNING:tensorflow:From /usr/local/lib/python3.6/dist-packages/tensorflow/python/compat/v2_compat.py:96: disable_resource_variables (from tensorflow.python.ops.variable_scope) is deprecated and will be removed in a future version.\n",
            "Instructions for updating:\n",
            "non-resource variables are not supported in the long term\n"
          ],
          "name": "stdout"
        }
      ]
    },
    {
      "cell_type": "code",
      "metadata": {
        "id": "tCjl-ZFknQV0",
        "outputId": "4126f2e7-86a7-4f1c-8393-93144b22a87a",
        "colab": {
          "base_uri": "https://localhost:8080/",
          "height": 1000
        }
      },
      "source": [
        "outputList = []\n",
        "error_list = []\n",
        "\n",
        "#For each RBM in out list\n",
        "for i in range(0, len(rbm_list)):\n",
        "    print('RBM', i+1)\n",
        "    #Train new RBM\n",
        "    rbm = rbm_list[i]\n",
        "    err = rbm.train(inputX)\n",
        "    error_list.append(err)\n",
        "\n",
        "    #Return output layer\n",
        "    #sess.run(out), sess.run(visibleGen), sess.run(hiddenGen)\n",
        "    outputX, reconstructedX, hiddenX = rbm.rbm_output(inputX)\n",
        "    outputList.append(outputX)\n",
        "    inputX= hiddenX"
      ],
      "execution_count": null,
      "outputs": [
        {
          "output_type": "stream",
          "text": [
            "RBM 1\n",
            "WARNING:tensorflow:From <ipython-input-8-2b5d3aa65216>:48: to_float (from tensorflow.python.ops.math_ops) is deprecated and will be removed in a future version.\n",
            "Instructions for updating:\n",
            "Use `tf.cast` instead.\n",
            "Epoch: 0 reconstruction error: 0.113313\n",
            "Epoch: 1 reconstruction error: 0.117359\n",
            "Epoch: 2 reconstruction error: 0.114953\n",
            "Epoch: 3 reconstruction error: 0.111951\n",
            "Epoch: 4 reconstruction error: 0.110032\n",
            "Epoch: 5 reconstruction error: 0.111399\n",
            "Epoch: 6 reconstruction error: 0.111426\n",
            "Epoch: 7 reconstruction error: 0.108291\n",
            "Epoch: 8 reconstruction error: 0.109852\n",
            "Epoch: 9 reconstruction error: 0.107341\n",
            "Epoch: 10 reconstruction error: 0.103858\n",
            "Epoch: 11 reconstruction error: 0.107152\n",
            "Epoch: 12 reconstruction error: 0.108607\n",
            "Epoch: 13 reconstruction error: 0.102160\n",
            "Epoch: 14 reconstruction error: 0.106119\n",
            "Epoch: 15 reconstruction error: 0.107382\n",
            "Epoch: 16 reconstruction error: 0.108130\n",
            "Epoch: 17 reconstruction error: 0.105707\n",
            "Epoch: 18 reconstruction error: 0.106528\n",
            "Epoch: 19 reconstruction error: 0.107380\n",
            "Epoch: 20 reconstruction error: 0.104736\n",
            "Epoch: 21 reconstruction error: 0.103602\n",
            "Epoch: 22 reconstruction error: 0.104454\n",
            "Epoch: 23 reconstruction error: 0.104185\n",
            "Epoch: 24 reconstruction error: 0.108053\n",
            "Epoch: 25 reconstruction error: 0.104977\n",
            "Epoch: 26 reconstruction error: 0.104825\n",
            "Epoch: 27 reconstruction error: 0.107920\n",
            "Epoch: 28 reconstruction error: 0.105567\n",
            "Epoch: 29 reconstruction error: 0.106554\n",
            "Epoch: 30 reconstruction error: 0.106038\n",
            "Epoch: 31 reconstruction error: 0.103148\n",
            "Epoch: 32 reconstruction error: 0.105842\n",
            "Epoch: 33 reconstruction error: 0.105053\n",
            "Epoch: 34 reconstruction error: 0.103191\n",
            "Epoch: 35 reconstruction error: 0.105314\n",
            "Epoch: 36 reconstruction error: 0.105140\n",
            "Epoch: 37 reconstruction error: 0.102895\n",
            "Epoch: 38 reconstruction error: 0.103091\n",
            "Epoch: 39 reconstruction error: 0.101714\n",
            "Epoch: 40 reconstruction error: 0.102545\n",
            "Epoch: 41 reconstruction error: 0.100980\n",
            "Epoch: 42 reconstruction error: 0.105541\n",
            "Epoch: 43 reconstruction error: 0.103528\n",
            "Epoch: 44 reconstruction error: 0.102731\n",
            "Epoch: 45 reconstruction error: 0.103624\n",
            "Epoch: 46 reconstruction error: 0.098785\n",
            "Epoch: 47 reconstruction error: 0.103350\n",
            "Epoch: 48 reconstruction error: 0.103172\n",
            "Epoch: 49 reconstruction error: 0.101529\n",
            "Epoch: 50 reconstruction error: 0.105042\n",
            "Epoch: 51 reconstruction error: 0.099119\n",
            "Epoch: 52 reconstruction error: 0.102222\n",
            "Epoch: 53 reconstruction error: 0.102838\n",
            "Epoch: 54 reconstruction error: 0.103024\n",
            "Epoch: 55 reconstruction error: 0.101202\n",
            "Epoch: 56 reconstruction error: 0.101903\n",
            "Epoch: 57 reconstruction error: 0.102599\n",
            "Epoch: 58 reconstruction error: 0.101965\n",
            "Epoch: 59 reconstruction error: 0.099386\n",
            "Epoch: 60 reconstruction error: 0.103217\n",
            "Epoch: 61 reconstruction error: 0.101825\n",
            "Epoch: 62 reconstruction error: 0.098537\n",
            "Epoch: 63 reconstruction error: 0.100328\n",
            "Epoch: 64 reconstruction error: 0.101694\n",
            "Epoch: 65 reconstruction error: 0.101908\n",
            "Epoch: 66 reconstruction error: 0.099909\n",
            "Epoch: 67 reconstruction error: 0.100290\n",
            "Epoch: 68 reconstruction error: 0.101668\n",
            "Epoch: 69 reconstruction error: 0.100637\n",
            "Epoch: 70 reconstruction error: 0.102595\n",
            "Epoch: 71 reconstruction error: 0.101158\n",
            "Epoch: 72 reconstruction error: 0.098637\n",
            "Epoch: 73 reconstruction error: 0.101359\n",
            "Epoch: 74 reconstruction error: 0.101858\n",
            "Epoch: 75 reconstruction error: 0.103207\n",
            "Epoch: 76 reconstruction error: 0.103145\n",
            "Epoch: 77 reconstruction error: 0.098129\n",
            "Epoch: 78 reconstruction error: 0.099557\n",
            "Epoch: 79 reconstruction error: 0.099507\n",
            "Epoch: 80 reconstruction error: 0.102033\n",
            "Epoch: 81 reconstruction error: 0.098454\n",
            "Epoch: 82 reconstruction error: 0.101244\n",
            "Epoch: 83 reconstruction error: 0.102712\n",
            "Epoch: 84 reconstruction error: 0.100802\n",
            "Epoch: 85 reconstruction error: 0.101545\n",
            "Epoch: 86 reconstruction error: 0.102007\n",
            "Epoch: 87 reconstruction error: 0.098271\n",
            "Epoch: 88 reconstruction error: 0.099806\n",
            "Epoch: 89 reconstruction error: 0.100188\n",
            "Epoch: 90 reconstruction error: 0.096940\n",
            "Epoch: 91 reconstruction error: 0.098665\n",
            "Epoch: 92 reconstruction error: 0.102311\n",
            "Epoch: 93 reconstruction error: 0.101404\n",
            "Epoch: 94 reconstruction error: 0.098671\n",
            "Epoch: 95 reconstruction error: 0.099165\n",
            "Epoch: 96 reconstruction error: 0.098009\n",
            "Epoch: 97 reconstruction error: 0.096759\n",
            "Epoch: 98 reconstruction error: 0.097031\n",
            "Epoch: 99 reconstruction error: 0.099247\n",
            "Epoch: 100 reconstruction error: 0.101222\n",
            "Epoch: 101 reconstruction error: 0.100989\n",
            "Epoch: 102 reconstruction error: 0.097693\n",
            "Epoch: 103 reconstruction error: 0.098935\n",
            "Epoch: 104 reconstruction error: 0.102643\n",
            "Epoch: 105 reconstruction error: 0.102208\n",
            "Epoch: 106 reconstruction error: 0.102599\n",
            "Epoch: 107 reconstruction error: 0.104191\n",
            "Epoch: 108 reconstruction error: 0.099579\n",
            "Epoch: 109 reconstruction error: 0.098597\n",
            "Epoch: 110 reconstruction error: 0.101198\n",
            "Epoch: 111 reconstruction error: 0.099382\n",
            "Epoch: 112 reconstruction error: 0.100168\n",
            "Epoch: 113 reconstruction error: 0.098279\n",
            "Epoch: 114 reconstruction error: 0.097633\n",
            "Epoch: 115 reconstruction error: 0.099617\n",
            "Epoch: 116 reconstruction error: 0.101418\n",
            "Epoch: 117 reconstruction error: 0.101890\n",
            "Epoch: 118 reconstruction error: 0.098360\n",
            "Epoch: 119 reconstruction error: 0.098060\n",
            "Epoch: 120 reconstruction error: 0.097688\n",
            "Epoch: 121 reconstruction error: 0.100172\n",
            "Epoch: 122 reconstruction error: 0.097662\n",
            "Epoch: 123 reconstruction error: 0.099205\n",
            "Epoch: 124 reconstruction error: 0.102516\n",
            "Epoch: 125 reconstruction error: 0.098751\n",
            "Epoch: 126 reconstruction error: 0.101641\n",
            "Epoch: 127 reconstruction error: 0.099211\n",
            "Epoch: 128 reconstruction error: 0.099152\n",
            "Epoch: 129 reconstruction error: 0.099543\n",
            "Epoch: 130 reconstruction error: 0.098619\n",
            "Epoch: 131 reconstruction error: 0.098214\n",
            "Epoch: 132 reconstruction error: 0.101850\n",
            "Epoch: 133 reconstruction error: 0.100453\n",
            "Epoch: 134 reconstruction error: 0.098865\n",
            "Epoch: 135 reconstruction error: 0.096668\n",
            "Epoch: 136 reconstruction error: 0.100585\n",
            "Epoch: 137 reconstruction error: 0.098939\n",
            "Epoch: 138 reconstruction error: 0.097429\n",
            "Epoch: 139 reconstruction error: 0.102828\n",
            "Epoch: 140 reconstruction error: 0.099839\n",
            "Epoch: 141 reconstruction error: 0.100196\n",
            "Epoch: 142 reconstruction error: 0.097455\n",
            "Epoch: 143 reconstruction error: 0.098507\n",
            "Epoch: 144 reconstruction error: 0.101190\n",
            "Epoch: 145 reconstruction error: 0.100606\n",
            "Epoch: 146 reconstruction error: 0.099691\n",
            "Epoch: 147 reconstruction error: 0.102029\n",
            "Epoch: 148 reconstruction error: 0.098369\n",
            "Epoch: 149 reconstruction error: 0.099618\n",
            "RBM 2\n",
            "Epoch: 0 reconstruction error: 0.055265\n",
            "Epoch: 1 reconstruction error: 0.052537\n",
            "Epoch: 2 reconstruction error: 0.051681\n",
            "Epoch: 3 reconstruction error: 0.048835\n",
            "Epoch: 4 reconstruction error: 0.050103\n",
            "Epoch: 5 reconstruction error: 0.049484\n",
            "Epoch: 6 reconstruction error: 0.049543\n",
            "Epoch: 7 reconstruction error: 0.048304\n",
            "Epoch: 8 reconstruction error: 0.046681\n",
            "Epoch: 9 reconstruction error: 0.046062\n",
            "Epoch: 10 reconstruction error: 0.046711\n",
            "Epoch: 11 reconstruction error: 0.046401\n",
            "Epoch: 12 reconstruction error: 0.045221\n",
            "Epoch: 13 reconstruction error: 0.046180\n",
            "Epoch: 14 reconstruction error: 0.047670\n",
            "Epoch: 15 reconstruction error: 0.046003\n",
            "Epoch: 16 reconstruction error: 0.047537\n",
            "Epoch: 17 reconstruction error: 0.044735\n",
            "Epoch: 18 reconstruction error: 0.046563\n",
            "Epoch: 19 reconstruction error: 0.044587\n",
            "Epoch: 20 reconstruction error: 0.045133\n",
            "Epoch: 21 reconstruction error: 0.044676\n",
            "Epoch: 22 reconstruction error: 0.042640\n",
            "Epoch: 23 reconstruction error: 0.042906\n",
            "Epoch: 24 reconstruction error: 0.044041\n",
            "Epoch: 25 reconstruction error: 0.042552\n",
            "Epoch: 26 reconstruction error: 0.043304\n",
            "Epoch: 27 reconstruction error: 0.042891\n",
            "Epoch: 28 reconstruction error: 0.043481\n",
            "Epoch: 29 reconstruction error: 0.043289\n",
            "Epoch: 30 reconstruction error: 0.043673\n",
            "Epoch: 31 reconstruction error: 0.045516\n",
            "Epoch: 32 reconstruction error: 0.042847\n",
            "Epoch: 33 reconstruction error: 0.042507\n",
            "Epoch: 34 reconstruction error: 0.042065\n",
            "Epoch: 35 reconstruction error: 0.043938\n",
            "Epoch: 36 reconstruction error: 0.044056\n",
            "Epoch: 37 reconstruction error: 0.042611\n",
            "Epoch: 38 reconstruction error: 0.044631\n",
            "Epoch: 39 reconstruction error: 0.045147\n",
            "Epoch: 40 reconstruction error: 0.043009\n",
            "Epoch: 41 reconstruction error: 0.043392\n",
            "Epoch: 42 reconstruction error: 0.040605\n",
            "Epoch: 43 reconstruction error: 0.041844\n",
            "Epoch: 44 reconstruction error: 0.041372\n",
            "Epoch: 45 reconstruction error: 0.042389\n",
            "Epoch: 46 reconstruction error: 0.041799\n",
            "Epoch: 47 reconstruction error: 0.040841\n",
            "Epoch: 48 reconstruction error: 0.039307\n",
            "Epoch: 49 reconstruction error: 0.039528\n",
            "Epoch: 50 reconstruction error: 0.039086\n",
            "Epoch: 51 reconstruction error: 0.038702\n",
            "Epoch: 52 reconstruction error: 0.039499\n",
            "Epoch: 53 reconstruction error: 0.038761\n",
            "Epoch: 54 reconstruction error: 0.039189\n",
            "Epoch: 55 reconstruction error: 0.038982\n",
            "Epoch: 56 reconstruction error: 0.039705\n",
            "Epoch: 57 reconstruction error: 0.038333\n",
            "Epoch: 58 reconstruction error: 0.040118\n",
            "Epoch: 59 reconstruction error: 0.040280\n",
            "Epoch: 60 reconstruction error: 0.041563\n",
            "Epoch: 61 reconstruction error: 0.039764\n",
            "Epoch: 62 reconstruction error: 0.038923\n",
            "Epoch: 63 reconstruction error: 0.038687\n",
            "Epoch: 64 reconstruction error: 0.038156\n",
            "Epoch: 65 reconstruction error: 0.040811\n",
            "Epoch: 66 reconstruction error: 0.039617\n",
            "Epoch: 67 reconstruction error: 0.040413\n",
            "Epoch: 68 reconstruction error: 0.040929\n",
            "Epoch: 69 reconstruction error: 0.039292\n",
            "Epoch: 70 reconstruction error: 0.038982\n",
            "Epoch: 71 reconstruction error: 0.040398\n",
            "Epoch: 72 reconstruction error: 0.039292\n",
            "Epoch: 73 reconstruction error: 0.040619\n",
            "Epoch: 74 reconstruction error: 0.039307\n",
            "Epoch: 75 reconstruction error: 0.040324\n",
            "Epoch: 76 reconstruction error: 0.039794\n",
            "Epoch: 77 reconstruction error: 0.039336\n",
            "Epoch: 78 reconstruction error: 0.039159\n",
            "Epoch: 79 reconstruction error: 0.038378\n",
            "Epoch: 80 reconstruction error: 0.040870\n",
            "Epoch: 81 reconstruction error: 0.040546\n",
            "Epoch: 82 reconstruction error: 0.041357\n",
            "Epoch: 83 reconstruction error: 0.040457\n",
            "Epoch: 84 reconstruction error: 0.038864\n",
            "Epoch: 85 reconstruction error: 0.037979\n",
            "Epoch: 86 reconstruction error: 0.040428\n",
            "Epoch: 87 reconstruction error: 0.040000\n",
            "Epoch: 88 reconstruction error: 0.039499\n",
            "Epoch: 89 reconstruction error: 0.039159\n",
            "Epoch: 90 reconstruction error: 0.041313\n",
            "Epoch: 91 reconstruction error: 0.039941\n",
            "Epoch: 92 reconstruction error: 0.039764\n",
            "Epoch: 93 reconstruction error: 0.039277\n",
            "Epoch: 94 reconstruction error: 0.038953\n",
            "Epoch: 95 reconstruction error: 0.039145\n",
            "Epoch: 96 reconstruction error: 0.040221\n",
            "Epoch: 97 reconstruction error: 0.039558\n",
            "Epoch: 98 reconstruction error: 0.040516\n",
            "Epoch: 99 reconstruction error: 0.038599\n",
            "Epoch: 100 reconstruction error: 0.040324\n",
            "Epoch: 101 reconstruction error: 0.039100\n",
            "Epoch: 102 reconstruction error: 0.039558\n",
            "Epoch: 103 reconstruction error: 0.040664\n",
            "Epoch: 104 reconstruction error: 0.039307\n",
            "Epoch: 105 reconstruction error: 0.040295\n",
            "Epoch: 106 reconstruction error: 0.039543\n",
            "Epoch: 107 reconstruction error: 0.038982\n",
            "Epoch: 108 reconstruction error: 0.039145\n",
            "Epoch: 109 reconstruction error: 0.039027\n",
            "Epoch: 110 reconstruction error: 0.038820\n",
            "Epoch: 111 reconstruction error: 0.036755\n",
            "Epoch: 112 reconstruction error: 0.036652\n",
            "Epoch: 113 reconstruction error: 0.036829\n",
            "Epoch: 114 reconstruction error: 0.036372\n",
            "Epoch: 115 reconstruction error: 0.038687\n",
            "Epoch: 116 reconstruction error: 0.037375\n",
            "Epoch: 117 reconstruction error: 0.036357\n",
            "Epoch: 118 reconstruction error: 0.035457\n",
            "Epoch: 119 reconstruction error: 0.036136\n",
            "Epoch: 120 reconstruction error: 0.038333\n",
            "Epoch: 121 reconstruction error: 0.036534\n",
            "Epoch: 122 reconstruction error: 0.037242\n",
            "Epoch: 123 reconstruction error: 0.037050\n",
            "Epoch: 124 reconstruction error: 0.037153\n",
            "Epoch: 125 reconstruction error: 0.037153\n",
            "Epoch: 126 reconstruction error: 0.038363\n",
            "Epoch: 127 reconstruction error: 0.038289\n",
            "Epoch: 128 reconstruction error: 0.037655\n",
            "Epoch: 129 reconstruction error: 0.038496\n",
            "Epoch: 130 reconstruction error: 0.037611\n",
            "Epoch: 131 reconstruction error: 0.038805\n",
            "Epoch: 132 reconstruction error: 0.039189\n",
            "Epoch: 133 reconstruction error: 0.038260\n",
            "Epoch: 134 reconstruction error: 0.038304\n",
            "Epoch: 135 reconstruction error: 0.037507\n",
            "Epoch: 136 reconstruction error: 0.035457\n",
            "Epoch: 137 reconstruction error: 0.036431\n",
            "Epoch: 138 reconstruction error: 0.038643\n",
            "Epoch: 139 reconstruction error: 0.039661\n",
            "Epoch: 140 reconstruction error: 0.038215\n",
            "Epoch: 141 reconstruction error: 0.038289\n",
            "Epoch: 142 reconstruction error: 0.038333\n",
            "Epoch: 143 reconstruction error: 0.036357\n",
            "Epoch: 144 reconstruction error: 0.036504\n",
            "Epoch: 145 reconstruction error: 0.036711\n",
            "Epoch: 146 reconstruction error: 0.035811\n",
            "Epoch: 147 reconstruction error: 0.036313\n",
            "Epoch: 148 reconstruction error: 0.036932\n",
            "Epoch: 149 reconstruction error: 0.037788\n",
            "RBM 3\n",
            "Epoch: 0 reconstruction error: 0.151180\n",
            "Epoch: 1 reconstruction error: 0.148968\n",
            "Epoch: 2 reconstruction error: 0.136750\n",
            "Epoch: 3 reconstruction error: 0.139651\n",
            "Epoch: 4 reconstruction error: 0.134808\n",
            "Epoch: 5 reconstruction error: 0.135841\n",
            "Epoch: 6 reconstruction error: 0.130605\n",
            "Epoch: 7 reconstruction error: 0.134366\n",
            "Epoch: 8 reconstruction error: 0.129966\n",
            "Epoch: 9 reconstruction error: 0.123697\n",
            "Epoch: 10 reconstruction error: 0.122173\n",
            "Epoch: 11 reconstruction error: 0.124484\n",
            "Epoch: 12 reconstruction error: 0.123500\n",
            "Epoch: 13 reconstruction error: 0.122542\n",
            "Epoch: 14 reconstruction error: 0.126622\n",
            "Epoch: 15 reconstruction error: 0.128958\n",
            "Epoch: 16 reconstruction error: 0.129867\n",
            "Epoch: 17 reconstruction error: 0.127065\n",
            "Epoch: 18 reconstruction error: 0.123697\n",
            "Epoch: 19 reconstruction error: 0.125664\n",
            "Epoch: 20 reconstruction error: 0.123795\n",
            "Epoch: 21 reconstruction error: 0.123058\n",
            "Epoch: 22 reconstruction error: 0.127188\n",
            "Epoch: 23 reconstruction error: 0.122345\n",
            "Epoch: 24 reconstruction error: 0.117257\n",
            "Epoch: 25 reconstruction error: 0.121608\n",
            "Epoch: 26 reconstruction error: 0.121436\n",
            "Epoch: 27 reconstruction error: 0.121239\n",
            "Epoch: 28 reconstruction error: 0.120280\n",
            "Epoch: 29 reconstruction error: 0.124631\n",
            "Epoch: 30 reconstruction error: 0.121386\n",
            "Epoch: 31 reconstruction error: 0.118732\n",
            "Epoch: 32 reconstruction error: 0.123378\n",
            "Epoch: 33 reconstruction error: 0.118928\n",
            "Epoch: 34 reconstruction error: 0.118314\n",
            "Epoch: 35 reconstruction error: 0.124877\n",
            "Epoch: 36 reconstruction error: 0.118953\n",
            "Epoch: 37 reconstruction error: 0.116101\n",
            "Epoch: 38 reconstruction error: 0.120600\n",
            "Epoch: 39 reconstruction error: 0.119985\n",
            "Epoch: 40 reconstruction error: 0.120870\n",
            "Epoch: 41 reconstruction error: 0.120280\n",
            "Epoch: 42 reconstruction error: 0.119567\n",
            "Epoch: 43 reconstruction error: 0.122812\n",
            "Epoch: 44 reconstruction error: 0.122296\n",
            "Epoch: 45 reconstruction error: 0.125737\n",
            "Epoch: 46 reconstruction error: 0.119715\n",
            "Epoch: 47 reconstruction error: 0.118240\n",
            "Epoch: 48 reconstruction error: 0.120403\n",
            "Epoch: 49 reconstruction error: 0.123869\n",
            "Epoch: 50 reconstruction error: 0.124189\n",
            "Epoch: 51 reconstruction error: 0.121780\n",
            "Epoch: 52 reconstruction error: 0.120059\n",
            "Epoch: 53 reconstruction error: 0.119764\n",
            "Epoch: 54 reconstruction error: 0.119518\n",
            "Epoch: 55 reconstruction error: 0.122247\n",
            "Epoch: 56 reconstruction error: 0.120452\n",
            "Epoch: 57 reconstruction error: 0.128024\n",
            "Epoch: 58 reconstruction error: 0.120501\n",
            "Epoch: 59 reconstruction error: 0.123353\n",
            "Epoch: 60 reconstruction error: 0.118707\n",
            "Epoch: 61 reconstruction error: 0.122271\n",
            "Epoch: 62 reconstruction error: 0.119789\n",
            "Epoch: 63 reconstruction error: 0.120157\n",
            "Epoch: 64 reconstruction error: 0.119322\n",
            "Epoch: 65 reconstruction error: 0.116495\n",
            "Epoch: 66 reconstruction error: 0.122001\n",
            "Epoch: 67 reconstruction error: 0.120796\n",
            "Epoch: 68 reconstruction error: 0.120944\n",
            "Epoch: 69 reconstruction error: 0.120600\n",
            "Epoch: 70 reconstruction error: 0.127114\n",
            "Epoch: 71 reconstruction error: 0.126450\n",
            "Epoch: 72 reconstruction error: 0.121681\n",
            "Epoch: 73 reconstruction error: 0.127999\n",
            "Epoch: 74 reconstruction error: 0.125147\n",
            "Epoch: 75 reconstruction error: 0.127802\n",
            "Epoch: 76 reconstruction error: 0.125688\n",
            "Epoch: 77 reconstruction error: 0.128712\n",
            "Epoch: 78 reconstruction error: 0.122886\n",
            "Epoch: 79 reconstruction error: 0.118265\n",
            "Epoch: 80 reconstruction error: 0.128982\n",
            "Epoch: 81 reconstruction error: 0.128245\n",
            "Epoch: 82 reconstruction error: 0.124902\n",
            "Epoch: 83 reconstruction error: 0.124238\n",
            "Epoch: 84 reconstruction error: 0.125639\n",
            "Epoch: 85 reconstruction error: 0.124484\n",
            "Epoch: 86 reconstruction error: 0.120919\n",
            "Epoch: 87 reconstruction error: 0.121214\n",
            "Epoch: 88 reconstruction error: 0.124213\n",
            "Epoch: 89 reconstruction error: 0.120674\n",
            "Epoch: 90 reconstruction error: 0.121264\n",
            "Epoch: 91 reconstruction error: 0.120354\n",
            "Epoch: 92 reconstruction error: 0.123820\n",
            "Epoch: 93 reconstruction error: 0.127065\n",
            "Epoch: 94 reconstruction error: 0.124066\n",
            "Epoch: 95 reconstruction error: 0.121141\n",
            "Epoch: 96 reconstruction error: 0.122763\n",
            "Epoch: 97 reconstruction error: 0.121337\n",
            "Epoch: 98 reconstruction error: 0.125074\n",
            "Epoch: 99 reconstruction error: 0.124803\n",
            "Epoch: 100 reconstruction error: 0.120772\n",
            "Epoch: 101 reconstruction error: 0.118682\n",
            "Epoch: 102 reconstruction error: 0.123476\n",
            "Epoch: 103 reconstruction error: 0.126917\n",
            "Epoch: 104 reconstruction error: 0.126254\n",
            "Epoch: 105 reconstruction error: 0.121288\n",
            "Epoch: 106 reconstruction error: 0.122738\n",
            "Epoch: 107 reconstruction error: 0.127581\n",
            "Epoch: 108 reconstruction error: 0.128048\n",
            "Epoch: 109 reconstruction error: 0.119617\n",
            "Epoch: 110 reconstruction error: 0.125418\n",
            "Epoch: 111 reconstruction error: 0.116814\n",
            "Epoch: 112 reconstruction error: 0.124926\n",
            "Epoch: 113 reconstruction error: 0.119371\n",
            "Epoch: 114 reconstruction error: 0.125369\n",
            "Epoch: 115 reconstruction error: 0.118265\n",
            "Epoch: 116 reconstruction error: 0.120870\n",
            "Epoch: 117 reconstruction error: 0.124336\n",
            "Epoch: 118 reconstruction error: 0.123132\n",
            "Epoch: 119 reconstruction error: 0.125000\n",
            "Epoch: 120 reconstruction error: 0.124459\n",
            "Epoch: 121 reconstruction error: 0.120821\n",
            "Epoch: 122 reconstruction error: 0.122394\n",
            "Epoch: 123 reconstruction error: 0.124877\n",
            "Epoch: 124 reconstruction error: 0.124459\n",
            "Epoch: 125 reconstruction error: 0.122001\n",
            "Epoch: 126 reconstruction error: 0.124213\n",
            "Epoch: 127 reconstruction error: 0.118977\n",
            "Epoch: 128 reconstruction error: 0.126426\n",
            "Epoch: 129 reconstruction error: 0.121534\n",
            "Epoch: 130 reconstruction error: 0.126598\n",
            "Epoch: 131 reconstruction error: 0.124508\n",
            "Epoch: 132 reconstruction error: 0.127262\n",
            "Epoch: 133 reconstruction error: 0.125442\n",
            "Epoch: 134 reconstruction error: 0.127729\n",
            "Epoch: 135 reconstruction error: 0.127089\n",
            "Epoch: 136 reconstruction error: 0.121583\n",
            "Epoch: 137 reconstruction error: 0.123771\n",
            "Epoch: 138 reconstruction error: 0.119494\n",
            "Epoch: 139 reconstruction error: 0.123623\n",
            "Epoch: 140 reconstruction error: 0.122984\n",
            "Epoch: 141 reconstruction error: 0.124312\n",
            "Epoch: 142 reconstruction error: 0.120698\n",
            "Epoch: 143 reconstruction error: 0.123255\n",
            "Epoch: 144 reconstruction error: 0.120674\n",
            "Epoch: 145 reconstruction error: 0.125590\n",
            "Epoch: 146 reconstruction error: 0.122321\n",
            "Epoch: 147 reconstruction error: 0.125713\n",
            "Epoch: 148 reconstruction error: 0.127262\n",
            "Epoch: 149 reconstruction error: 0.123992\n"
          ],
          "name": "stdout"
        }
      ]
    },
    {
      "cell_type": "code",
      "metadata": {
        "id": "8_JW0RV4nQYG",
        "outputId": "fca40632-64e7-4586-b988-7c98ff14ae39",
        "colab": {
          "base_uri": "https://localhost:8080/",
          "height": 854
        }
      },
      "source": [
        "i = 1\n",
        "for err in error_list:\n",
        "    print(\"RBM\",i)\n",
        "    pd.Series(err).plot(logy=False)\n",
        "    plt.xlabel(\"Epoch\")\n",
        "    plt.ylabel(\"Reconstruction Error\")\n",
        "    plt.show()\n",
        "    i += 1"
      ],
      "execution_count": null,
      "outputs": [
        {
          "output_type": "stream",
          "text": [
            "RBM 1\n"
          ],
          "name": "stdout"
        },
        {
          "output_type": "display_data",
          "data": {
            "image/png": "[encoded data removed]",
            "text/plain": [
              "<Figure size 432x288 with 1 Axes>"
            ]
          },
          "metadata": {
            "tags": [],
            "needs_background": "light"
          }
        },
        {
          "output_type": "stream",
          "text": [
            "RBM 2\n"
          ],
          "name": "stdout"
        },
        {
          "output_type": "display_data",
          "data": {
            "image/png": "[encoded data removed]",
            "text/plain": [
              "<Figure size 432x288 with 1 Axes>"
            ]
          },
          "metadata": {
            "tags": [],
            "needs_background": "light"
          }
        },
        {
          "output_type": "stream",
          "text": [
            "RBM 3\n"
          ],
          "name": "stdout"
        },
        {
          "output_type": "display_data",
          "data": {
            "image/png": "[encoded data removed]",
            "text/plain": [
              "<Figure size 432x288 with 1 Axes>"
            ]
          },
          "metadata": {
            "tags": [],
            "needs_background": "light"
          }
        }
      ]
    },
    {
      "cell_type": "code",
      "metadata": {
        "id": "uoCYLrWUpO_J",
        "outputId": "db82a2fa-3339-4b43-938a-42227c5a1154",
        "colab": {
          "base_uri": "https://localhost:8080/",
          "height": 34
        }
      },
      "source": [
        "outputX.shape"
      ],
      "execution_count": null,
      "outputs": [
        {
          "output_type": "execute_result",
          "data": {
            "text/plain": [
              "(3390, 12)"
            ]
          },
          "metadata": {
            "tags": []
          },
          "execution_count": 19
        }
      ]
    },
    {
      "cell_type": "markdown",
      "metadata": {
        "id": "geqQzlYJggJO"
      },
      "source": [
        "##**Classifier**(ANN)\n"
      ]
    },
    {
      "cell_type": "markdown",
      "metadata": {
        "id": "XnD1eSoctpxd"
      },
      "source": [
        "Used outputX as the Input for the Classifer"
      ]
    },
    {
      "cell_type": "markdown",
      "metadata": {
        "id": "vwz4lT3G0CpZ"
      },
      "source": [
        "Artificial Neural Network Classifier"
      ]
    },
    {
      "cell_type": "code",
      "metadata": {
        "id": "ej6X_Mw5zoYG"
      },
      "source": [
        "import keras\n",
        "from keras.models import Sequential\n",
        "from keras.layers import Dense"
      ],
      "execution_count": null,
      "outputs": []
    },
    {
      "cell_type": "code",
      "metadata": {
        "id": "LcUnoCvTgej0",
        "outputId": "a21df335-52f5-478a-f825-b6f32682e65d",
        "colab": {
          "base_uri": "https://localhost:8080/",
          "height": 34
        }
      },
      "source": [
        "Y_Train = train_Y.iloc[:3051].values\n",
        "# Y_Train.shape\n",
        "\n",
        "Y_Test = train_Y.iloc[3052:].values\n",
        "Y_Test.shape"
      ],
      "execution_count": null,
      "outputs": [
        {
          "output_type": "execute_result",
          "data": {
            "text/plain": [
              "(338,)"
            ]
          },
          "metadata": {
            "tags": []
          },
          "execution_count": 26
        }
      ]
    },
    {
      "cell_type": "code",
      "metadata": {
        "id": "wed-jco60HTJ"
      },
      "source": [
        "X_New_Train = outputX\n",
        "X_New_Train = X_New_Train[:3051, :]\n",
        "Y_Train = Y_Train.reshape((-1,1))"
      ],
      "execution_count": null,
      "outputs": []
    },
    {
      "cell_type": "code",
      "metadata": {
        "id": "8gW8d5XAl5O7"
      },
      "source": [
        "X_Test = outputX\n",
        "X_Test = X_Test[3052:, :]"
      ],
      "execution_count": null,
      "outputs": []
    },
    {
      "cell_type": "code",
      "metadata": {
        "id": "BwzVbQ4k0F74",
        "outputId": "1205cab7-a40d-4102-c196-52b7347a30a3",
        "colab": {
          "base_uri": "https://localhost:8080/",
          "height": 1000
        }
      },
      "source": [
        "classifier = Sequential()\n",
        "\n",
        "# CHECK outputX_DBN for input dim\n",
        "classifier.add(Dense (6, activation = 'relu', input_dim = 12))\n",
        "\n",
        "#hidden\n",
        "classifier.add(Dense (6, activation = 'relu'))\n",
        "\n",
        "#output\n",
        "classifier.add(Dense(1, activation = 'sigmoid'))\n",
        "# optimizer = keras.optimizers.Adam(lr=0.002)\n",
        "# classifier.compile(optimizer = optimizer, loss = 'binary_crossentropy', metrics = ['accuracy'])\n",
        "\n",
        "classifier.compile(optimizer = 'Adam', loss = 'binary_crossentropy', metrics = ['accuracy'])\n",
        "\n",
        "classifier.fit(X_New_Train, Y_Train, batch_size = 100, epochs = 200)"
      ],
      "execution_count": null,
      "outputs": [
        {
          "output_type": "stream",
          "text": [
            "Train on 3051 samples\n",
            "Epoch 1/200\n",
            "3051/3051 [==============================] - 0s 12us/sample - loss: 0.7015 - acc: 0.4782\n",
            "Epoch 2/200\n",
            "3051/3051 [==============================] - 0s 9us/sample - loss: 0.6934 - acc: 0.5015\n",
            "Epoch 3/200\n",
            "3051/3051 [==============================] - 0s 9us/sample - loss: 0.6904 - acc: 0.5477\n",
            "Epoch 4/200\n",
            "3051/3051 [==============================] - 0s 10us/sample - loss: 0.6891 - acc: 0.5726\n",
            "Epoch 5/200\n",
            "3051/3051 [==============================] - 0s 11us/sample - loss: 0.6880 - acc: 0.5719\n",
            "Epoch 6/200\n",
            "3051/3051 [==============================] - 0s 10us/sample - loss: 0.6869 - acc: 0.5736\n",
            "Epoch 7/200\n",
            "3051/3051 [==============================] - 0s 10us/sample - loss: 0.6857 - acc: 0.5752\n",
            "Epoch 8/200\n",
            "3051/3051 [==============================] - 0s 11us/sample - loss: 0.6845 - acc: 0.5752\n",
            "Epoch 9/200\n",
            "3051/3051 [==============================] - 0s 13us/sample - loss: 0.6833 - acc: 0.5755\n",
            "Epoch 10/200\n",
            "3051/3051 [==============================] - 0s 13us/sample - loss: 0.6821 - acc: 0.5765\n",
            "Epoch 11/200\n",
            "3051/3051 [==============================] - 0s 13us/sample - loss: 0.6811 - acc: 0.5769\n",
            "Epoch 12/200\n",
            "3051/3051 [==============================] - 0s 11us/sample - loss: 0.6802 - acc: 0.5765\n",
            "Epoch 13/200\n",
            "3051/3051 [==============================] - 0s 11us/sample - loss: 0.6795 - acc: 0.5769\n",
            "Epoch 14/200\n",
            "3051/3051 [==============================] - 0s 11us/sample - loss: 0.6790 - acc: 0.5769\n",
            "Epoch 15/200\n",
            "3051/3051 [==============================] - 0s 11us/sample - loss: 0.6787 - acc: 0.5769\n",
            "Epoch 16/200\n",
            "3051/3051 [==============================] - 0s 11us/sample - loss: 0.6784 - acc: 0.5769\n",
            "Epoch 17/200\n",
            "3051/3051 [==============================] - 0s 12us/sample - loss: 0.6783 - acc: 0.5765\n",
            "Epoch 18/200\n",
            "3051/3051 [==============================] - 0s 11us/sample - loss: 0.6779 - acc: 0.5765\n",
            "Epoch 19/200\n",
            "3051/3051 [==============================] - 0s 11us/sample - loss: 0.6779 - acc: 0.5762\n",
            "Epoch 20/200\n",
            "3051/3051 [==============================] - 0s 11us/sample - loss: 0.6776 - acc: 0.5759\n",
            "Epoch 21/200\n",
            "3051/3051 [==============================] - 0s 11us/sample - loss: 0.6775 - acc: 0.5765\n",
            "Epoch 22/200\n",
            "3051/3051 [==============================] - 0s 10us/sample - loss: 0.6773 - acc: 0.5765\n",
            "Epoch 23/200\n",
            "3051/3051 [==============================] - 0s 10us/sample - loss: 0.6772 - acc: 0.5755\n",
            "Epoch 24/200\n",
            "3051/3051 [==============================] - 0s 11us/sample - loss: 0.6772 - acc: 0.5762\n",
            "Epoch 25/200\n",
            "3051/3051 [==============================] - 0s 11us/sample - loss: 0.6772 - acc: 0.5739\n",
            "Epoch 26/200\n",
            "3051/3051 [==============================] - 0s 11us/sample - loss: 0.6770 - acc: 0.5762\n",
            "Epoch 27/200\n",
            "3051/3051 [==============================] - 0s 11us/sample - loss: 0.6769 - acc: 0.5765\n",
            "Epoch 28/200\n",
            "3051/3051 [==============================] - 0s 12us/sample - loss: 0.6768 - acc: 0.5765\n",
            "Epoch 29/200\n",
            "3051/3051 [==============================] - 0s 12us/sample - loss: 0.6768 - acc: 0.5762\n",
            "Epoch 30/200\n",
            "3051/3051 [==============================] - 0s 11us/sample - loss: 0.6767 - acc: 0.5769\n",
            "Epoch 31/200\n",
            "3051/3051 [==============================] - 0s 15us/sample - loss: 0.6767 - acc: 0.5765\n",
            "Epoch 32/200\n",
            "3051/3051 [==============================] - 0s 11us/sample - loss: 0.6766 - acc: 0.5765\n",
            "Epoch 33/200\n",
            "3051/3051 [==============================] - 0s 12us/sample - loss: 0.6766 - acc: 0.5765\n",
            "Epoch 34/200\n",
            "3051/3051 [==============================] - 0s 12us/sample - loss: 0.6764 - acc: 0.5765\n",
            "Epoch 35/200\n",
            "3051/3051 [==============================] - 0s 11us/sample - loss: 0.6765 - acc: 0.5762\n",
            "Epoch 36/200\n",
            "3051/3051 [==============================] - 0s 10us/sample - loss: 0.6766 - acc: 0.5762\n",
            "Epoch 37/200\n",
            "3051/3051 [==============================] - 0s 11us/sample - loss: 0.6764 - acc: 0.5762\n",
            "Epoch 38/200\n",
            "3051/3051 [==============================] - 0s 11us/sample - loss: 0.6764 - acc: 0.5749\n",
            "Epoch 39/200\n",
            "3051/3051 [==============================] - 0s 12us/sample - loss: 0.6763 - acc: 0.5765\n",
            "Epoch 40/200\n",
            "3051/3051 [==============================] - 0s 13us/sample - loss: 0.6763 - acc: 0.5765\n",
            "Epoch 41/200\n",
            "3051/3051 [==============================] - 0s 12us/sample - loss: 0.6765 - acc: 0.5765\n",
            "Epoch 42/200\n",
            "3051/3051 [==============================] - 0s 12us/sample - loss: 0.6763 - acc: 0.5765\n",
            "Epoch 43/200\n",
            "3051/3051 [==============================] - 0s 11us/sample - loss: 0.6762 - acc: 0.5762\n",
            "Epoch 44/200\n",
            "3051/3051 [==============================] - 0s 11us/sample - loss: 0.6762 - acc: 0.5762\n",
            "Epoch 45/200\n",
            "3051/3051 [==============================] - 0s 11us/sample - loss: 0.6765 - acc: 0.5762\n",
            "Epoch 46/200\n",
            "3051/3051 [==============================] - 0s 14us/sample - loss: 0.6765 - acc: 0.5755\n",
            "Epoch 47/200\n",
            "3051/3051 [==============================] - 0s 11us/sample - loss: 0.6762 - acc: 0.5762\n",
            "Epoch 48/200\n",
            "3051/3051 [==============================] - 0s 12us/sample - loss: 0.6762 - acc: 0.5762\n",
            "Epoch 49/200\n",
            "3051/3051 [==============================] - 0s 12us/sample - loss: 0.6761 - acc: 0.5765\n",
            "Epoch 50/200\n",
            "3051/3051 [==============================] - 0s 12us/sample - loss: 0.6762 - acc: 0.5762\n",
            "Epoch 51/200\n",
            "3051/3051 [==============================] - 0s 10us/sample - loss: 0.6763 - acc: 0.5739\n",
            "Epoch 52/200\n",
            "3051/3051 [==============================] - 0s 11us/sample - loss: 0.6761 - acc: 0.5769\n",
            "Epoch 53/200\n",
            "3051/3051 [==============================] - 0s 11us/sample - loss: 0.6760 - acc: 0.5765\n",
            "Epoch 54/200\n",
            "3051/3051 [==============================] - 0s 11us/sample - loss: 0.6761 - acc: 0.5769\n",
            "Epoch 55/200\n",
            "3051/3051 [==============================] - 0s 11us/sample - loss: 0.6763 - acc: 0.5762\n",
            "Epoch 56/200\n",
            "3051/3051 [==============================] - 0s 10us/sample - loss: 0.6760 - acc: 0.5759\n",
            "Epoch 57/200\n",
            "3051/3051 [==============================] - 0s 12us/sample - loss: 0.6760 - acc: 0.5759\n",
            "Epoch 58/200\n",
            "3051/3051 [==============================] - 0s 12us/sample - loss: 0.6762 - acc: 0.5736\n",
            "Epoch 59/200\n",
            "3051/3051 [==============================] - 0s 11us/sample - loss: 0.6762 - acc: 0.5742\n",
            "Epoch 60/200\n",
            "3051/3051 [==============================] - 0s 12us/sample - loss: 0.6759 - acc: 0.5765\n",
            "Epoch 61/200\n",
            "3051/3051 [==============================] - 0s 12us/sample - loss: 0.6760 - acc: 0.5765\n",
            "Epoch 62/200\n",
            "3051/3051 [==============================] - 0s 13us/sample - loss: 0.6759 - acc: 0.5765\n",
            "Epoch 63/200\n",
            "3051/3051 [==============================] - 0s 12us/sample - loss: 0.6760 - acc: 0.5765\n",
            "Epoch 64/200\n",
            "3051/3051 [==============================] - 0s 11us/sample - loss: 0.6759 - acc: 0.5765\n",
            "Epoch 65/200\n",
            "3051/3051 [==============================] - 0s 13us/sample - loss: 0.6760 - acc: 0.5762\n",
            "Epoch 66/200\n",
            "3051/3051 [==============================] - 0s 11us/sample - loss: 0.6761 - acc: 0.5752\n",
            "Epoch 67/200\n",
            "3051/3051 [==============================] - 0s 13us/sample - loss: 0.6759 - acc: 0.5769\n",
            "Epoch 68/200\n",
            "3051/3051 [==============================] - 0s 11us/sample - loss: 0.6758 - acc: 0.5765\n",
            "Epoch 69/200\n",
            "3051/3051 [==============================] - 0s 11us/sample - loss: 0.6759 - acc: 0.5762\n",
            "Epoch 70/200\n",
            "3051/3051 [==============================] - 0s 11us/sample - loss: 0.6761 - acc: 0.5765\n",
            "Epoch 71/200\n",
            "3051/3051 [==============================] - 0s 11us/sample - loss: 0.6760 - acc: 0.5729\n",
            "Epoch 72/200\n",
            "3051/3051 [==============================] - 0s 11us/sample - loss: 0.6759 - acc: 0.5765\n",
            "Epoch 73/200\n",
            "3051/3051 [==============================] - 0s 11us/sample - loss: 0.6759 - acc: 0.5762\n",
            "Epoch 74/200\n",
            "3051/3051 [==============================] - 0s 13us/sample - loss: 0.6760 - acc: 0.5755\n",
            "Epoch 75/200\n",
            "3051/3051 [==============================] - 0s 13us/sample - loss: 0.6759 - acc: 0.5742\n",
            "Epoch 76/200\n",
            "3051/3051 [==============================] - 0s 13us/sample - loss: 0.6758 - acc: 0.5769\n",
            "Epoch 77/200\n",
            "3051/3051 [==============================] - 0s 11us/sample - loss: 0.6758 - acc: 0.5769\n",
            "Epoch 78/200\n",
            "3051/3051 [==============================] - 0s 11us/sample - loss: 0.6759 - acc: 0.5762\n",
            "Epoch 79/200\n",
            "3051/3051 [==============================] - 0s 13us/sample - loss: 0.6760 - acc: 0.5772\n",
            "Epoch 80/200\n",
            "3051/3051 [==============================] - 0s 12us/sample - loss: 0.6759 - acc: 0.5739\n",
            "Epoch 81/200\n",
            "3051/3051 [==============================] - 0s 13us/sample - loss: 0.6759 - acc: 0.5769\n",
            "Epoch 82/200\n",
            "3051/3051 [==============================] - 0s 11us/sample - loss: 0.6758 - acc: 0.5762\n",
            "Epoch 83/200\n",
            "3051/3051 [==============================] - 0s 13us/sample - loss: 0.6757 - acc: 0.5769\n",
            "Epoch 84/200\n",
            "3051/3051 [==============================] - 0s 12us/sample - loss: 0.6758 - acc: 0.5752\n",
            "Epoch 85/200\n",
            "3051/3051 [==============================] - 0s 12us/sample - loss: 0.6758 - acc: 0.5772\n",
            "Epoch 86/200\n",
            "3051/3051 [==============================] - 0s 11us/sample - loss: 0.6757 - acc: 0.5772\n",
            "Epoch 87/200\n",
            "3051/3051 [==============================] - 0s 11us/sample - loss: 0.6757 - acc: 0.5742\n",
            "Epoch 88/200\n",
            "3051/3051 [==============================] - 0s 12us/sample - loss: 0.6757 - acc: 0.5772\n",
            "Epoch 89/200\n",
            "3051/3051 [==============================] - 0s 12us/sample - loss: 0.6757 - acc: 0.5772\n",
            "Epoch 90/200\n",
            "3051/3051 [==============================] - 0s 11us/sample - loss: 0.6757 - acc: 0.5769\n",
            "Epoch 91/200\n",
            "3051/3051 [==============================] - 0s 13us/sample - loss: 0.6757 - acc: 0.5772\n",
            "Epoch 92/200\n",
            "3051/3051 [==============================] - 0s 14us/sample - loss: 0.6759 - acc: 0.5772\n",
            "Epoch 93/200\n",
            "3051/3051 [==============================] - 0s 12us/sample - loss: 0.6756 - acc: 0.5762\n",
            "Epoch 94/200\n",
            "3051/3051 [==============================] - 0s 12us/sample - loss: 0.6757 - acc: 0.5775\n",
            "Epoch 95/200\n",
            "3051/3051 [==============================] - 0s 11us/sample - loss: 0.6760 - acc: 0.5739\n",
            "Epoch 96/200\n",
            "3051/3051 [==============================] - 0s 12us/sample - loss: 0.6758 - acc: 0.5772\n",
            "Epoch 97/200\n",
            "3051/3051 [==============================] - 0s 11us/sample - loss: 0.6756 - acc: 0.5772\n",
            "Epoch 98/200\n",
            "3051/3051 [==============================] - 0s 11us/sample - loss: 0.6756 - acc: 0.5765\n",
            "Epoch 99/200\n",
            "3051/3051 [==============================] - 0s 11us/sample - loss: 0.6759 - acc: 0.5719\n",
            "Epoch 100/200\n",
            "3051/3051 [==============================] - 0s 11us/sample - loss: 0.6756 - acc: 0.5775\n",
            "Epoch 101/200\n",
            "3051/3051 [==============================] - 0s 11us/sample - loss: 0.6757 - acc: 0.5775\n",
            "Epoch 102/200\n",
            "3051/3051 [==============================] - 0s 12us/sample - loss: 0.6755 - acc: 0.5772\n",
            "Epoch 103/200\n",
            "3051/3051 [==============================] - 0s 12us/sample - loss: 0.6756 - acc: 0.5772\n",
            "Epoch 104/200\n",
            "3051/3051 [==============================] - 0s 13us/sample - loss: 0.6756 - acc: 0.5769\n",
            "Epoch 105/200\n",
            "3051/3051 [==============================] - 0s 17us/sample - loss: 0.6755 - acc: 0.5772\n",
            "Epoch 106/200\n",
            "3051/3051 [==============================] - 0s 12us/sample - loss: 0.6756 - acc: 0.5749\n",
            "Epoch 107/200\n",
            "3051/3051 [==============================] - 0s 11us/sample - loss: 0.6755 - acc: 0.5772\n",
            "Epoch 108/200\n",
            "3051/3051 [==============================] - 0s 12us/sample - loss: 0.6757 - acc: 0.5762\n",
            "Epoch 109/200\n",
            "3051/3051 [==============================] - 0s 11us/sample - loss: 0.6755 - acc: 0.5775\n",
            "Epoch 110/200\n",
            "3051/3051 [==============================] - 0s 11us/sample - loss: 0.6755 - acc: 0.5775\n",
            "Epoch 111/200\n",
            "3051/3051 [==============================] - 0s 12us/sample - loss: 0.6756 - acc: 0.5749\n",
            "Epoch 112/200\n",
            "3051/3051 [==============================] - 0s 12us/sample - loss: 0.6756 - acc: 0.5772\n",
            "Epoch 113/200\n",
            "3051/3051 [==============================] - 0s 13us/sample - loss: 0.6755 - acc: 0.5742\n",
            "Epoch 114/200\n",
            "3051/3051 [==============================] - 0s 12us/sample - loss: 0.6756 - acc: 0.5742\n",
            "Epoch 115/200\n",
            "3051/3051 [==============================] - 0s 14us/sample - loss: 0.6754 - acc: 0.5772\n",
            "Epoch 116/200\n",
            "3051/3051 [==============================] - 0s 14us/sample - loss: 0.6756 - acc: 0.5772\n",
            "Epoch 117/200\n",
            "3051/3051 [==============================] - 0s 14us/sample - loss: 0.6757 - acc: 0.5772\n",
            "Epoch 118/200\n",
            "3051/3051 [==============================] - 0s 12us/sample - loss: 0.6754 - acc: 0.5772\n",
            "Epoch 119/200\n",
            "3051/3051 [==============================] - 0s 12us/sample - loss: 0.6755 - acc: 0.5775\n",
            "Epoch 120/200\n",
            "3051/3051 [==============================] - 0s 11us/sample - loss: 0.6754 - acc: 0.5775\n",
            "Epoch 121/200\n",
            "3051/3051 [==============================] - 0s 11us/sample - loss: 0.6754 - acc: 0.5769\n",
            "Epoch 122/200\n",
            "3051/3051 [==============================] - 0s 12us/sample - loss: 0.6754 - acc: 0.5749\n",
            "Epoch 123/200\n",
            "3051/3051 [==============================] - 0s 12us/sample - loss: 0.6757 - acc: 0.5752\n",
            "Epoch 124/200\n",
            "3051/3051 [==============================] - 0s 12us/sample - loss: 0.6753 - acc: 0.5775\n",
            "Epoch 125/200\n",
            "3051/3051 [==============================] - 0s 16us/sample - loss: 0.6754 - acc: 0.5778\n",
            "Epoch 126/200\n",
            "3051/3051 [==============================] - 0s 14us/sample - loss: 0.6753 - acc: 0.5775\n",
            "Epoch 127/200\n",
            "3051/3051 [==============================] - 0s 13us/sample - loss: 0.6753 - acc: 0.5775\n",
            "Epoch 128/200\n",
            "3051/3051 [==============================] - 0s 13us/sample - loss: 0.6754 - acc: 0.5775\n",
            "Epoch 129/200\n",
            "3051/3051 [==============================] - 0s 12us/sample - loss: 0.6753 - acc: 0.5775\n",
            "Epoch 130/200\n",
            "3051/3051 [==============================] - 0s 13us/sample - loss: 0.6752 - acc: 0.5775\n",
            "Epoch 131/200\n",
            "3051/3051 [==============================] - 0s 12us/sample - loss: 0.6752 - acc: 0.5775\n",
            "Epoch 132/200\n",
            "3051/3051 [==============================] - 0s 11us/sample - loss: 0.6753 - acc: 0.5775\n",
            "Epoch 133/200\n",
            "3051/3051 [==============================] - 0s 12us/sample - loss: 0.6752 - acc: 0.5762\n",
            "Epoch 134/200\n",
            "3051/3051 [==============================] - 0s 12us/sample - loss: 0.6755 - acc: 0.5775\n",
            "Epoch 135/200\n",
            "3051/3051 [==============================] - 0s 12us/sample - loss: 0.6757 - acc: 0.5772\n",
            "Epoch 136/200\n",
            "3051/3051 [==============================] - 0s 12us/sample - loss: 0.6753 - acc: 0.5775\n",
            "Epoch 137/200\n",
            "3051/3051 [==============================] - 0s 11us/sample - loss: 0.6755 - acc: 0.5755\n",
            "Epoch 138/200\n",
            "3051/3051 [==============================] - 0s 20us/sample - loss: 0.6756 - acc: 0.5772\n",
            "Epoch 139/200\n",
            "3051/3051 [==============================] - 0s 12us/sample - loss: 0.6754 - acc: 0.5762\n",
            "Epoch 140/200\n",
            "3051/3051 [==============================] - 0s 12us/sample - loss: 0.6755 - acc: 0.5765\n",
            "Epoch 141/200\n",
            "3051/3051 [==============================] - 0s 12us/sample - loss: 0.6751 - acc: 0.5765\n",
            "Epoch 142/200\n",
            "3051/3051 [==============================] - 0s 14us/sample - loss: 0.6753 - acc: 0.5742\n",
            "Epoch 143/200\n",
            "3051/3051 [==============================] - 0s 13us/sample - loss: 0.6752 - acc: 0.5775\n",
            "Epoch 144/200\n",
            "3051/3051 [==============================] - 0s 12us/sample - loss: 0.6754 - acc: 0.5769\n",
            "Epoch 145/200\n",
            "3051/3051 [==============================] - 0s 12us/sample - loss: 0.6751 - acc: 0.5778\n",
            "Epoch 146/200\n",
            "3051/3051 [==============================] - 0s 12us/sample - loss: 0.6751 - acc: 0.5775\n",
            "Epoch 147/200\n",
            "3051/3051 [==============================] - 0s 12us/sample - loss: 0.6752 - acc: 0.5775\n",
            "Epoch 148/200\n",
            "3051/3051 [==============================] - 0s 15us/sample - loss: 0.6752 - acc: 0.5772\n",
            "Epoch 149/200\n",
            "3051/3051 [==============================] - 0s 16us/sample - loss: 0.6751 - acc: 0.5775\n",
            "Epoch 150/200\n",
            "3051/3051 [==============================] - 0s 14us/sample - loss: 0.6752 - acc: 0.5772\n",
            "Epoch 151/200\n",
            "3051/3051 [==============================] - 0s 12us/sample - loss: 0.6753 - acc: 0.5739\n",
            "Epoch 152/200\n",
            "3051/3051 [==============================] - 0s 12us/sample - loss: 0.6751 - acc: 0.5775\n",
            "Epoch 153/200\n",
            "3051/3051 [==============================] - 0s 11us/sample - loss: 0.6751 - acc: 0.5775\n",
            "Epoch 154/200\n",
            "3051/3051 [==============================] - 0s 12us/sample - loss: 0.6752 - acc: 0.5775\n",
            "Epoch 155/200\n",
            "3051/3051 [==============================] - 0s 11us/sample - loss: 0.6751 - acc: 0.5775\n",
            "Epoch 156/200\n",
            "3051/3051 [==============================] - 0s 12us/sample - loss: 0.6751 - acc: 0.5775\n",
            "Epoch 157/200\n",
            "3051/3051 [==============================] - 0s 12us/sample - loss: 0.6752 - acc: 0.5775\n",
            "Epoch 158/200\n",
            "3051/3051 [==============================] - 0s 11us/sample - loss: 0.6751 - acc: 0.5772\n",
            "Epoch 159/200\n",
            "3051/3051 [==============================] - 0s 14us/sample - loss: 0.6754 - acc: 0.5772\n",
            "Epoch 160/200\n",
            "3051/3051 [==============================] - 0s 13us/sample - loss: 0.6751 - acc: 0.5775\n",
            "Epoch 161/200\n",
            "3051/3051 [==============================] - 0s 10us/sample - loss: 0.6750 - acc: 0.5775\n",
            "Epoch 162/200\n",
            "3051/3051 [==============================] - 0s 11us/sample - loss: 0.6750 - acc: 0.5775\n",
            "Epoch 163/200\n",
            "3051/3051 [==============================] - 0s 12us/sample - loss: 0.6751 - acc: 0.5775\n",
            "Epoch 164/200\n",
            "3051/3051 [==============================] - 0s 12us/sample - loss: 0.6754 - acc: 0.5749\n",
            "Epoch 165/200\n",
            "3051/3051 [==============================] - 0s 12us/sample - loss: 0.6753 - acc: 0.5775\n",
            "Epoch 166/200\n",
            "3051/3051 [==============================] - 0s 11us/sample - loss: 0.6752 - acc: 0.5726\n",
            "Epoch 167/200\n",
            "3051/3051 [==============================] - 0s 11us/sample - loss: 0.6750 - acc: 0.5775\n",
            "Epoch 168/200\n",
            "3051/3051 [==============================] - 0s 12us/sample - loss: 0.6751 - acc: 0.5775\n",
            "Epoch 169/200\n",
            "3051/3051 [==============================] - 0s 12us/sample - loss: 0.6750 - acc: 0.5772\n",
            "Epoch 170/200\n",
            "3051/3051 [==============================] - 0s 14us/sample - loss: 0.6751 - acc: 0.5778\n",
            "Epoch 171/200\n",
            "3051/3051 [==============================] - 0s 12us/sample - loss: 0.6750 - acc: 0.5775\n",
            "Epoch 172/200\n",
            "3051/3051 [==============================] - 0s 12us/sample - loss: 0.6750 - acc: 0.5775\n",
            "Epoch 173/200\n",
            "3051/3051 [==============================] - 0s 12us/sample - loss: 0.6753 - acc: 0.5775\n",
            "Epoch 174/200\n",
            "3051/3051 [==============================] - 0s 13us/sample - loss: 0.6751 - acc: 0.5775\n",
            "Epoch 175/200\n",
            "3051/3051 [==============================] - 0s 12us/sample - loss: 0.6750 - acc: 0.5775\n",
            "Epoch 176/200\n",
            "3051/3051 [==============================] - 0s 12us/sample - loss: 0.6750 - acc: 0.5775\n",
            "Epoch 177/200\n",
            "3051/3051 [==============================] - 0s 13us/sample - loss: 0.6749 - acc: 0.5775\n",
            "Epoch 178/200\n",
            "3051/3051 [==============================] - 0s 12us/sample - loss: 0.6751 - acc: 0.5775\n",
            "Epoch 179/200\n",
            "3051/3051 [==============================] - 0s 12us/sample - loss: 0.6750 - acc: 0.5775\n",
            "Epoch 180/200\n",
            "3051/3051 [==============================] - 0s 12us/sample - loss: 0.6751 - acc: 0.5778\n",
            "Epoch 181/200\n",
            "3051/3051 [==============================] - 0s 11us/sample - loss: 0.6751 - acc: 0.5759\n",
            "Epoch 182/200\n",
            "3051/3051 [==============================] - 0s 10us/sample - loss: 0.6750 - acc: 0.5769\n",
            "Epoch 183/200\n",
            "3051/3051 [==============================] - 0s 12us/sample - loss: 0.6750 - acc: 0.5775\n",
            "Epoch 184/200\n",
            "3051/3051 [==============================] - 0s 14us/sample - loss: 0.6750 - acc: 0.5775\n",
            "Epoch 185/200\n",
            "3051/3051 [==============================] - 0s 11us/sample - loss: 0.6749 - acc: 0.5772\n",
            "Epoch 186/200\n",
            "3051/3051 [==============================] - 0s 12us/sample - loss: 0.6751 - acc: 0.5762\n",
            "Epoch 187/200\n",
            "3051/3051 [==============================] - 0s 11us/sample - loss: 0.6749 - acc: 0.5782\n",
            "Epoch 188/200\n",
            "3051/3051 [==============================] - 0s 11us/sample - loss: 0.6750 - acc: 0.5772\n",
            "Epoch 189/200\n",
            "3051/3051 [==============================] - 0s 15us/sample - loss: 0.6751 - acc: 0.5782\n",
            "Epoch 190/200\n",
            "3051/3051 [==============================] - 0s 14us/sample - loss: 0.6750 - acc: 0.5742\n",
            "Epoch 191/200\n",
            "3051/3051 [==============================] - 0s 11us/sample - loss: 0.6749 - acc: 0.5772\n",
            "Epoch 192/200\n",
            "3051/3051 [==============================] - 0s 12us/sample - loss: 0.6754 - acc: 0.5762\n",
            "Epoch 193/200\n",
            "3051/3051 [==============================] - 0s 12us/sample - loss: 0.6749 - acc: 0.5772\n",
            "Epoch 194/200\n",
            "3051/3051 [==============================] - 0s 12us/sample - loss: 0.6750 - acc: 0.5778\n",
            "Epoch 195/200\n",
            "3051/3051 [==============================] - 0s 11us/sample - loss: 0.6751 - acc: 0.5772\n",
            "Epoch 196/200\n",
            "3051/3051 [==============================] - 0s 15us/sample - loss: 0.6751 - acc: 0.5736\n",
            "Epoch 197/200\n",
            "3051/3051 [==============================] - 0s 12us/sample - loss: 0.6750 - acc: 0.5775\n",
            "Epoch 198/200\n",
            "3051/3051 [==============================] - 0s 12us/sample - loss: 0.6751 - acc: 0.5739\n",
            "Epoch 199/200\n",
            "3051/3051 [==============================] - 0s 11us/sample - loss: 0.6750 - acc: 0.5775\n",
            "Epoch 200/200\n",
            "3051/3051 [==============================] - 0s 12us/sample - loss: 0.6749 - acc: 0.5778\n"
          ],
          "name": "stdout"
        },
        {
          "output_type": "execute_result",
          "data": {
            "text/plain": [
              "<tensorflow.python.keras.callbacks.History at 0x7f7c91147470>"
            ]
          },
          "metadata": {
            "tags": []
          },
          "execution_count": 29
        }
      ]
    },
    {
      "cell_type": "code",
      "metadata": {
        "id": "1XwlUmRp0RVg",
        "outputId": "24337823-279e-4317-ff27-b32718a42b39",
        "colab": {
          "base_uri": "https://localhost:8080/",
          "height": 87
        }
      },
      "source": [
        "y_pred = classifier.predict(outputX)\n",
        "y_pred = (y_pred > 0.5)"
      ],
      "execution_count": null,
      "outputs": [
        {
          "output_type": "stream",
          "text": [
            "WARNING:tensorflow:From /usr/local/lib/python3.6/dist-packages/tensorflow/python/keras/engine/training_v1.py:2070: Model.state_updates (from tensorflow.python.keras.engine.training) is deprecated and will be removed in a future version.\n",
            "Instructions for updating:\n",
            "This property should not be used in TensorFlow 2.0, as updates are applied automatically.\n"
          ],
          "name": "stdout"
        }
      ]
    },
    {
      "cell_type": "code",
      "metadata": {
        "id": "rkChYoTOeHrN",
        "outputId": "0fae7c60-7dbf-4121-8088-380709a0070e",
        "colab": {
          "base_uri": "https://localhost:8080/",
          "height": 34
        }
      },
      "source": [
        "pred = (train_Y[3052:] > 0.5)\n",
        "yty = np. count_nonzero(pred) \n",
        "yty\n"
      ],
      "execution_count": null,
      "outputs": [
        {
          "output_type": "execute_result",
          "data": {
            "text/plain": [
              "104"
            ]
          },
          "metadata": {
            "tags": []
          },
          "execution_count": 31
        }
      ]
    },
    {
      "cell_type": "code",
      "metadata": {
        "id": "UsuB5bu7lKTR",
        "outputId": "9892ddf4-5cd2-4a9b-d719-da06c55efd78",
        "colab": {
          "base_uri": "https://localhost:8080/",
          "height": 34
        }
      },
      "source": [
        "outputX.shape"
      ],
      "execution_count": null,
      "outputs": [
        {
          "output_type": "execute_result",
          "data": {
            "text/plain": [
              "(3390, 12)"
            ]
          },
          "metadata": {
            "tags": []
          },
          "execution_count": 32
        }
      ]
    },
    {
      "cell_type": "markdown",
      "metadata": {
        "id": "8nqPfpPCiwSs"
      },
      "source": [
        "##Confusion Matrix"
      ]
    },
    {
      "cell_type": "code",
      "metadata": {
        "id": "B3U0Vuef2V0X",
        "outputId": "613e2ed4-c8f2-4cd0-f7d9-b6ce4017eeba",
        "colab": {
          "base_uri": "https://localhost:8080/",
          "height": 50
        }
      },
      "source": [
        "from sklearn.metrics import confusion_matrix\n",
        "cm = confusion_matrix(train_Y[3051:], y_pred[3051:])\n",
        "print(cm) "
      ],
      "execution_count": null,
      "outputs": [
        {
          "output_type": "stream",
          "text": [
            "[[ 90 145]\n",
            " [ 29  75]]\n"
          ],
          "name": "stdout"
        }
      ]
    },
    {
      "cell_type": "markdown",
      "metadata": {
        "id": "_MjGgOMwt1_Z"
      },
      "source": [
        "###F1 Score"
      ]
    },
    {
      "cell_type": "code",
      "metadata": {
        "id": "b9lsmDoYj919"
      },
      "source": [
        "def f1score( tn, fp, fn, tp):\n",
        "  precision = tp/(tp + fp)\n",
        "  print('precision',precision)\n",
        "  recall = tp/(tp+fn)\n",
        "  print('recall',recall)\n",
        "  return 2 * (precision * recall) / (precision + recall)"
      ],
      "execution_count": null,
      "outputs": []
    },
    {
      "cell_type": "code",
      "metadata": {
        "id": "H8AWFBCCa6mm",
        "outputId": "32e9f081-0044-49cc-eeec-5af0ec52a9bb",
        "colab": {
          "base_uri": "https://localhost:8080/",
          "height": 67
        }
      },
      "source": [
        "tn, fp, fn, tp = confusion_matrix(train_Y, y_pred, labels=[0,1]).ravel()\n",
        "print(f1score(tn, fp, fn, tp))"
      ],
      "execution_count": null,
      "outputs": [
        {
          "output_type": "stream",
          "text": [
            "precision 0.5503909643788011\n",
            "recall 0.7470518867924528\n",
            "0.6338169084542271\n"
          ],
          "name": "stdout"
        }
      ]
    },
    {
      "cell_type": "code",
      "metadata": {
        "id": "f4ba5SgnqSnm"
      },
      "source": [
        ""
      ],
      "execution_count": null,
      "outputs": []
    }
  ]
}